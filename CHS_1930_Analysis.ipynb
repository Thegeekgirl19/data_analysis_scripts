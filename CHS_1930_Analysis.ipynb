{
 "cells": [
  {
   "cell_type": "code",
   "execution_count": 1,
   "id": "a61929d1-439a-4373-a6ff-3197a7cc5028",
   "metadata": {},
   "outputs": [],
   "source": [
    "import pandas as pd"
   ]
  },
  {
   "cell_type": "code",
   "execution_count": 2,
   "id": "905cd135-174f-4fd0-aee2-29c6bfbce8f7",
   "metadata": {},
   "outputs": [],
   "source": [
    "set_cm = set()\n",
    "set_cpt = set()\n",
    "set_rejected = set()"
   ]
  },
  {
   "cell_type": "code",
   "execution_count": 3,
   "id": "fe2613b1-e163-4e84-8a4e-acf51e9f5827",
   "metadata": {},
   "outputs": [],
   "source": [
    "df = pd.read_excel('/home/trishalaswain/Downloads/SCP-3035-OSF ST. FRANCIS HOSPITAL & MEDICAL GROUP-2023-04-01-2023-04-15.xlsx',index_col = False)"
   ]
  },
  {
   "cell_type": "code",
   "execution_count": 4,
   "id": "71a5d78d-3d75-4f75-abf8-e6eaf83c68f1",
   "metadata": {},
   "outputs": [],
   "source": [
    "def clean_em(x):\n",
    "    x['EANDM_Rejected'] = str(x['EANDM_Rejected']).replace('[','').replace(']','')\n",
    "    \n",
    "    clean = str(x['EANDM_Rejected']).split(', ')\n",
    "    for i in clean:\n",
    "        set_rejected.add(i)\n",
    "    return clean\n",
    "\n",
    "rejected = df.apply(clean_em, axis=1)\n",
    "set_rejected.remove('')"
   ]
  },
  {
   "cell_type": "code",
   "execution_count": 5,
   "id": "b45c0c63-2f74-4205-9201-8bc84f2c621d",
   "metadata": {},
   "outputs": [],
   "source": [
    "def get_em_counts(code_list, df_to_use, col, codetype):\n",
    "    count_dict = {}\n",
    "    for code in code_list:\n",
    "        count_dict[code+'_'+codetype] = df_to_use[col].str.contains(code).sum()\n",
    "        # count_dict[code] = df_to_use[col].str.contains(code).sum()\n",
    "        \n",
    "    return count_dict"
   ]
  },
  {
   "cell_type": "code",
   "execution_count": 6,
   "id": "dac8f681-f802-4ed4-8830-54c0dd8221a0",
   "metadata": {},
   "outputs": [],
   "source": [
    "count_dict_em_rejected = get_em_counts(set_rejected, df, 'EANDM_Rejected', 'EANDM_Rejected')"
   ]
  },
  {
   "cell_type": "code",
   "execution_count": 7,
   "id": "9cf10187-bcd3-4821-a0d3-b4a5d7304286",
   "metadata": {},
   "outputs": [
    {
     "data": {
      "text/plain": [
       "{'99291_EANDM_Rejected': 130,\n",
       " '99285_EANDM_Rejected': 103,\n",
       " '99281_EANDM_Rejected': 2,\n",
       " '99292_EANDM_Rejected': 8,\n",
       " '99283_EANDM_Rejected': 1,\n",
       " '99282_EANDM_Rejected': 4,\n",
       " '99284_EANDM_Rejected': 22}"
      ]
     },
     "execution_count": 7,
     "metadata": {},
     "output_type": "execute_result"
    }
   ],
   "source": [
    "count_dict_em_rejected"
   ]
  },
  {
   "cell_type": "code",
   "execution_count": 8,
   "id": "44422891-e361-4156-a5a3-1aa07a042e61",
   "metadata": {},
   "outputs": [],
   "source": [
    "count_dict_em_final = get_em_counts(set_rejected, df, 'EANDM_Final', 'EANDM_Final')"
   ]
  },
  {
   "cell_type": "code",
   "execution_count": 10,
   "id": "b4508f60-699c-4b13-a136-e774699ce224",
   "metadata": {},
   "outputs": [
    {
     "data": {
      "text/plain": [
       "{'99291_EANDM_Final': 49,\n",
       " '99285_EANDM_Final': 256,\n",
       " '99281_EANDM_Final': 0,\n",
       " '99292_EANDM_Final': 2,\n",
       " '99283_EANDM_Final': 14,\n",
       " '99282_EANDM_Final': 1,\n",
       " '99284_EANDM_Final': 248}"
      ]
     },
     "execution_count": 10,
     "metadata": {},
     "output_type": "execute_result"
    }
   ],
   "source": [
    "count_dict_em_final"
   ]
  },
  {
   "cell_type": "code",
   "execution_count": 11,
   "id": "2ca93b6b-c6b0-4fa1-97ba-a1eec1cc0be9",
   "metadata": {},
   "outputs": [],
   "source": [
    "# var = input()\n",
    "df = df.loc[df['EANDM_Rejected'].str.contains('99202')]"
   ]
  },
  {
   "cell_type": "code",
   "execution_count": 12,
   "id": "02167fbc-0ee4-46da-bb77-d924e99fdff3",
   "metadata": {},
   "outputs": [],
   "source": [
    "def get_counts(code_list, df_to_use, col, codetype):\n",
    "    count_dict = {}\n",
    "    for code in code_list:\n",
    "        count_dict[code] = df_to_use[col].str.contains(code).sum()\n",
    "        \n",
    "    return count_dict\n"
   ]
  },
  {
   "cell_type": "code",
   "execution_count": 13,
   "id": "f8f319e4-b4c2-4b6c-a6e1-91a1b0ed7570",
   "metadata": {},
   "outputs": [],
   "source": [
    "def clean_cm(x):\n",
    "    x['CM_Final'] = str(x['CM_Final']).replace('[','')\n",
    "    x['CM_Final'] = str(x['CM_Final']).replace(']','')\n",
    "    clean = str(x['CM_Final']).split(', ')\n",
    "    for i in clean:\n",
    "        set_cm.add(i)\n",
    "    return clean\n",
    "cm_code_list = set_cm\n",
    "clean_cm = df.apply(clean_cm, axis=1)"
   ]
  },
  {
   "cell_type": "code",
   "execution_count": 14,
   "id": "39b8f497-80b1-4f47-8307-b325c99d06e4",
   "metadata": {},
   "outputs": [],
   "source": [
    "def clean_cpt(x):\n",
    "    \n",
    "    clean = str(x['CPT_Final']).split(', ')\n",
    "    for i in clean:\n",
    "        set_cpt.add(i)\n",
    "    return clean\n",
    "cpt_code_list = set_cpt\n",
    "clean_cpt = df.apply(clean_cpt, axis=1)"
   ]
  },
  {
   "cell_type": "code",
   "execution_count": 16,
   "id": "6bddd0c8-1058-4bdc-9e5b-da0a8ec236d5",
   "metadata": {},
   "outputs": [],
   "source": [
    "count_dict_cm = get_counts(cm_code_list, df, 'CM_Final', 'CM_Final')"
   ]
  },
  {
   "cell_type": "code",
   "execution_count": 17,
   "id": "9c7b2fb8-c632-4b57-95a4-fe0b02727c71",
   "metadata": {},
   "outputs": [],
   "source": [
    "cm_stats = pd.DataFrame(count_dict_cm.items(), columns = ['cm_code','code_counts'])"
   ]
  },
  {
   "cell_type": "code",
   "execution_count": 18,
   "id": "88adb8d7-583a-47c8-acb6-a057462b13cd",
   "metadata": {},
   "outputs": [],
   "source": [
    "cm_stats = cm_stats.sort_values(by=['code_counts'], ascending=False).reset_index()"
   ]
  },
  {
   "cell_type": "code",
   "execution_count": 19,
   "id": "062c1425-db20-46e7-be64-648638c87a17",
   "metadata": {},
   "outputs": [],
   "source": [
    "cm_stats.drop('index', axis=1, inplace=True)"
   ]
  },
  {
   "cell_type": "code",
   "execution_count": 20,
   "id": "a623c13e-8c5d-41bb-b936-1432abfc00ba",
   "metadata": {},
   "outputs": [
    {
     "data": {
      "text/html": [
       "<div>\n",
       "<style scoped>\n",
       "    .dataframe tbody tr th:only-of-type {\n",
       "        vertical-align: middle;\n",
       "    }\n",
       "\n",
       "    .dataframe tbody tr th {\n",
       "        vertical-align: top;\n",
       "    }\n",
       "\n",
       "    .dataframe thead th {\n",
       "        text-align: right;\n",
       "    }\n",
       "</style>\n",
       "<table border=\"1\" class=\"dataframe\">\n",
       "  <thead>\n",
       "    <tr style=\"text-align: right;\">\n",
       "      <th></th>\n",
       "      <th>cm_code</th>\n",
       "      <th>code_counts</th>\n",
       "    </tr>\n",
       "  </thead>\n",
       "  <tbody>\n",
       "  </tbody>\n",
       "</table>\n",
       "</div>"
      ],
      "text/plain": [
       "Empty DataFrame\n",
       "Columns: [cm_code, code_counts]\n",
       "Index: []"
      ]
     },
     "execution_count": 20,
     "metadata": {},
     "output_type": "execute_result"
    }
   ],
   "source": [
    "cm_stats"
   ]
  },
  {
   "cell_type": "code",
   "execution_count": 21,
   "id": "7f1a0605-74a9-449e-8d32-6a74dfdb6510",
   "metadata": {},
   "outputs": [],
   "source": [
    "count_dict_cpt = get_counts(cpt_code_list, df, 'CPT_Final', 'CPT_Final')"
   ]
  },
  {
   "cell_type": "code",
   "execution_count": 22,
   "id": "15a9690e-ae59-477a-9de7-2e9d08c20b4c",
   "metadata": {},
   "outputs": [],
   "source": [
    "cpt_stats = pd.DataFrame(count_dict_cpt.items(), columns = ['cpt_code','code_counts'])"
   ]
  },
  {
   "cell_type": "code",
   "execution_count": 23,
   "id": "06c1d6ac-f315-4f69-85c8-67b82a8194e3",
   "metadata": {},
   "outputs": [],
   "source": [
    "cpt_stats = cpt_stats.sort_values(by=['code_counts'], ascending=False).reset_index()"
   ]
  },
  {
   "cell_type": "code",
   "execution_count": 24,
   "id": "391fd1cb-b5ec-466f-853a-c09a8c650f50",
   "metadata": {},
   "outputs": [],
   "source": [
    "cpt_stats.drop('index', axis=1, inplace=True)"
   ]
  },
  {
   "cell_type": "code",
   "execution_count": 25,
   "id": "0f5c323b-156d-471d-86de-8d58a1f68648",
   "metadata": {},
   "outputs": [
    {
     "data": {
      "text/html": [
       "<div>\n",
       "<style scoped>\n",
       "    .dataframe tbody tr th:only-of-type {\n",
       "        vertical-align: middle;\n",
       "    }\n",
       "\n",
       "    .dataframe tbody tr th {\n",
       "        vertical-align: top;\n",
       "    }\n",
       "\n",
       "    .dataframe thead th {\n",
       "        text-align: right;\n",
       "    }\n",
       "</style>\n",
       "<table border=\"1\" class=\"dataframe\">\n",
       "  <thead>\n",
       "    <tr style=\"text-align: right;\">\n",
       "      <th></th>\n",
       "      <th>cpt_code</th>\n",
       "      <th>code_counts</th>\n",
       "    </tr>\n",
       "  </thead>\n",
       "  <tbody>\n",
       "  </tbody>\n",
       "</table>\n",
       "</div>"
      ],
      "text/plain": [
       "Empty DataFrame\n",
       "Columns: [cpt_code, code_counts]\n",
       "Index: []"
      ]
     },
     "execution_count": 25,
     "metadata": {},
     "output_type": "execute_result"
    }
   ],
   "source": [
    "cpt_stats"
   ]
  },
  {
   "cell_type": "code",
   "execution_count": 26,
   "id": "02eae522-4198-49ee-9668-be491987f0c0",
   "metadata": {},
   "outputs": [],
   "source": [
    "import numpy"
   ]
  },
  {
   "cell_type": "code",
   "execution_count": 27,
   "id": "4dec963c-b935-4e17-b7ef-10b6a89470a6",
   "metadata": {},
   "outputs": [],
   "source": [
    "actual = numpy.random.binomial(1, 0.9, size = 1000)"
   ]
  },
  {
   "cell_type": "code",
   "execution_count": 28,
   "id": "200389ff-f44d-4a44-b3e7-f1a69852adf5",
   "metadata": {},
   "outputs": [],
   "source": [
    "predicted = numpy.random.binomial(1, 0.9, size = 1000)"
   ]
  },
  {
   "cell_type": "code",
   "execution_count": 29,
   "id": "79982f6a-84b7-4cdf-b1de-2ebf3a9bd7ae",
   "metadata": {},
   "outputs": [],
   "source": [
    "from sklearn import metrics"
   ]
  },
  {
   "cell_type": "code",
   "execution_count": 30,
   "id": "6fab4c31-51f9-4387-8e3e-afe9e313bfec",
   "metadata": {},
   "outputs": [],
   "source": [
    "confusion_matrix = metrics.confusion_matrix(actual, predicted)"
   ]
  },
  {
   "cell_type": "code",
   "execution_count": 31,
   "id": "bbfa9fee-1555-4007-8854-b7c486e16cbd",
   "metadata": {},
   "outputs": [
    {
     "data": {
      "text/plain": [
       "array([[ 19,  80],\n",
       "       [ 92, 809]])"
      ]
     },
     "execution_count": 31,
     "metadata": {},
     "output_type": "execute_result"
    }
   ],
   "source": [
    "confusion_matrix"
   ]
  },
  {
   "cell_type": "code",
   "execution_count": 32,
   "id": "55862733-33fa-4af7-8fc5-a6abdaf31269",
   "metadata": {},
   "outputs": [],
   "source": [
    "cm_display = metrics.ConfusionMatrixDisplay(confusion_matrix = confusion_matrix, display_labels = [False, True])"
   ]
  },
  {
   "cell_type": "code",
   "execution_count": 33,
   "id": "9e7d8a61-3253-4ddc-8c50-36aad5af97b1",
   "metadata": {},
   "outputs": [
    {
     "data": {
      "text/plain": [
       "<sklearn.metrics._plot.confusion_matrix.ConfusionMatrixDisplay at 0x7fca61bbe370>"
      ]
     },
     "execution_count": 33,
     "metadata": {},
     "output_type": "execute_result"
    }
   ],
   "source": [
    "cm_display"
   ]
  },
  {
   "cell_type": "code",
   "execution_count": 34,
   "id": "25cf7c7d-6ed1-4c2e-9eed-44901bd2c84e",
   "metadata": {},
   "outputs": [],
   "source": [
    "import matplotlib.pyplot as plt"
   ]
  },
  {
   "cell_type": "code",
   "execution_count": 35,
   "id": "74334c85-680a-4769-8756-e7a8c541da21",
   "metadata": {},
   "outputs": [
    {
     "data": {
      "image/png": "[encoded data removed]",
      "text/plain": [
       "<Figure size 432x288 with 2 Axes>"
      ]
     },
     "metadata": {
      "needs_background": "light"
     },
     "output_type": "display_data"
    }
   ],
   "source": [
    "cm_display.plot()\n",
    "plt.show()"
   ]
  },
  {
   "cell_type": "code",
   "execution_count": null,
   "id": "6a4d1f07-2e9b-48f5-b0c2-758a2885ab50",
   "metadata": {},
   "outputs": [],
   "source": []
  }
 ],
 "metadata": {
  "kernelspec": {
   "display_name": "Python 3 (ipykernel)",
   "language": "python",
   "name": "python3"
  },
  "language_info": {
   "codemirror_mode": {
    "name": "ipython",
    "version": 3
   },
   "file_extension": ".py",
   "mimetype": "text/x-python",
   "name": "python",
   "nbconvert_exporter": "python",
   "pygments_lexer": "ipython3",
   "version": "3.9.12"
  }
 },
 "nbformat": 4,
 "nbformat_minor": 5
}
