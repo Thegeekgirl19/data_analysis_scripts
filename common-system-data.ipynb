{
 "cells": [
  {
   "cell_type": "code",
   "execution_count": null,
   "metadata": {},
   "outputs": [],
   "source": [
    "import pymysql\n",
    "\n",
    "ENDPOINT = '10.10.211.59'\n",
    "PORT = 3306\n",
    "USERNAME = 'read_only'\n",
    "DBNAME = 'CAPC_ACCURACY_REPORT'\n",
    "PASSWORD = 'P@ssw0rd@123' # Change this based on your own password\n",
    "CURSORCLASS = pymysql.cursors.DictCursor"
   ]
  },
  {
   "cell_type": "code",
   "execution_count": null,
   "metadata": {},
   "outputs": [],
   "source": [
    "def initiate_local_connection():\n",
    "    try:\n",
    "        connection = pymysql.connect(host=ENDPOINT,\n",
    "                                     port=PORT,\n",
    "                                     user=USERNAME,\n",
    "                                     passwd=PASSWORD,\n",
    "                                     db=DBNAME,\n",
    "                                     cursorclass=CURSORCLASS)\n",
    "        print('[+] Local Connection Successful')\n",
    "    except Exception as e:\n",
    "        print(f'[+] Local Connection Failed: {e}')\n",
    "        connection = None\n",
    "\n",
    "    return connection"
   ]
  },
  {
   "cell_type": "code",
   "execution_count": null,
   "metadata": {},
   "outputs": [],
   "source": [
    "#  Call function and return the connection object\n",
    "connection = initiate_local_connection()"
   ]
  },
  {
   "cell_type": "code",
   "execution_count": null,
   "metadata": {},
   "outputs": [],
   "source": [
    "query = '''select * from overall_data where month in ('2023-07') and client_code='CHS';'''"
   ]
  },
  {
   "cell_type": "code",
   "execution_count": null,
   "metadata": {},
   "outputs": [],
   "source": [
    "df_query = pd.read_sql(query, con=connection)"
   ]
  },
  {
   "cell_type": "code",
   "execution_count": null,
   "metadata": {},
   "outputs": [],
   "source": [
    "df_query"
   ]
  },
  {
   "cell_type": "code",
   "execution_count": null,
   "metadata": {},
   "outputs": [],
   "source": [
    "df_query.to_excel('/home/trishalaswain/ClientData/CHS/CHS_JULY/CHS_JULY_Overall_sheet_till_11th.xlsx')"
   ]
  },
  {
   "cell_type": "code",
   "execution_count": null,
   "metadata": {},
   "outputs": [],
   "source": [
    "df = df_query.copy()"
   ]
  },
  {
   "cell_type": "code",
   "execution_count": null,
   "metadata": {},
   "outputs": [],
   "source": [
    "from collections import OrderedDict\n",
    "import pandas as pd\n",
    "def get_accuracy(data_df, codetype):\n",
    "    \n",
    "    # display(data_df)\n",
    "    # print(data_df.columns)\n",
    "    \n",
    "    accept = data_df[codetype+'_accepted_count'].sum()\n",
    "    reject = data_df[codetype+'_rejected_count'].sum()\n",
    "    add = data_df[codetype+'_added_count'].sum()\n",
    "    \n",
    "    d = OrderedDict()\n",
    "    # d['facility_name'] = data_df['facility_name'].iloc[0]\n",
    "    d['encounters'] = data_df.shape[0]\n",
    "    \n",
    "    d[codetype+'_accepted'] = accept\n",
    "    d[codetype+'_rejected'] = reject\n",
    "    d[codetype+'_added'] = add\n",
    "    \n",
    "    d[codetype+'_billed'] = accept+add\n",
    "    \n",
    "    \n",
    "    if accept == 0:\n",
    "        if add + reject == 0:\n",
    "            d['precision'] = 1\n",
    "            d['recall'] = 1\n",
    "            d['f1'] = 1\n",
    "        else:\n",
    "            d['precision'] = 0.0\n",
    "            d['recall'] = 0.0\n",
    "            d['f1'] = 0.0\n",
    "    else:\n",
    "        d['precision'] = accept / (accept + reject)\n",
    "        d['recall'] = accept / (accept + add)\n",
    "        d['f1'] = 2 * d['precision'] * d['recall'] / (d['precision'] + d['recall'])\n",
    "    \n",
    "    return pd.Series(d)"
   ]
  },
  {
   "cell_type": "code",
   "execution_count": null,
   "metadata": {},
   "outputs": [],
   "source": [
    "df.groupby(['facility_code']).apply(get_accuracy, codetype='eandm').sort_values(['facility_code'],ascending=[True])"
   ]
  },
  {
   "cell_type": "code",
   "execution_count": null,
   "metadata": {},
   "outputs": [],
   "source": [
    "df.enc_doc_id = df.enc_doc_id.astype('str')"
   ]
  },
  {
   "cell_type": "code",
   "execution_count": null,
   "metadata": {},
   "outputs": [],
   "source": [
    "df.shape"
   ]
  },
  {
   "cell_type": "code",
   "execution_count": null,
   "metadata": {},
   "outputs": [],
   "source": [
    "df_single_docs = df[~df.enc_doc_id.str.contains(',')]"
   ]
  },
  {
   "cell_type": "code",
   "execution_count": null,
   "metadata": {},
   "outputs": [],
   "source": [
    "df[df.enc_visit_type.str.contains('RECHECK')][cols_to_use]"
   ]
  },
  {
   "cell_type": "code",
   "execution_count": null,
   "metadata": {},
   "outputs": [],
   "source": [
    "df_single_docs.shape"
   ]
  },
  {
   "cell_type": "code",
   "execution_count": null,
   "metadata": {},
   "outputs": [],
   "source": [
    "df_9954 = df[df['facility_code'] == '9954']"
   ]
  },
  {
   "cell_type": "code",
   "execution_count": null,
   "metadata": {},
   "outputs": [],
   "source": [
    "df_9954.shape"
   ]
  },
  {
   "cell_type": "code",
   "execution_count": null,
   "metadata": {},
   "outputs": [],
   "source": [
    "df_9954.groupby(['enc_visit_type']).apply(get_accuracy, codetype='eandm').sort_values(['eandm_rejected'],ascending=[False])"
   ]
  },
  {
   "cell_type": "code",
   "execution_count": null,
   "metadata": {},
   "outputs": [],
   "source": [
    "df_9954.enc_visit_type = df_9954.enc_visit_type.astype('str')"
   ]
  },
  {
   "cell_type": "code",
   "execution_count": null,
   "metadata": {},
   "outputs": [],
   "source": [
    "df.columns"
   ]
  },
  {
   "cell_type": "code",
   "execution_count": null,
   "metadata": {},
   "outputs": [],
   "source": [
    "cols_to_use = ['encounter_id', 'service_date', 'enc_visit_type', 'enc_place_of_service', 'facility_code', 'account_number', 'eandm_suggested', 'eandm_final', 'cpt_suggested', 'cpt_final']"
   ]
  },
  {
   "cell_type": "code",
   "execution_count": null,
   "metadata": {},
   "outputs": [],
   "source": [
    "df_9954[df_9954.enc_visit_type.str.contains('N/A')][cols_to_use]"
   ]
  },
  {
   "cell_type": "code",
   "execution_count": null,
   "metadata": {},
   "outputs": [],
   "source": []
  },
  {
   "cell_type": "code",
   "execution_count": null,
   "metadata": {},
   "outputs": [],
   "source": []
  },
  {
   "cell_type": "code",
   "execution_count": null,
   "metadata": {},
   "outputs": [],
   "source": []
  },
  {
   "cell_type": "code",
   "execution_count": null,
   "metadata": {},
   "outputs": [],
   "source": []
  },
  {
   "cell_type": "code",
   "execution_count": null,
   "metadata": {},
   "outputs": [],
   "source": []
  },
  {
   "cell_type": "code",
   "execution_count": null,
   "metadata": {},
   "outputs": [],
   "source": []
  },
  {
   "cell_type": "code",
   "execution_count": null,
   "metadata": {},
   "outputs": [],
   "source": []
  },
  {
   "cell_type": "code",
   "execution_count": null,
   "metadata": {},
   "outputs": [],
   "source": [
    "import pandas as pd"
   ]
  },
  {
   "cell_type": "code",
   "execution_count": null,
   "metadata": {},
   "outputs": [],
   "source": [
    "df = pd.read_excel('/home/trishalaswain/ClientData/CHS/CHS_JULY/CHS_JULY_Overall_sheet_till_11th.xlsx', index_col=False)"
   ]
  },
  {
   "cell_type": "code",
   "execution_count": null,
   "metadata": {},
   "outputs": [],
   "source": [
    "df.facility_code = df.facility_code.astype('str')"
   ]
  },
  {
   "cell_type": "code",
   "execution_count": null,
   "metadata": {},
   "outputs": [],
   "source": [
    "df_1575 = df[df['facility_code'] == '1575']"
   ]
  },
  {
   "cell_type": "code",
   "execution_count": null,
   "metadata": {},
   "outputs": [],
   "source": [
    "df_1575[cols_to_use]"
   ]
  },
  {
   "cell_type": "code",
   "execution_count": null,
   "metadata": {},
   "outputs": [],
   "source": [
    "cs_1575 = pd.crosstab(df_1575['clean_final'], df_1575['clean_suggested'], margins=True)"
   ]
  },
  {
   "cell_type": "code",
   "execution_count": null,
   "metadata": {},
   "outputs": [],
   "source": [
    "import re\n",
    "for i,r in df_1575.iterrows():\n",
    "    df_1575.loc[i,'clean_suggested'] = ', '.join([str(elem) for elem in re.findall(r\"\\b\\d{5}\\b\", str(r['eandm_suggested']))])\n",
    "    df_1575.loc[i,'clean_final'] = ', '.join([str(elem) for elem in re.findall(r\"\\b\\d{5}\\b\", str(r['eandm_final']))])"
   ]
  },
  {
   "cell_type": "code",
   "execution_count": null,
   "metadata": {},
   "outputs": [],
   "source": [
    "cs_1575.to_excel('/home/trishalaswain/ClientData/CHS/CHS_JULY/CHS_JULY_ALL_TARS/1902.xlsx')"
   ]
  },
  {
   "cell_type": "code",
   "execution_count": null,
   "metadata": {},
   "outputs": [],
   "source": [
    "# df_1570[(df_1570.clean_final == '99213') & (df_1570.clean_suggested == '99212')][cols_to_use].to_excel('/home/trishalaswain/ClientData/CHS/CHS_JULY/CHS_JULY_ALL_TARS/docs_1570_JULY/Output/TEST.xlsx')"
   ]
  },
  {
   "cell_type": "code",
   "execution_count": null,
   "metadata": {},
   "outputs": [],
   "source": [
    "df_1575[(df_1575.clean_final == '99203') & (df_1575.clean_suggested == '99202')][cols_to_use]"
   ]
  },
  {
   "cell_type": "code",
   "execution_count": null,
   "metadata": {},
   "outputs": [],
   "source": [
    "df_1575.cpt_final = df_1575.cpt_final.astype('str')"
   ]
  },
  {
   "cell_type": "code",
   "execution_count": null,
   "metadata": {},
   "outputs": [],
   "source": [
    "df_1575[df_1575.cpt_final.str.contains('73630')][cols_to_use].eandm_final.value_counts()"
   ]
  },
  {
   "cell_type": "code",
   "execution_count": null,
   "metadata": {},
   "outputs": [],
   "source": [
    "df_1575[~df_1575.clean_suggested.str.contains('9') & ((df_1575.clean_final.str.contains('9')))][cols_to_use]"
   ]
  },
  {
   "cell_type": "code",
   "execution_count": null,
   "metadata": {},
   "outputs": [],
   "source": [
    "# .to_excel('/home/trishalaswain/ClientData/CHS/CHS_JULY/CHS_JULY_ALL_TARS/docs_1570_JULY/Output/TEST.xlsx')"
   ]
  },
  {
   "cell_type": "code",
   "execution_count": null,
   "metadata": {},
   "outputs": [],
   "source": []
  },
  {
   "cell_type": "code",
   "execution_count": null,
   "metadata": {},
   "outputs": [],
   "source": [
    "cols_to_use = ['encounter_id', 'service_date', 'enc_visit_type', 'enc_place_of_service', 'facility_code', 'account_number', 'cpt_final', 'cpt_suggested','eandm_final', 'eandm_suggested','local_suggested_ruleEngine','eandm_accepted_count',\n",
    "       'eandm_rejected_count', 'eandm_added_count', 'local_suggested_14_july', 'new', '17_july_head', 'New_4']"
   ]
  },
  {
   "cell_type": "code",
   "execution_count": null,
   "metadata": {},
   "outputs": [],
   "source": [
    "df_copy = df.copy()"
   ]
  },
  {
   "cell_type": "code",
   "execution_count": null,
   "metadata": {},
   "outputs": [],
   "source": [
    "df_copy = df_copy[cols_to_use]"
   ]
  },
  {
   "cell_type": "code",
   "execution_count": null,
   "metadata": {},
   "outputs": [],
   "source": [
    "df_copy.local_suggested_ruleEngine = df_copy.local_suggested_ruleEngine.astype('str')"
   ]
  },
  {
   "cell_type": "code",
   "execution_count": null,
   "metadata": {},
   "outputs": [],
   "source": [
    "df_copy = df_copy[~df_copy.local_suggested_ruleEngine.str.contains('vlookup_null')]"
   ]
  },
  {
   "cell_type": "code",
   "execution_count": null,
   "metadata": {},
   "outputs": [],
   "source": [
    "# df_copy.to_excel('/home/trishalaswain/ClientData/CHS/CHS_JULY/local_JULY.xlsx')"
   ]
  },
  {
   "cell_type": "code",
   "execution_count": null,
   "metadata": {},
   "outputs": [],
   "source": [
    "import re\n",
    "for i,r in df_copy.iterrows():\n",
    "    df_copy.loc[i,'clean_suggested'] = ', '.join([str(elem) for elem in re.findall(r\"\\b\\d{5}\\b\", str(r['eandm_suggested']))])\n",
    "    df_copy.loc[i,'clean_final'] = ', '.join([str(elem) for elem in re.findall(r\"\\b\\d{5}\\b\", str(r['eandm_final']))])"
   ]
  },
  {
   "cell_type": "code",
   "execution_count": null,
   "metadata": {},
   "outputs": [],
   "source": [
    "df_copy"
   ]
  },
  {
   "cell_type": "code",
   "execution_count": null,
   "metadata": {},
   "outputs": [],
   "source": [
    "df_copy.clean_final.value_counts()"
   ]
  },
  {
   "cell_type": "code",
   "execution_count": null,
   "metadata": {},
   "outputs": [],
   "source": [
    "df_copy.clean_suggested.value_counts()"
   ]
  },
  {
   "cell_type": "code",
   "execution_count": null,
   "metadata": {},
   "outputs": [],
   "source": [
    "def get_counts(x):\n",
    "    \n",
    "    suggested = str(x['New_4'])\n",
    "    final = str(x['clean_final'])\n",
    "    \n",
    "    if suggested != '':\n",
    "        suggested_set = set(suggested.split(', '))\n",
    "        final_set = set(final.split(', '))\n",
    "        if '9' not in final:\n",
    "            final_set.clear()    \n",
    "        if '9' not in suggested:\n",
    "            suggested_set.clear()\n",
    "            \n",
    "        accepted = len(suggested_set.intersection(final_set))\n",
    "        rejected = len(suggested_set - final_set)\n",
    "        added = len(final_set - suggested_set)\n",
    "        \n",
    "        if (rejected >= 1 or added >= 1):\n",
    "            print('rejected',rejected)\n",
    "            print('added',added)\n",
    "            print('suggested_set',suggested_set,'\\t final_set',final_set)\n",
    "        return pd.Series({'accepted':accepted, 'rejected':rejected, 'added':added})"
   ]
  },
  {
   "cell_type": "code",
   "execution_count": null,
   "metadata": {},
   "outputs": [],
   "source": [
    "count_df =  df_copy.apply(get_counts, axis=1)"
   ]
  },
  {
   "cell_type": "code",
   "execution_count": null,
   "metadata": {},
   "outputs": [],
   "source": [
    "df2 = pd.concat([df_copy, count_df], axis = 1)"
   ]
  },
  {
   "cell_type": "code",
   "execution_count": null,
   "metadata": {},
   "outputs": [],
   "source": [
    "df2"
   ]
  },
  {
   "cell_type": "code",
   "execution_count": null,
   "metadata": {},
   "outputs": [],
   "source": [
    "df2.eandm_rejected_count.sum()"
   ]
  },
  {
   "cell_type": "code",
   "execution_count": null,
   "metadata": {},
   "outputs": [],
   "source": [
    "df2.rejected.sum()"
   ]
  },
  {
   "cell_type": "code",
   "execution_count": null,
   "metadata": {},
   "outputs": [],
   "source": [
    "from collections import OrderedDict\n",
    "def get_accuracy_new(data_df):\n",
    "    \n",
    "    # display(data_df)\n",
    "    # print(data_df.columns)\n",
    "    \n",
    "    accept = data_df['accepted'].sum()\n",
    "    reject = data_df['rejected'].sum()\n",
    "    add = data_df['added'].sum()\n",
    "    \n",
    "    d = OrderedDict()\n",
    "    d['encounters'] = data_df.shape[0]\n",
    "    \n",
    "    d['New'+'_accepted'] = accept\n",
    "    d['New'+'_rejected'] = reject\n",
    "    d['New'+'_added'] = add\n",
    "    \n",
    "    d['New'+'_billed'] = accept+add\n",
    "    \n",
    "    if accept == 0:\n",
    "        if add + reject == 0:\n",
    "            d['precision'] = 1\n",
    "            d['recall'] = 1\n",
    "            d['f1'] = 1\n",
    "        else:\n",
    "            d['precision'] = 0.0\n",
    "            d['recall'] = 0.0\n",
    "            d['f1'] = 0.0\n",
    "    else:\n",
    "        d['precision'] = accept / (accept + reject)\n",
    "        d['recall'] = accept / (accept + add)\n",
    "        d['f1'] = 2 * d['precision'] * d['recall'] / (d['precision'] + d['recall'])\n",
    "    \n",
    "    return pd.Series(d)"
   ]
  },
  {
   "cell_type": "code",
   "execution_count": null,
   "metadata": {},
   "outputs": [],
   "source": [
    "df2.groupby(['facility_code']).apply(get_accuracy_new).sort_values(['facility_code'],ascending=[True]).to_excel('/home/trishalaswain/ClientData/CHS/CHS_JULY/test_local.xlsx')"
   ]
  },
  {
   "cell_type": "code",
   "execution_count": null,
   "metadata": {},
   "outputs": [],
   "source": [
    "df2.groupby(['facility_code']).apply(get_accuracy, codetype='eandm').sort_values(['facility_code'],ascending=[True]).to_excel('/home/trishalaswain/ClientData/CHS/CHS_JULY/test_with_rule.xlsx')"
   ]
  },
  {
   "cell_type": "code",
   "execution_count": null,
   "metadata": {},
   "outputs": [],
   "source": [
    "new_df = df2.copy()"
   ]
  },
  {
   "cell_type": "code",
   "execution_count": null,
   "metadata": {},
   "outputs": [],
   "source": [
    "\n",
    "new_df.info()\n"
   ]
  },
  {
   "cell_type": "code",
   "execution_count": null,
   "metadata": {},
   "outputs": [],
   "source": [
    "for i, r in new_df.iterrows():\n",
    "    if '99024' in str(r['cpt_suggested']) or '0502F' in str(r['cpt_suggested']):\n",
    "        new_df.at[i, 'accepted'] = 1"
   ]
  },
  {
   "cell_type": "code",
   "execution_count": null,
   "metadata": {},
   "outputs": [],
   "source": [
    "new_df"
   ]
  },
  {
   "cell_type": "code",
   "execution_count": null,
   "metadata": {},
   "outputs": [],
   "source": [
    "new_df.groupby(['facility_code']).apply(get_accuracy_new).sort_values(['facility_code'],ascending=[True]).to_excel('/home/trishalaswain/ClientData/CHS/CHS_JULY/after_applying_0502F_and_99024_rule.xlsx')"
   ]
  },
  {
   "cell_type": "code",
   "execution_count": null,
   "metadata": {},
   "outputs": [],
   "source": [
    "new_df.to_excel('')"
   ]
  }
 ],
 "metadata": {
  "kernelspec": {
   "display_name": "base",
   "language": "python",
   "name": "python3"
  },
  "language_info": {
   "codemirror_mode": {
    "name": "ipython",
    "version": 3
   },
   "file_extension": ".py",
   "mimetype": "text/x-python",
   "name": "python",
   "nbconvert_exporter": "python",
   "pygments_lexer": "ipython3",
   "version": "3.9.12"
  },
  "orig_nbformat": 4
 },
 "nbformat": 4,
 "nbformat_minor": 2
}
