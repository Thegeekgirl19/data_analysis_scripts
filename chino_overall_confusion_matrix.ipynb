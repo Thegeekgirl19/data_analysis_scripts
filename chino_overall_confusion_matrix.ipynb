{
 "cells": [
  {
   "cell_type": "code",
   "execution_count": 17,
   "metadata": {},
   "outputs": [],
   "source": [
    "import pandas as pd\n",
    "import ast\n",
    "import matplotlib.pyplot as plt\n",
    "import numpy\n",
    "from sklearn import metrics\n",
    "import seaborn as sns\n",
    "import ast\n"
   ]
  },
  {
   "cell_type": "code",
   "execution_count": 29,
   "metadata": {},
   "outputs": [],
   "source": [
    "df = pd.read_excel('/home/trishalaswain/Downloads/Script_Testing/CROSSTABS/CHINO_EMCS_LOCAL_VS_FINAL_MONTHWISE/CHNINO_COMBINED_EMCS_LOCAL_VS_FINAL.xlsx', index_col=False)"
   ]
  },
  {
   "cell_type": "code",
   "execution_count": 30,
   "metadata": {},
   "outputs": [
    {
     "data": {
      "text/plain": [
       "(12989, 3)"
      ]
     },
     "execution_count": 30,
     "metadata": {},
     "output_type": "execute_result"
    }
   ],
   "source": [
    "df.shape"
   ]
  },
  {
   "cell_type": "code",
   "execution_count": 31,
   "metadata": {},
   "outputs": [
    {
     "data": {
      "text/html": [
       "<div>\n",
       "<style scoped>\n",
       "    .dataframe tbody tr th:only-of-type {\n",
       "        vertical-align: middle;\n",
       "    }\n",
       "\n",
       "    .dataframe tbody tr th {\n",
       "        vertical-align: top;\n",
       "    }\n",
       "\n",
       "    .dataframe thead th {\n",
       "        text-align: right;\n",
       "    }\n",
       "</style>\n",
       "<table border=\"1\" class=\"dataframe\">\n",
       "  <thead>\n",
       "    <tr style=\"text-align: right;\">\n",
       "      <th></th>\n",
       "      <th>local_accounts</th>\n",
       "      <th>local_output</th>\n",
       "      <th>final_code</th>\n",
       "    </tr>\n",
       "  </thead>\n",
       "  <tbody>\n",
       "    <tr>\n",
       "      <th>0</th>\n",
       "      <td>V00001039788</td>\n",
       "      <td>99282</td>\n",
       "      <td>0</td>\n",
       "    </tr>\n",
       "    <tr>\n",
       "      <th>1</th>\n",
       "      <td>V00001041003</td>\n",
       "      <td>99284</td>\n",
       "      <td>99285</td>\n",
       "    </tr>\n",
       "    <tr>\n",
       "      <th>2</th>\n",
       "      <td>V00001040765</td>\n",
       "      <td>99284</td>\n",
       "      <td>99284</td>\n",
       "    </tr>\n",
       "    <tr>\n",
       "      <th>3</th>\n",
       "      <td>V00001039678</td>\n",
       "      <td>99284</td>\n",
       "      <td>99285</td>\n",
       "    </tr>\n",
       "    <tr>\n",
       "      <th>4</th>\n",
       "      <td>V00001040706</td>\n",
       "      <td>99284</td>\n",
       "      <td>99284</td>\n",
       "    </tr>\n",
       "    <tr>\n",
       "      <th>...</th>\n",
       "      <td>...</td>\n",
       "      <td>...</td>\n",
       "      <td>...</td>\n",
       "    </tr>\n",
       "    <tr>\n",
       "      <th>12984</th>\n",
       "      <td>V00001030640</td>\n",
       "      <td>99284</td>\n",
       "      <td>99283</td>\n",
       "    </tr>\n",
       "    <tr>\n",
       "      <th>12985</th>\n",
       "      <td>V00001027990</td>\n",
       "      <td>99285</td>\n",
       "      <td>99284</td>\n",
       "    </tr>\n",
       "    <tr>\n",
       "      <th>12986</th>\n",
       "      <td>V00001028107</td>\n",
       "      <td>99284</td>\n",
       "      <td>99284</td>\n",
       "    </tr>\n",
       "    <tr>\n",
       "      <th>12987</th>\n",
       "      <td>V00001029182</td>\n",
       "      <td>99284</td>\n",
       "      <td>99284</td>\n",
       "    </tr>\n",
       "    <tr>\n",
       "      <th>12988</th>\n",
       "      <td>V00001030618</td>\n",
       "      <td>99285</td>\n",
       "      <td>99284</td>\n",
       "    </tr>\n",
       "  </tbody>\n",
       "</table>\n",
       "<p>12989 rows × 3 columns</p>\n",
       "</div>"
      ],
      "text/plain": [
       "      local_accounts local_output final_code\n",
       "0       V00001039788        99282          0\n",
       "1       V00001041003        99284      99285\n",
       "2       V00001040765        99284      99284\n",
       "3       V00001039678        99284      99285\n",
       "4       V00001040706        99284      99284\n",
       "...              ...          ...        ...\n",
       "12984   V00001030640        99284      99283\n",
       "12985   V00001027990        99285      99284\n",
       "12986   V00001028107        99284      99284\n",
       "12987   V00001029182        99284      99284\n",
       "12988   V00001030618        99285      99284\n",
       "\n",
       "[12989 rows x 3 columns]"
      ]
     },
     "execution_count": 31,
     "metadata": {},
     "output_type": "execute_result"
    }
   ],
   "source": [
    "df"
   ]
  },
  {
   "cell_type": "code",
   "execution_count": 34,
   "metadata": {},
   "outputs": [
    {
     "data": {
      "text/plain": [
       "[0,\n",
       " 99285,\n",
       " 99284,\n",
       " 99292,\n",
       " 99223,\n",
       " 99283,\n",
       " 99406,\n",
       " 99291,\n",
       " 99282,\n",
       " 99239,\n",
       " 99222,\n",
       " 99359,\n",
       " 99236,\n",
       " '99291, 99292',\n",
       " 99418,\n",
       " 99215,\n",
       " 99281,\n",
       " 99221,\n",
       " 99220,\n",
       " '993X0',\n",
       " 99219,\n",
       " 99218]"
      ]
     },
     "execution_count": 34,
     "metadata": {},
     "output_type": "execute_result"
    }
   ],
   "source": [
    "df.final_code.unique().tolist()"
   ]
  },
  {
   "cell_type": "code",
   "execution_count": 37,
   "metadata": {},
   "outputs": [],
   "source": [
    "df.local_output = df.local_output.astype('str')\n",
    "df.final_code = df.final_code.astype('str')"
   ]
  },
  {
   "cell_type": "code",
   "execution_count": 38,
   "metadata": {},
   "outputs": [],
   "source": [
    "confusion_matrix = metrics.confusion_matrix(df.final_code, df.local_output, labels=df.local_output.unique().tolist())"
   ]
  },
  {
   "cell_type": "code",
   "execution_count": 39,
   "metadata": {},
   "outputs": [
    {
     "data": {
      "text/plain": [
       "array([[  39,   39,    0,    0,    0,   49,    0,    0,    0,    0,    0,\n",
       "           0,    1,    0,    0],\n",
       "       [  84, 6174,    0,   33,  455,  233,    1,    0,   11,    6,    1,\n",
       "           0,    4,    0,    0],\n",
       "       [   0,    0,   24,    0,    0,    0,    0,    0,    0,    0,    0,\n",
       "           0,    0,    0,    0],\n",
       "       [   1,    0,    1,  278,    0,    0,    0,    1,   16,    0,    1,\n",
       "           0,    0,    0,    0],\n",
       "       [   2,  643,    0,  312, 1604,   15,    1,    4,   19,    2,    0,\n",
       "          10,    9,    2,    0],\n",
       "       [ 134, 1365,    0,    2,   13,  285,    0,    0,    5,    3,    2,\n",
       "           0,    8,    0,    0],\n",
       "       [   0,    0,  227,    1,    0,    0,  485,    0,    0,    0,    0,\n",
       "           0,    0,    0,    0],\n",
       "       [   0,    0,    0,    0,    0,    0,    0,    4,    0,    0,    0,\n",
       "           0,    0,    0,    0],\n",
       "       [   0,    0,    0,    0,    0,    0,    0,    0,   15,    0,    1,\n",
       "           0,    0,    0,    0],\n",
       "       [   0,    1,    0,    0,    0,    0,    0,    0,    0,    0,    0,\n",
       "           0,    1,    0,    0],\n",
       "       [   0,    0,    0,    0,    0,    0,    0,    0,    0,    0,    3,\n",
       "           0,    0,    0,    0],\n",
       "       [   0,    0,    0,    0,    0,    0,    0,    0,    0,    0,    0,\n",
       "          13,    3,    0,    0],\n",
       "       [  99,   18,    0,    1,    8,   14,    1,    0,    1,    2,    0,\n",
       "           0,    0,    0,    0],\n",
       "       [   0,    0,    0,    0,    0,    0,    0,    0,    0,    0,    0,\n",
       "           0,    3,    0,    0],\n",
       "       [   0,    0,    0,    0,    0,    0,    0,    0,    0,    0,    0,\n",
       "           1,    0,    0,    1]])"
      ]
     },
     "execution_count": 39,
     "metadata": {},
     "output_type": "execute_result"
    }
   ],
   "source": [
    "confusion_matrix"
   ]
  },
  {
   "cell_type": "code",
   "execution_count": 40,
   "metadata": {},
   "outputs": [],
   "source": [
    "confusion_matrix = pd.crosstab(df.final_code, df.local_output,margins = True, margins_name='Total')"
   ]
  },
  {
   "cell_type": "code",
   "execution_count": 42,
   "metadata": {},
   "outputs": [],
   "source": [
    "confusion_matrix.to_excel('/home/trishalaswain/Downloads/excel_test.xlsx')"
   ]
  },
  {
   "cell_type": "code",
   "execution_count": null,
   "metadata": {},
   "outputs": [],
   "source": []
  }
 ],
 "metadata": {
  "kernelspec": {
   "display_name": "base",
   "language": "python",
   "name": "python3"
  },
  "language_info": {
   "codemirror_mode": {
    "name": "ipython",
    "version": 3
   },
   "file_extension": ".py",
   "mimetype": "text/x-python",
   "name": "python",
   "nbconvert_exporter": "python",
   "pygments_lexer": "ipython3",
   "version": "3.9.12"
  },
  "orig_nbformat": 4
 },
 "nbformat": 4,
 "nbformat_minor": 2
}
