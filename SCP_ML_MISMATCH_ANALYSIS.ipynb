{
 "cells": [
  {
   "cell_type": "code",
   "execution_count": null,
   "metadata": {},
   "outputs": [],
   "source": [
    "import pandas as pd\n",
    "import clipboard\n",
    "from sqlalchemy import create_engine\n",
    "import regex as re\n",
    "import time\n",
    "from datetime import datetime\n",
    "import os\n",
    "import glob"
   ]
  },
  {
   "cell_type": "code",
   "execution_count": null,
   "metadata": {},
   "outputs": [],
   "source": [
    "all_data = pd.DataFrame()\n",
    "allExcelFiles =glob.glob(\"/home/trishalaswain/Downloads/SCP_MAY_SHEETS/*31.tsv\")\n",
    "scp_july_combined = pd.concat(pd.read_table(excelFile, index_col=False) for excelFile in allExcelFiles)"
   ]
  },
  {
   "cell_type": "code",
   "execution_count": null,
   "metadata": {},
   "outputs": [],
   "source": [
    "scp_july_combined.columns"
   ]
  },
  {
   "cell_type": "code",
   "execution_count": null,
   "metadata": {},
   "outputs": [],
   "source": [
    "scp_july_combined = scp_july_combined[['id', 'accountNumber', 'EANDM_Suggested', 'EANDM_Final']]"
   ]
  },
  {
   "cell_type": "code",
   "execution_count": null,
   "metadata": {},
   "outputs": [],
   "source": [
    "scp_july_combined.to_excel('/home/trishalaswain/ClientData/SCP/EPIC_SCP/MAY/SCP_MAY_CODES.xlsx', index=False)"
   ]
  },
  {
   "cell_type": "code",
   "execution_count": null,
   "metadata": {},
   "outputs": [],
   "source": [
    "df = pd.read_csv('/home/trishalaswain/Documents/machine_learning/pred_july.csv', sep='\\t', index_col=False)"
   ]
  },
  {
   "cell_type": "code",
   "execution_count": null,
   "metadata": {},
   "outputs": [],
   "source": [
    "df.drop(['Unnamed: 0', 'Unnamed: 0.1'], axis=1, inplace=True)"
   ]
  },
  {
   "cell_type": "code",
   "execution_count": null,
   "metadata": {},
   "outputs": [],
   "source": [
    "df"
   ]
  },
  {
   "cell_type": "code",
   "execution_count": null,
   "metadata": {},
   "outputs": [],
   "source": [
    "def highlight_same(data):\n",
    "    \n",
    "    highlighter = pd.DataFrame(\"\", index=data.index, columns=data.columns)\n",
    "    for col in data.columns[:-1]:\n",
    "        for index in data.index[:-1]:\n",
    "            # if 'Total' in index or 'Total' in col:\n",
    "            #     highlighter.loc[index, col] = 'background-color : yellow'\n",
    " \n",
    "\n",
    "            if col == index:\n",
    "                highlighter.loc[index, col] = 'background-color : springgreen'\n",
    "                \n",
    "            elif str(col)>str(index) and data.loc[index, col]>100:\n",
    "                highlighter.loc[index, col] = 'background-color : lightskyblue'\n",
    "\n",
    "            elif data.loc[index, col]>100:\n",
    "                highlighter.loc[index, col] = 'background-color : PaleVioletRed'\n",
    "\n",
    "    return highlighter\n",
    "# crosstab = cs.style.apply(highlight_same, axis=None)"
   ]
  },
  {
   "cell_type": "code",
   "execution_count": null,
   "metadata": {},
   "outputs": [],
   "source": [
    "pd.crosstab(df['EANDM_Final_code_1'], df['ypred_july'], margins=True, margins_name='Total').style.apply(highlight_same, axis=None)"
   ]
  },
  {
   "cell_type": "code",
   "execution_count": null,
   "metadata": {},
   "outputs": [],
   "source": [
    "print(df[(df.EANDM_Final_code_1 == 2) & (df.ypred_july == 3)].account_number.to_list())"
   ]
  },
  {
   "cell_type": "code",
   "execution_count": null,
   "metadata": {},
   "outputs": [],
   "source": [
    "# print(df[(df.EANDM_Final_code_1 == 2) & (df.ypred_july == 3)].head(30).MDM_SENTS.to_markdown())"
   ]
  },
  {
   "cell_type": "code",
   "execution_count": null,
   "metadata": {},
   "outputs": [],
   "source": [
    "df_mismatch = df[(df.EANDM_Final_code_1 == 2) & (df.ypred_july == 3)]"
   ]
  },
  {
   "cell_type": "code",
   "execution_count": null,
   "metadata": {},
   "outputs": [],
   "source": [
    "# df_mismatch[df_mismatch['MDM_SENTS'].lower().contains('ems ')]\n",
    "# df['EMS_CASES'] = 0\n",
    "# for i, r in df.iterrows():\n",
    "#     if ' ems ' in r['MDM_SENTS']:\n",
    "#         df.loc[i, 'EMS_CASES'] = 1"
   ]
  },
  {
   "cell_type": "code",
   "execution_count": null,
   "metadata": {},
   "outputs": [],
   "source": [
    "# df[df.EMS_CASES == 1].EANDM_Final_code.value_counts()"
   ]
  },
  {
   "cell_type": "code",
   "execution_count": null,
   "metadata": {},
   "outputs": [],
   "source": [
    "# import scipy.sparse\n",
    "# import pickle\n",
    "# vectorizer_filename = \"/home/trishalaswain/Documents/machine_learning/tfidf.pkl\"\n",
    "# model_filename1 = \"/home/trishalaswain/Documents/machine_learning/LR.pkl\"\n",
    "\n",
    "# model=pickle.load(open(model_filename1, \"rb\"))\n",
    "# vectorizer =pickle.load(open(vectorizer_filename, \"rb\"))"
   ]
  },
  {
   "cell_type": "code",
   "execution_count": null,
   "metadata": {},
   "outputs": [],
   "source": [
    "df_mismatch.columns"
   ]
  },
  {
   "cell_type": "code",
   "execution_count": null,
   "metadata": {},
   "outputs": [],
   "source": [
    "data = df_mismatch.head(20).clean_sen_MDM_SENTS.to_list()"
   ]
  },
  {
   "cell_type": "code",
   "execution_count": null,
   "metadata": {},
   "outputs": [],
   "source": [
    "import pickle\n",
    "import eli5\n",
    "from sklearn.feature_extraction.text import TfidfVectorizer\n",
    "\n",
    "# Load the trained logistic regression model\n",
    "with open('/home/trishalaswain/Documents/machine_learning/LR.pkl', 'rb') as model_file:\n",
    "    model = pickle.load(model_file)\n",
    "\n",
    "# Load the vectorizer\n",
    "with open('/home/trishalaswain/Documents/machine_learning/tfidf.pkl', 'rb') as vectorizer_file:\n",
    "    vectorizer = pickle.load(vectorizer_file)\n",
    "\n",
    "# Define some example data\n",
    "# data = [\"This is an example sentence.\",\n",
    "#         \"Another example for interpretation.\"]\n",
    "\n",
    "# Transform the data using the vectorizer\n",
    "X = vectorizer.transform(data)\n",
    "\n",
    "# Predict the model's output for the given data\n",
    "predictions = model.predict(X)\n",
    "\n",
    "# Get the feature names from the vectorizer\n",
    "feature_names = vectorizer.get_feature_names_out()\n",
    "\n",
    "# # Interpret each prediction using eli5\n",
    "for text, x, prediction in zip(data, X, predictions):\n",
    "    expl = eli5.explain_prediction_sklearn(model, text, vec=vectorizer, feature_names=feature_names)\n",
    "    # display('model prediction: ', prediction)\n",
    "    display(eli5.show_weights(model, feature_names=feature_names))\n",
    "\n",
    "    # display(expl)\n",
    "    # Print the text, prediction, and explanation\n",
    "    # display(f\"Text: {text}\\nPrediction: {prediction}\\nExplanation:\\n{eli5.format_as_text(expl)}\\n\")\n"
   ]
  },
  {
   "cell_type": "code",
   "execution_count": null,
   "metadata": {},
   "outputs": [],
   "source": []
  },
  {
   "cell_type": "code",
   "execution_count": null,
   "metadata": {},
   "outputs": [],
   "source": []
  },
  {
   "cell_type": "code",
   "execution_count": null,
   "metadata": {},
   "outputs": [],
   "source": []
  },
  {
   "cell_type": "code",
   "execution_count": null,
   "metadata": {},
   "outputs": [],
   "source": []
  }
 ],
 "metadata": {
  "kernelspec": {
   "display_name": "base",
   "language": "python",
   "name": "python3"
  },
  "language_info": {
   "codemirror_mode": {
    "name": "ipython",
    "version": 3
   },
   "file_extension": ".py",
   "mimetype": "text/x-python",
   "name": "python",
   "nbconvert_exporter": "python",
   "pygments_lexer": "ipython3",
   "version": "3.9.12"
  },
  "orig_nbformat": 4
 },
 "nbformat": 4,
 "nbformat_minor": 2
}
