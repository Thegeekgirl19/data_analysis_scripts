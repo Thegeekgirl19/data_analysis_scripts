{
 "cells": [
  {
   "cell_type": "code",
   "execution_count": 1,
   "id": "516bf15f-6b78-44b4-b6bf-fd1cc9d8ccee",
   "metadata": {},
   "outputs": [],
   "source": [
    "import pandas as pd\n",
    "import xml.etree.ElementTree as ET\n",
    "import os\n",
    "from xml.etree.ElementTree import ElementTree\n",
    "from itertools import chain\n",
    "from lxml import etree\n",
    "import re"
   ]
  },
  {
   "cell_type": "code",
   "execution_count": 2,
   "id": "b34d281b-dc2e-4d9b-9abd-9e8d1743b490",
   "metadata": {},
   "outputs": [],
   "source": [
    "# dir_path = r'/home/trishalaswain/data_for_analysis/SCP/Prod/2474/SCP2474/test_xml_read/'\n",
    "dir_path = r'/home/trishalaswain/data_for_analysis/SCP/Prod/2474/SCP2474/SCP_2474_84_Final/'\n",
    "res = []\n",
    "for path in os.listdir(dir_path):\n",
    "    \n",
    "    if os.path.isfile(os.path.join(dir_path, path)) and str(path).endswith(\"pcs.xml\"):\n",
    "        res.append(dir_path + path)\n"
   ]
  },
  {
   "cell_type": "code",
   "execution_count": 3,
   "id": "4fb49636-b24e-4fc2-85d7-d39d4af6254a",
   "metadata": {},
   "outputs": [
    {
     "data": {
      "text/plain": [
       "758"
      ]
     },
     "execution_count": 3,
     "metadata": {},
     "output_type": "execute_result"
    }
   ],
   "source": [
    "len(res)"
   ]
  },
  {
   "cell_type": "code",
   "execution_count": 4,
   "id": "3f26458d-eb94-4ad5-9ffb-41044ec88a83",
   "metadata": {},
   "outputs": [],
   "source": [
    "df = pd.DataFrame()\n",
    "df['account'] = None\n",
    "df['problem'] = None\n",
    "df['cui'] = None"
   ]
  },
  {
   "cell_type": "code",
   "execution_count": 5,
   "id": "4cf627f5-f3d5-4e1f-9a5c-6e4a59e2f669",
   "metadata": {
    "scrolled": true,
    "tags": []
   },
   "outputs": [],
   "source": [
    "from collections import defaultdict\n",
    "problem_dict = {}\n",
    "df_final = pd.DataFrame()\n",
    "for item in res:\n",
    "    \n",
    "    last_occ = item.rfind('/')\n",
    "    # print(item[last_occ+1:])\n",
    "    data = etree.parse(item)\n",
    "    index = 0\n",
    "    \n",
    "    problem_section_list = ['CLINICAL IMPRESSION','Final diagnoses','diagnosis','IMPRESSION']\n",
    "    problem_section_list.append('Differential Diagnosis:')\n",
    "    problem_section_list.append('The differential diagnosis includes, but is not limited to:')\n",
    "    problem_section_list.append('Diagnoses')\n",
    "    for i in problem_section_list:\n",
    "        \n",
    "        for problem in data.xpath(\"//Section[@value='{}']/Paragraph/Sentence/RelationSet/problem\".format(i)):\n",
    "            \n",
    "            # namespaces={\"re\": \"http://exslt.org/regular-expressions\"}\n",
    "            # doc.xpath(\"//a[re:match(text(), 'some text')]\",\n",
    "            # print(problem.attrib['cui'])\n",
    "            # print(problem.attrib['value'])\n",
    "            \n",
    "            df.at[index, 'account'] = item[last_occ+1:]\n",
    "            df.at[index, 'problem'] = problem.attrib['value']\n",
    "            df.at[index, 'cui'] = problem.attrib['cui']\n",
    "            index += 1\n",
    "            df_final = pd.concat([df,df_final])\n"
   ]
  },
  {
   "cell_type": "code",
   "execution_count": 6,
   "id": "cda3fde1-e581-43a1-846e-f535bb45ff6d",
   "metadata": {},
   "outputs": [],
   "source": [
    "df_final = df_final.reset_index(drop = True)"
   ]
  },
  {
   "cell_type": "code",
   "execution_count": 7,
   "id": "a878a67d-472e-42cb-9bef-e290a8c3874d",
   "metadata": {},
   "outputs": [
    {
     "data": {
      "text/html": [
       "<div>\n",
       "<style scoped>\n",
       "    .dataframe tbody tr th:only-of-type {\n",
       "        vertical-align: middle;\n",
       "    }\n",
       "\n",
       "    .dataframe tbody tr th {\n",
       "        vertical-align: top;\n",
       "    }\n",
       "\n",
       "    .dataframe thead th {\n",
       "        text-align: right;\n",
       "    }\n",
       "</style>\n",
       "<table border=\"1\" class=\"dataframe\">\n",
       "  <thead>\n",
       "    <tr style=\"text-align: right;\">\n",
       "      <th></th>\n",
       "      <th>account</th>\n",
       "      <th>problem</th>\n",
       "      <th>cui</th>\n",
       "    </tr>\n",
       "  </thead>\n",
       "  <tbody>\n",
       "    <tr>\n",
       "      <th>0</th>\n",
       "      <td>86544747_99285_99284_pcs.xml</td>\n",
       "      <td>URI</td>\n",
       "      <td>C0041912;C3272713;C1548524</td>\n",
       "    </tr>\n",
       "    <tr>\n",
       "      <th>1</th>\n",
       "      <td>86544747_99285_99284_pcs.xml</td>\n",
       "      <td>cough</td>\n",
       "      <td>S00003732;C0010200;C0687152;C1961131</td>\n",
       "    </tr>\n",
       "    <tr>\n",
       "      <th>2</th>\n",
       "      <td>86544747_99285_99284_pcs.xml</td>\n",
       "      <td>congestion</td>\n",
       "      <td>C0700148</td>\n",
       "    </tr>\n",
       "    <tr>\n",
       "      <th>3</th>\n",
       "      <td>86544747_99285_99284_pcs.xml</td>\n",
       "      <td>Pharyngitis</td>\n",
       "      <td>C0031350</td>\n",
       "    </tr>\n",
       "    <tr>\n",
       "      <th>4</th>\n",
       "      <td>86544747_99285_99284_pcs.xml</td>\n",
       "      <td>URI</td>\n",
       "      <td>C0041912;C3272713;C1548524</td>\n",
       "    </tr>\n",
       "    <tr>\n",
       "      <th>...</th>\n",
       "      <td>...</td>\n",
       "      <td>...</td>\n",
       "      <td>...</td>\n",
       "    </tr>\n",
       "    <tr>\n",
       "      <th>339069</th>\n",
       "      <td>86992359_99285_99284_pcs.xml</td>\n",
       "      <td>Leg pain_SEP_left</td>\n",
       "      <td>S20004997;C0564822</td>\n",
       "    </tr>\n",
       "    <tr>\n",
       "      <th>339070</th>\n",
       "      <td>86992359_99285_99284_pcs.xml</td>\n",
       "      <td>Leg pain</td>\n",
       "      <td>S00022255;S00013031;C0023222;C0839480</td>\n",
       "    </tr>\n",
       "    <tr>\n",
       "      <th>339071</th>\n",
       "      <td>86992359_99285_99284_pcs.xml</td>\n",
       "      <td>pain</td>\n",
       "      <td>C0030193;C1557397;C1882272;C0242936</td>\n",
       "    </tr>\n",
       "    <tr>\n",
       "      <th>339072</th>\n",
       "      <td>86992359_99285_99284_pcs.xml</td>\n",
       "      <td>Leg pain</td>\n",
       "      <td>S00022255;S00013031;C0023222;C0839480</td>\n",
       "    </tr>\n",
       "    <tr>\n",
       "      <th>339073</th>\n",
       "      <td>86701161_99285_99284_pcs.xml</td>\n",
       "      <td>Abdominal pain</td>\n",
       "      <td>S20004548;C0000737</td>\n",
       "    </tr>\n",
       "  </tbody>\n",
       "</table>\n",
       "<p>339074 rows × 3 columns</p>\n",
       "</div>"
      ],
      "text/plain": [
       "                             account            problem  \\\n",
       "0       86544747_99285_99284_pcs.xml                URI   \n",
       "1       86544747_99285_99284_pcs.xml              cough   \n",
       "2       86544747_99285_99284_pcs.xml         congestion   \n",
       "3       86544747_99285_99284_pcs.xml        Pharyngitis   \n",
       "4       86544747_99285_99284_pcs.xml                URI   \n",
       "...                              ...                ...   \n",
       "339069  86992359_99285_99284_pcs.xml  Leg pain_SEP_left   \n",
       "339070  86992359_99285_99284_pcs.xml           Leg pain   \n",
       "339071  86992359_99285_99284_pcs.xml               pain   \n",
       "339072  86992359_99285_99284_pcs.xml           Leg pain   \n",
       "339073  86701161_99285_99284_pcs.xml     Abdominal pain   \n",
       "\n",
       "                                          cui  \n",
       "0                  C0041912;C3272713;C1548524  \n",
       "1        S00003732;C0010200;C0687152;C1961131  \n",
       "2                                    C0700148  \n",
       "3                                    C0031350  \n",
       "4                  C0041912;C3272713;C1548524  \n",
       "...                                       ...  \n",
       "339069                     S20004997;C0564822  \n",
       "339070  S00022255;S00013031;C0023222;C0839480  \n",
       "339071    C0030193;C1557397;C1882272;C0242936  \n",
       "339072  S00022255;S00013031;C0023222;C0839480  \n",
       "339073                     S20004548;C0000737  \n",
       "\n",
       "[339074 rows x 3 columns]"
      ]
     },
     "execution_count": 7,
     "metadata": {},
     "output_type": "execute_result"
    }
   ],
   "source": [
    "df_final"
   ]
  },
  {
   "cell_type": "code",
   "execution_count": 8,
   "id": "acd5e88e-526c-43bc-9e8f-3965f7f90aa9",
   "metadata": {
    "scrolled": true,
    "tags": []
   },
   "outputs": [],
   "source": [
    "df2 = pd.DataFrame(df_final.problem.value_counts())"
   ]
  },
  {
   "cell_type": "code",
   "execution_count": 9,
   "id": "edeaa43a-2446-4cb1-99f4-a5ab71b552db",
   "metadata": {},
   "outputs": [
    {
     "ename": "AttributeError",
     "evalue": "'Series' object has no attribute 'spl'",
     "output_type": "error",
     "traceback": [
      "\u001b[0;31m---------------------------------------------------------------------------\u001b[0m",
      "\u001b[0;31mAttributeError\u001b[0m                            Traceback (most recent call last)",
      "Input \u001b[0;32mIn [9]\u001b[0m, in \u001b[0;36m<cell line: 1>\u001b[0;34m()\u001b[0m\n\u001b[0;32m----> 1\u001b[0m df3 \u001b[38;5;241m=\u001b[39m pd\u001b[38;5;241m.\u001b[39mDataFrame(\u001b[43mdf_final\u001b[49m\u001b[38;5;241;43m.\u001b[39;49m\u001b[43mcui\u001b[49m\u001b[38;5;241;43m.\u001b[39;49m\u001b[43mspl\u001b[49m\u001b[38;5;241m.\u001b[39mvalue_counts())\n",
      "File \u001b[0;32m~/anaconda3/lib/python3.9/site-packages/pandas/core/generic.py:5575\u001b[0m, in \u001b[0;36mNDFrame.__getattr__\u001b[0;34m(self, name)\u001b[0m\n\u001b[1;32m   5568\u001b[0m \u001b[38;5;28;01mif\u001b[39;00m (\n\u001b[1;32m   5569\u001b[0m     name \u001b[38;5;129;01mnot\u001b[39;00m \u001b[38;5;129;01min\u001b[39;00m \u001b[38;5;28mself\u001b[39m\u001b[38;5;241m.\u001b[39m_internal_names_set\n\u001b[1;32m   5570\u001b[0m     \u001b[38;5;129;01mand\u001b[39;00m name \u001b[38;5;129;01mnot\u001b[39;00m \u001b[38;5;129;01min\u001b[39;00m \u001b[38;5;28mself\u001b[39m\u001b[38;5;241m.\u001b[39m_metadata\n\u001b[1;32m   5571\u001b[0m     \u001b[38;5;129;01mand\u001b[39;00m name \u001b[38;5;129;01mnot\u001b[39;00m \u001b[38;5;129;01min\u001b[39;00m \u001b[38;5;28mself\u001b[39m\u001b[38;5;241m.\u001b[39m_accessors\n\u001b[1;32m   5572\u001b[0m     \u001b[38;5;129;01mand\u001b[39;00m \u001b[38;5;28mself\u001b[39m\u001b[38;5;241m.\u001b[39m_info_axis\u001b[38;5;241m.\u001b[39m_can_hold_identifiers_and_holds_name(name)\n\u001b[1;32m   5573\u001b[0m ):\n\u001b[1;32m   5574\u001b[0m     \u001b[38;5;28;01mreturn\u001b[39;00m \u001b[38;5;28mself\u001b[39m[name]\n\u001b[0;32m-> 5575\u001b[0m \u001b[38;5;28;01mreturn\u001b[39;00m \u001b[38;5;28;43mobject\u001b[39;49m\u001b[38;5;241;43m.\u001b[39;49m\u001b[38;5;21;43m__getattribute__\u001b[39;49m\u001b[43m(\u001b[49m\u001b[38;5;28;43mself\u001b[39;49m\u001b[43m,\u001b[49m\u001b[43m \u001b[49m\u001b[43mname\u001b[49m\u001b[43m)\u001b[49m\n",
      "\u001b[0;31mAttributeError\u001b[0m: 'Series' object has no attribute 'spl'"
     ]
    }
   ],
   "source": [
    "df3 = pd.DataFrame(df_final.cui.spl.value_counts())"
   ]
  },
  {
   "cell_type": "code",
   "execution_count": null,
   "id": "b0bc31c1-d697-41f9-bcac-5ceed60f977a",
   "metadata": {},
   "outputs": [],
   "source": [
    "df_final_2 = df_final.groupby(['problem'],).agg(',  '.join)"
   ]
  }
 ],
 "metadata": {
  "kernelspec": {
   "display_name": "Python 3 (ipykernel)",
   "language": "python",
   "name": "python3"
  },
  "language_info": {
   "codemirror_mode": {
    "name": "ipython",
    "version": 3
   },
   "file_extension": ".py",
   "mimetype": "text/x-python",
   "name": "python",
   "nbconvert_exporter": "python",
   "pygments_lexer": "ipython3",
   "version": "3.9.12"
  }
 },
 "nbformat": 4,
 "nbformat_minor": 5
}
