{
 "cells": [
  {
   "cell_type": "code",
   "execution_count": 2,
   "id": "7d5e3769",
   "metadata": {},
   "outputs": [],
   "source": [
    "import requests\n",
    "import os\n",
    "import json       \n",
    "from os import listdir\n",
    "import time\n",
    "\n",
    "# url = 'https://intcptcscontrollerservice.ezdicloud.com/client/1/facility/1/cpt'\n",
    "# pcs = \"/home/zalakrana/ClientData/testDataOct/1/1/14_206_3626708_20221017134512523_pcs.xml\"\n",
    "# reqJson = \"/home/zalakrana/ClientData/testDataOct/1/1/14_206_3626708_20221017134512457_request.json\"\n",
    "# header = {'Content-type': 'multipart/form-data'}"
   ]
  },
  {
   "cell_type": "code",
   "execution_count": 5,
   "id": "b3a2ac4f",
   "metadata": {},
   "outputs": [
    {
     "name": "stdout",
     "output_type": "stream",
     "text": [
      "['1637524035.json', '1637847096.json', '1637594801.json', '1637523821.json', '1637847987.json', '1637594040.json', '1637594152.json', '1637847560.json', '1637594569.json', '1637847732.json', '1637594538.json', '1637847658.json', '1637594124.json', '1637523849.json', '1637847764.json', '1637847854.json', '1637848007.json', '1637523956.json', '1637594032.json', '1637847605.json', '1637847960.json', '1637594597.json', '1637847212.json', '1637594248.json', '1637847293.json', '1637847589.json', '1637523971.json', '1637594318.json', '1637847678.json', '1637847980.json', '1637847230.json', '1637847567.json', '1637847952.json', '1637523963.json', '1637847417.json', '1637847473.json', '1637523994.json', '1637594671.json', '1637594227.json', '1637594975.json', '1637524052.json', '1637594833.json', '1637848018.json', '1637847829.json', '1637594875.json', '1637594918.json', '1637594639.json', '1637594860.json', '1637594734.json', '1637847163.json', '1637594106.json', '1637594484.json', '1637847575.json', '1637847330.json', '1637847283.json', '1637847692.json', '1637594684.json', '1637523833.json', '1637847668.json', '1637524022.json', '1637523808.json', '1637594424.json', '1637847885.json', '1637594409.json', '1637594908.json', '1637594608.json', '1637655012.json', '1637594057.json', '1637847966.json', '1637524064.json', '1637594582.json', '1637523983.json', '1637595020.json', '1637847840.json', '1637847429.json', '1637524046.json', '1637524038.json', '1637523880.json', '1637594398.json', '1637594763.json', '1637594814.json', '1637847399.json', '1637847408.json', '1637847748.json', '1637594845.json', '1637594385.json', '1637847349.json', '1637847713.json', '1637595057.json', '1637847520.json', '1637847257.json', '1637524002.json', '1637847996.json', '1637594895.json', '1637594025.json', '1637847508.json', '1637847218.json', '1637524007.json', '1637594623.json', '1637847126.json', '1637847897.json', '1637600239.json', '1637594046.json', '1637847270.json', '1637847824.json', '1637594951.json', '1637847117.json', '1637594266.json', '1637594371.json', '1637847596.json', '1637594748.json', '1637594933.json', '1637848056.json', '1637847974.json', '1637594293.json', '1637847685.json', '1637847306.json', '1637594188.json', '1637847111.json', '1637847867.json', '1637594456.json', '1637847777.json', '1637595084.json', '1637594362.json', '1637847196.json', '1637847648.json', '1637595000.json', '1637594658.json', '1637524016.json', '1637594556.json', '1637594342.json', '1637594329.json', '1637523980.json']\n"
     ]
    }
   ],
   "source": [
    "posturl = 'https://stgcptcscontrollerservice.ezdicloud.com/client/1/facility/1/cpt'\n",
    "geturl = 'https://stgcptcscontrollerservice.ezdicloud.com/client/1/facility/1/cpt?token={t}'\n",
    "textFolder = \"/home/vedantmodi/Downloads/testingforekgworktype/93308-rejected/\"\n",
    "subFolders = listdir(textFolder)\n",
    "print(subFolders)"
   ]
  },
  {
   "cell_type": "code",
   "execution_count": 2,
   "id": "31ff56e8",
   "metadata": {},
   "outputs": [],
   "source": [
    "def send_request(url,reqJson,pcs):  \n",
    "    payload = open(reqJson, 'rb')\n",
    "    files = {\n",
    "        'metadata': (None, payload, 'application/json'),\n",
    "        'pcsXmlFile': (os.path.basename(pcs), open(pcs, 'rb'))\n",
    "    }\n",
    "\n",
    "    postResponse = requests.post(url, files=files)\n",
    "    postJson = json.loads(postResponse.text)\n",
    "    print(postJson[\"token\"])\n",
    "    return postJson[\"token\"]"
   ]
  },
  {
   "cell_type": "code",
   "execution_count": 3,
   "id": "cc9e6ab4",
   "metadata": {},
   "outputs": [],
   "source": [
    "def get_response(url,token):  \n",
    "#     token='63c3e32d-3fb5-42e5-a59c-4ed49f64cd36'        \n",
    "    getResponse = requests.get(url.format(t=token))\n",
    "    \n",
    "    getJson = json.loads(getResponse.text)\n",
    "    \n",
    "#     print(getJson)\n",
    "#     json_object[\"result\"][\"cptCodes\"]\n",
    "    codeList=[]\n",
    "    for codeVal in getJson[\"result\"][\"cptCodes\"]: \n",
    "        codeList.append(codeVal[\"value\"])\n",
    "        \n",
    "#     uncomment below lines for getting results of hcpcs code\n",
    "#     for codeVal in getJson[\"result\"][\"hcpcsCodes\"]: \n",
    "#         codeList.append(codeVal[\"value\"])\n",
    "#     print(\"Get response: {} \\n\".format(codeList))\n",
    "    return codeList"
   ]
  },
  {
   "cell_type": "code",
   "execution_count": 15,
   "id": "2dabfcf0",
   "metadata": {
    "scrolled": true
   },
   "outputs": [
    {
     "name": "stdout",
     "output_type": "stream",
     "text": [
      "Account: folder2\n",
      "f84059d3-0c47-41a3-b3c6-d51441429a9c\n",
      "Trying again in 5 Sec\n",
      "['93010']\n",
      "Account: folder3\n",
      "57d2ff38-ff60-4935-9f30-b5c6e861c11d\n",
      "['93010']\n",
      "Account: folder1\n",
      "3ffebca5-a966-4ce4-b5f9-1e5300a2e88d\n",
      "['93010']\n"
     ]
    }
   ],
   "source": [
    "for subFolder in subFolders:\n",
    "    reqJsonName=\"\"\n",
    "    pcsName=\"\"\n",
    "    filePath = textFolder + subFolder + \"/\"\n",
    "#     print(filePath, subFolder, listdir(filePath))\n",
    "    print(\"Account: {}\".format(subFolder))\n",
    "    for requestFile in listdir(filePath):\n",
    "\n",
    "        if \"request.json\" in requestFile:\n",
    "            reqJsonName = requestFile\n",
    "        if \".xml\" in requestFile:\n",
    "            pcsName = requestFile\n",
    "            \n",
    "    reqJsonPath = filePath + reqJsonName\n",
    "#     print(reqJsonPath)\n",
    "    pcsPath = filePath + pcsName\n",
    "#     print(pcsPath)\n",
    "    if not os.path.exists(reqJsonPath) and not os.path.exists(pcsPath):\n",
    "        continue\n",
    "    token=send_request(posturl,reqJsonPath,pcsPath)\n",
    "    \n",
    "    while True:\n",
    "        time.sleep(5) # 5 second delay\n",
    "        try:\n",
    "            code =get_response(geturl,token)\n",
    "            break\n",
    "        except:\n",
    "            print (\"Trying again in 5 Sec\")\n",
    "    \n",
    "#     code =get_response(token)\n",
    "    \n",
    "    print(code)"
   ]
  },
  {
   "cell_type": "code",
   "execution_count": 13,
   "id": "7f4a3a49",
   "metadata": {},
   "outputs": [],
   "source": [
    "# c=get_response(geturl,\"fc3dcffc-6654-4f95-ab70-c06209e104b8\")"
   ]
  },
  {
   "cell_type": "code",
   "execution_count": 14,
   "id": "26306ea3",
   "metadata": {},
   "outputs": [
    {
     "data": {
      "text/plain": [
       "['3008F']"
      ]
     },
     "execution_count": 14,
     "metadata": {},
     "output_type": "execute_result"
    }
   ],
   "source": [
    "# c"
   ]
  },
  {
   "cell_type": "code",
   "execution_count": null,
   "id": "7feed85b",
   "metadata": {},
   "outputs": [],
   "source": []
  }
 ],
 "metadata": {
  "kernelspec": {
   "display_name": "Python 3 (ipykernel)",
   "language": "python",
   "name": "python3"
  },
  "language_info": {
   "codemirror_mode": {
    "name": "ipython",
    "version": 3
   },
   "file_extension": ".py",
   "mimetype": "text/x-python",
   "name": "python",
   "nbconvert_exporter": "python",
   "pygments_lexer": "ipython3",
   "version": "3.9.12"
  }
 },
 "nbformat": 4,
 "nbformat_minor": 5
}
