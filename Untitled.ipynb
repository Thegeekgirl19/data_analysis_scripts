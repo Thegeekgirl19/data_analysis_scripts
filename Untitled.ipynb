{
 "cells": [
  {
   "cell_type": "code",
   "execution_count": 1,
   "id": "784cefd8-6fa5-4fd2-b98f-488d04d0355f",
   "metadata": {},
   "outputs": [],
   "source": [
    "import os"
   ]
  },
  {
   "cell_type": "code",
   "execution_count": 4,
   "id": "23368e2b-4056-44d8-b588-d6c2a368aaf4",
   "metadata": {},
   "outputs": [],
   "source": [
    "dir_path = r'/home/trishalaswain/Documents/analysis/data/PH_March_PCSFiles/PH-TMC/TMC/'"
   ]
  },
  {
   "cell_type": "code",
   "execution_count": 5,
   "id": "d7e64540-c1c2-4d85-b4f4-e4e6feeac204",
   "metadata": {},
   "outputs": [],
   "source": []
  },
  {
   "cell_type": "code",
   "execution_count": 22,
   "id": "b2f36ed3-ab7a-4206-be82-d793873783ee",
   "metadata": {},
   "outputs": [
    {
     "name": "stdout",
     "output_type": "stream",
     "text": [
      "/home/trishalaswain/Documents/analysis/data/PH_March_PCSFiles/PH-TMC/TMC/7190201\n"
     ]
    }
   ],
   "source": []
  },
  {
   "cell_type": "code",
   "execution_count": null,
   "id": "c3073947-12c8-4214-8feb-8cf3a0186983",
   "metadata": {},
   "outputs": [],
   "source": []
  }
 ],
 "metadata": {
  "kernelspec": {
   "display_name": "Python 3 (ipykernel)",
   "language": "python",
   "name": "python3"
  },
  "language_info": {
   "codemirror_mode": {
    "name": "ipython",
    "version": 3
   },
   "file_extension": ".py",
   "mimetype": "text/x-python",
   "name": "python",
   "nbconvert_exporter": "python",
   "pygments_lexer": "ipython3",
   "version": "3.9.12"
  }
 },
 "nbformat": 4,
 "nbformat_minor": 5
}
