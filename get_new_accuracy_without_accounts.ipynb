{
 "cells": [
  {
   "cell_type": "code",
   "execution_count": null,
   "metadata": {},
   "outputs": [],
   "source": [
    "import pandas as pd\n",
    "from sqlalchemy import create_engine, text\n",
    "import pymysql\n",
    "import re\n",
    "import time\n",
    "from datetime import datetime\n",
    "import os\n",
    "import logging\n",
    "import sshtunnel\n",
    "from sshtunnel import SSHTunnelForwarder\n",
    "import paramiko\n",
    "\n",
    "\n",
    "user_name='trishala/'\n",
    "\n",
    "ssh_host = '10.120.1.50'\n",
    "ssh_username = 'research-user'\n",
    "localhost = '127.0.0.1'\n",
    "\n",
    "# prod\n",
    "ezcapc_user = 'read_only'\n",
    "ezcapc_pwd = 'WHC63fKyjudfSz2U'\n",
    "ezcapc_host = 'ezcapc-webdb-production-readrep.cncmk5ndlbjo.us-east-1.rds.amazonaws.com'\n",
    "ezcapc_db_name = 'CAPC_APIGATEWAY'\n",
    "env='production'\n",
    "paas_user = 'read_only'\n",
    "paas_pwd = 'eUN2cORh1sCRG998'\n",
    "paas_host = 'paas-production-readrep.cncmk5ndlbjo.us-east-1.rds.amazonaws.com'\n",
    "paas_db_name = 'FACILITY_SERVICE'\n",
    "\n",
    "# # stag\n",
    "# ezcapc_user = 'read_only'\n",
    "# ezcapc_pwd = '3j4A3PaQc8BV050R'\n",
    "# ezcapc_host = 'ezcapc-staging.cncmk5ndlbjo.us-east-1.rds.amazonaws.com'\n",
    "# ezcapc_db_name = 'CAPC_APIGATEWAY'\n",
    "# env='staging'\n",
    "# paas_user = 'read_only'\n",
    "# paas_pwd = 's9a843QvgkPje5SD'\n",
    "# paas_host = 'paas-staging.cncmk5ndlbjo.us-east-1.rds.amazonaws.com'\n",
    "# paas_db_name = 'METADATA_SERVICE'\n",
    "\n",
    "\n",
    "\n",
    "# ezcapc_db_connection_str = 'mysql+pymysql://{}:{}@{}/{}'.format(ezcapc_user,ezcapc_pwd,ezcapc_host,ezcapc_db_name)\n",
    "# ezcapc_db_connection = create_engine(ezcapc_db_connection_str)\n",
    "\n",
    "# paas_db_connection_str = 'mysql+pymysql://{}:{}@{}'.format(paas_user,paas_pwd,paas_host)\n",
    "# paas_db_connection = create_engine(paas_db_connection_str)"
   ]
  },
  {
   "cell_type": "code",
   "execution_count": null,
   "metadata": {},
   "outputs": [],
   "source": [
    "def open_ssh_tunnel(verbose=False):\n",
    "    if verbose:\n",
    "        sshtunnel.DEFAULT_LOGLEVEL = logging.DEBUG\n",
    "    \n",
    "    global ezcapc_tunnel\n",
    "    global paas_tunnel\n",
    "    ezcapc_tunnel = SSHTunnelForwarder(\n",
    "        (ssh_host, 22),\n",
    "        ssh_username = ssh_username,\n",
    "        ssh_pkey='/home/trishalaswain/pem/research_user.pem',\n",
    "        remote_bind_address = (ezcapc_host, 3306)\n",
    "    )\n",
    "    paas_tunnel = SSHTunnelForwarder(\n",
    "        (ssh_host, 22),\n",
    "        ssh_username = ssh_username,\n",
    "        ssh_pkey='/home/trishalaswain/pem/research_user.pem',\n",
    "        remote_bind_address = (paas_host, 3306)\n",
    "    )\n",
    "    ezcapc_tunnel.start()\n",
    "    paas_tunnel.start()\n",
    "    print(ezcapc_tunnel.is_active)\n",
    "    print(paas_tunnel.is_active)"
   ]
  },
  {
   "cell_type": "code",
   "execution_count": null,
   "metadata": {},
   "outputs": [],
   "source": [
    "def mysql_connect():\n",
    "    global ezcapc_connection\n",
    "    global paas_connection\n",
    "    ezcapc_connection = pymysql.connect(\n",
    "        host=localhost,\n",
    "        user=ezcapc_user,\n",
    "        passwd=ezcapc_pwd,\n",
    "        database=ezcapc_db_name,\n",
    "        port=ezcapc_tunnel.local_bind_port\n",
    "    )\n",
    "\n",
    "    paas_connection = pymysql.connect(\n",
    "        host=localhost,\n",
    "        user=paas_user,\n",
    "        passwd=paas_pwd,\n",
    "        database=paas_db_name,\n",
    "        port=paas_tunnel.local_bind_port\n",
    "    )"
   ]
  },
  {
   "cell_type": "code",
   "execution_count": null,
   "metadata": {},
   "outputs": [],
   "source": [
    "open_ssh_tunnel()\n",
    "mysql_connect()"
   ]
  },
  {
   "cell_type": "code",
   "execution_count": null,
   "metadata": {},
   "outputs": [],
   "source": [
    "# please change esm.last_coding_date & am.facility_id = '314' in the query as per requirement\n",
    "# am.facility_id is prod_id from go-live sheet\n",
    "query = '''\n",
    "SELECT \n",
    "    am.account_number,\n",
    "    dpd.nlp_request_s3_path,\n",
    "    dpd.nlp_ner_entities_result_s3_path,\n",
    "    am.facility_id,\n",
    "    dm.service_date,\n",
    "    dpd.nlp_pcs_xml_result_s3_path,\n",
    "    dpd.preprocessing_request_s3_path,\n",
    "    dpd.preprocessing_result_s3_path,\n",
    "    dm.orignal_path,\n",
    "    dm.type_id,\n",
    "    dpd.created_date,\n",
    "    dpd.ocr_request_s3_path,\n",
    "    dpd.ocr_result_s3_path,\n",
    "    dpd.eandmcs_request_s3_path,\n",
    "    dpd.eandmcs_result_s3_path,\n",
    "    dpd.ruleengine_request_s3_path,\n",
    "    dpd.cptcs_request_s3_path,\n",
    "    dpd.cptcs_result_s3_path,\n",
    "    dm.account_id,\n",
    "    em.id as encounter_id,\n",
    "    dc.code AS suggested_code,\n",
    "    dpd.id AS DPD_ID,\n",
    "    dm.path as filePath,\n",
    "    eandm.code AS final_code,\n",
    "    CONVERT_TZ(em.service_date, 'UTC', 'US/Central') AS service_date,\n",
    "    GROUP_CONCAT(DISTINCT eandm.code) AS final,\n",
    "    GROUP_CONCAT(DISTINCT dc.code) AS suggested,\n",
    "    -- am.account_number AS account_number,\n",
    "    facility_id,\n",
    "    client_id\n",
    "FROM\n",
    "    account_mst am\n",
    "        INNER JOIN\n",
    "    document_mst dm ON dm.account_id = am.id\n",
    "        AND dm.is_physician_document = 1\n",
    "        AND dm.is_active = 1\n",
    "        INNER JOIN\n",
    "    document_processing_detail dpd ON dpd.document_id = dm.id\n",
    "        INNER JOIN\n",
    "    document_code dc ON dc.document_id = dm.id\n",
    "        AND dc.is_active = 1\n",
    "        AND dc.code_category = 'EANDM'\n",
    "        INNER JOIN\n",
    "    encounter_mst em ON em.account_id = dm.account_id\n",
    "        AND em.service_date = dm.service_date\n",
    "        AND em.physician_id = dm.physician_id\n",
    "        AND em.is_active = 1\n",
    "        INNER JOIN\n",
    "    encounter_status_map esm ON esm.encounter_id = em.id\n",
    "        AND esm.is_active = 1\n",
    "        AND esm.encounter_status_id IN (9 , 17)\n",
    "        INNER JOIN\n",
    "    eandm_code eandm ON eandm.encounter_id = em.id\n",
    "        AND eandm.process_id = esm.process_id\n",
    "        AND eandm.user_id = esm.user_id\n",
    "        AND eandm.is_active = 1\n",
    "\t\n",
    "WHERE\n",
    "dpd.id = (SELECT \n",
    "            id\n",
    "        FROM\n",
    "            document_processing_detail\n",
    "        WHERE\n",
    "            document_id = dm.id\n",
    "        ORDER BY created_date DESC\n",
    "        LIMIT 1)\n",
    "        AND am.facility_id = '250'\n",
    "        AND am.client_id = '15'\n",
    "        AND esm.id = (SELECT \n",
    "            id\n",
    "        FROM\n",
    "            encounter_status_map\n",
    "        WHERE\n",
    "            encounter_id = em.id\n",
    "                AND encounter_status_id IN (9 , 17)\n",
    "        ORDER BY last_coding_date DESC\n",
    "        LIMIT 1)\n",
    "        AND am.is_active = 1\n",
    "        AND CONVERT_TZ(esm.last_coding_date,\n",
    "            'UTC',\n",
    "            'US/Central') >= '2023-08-27'\n",
    "\n",
    "GROUP BY am.account_number , em.physician_id , em.service_date , dm.id\n",
    "'''\n",
    "        # AND CONVERT_TZ(em.service_date,\n",
    "        #     'UTC',\n",
    "        #     'US/Central') > '2023-03-15'\n",
    "        \n",
    "        #     -- am.account_number = 8594135\n",
    "        \n",
    "            #     AND CONVERT_TZ(em.service_date,\n",
    "            # 'UTC',\n",
    "            # 'US/Central') > '2023-07-01'"
   ]
  },
  {
   "cell_type": "code",
   "execution_count": null,
   "metadata": {},
   "outputs": [],
   "source": [
    "df = pd.read_sql(query, con=ezcapc_connection)"
   ]
  },
  {
   "cell_type": "code",
   "execution_count": null,
   "metadata": {},
   "outputs": [],
   "source": [
    "df"
   ]
  },
  {
   "cell_type": "code",
   "execution_count": null,
   "metadata": {},
   "outputs": [],
   "source": [
    "df = df[['service_date', 'account_number', 'suggested', 'final']]"
   ]
  },
  {
   "cell_type": "code",
   "execution_count": null,
   "metadata": {},
   "outputs": [],
   "source": [
    "df.final.value_counts()"
   ]
  },
  {
   "cell_type": "code",
   "execution_count": null,
   "metadata": {},
   "outputs": [],
   "source": [
    "# df.to_excel('/home/trishalaswain/Documents/AGS_PROJECTS/OCR_SERVICE/neighbourhood_testing/ACCURACY_MONITORING/493937_BILLED.xlsx', index=False)"
   ]
  },
  {
   "cell_type": "code",
   "execution_count": null,
   "metadata": {},
   "outputs": [],
   "source": [
    "df[df.final.str.contains('99281,99283,99284')]"
   ]
  },
  {
   "cell_type": "code",
   "execution_count": null,
   "metadata": {},
   "outputs": [],
   "source": [
    "# check for nan in final and suggested columns"
   ]
  },
  {
   "cell_type": "code",
   "execution_count": null,
   "metadata": {},
   "outputs": [],
   "source": [
    "df = df[~df.final.str.contains(',')]"
   ]
  },
  {
   "cell_type": "code",
   "execution_count": null,
   "metadata": {},
   "outputs": [],
   "source": [
    "def get_counts(x):\n",
    "    \n",
    "    suggested = str(x['suggested'])\n",
    "    final = str(x['final'])\n",
    "    \n",
    "    suggested_set = set(suggested.split(','))   \n",
    "    final_set = set(final.split(','))\n",
    "    \n",
    "    accepted = len(suggested_set.intersection(final_set))\n",
    "    rejected = len(suggested_set - final_set)\n",
    "    added = len(final_set - suggested_set)\n",
    "    if (rejected >= 1 or added >= 1):\n",
    "        print('rejected',rejected)\n",
    "        print('added',added)\n",
    "        print('suggested_set',suggested_set,'\\t final_set',final_set)\n",
    "        print('accountNumber', str(x['account_number']))\n",
    "            \n",
    "    return pd.Series({'accepted':accepted, 'rejected':rejected, 'added':added})"
   ]
  },
  {
   "cell_type": "code",
   "execution_count": null,
   "metadata": {},
   "outputs": [],
   "source": [
    "count_df =  df.apply(get_counts, axis=1)"
   ]
  },
  {
   "cell_type": "code",
   "execution_count": null,
   "metadata": {},
   "outputs": [],
   "source": [
    "count_df"
   ]
  },
  {
   "cell_type": "code",
   "execution_count": null,
   "metadata": {},
   "outputs": [],
   "source": [
    "count_df.accepted.sum(), count_df.rejected.sum(), count_df.added.sum()"
   ]
  },
  {
   "cell_type": "code",
   "execution_count": null,
   "metadata": {},
   "outputs": [],
   "source": [
    "precision = count_df.accepted.sum() / (count_df.accepted.sum() + count_df.rejected.sum())"
   ]
  },
  {
   "cell_type": "code",
   "execution_count": null,
   "metadata": {},
   "outputs": [],
   "source": [
    "recall = count_df.accepted.sum() / (count_df.accepted.sum() + count_df.added.sum())"
   ]
  },
  {
   "cell_type": "code",
   "execution_count": null,
   "metadata": {},
   "outputs": [],
   "source": [
    "f1_score = (2 * precision * recall) / (recall + precision)"
   ]
  },
  {
   "cell_type": "code",
   "execution_count": null,
   "metadata": {},
   "outputs": [],
   "source": [
    "precision, recall, f1_score"
   ]
  },
  {
   "cell_type": "code",
   "execution_count": null,
   "metadata": {},
   "outputs": [],
   "source": []
  },
  {
   "cell_type": "code",
   "execution_count": null,
   "metadata": {},
   "outputs": [],
   "source": []
  },
  {
   "cell_type": "code",
   "execution_count": null,
   "metadata": {},
   "outputs": [],
   "source": []
  },
  {
   "cell_type": "code",
   "execution_count": null,
   "metadata": {},
   "outputs": [],
   "source": []
  }
 ],
 "metadata": {
  "kernelspec": {
   "display_name": "base",
   "language": "python",
   "name": "python3"
  },
  "language_info": {
   "codemirror_mode": {
    "name": "ipython",
    "version": 3
   },
   "file_extension": ".py",
   "mimetype": "text/x-python",
   "name": "python",
   "nbconvert_exporter": "python",
   "pygments_lexer": "ipython3",
   "version": "3.9.12"
  },
  "orig_nbformat": 4
 },
 "nbformat": 4,
 "nbformat_minor": 2
}
