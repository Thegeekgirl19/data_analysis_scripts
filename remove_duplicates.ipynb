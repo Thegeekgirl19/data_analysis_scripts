{
 "cells": [
  {
   "cell_type": "code",
   "execution_count": 4,
   "metadata": {},
   "outputs": [],
   "source": [
    "import pandas as pd"
   ]
  },
  {
   "cell_type": "code",
   "execution_count": 5,
   "metadata": {},
   "outputs": [],
   "source": [
    "df = pd.read_excel('/home/trishalaswain/Documents/final_join.xlsx', index_col=False)"
   ]
  },
  {
   "cell_type": "code",
   "execution_count": 6,
   "metadata": {},
   "outputs": [
    {
     "data": {
      "text/html": [
       "<div>\n",
       "<style scoped>\n",
       "    .dataframe tbody tr th:only-of-type {\n",
       "        vertical-align: middle;\n",
       "    }\n",
       "\n",
       "    .dataframe tbody tr th {\n",
       "        vertical-align: top;\n",
       "    }\n",
       "\n",
       "    .dataframe thead th {\n",
       "        text-align: right;\n",
       "    }\n",
       "</style>\n",
       "<table border=\"1\" class=\"dataframe\">\n",
       "  <thead>\n",
       "    <tr style=\"text-align: right;\">\n",
       "      <th></th>\n",
       "      <th>accountNumber</th>\n",
       "      <th>EANDM_Final</th>\n",
       "    </tr>\n",
       "  </thead>\n",
       "  <tbody>\n",
       "    <tr>\n",
       "      <th>0</th>\n",
       "      <td>350950273</td>\n",
       "      <td>NaN</td>\n",
       "    </tr>\n",
       "    <tr>\n",
       "      <th>1</th>\n",
       "      <td>350935621</td>\n",
       "      <td>99238</td>\n",
       "    </tr>\n",
       "    <tr>\n",
       "      <th>2</th>\n",
       "      <td>350950094</td>\n",
       "      <td>99284</td>\n",
       "    </tr>\n",
       "    <tr>\n",
       "      <th>3</th>\n",
       "      <td>350950159</td>\n",
       "      <td>NaN</td>\n",
       "    </tr>\n",
       "    <tr>\n",
       "      <th>4</th>\n",
       "      <td>350950099</td>\n",
       "      <td>99284</td>\n",
       "    </tr>\n",
       "    <tr>\n",
       "      <th>...</th>\n",
       "      <td>...</td>\n",
       "      <td>...</td>\n",
       "    </tr>\n",
       "    <tr>\n",
       "      <th>3143</th>\n",
       "      <td>350952941</td>\n",
       "      <td>99285</td>\n",
       "    </tr>\n",
       "    <tr>\n",
       "      <th>3144</th>\n",
       "      <td>350944849</td>\n",
       "      <td>99285</td>\n",
       "    </tr>\n",
       "    <tr>\n",
       "      <th>3145</th>\n",
       "      <td>350950392</td>\n",
       "      <td>99282</td>\n",
       "    </tr>\n",
       "    <tr>\n",
       "      <th>3146</th>\n",
       "      <td>350949299</td>\n",
       "      <td>99283</td>\n",
       "    </tr>\n",
       "    <tr>\n",
       "      <th>3147</th>\n",
       "      <td>350947818</td>\n",
       "      <td>99285</td>\n",
       "    </tr>\n",
       "  </tbody>\n",
       "</table>\n",
       "<p>3148 rows × 2 columns</p>\n",
       "</div>"
      ],
      "text/plain": [
       "      accountNumber EANDM_Final\n",
       "0         350950273         NaN\n",
       "1         350935621       99238\n",
       "2         350950094       99284\n",
       "3         350950159         NaN\n",
       "4         350950099       99284\n",
       "...             ...         ...\n",
       "3143      350952941       99285\n",
       "3144      350944849       99285\n",
       "3145      350950392       99282\n",
       "3146      350949299       99283\n",
       "3147      350947818       99285\n",
       "\n",
       "[3148 rows x 2 columns]"
      ]
     },
     "execution_count": 6,
     "metadata": {},
     "output_type": "execute_result"
    }
   ],
   "source": [
    "df"
   ]
  },
  {
   "cell_type": "code",
   "execution_count": 7,
   "metadata": {},
   "outputs": [
    {
     "name": "stderr",
     "output_type": "stream",
     "text": [
      "/tmp/ipykernel_51534/1288796313.py:1: UserWarning: Pandas doesn't allow columns to be created via a new attribute name - see https://pandas.pydata.org/pandas-docs/stable/indexing.html#attribute-access\n",
      "  df.sheet_accounts = df.accountNumber.astype('str')\n"
     ]
    }
   ],
   "source": [
    "df.sheet_accounts = df.accountNumber.astype('str')\n",
    "df.EANDM_Final = df.EANDM_Final.astype('str')"
   ]
  },
  {
   "cell_type": "code",
   "execution_count": 8,
   "metadata": {},
   "outputs": [],
   "source": [
    "df1 = df.groupby(['accountNumber'], axis=0).agg(', '.join)"
   ]
  },
  {
   "cell_type": "code",
   "execution_count": 9,
   "metadata": {},
   "outputs": [
    {
     "data": {
      "text/html": [
       "<div>\n",
       "<style scoped>\n",
       "    .dataframe tbody tr th:only-of-type {\n",
       "        vertical-align: middle;\n",
       "    }\n",
       "\n",
       "    .dataframe tbody tr th {\n",
       "        vertical-align: top;\n",
       "    }\n",
       "\n",
       "    .dataframe thead th {\n",
       "        text-align: right;\n",
       "    }\n",
       "</style>\n",
       "<table border=\"1\" class=\"dataframe\">\n",
       "  <thead>\n",
       "    <tr style=\"text-align: right;\">\n",
       "      <th></th>\n",
       "      <th>EANDM_Final</th>\n",
       "    </tr>\n",
       "    <tr>\n",
       "      <th>accountNumber</th>\n",
       "      <th></th>\n",
       "    </tr>\n",
       "  </thead>\n",
       "  <tbody>\n",
       "    <tr>\n",
       "      <th>200009347</th>\n",
       "      <td>99284</td>\n",
       "    </tr>\n",
       "    <tr>\n",
       "      <th>200009352</th>\n",
       "      <td>99285</td>\n",
       "    </tr>\n",
       "    <tr>\n",
       "      <th>200009353</th>\n",
       "      <td>99284</td>\n",
       "    </tr>\n",
       "    <tr>\n",
       "      <th>350881436</th>\n",
       "      <td>99284</td>\n",
       "    </tr>\n",
       "    <tr>\n",
       "      <th>350882144</th>\n",
       "      <td>99284</td>\n",
       "    </tr>\n",
       "    <tr>\n",
       "      <th>...</th>\n",
       "      <td>...</td>\n",
       "    </tr>\n",
       "    <tr>\n",
       "      <th>350955531</th>\n",
       "      <td>99223, nan</td>\n",
       "    </tr>\n",
       "    <tr>\n",
       "      <th>350955533</th>\n",
       "      <td>99284, 99222</td>\n",
       "    </tr>\n",
       "    <tr>\n",
       "      <th>350955539</th>\n",
       "      <td>99285</td>\n",
       "    </tr>\n",
       "    <tr>\n",
       "      <th>350955540</th>\n",
       "      <td>99284</td>\n",
       "    </tr>\n",
       "    <tr>\n",
       "      <th>350956067</th>\n",
       "      <td>99291</td>\n",
       "    </tr>\n",
       "  </tbody>\n",
       "</table>\n",
       "<p>3041 rows × 1 columns</p>\n",
       "</div>"
      ],
      "text/plain": [
       "                EANDM_Final\n",
       "accountNumber              \n",
       "200009347             99284\n",
       "200009352             99285\n",
       "200009353             99284\n",
       "350881436             99284\n",
       "350882144             99284\n",
       "...                     ...\n",
       "350955531        99223, nan\n",
       "350955533      99284, 99222\n",
       "350955539             99285\n",
       "350955540             99284\n",
       "350956067             99291\n",
       "\n",
       "[3041 rows x 1 columns]"
      ]
     },
     "execution_count": 9,
     "metadata": {},
     "output_type": "execute_result"
    }
   ],
   "source": [
    "df1"
   ]
  },
  {
   "cell_type": "code",
   "execution_count": 10,
   "metadata": {},
   "outputs": [],
   "source": [
    "df1.to_excel('/home/trishalaswain/Documents/test.xlsx')"
   ]
  },
  {
   "cell_type": "code",
   "execution_count": null,
   "metadata": {},
   "outputs": [],
   "source": []
  }
 ],
 "metadata": {
  "kernelspec": {
   "display_name": "base",
   "language": "python",
   "name": "python3"
  },
  "language_info": {
   "codemirror_mode": {
    "name": "ipython",
    "version": 3
   },
   "file_extension": ".py",
   "mimetype": "text/x-python",
   "name": "python",
   "nbconvert_exporter": "python",
   "pygments_lexer": "ipython3",
   "version": "3.9.12"
  },
  "orig_nbformat": 4
 },
 "nbformat": 4,
 "nbformat_minor": 2
}
