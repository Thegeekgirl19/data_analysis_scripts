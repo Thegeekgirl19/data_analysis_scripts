{
 "cells": [
  {
   "cell_type": "code",
   "execution_count": 1,
   "metadata": {},
   "outputs": [],
   "source": [
    "import pandas as pd"
   ]
  },
  {
   "cell_type": "code",
   "execution_count": 2,
   "metadata": {},
   "outputs": [],
   "source": [
    "df = pd.read_csv('/home/trishalaswain/Downloads/SCP_1240/SCP_1240_DATA.xlsx', sep='\\t')"
   ]
  },
  {
   "cell_type": "code",
   "execution_count": 3,
   "metadata": {},
   "outputs": [
    {
     "data": {
      "text/html": [
       "<div>\n",
       "<style scoped>\n",
       "    .dataframe tbody tr th:only-of-type {\n",
       "        vertical-align: middle;\n",
       "    }\n",
       "\n",
       "    .dataframe tbody tr th {\n",
       "        vertical-align: top;\n",
       "    }\n",
       "\n",
       "    .dataframe thead th {\n",
       "        text-align: right;\n",
       "    }\n",
       "</style>\n",
       "<table border=\"1\" class=\"dataframe\">\n",
       "  <thead>\n",
       "    <tr style=\"text-align: right;\">\n",
       "      <th></th>\n",
       "      <th>dpd_id</th>\n",
       "      <th>account_number</th>\n",
       "      <th>DIAGNOSTIC_PROCEDURE_SENTENCES</th>\n",
       "      <th>COURSE_SENTENCES</th>\n",
       "      <th>Unnamed: 4</th>\n",
       "      <th>Unnamed: 5</th>\n",
       "      <th>Unnamed: 6</th>\n",
       "    </tr>\n",
       "  </thead>\n",
       "  <tbody>\n",
       "    <tr>\n",
       "      <th>0</th>\n",
       "      <td>10554608</td>\n",
       "      <td>88930867</td>\n",
       "      <td>Results for orders placed or performed during ...</td>\n",
       "      <td>ED CourseProceduresProblem List as of 5/25/202...</td>\n",
       "      <td>NaN</td>\n",
       "      <td>NaN</td>\n",
       "      <td>NaN</td>\n",
       "    </tr>\n",
       "    <tr>\n",
       "      <th>1</th>\n",
       "      <td>10391161</td>\n",
       "      <td>89297481</td>\n",
       "      <td>Results for orders placed or performed during ...</td>\n",
       "      <td>External Documents Reviewed: None / See ED Cou...</td>\n",
       "      <td>NaN</td>\n",
       "      <td>NaN</td>\n",
       "      <td>NaN</td>\n",
       "    </tr>\n",
       "    <tr>\n",
       "      <th>2</th>\n",
       "      <td>10755429</td>\n",
       "      <td>88854484</td>\n",
       "      <td>Imaging ResultsNoneVital Signs:Patient Vitals ...</td>\n",
       "      <td>Additional Historians: None / See ED CourseExt...</td>\n",
       "      <td>NaN</td>\n",
       "      <td>NaN</td>\n",
       "      <td>NaN</td>\n",
       "    </tr>\n",
       "    <tr>\n",
       "      <th>3</th>\n",
       "      <td>11161304</td>\n",
       "      <td>89651846</td>\n",
       "      <td>Results for orders placed or performed during ...</td>\n",
       "      <td>Please see my notable chief complaint, history...</td>\n",
       "      <td>NaN</td>\n",
       "      <td>NaN</td>\n",
       "      <td>NaN</td>\n",
       "    </tr>\n",
       "    <tr>\n",
       "      <th>4</th>\n",
       "      <td>10385982</td>\n",
       "      <td>89297396</td>\n",
       "      <td>Imaging ResultsNoneVital Signs:Patient Vitals ...</td>\n",
       "      <td>Please see my notable chief complaint, history...</td>\n",
       "      <td>NaN</td>\n",
       "      <td>NaN</td>\n",
       "      <td>NaN</td>\n",
       "    </tr>\n",
       "    <tr>\n",
       "      <th>...</th>\n",
       "      <td>...</td>\n",
       "      <td>...</td>\n",
       "      <td>...</td>\n",
       "      <td>...</td>\n",
       "      <td>...</td>\n",
       "      <td>...</td>\n",
       "      <td>...</td>\n",
       "    </tr>\n",
       "    <tr>\n",
       "      <th>4542</th>\n",
       "      <td>10490839</td>\n",
       "      <td>89313568</td>\n",
       "      <td>Imaging ResultsXR Ankle Complete min 3 views, ...</td>\n",
       "      <td>Additional Historians: None / See ED CourseExt...</td>\n",
       "      <td>NaN</td>\n",
       "      <td>NaN</td>\n",
       "      <td>NaN</td>\n",
       "    </tr>\n",
       "    <tr>\n",
       "      <th>4543</th>\n",
       "      <td>10597701</td>\n",
       "      <td>89389088</td>\n",
       "      <td>Labs ReviewedROUTINE CULTURE URINECBC WITH DIF...</td>\n",
       "      <td>ED CourseGlasgow Coma ScaleEye Opening: Sponta...</td>\n",
       "      <td>NaN</td>\n",
       "      <td>NaN</td>\n",
       "      <td>NaN</td>\n",
       "    </tr>\n",
       "    <tr>\n",
       "      <th>4544</th>\n",
       "      <td>10210588</td>\n",
       "      <td>89203884</td>\n",
       "      <td>Results for orders placed or performed during ...</td>\n",
       "      <td>ED CourseED Course as of 06/20/23 1729Sun Jun ...</td>\n",
       "      <td>NaN</td>\n",
       "      <td>NaN</td>\n",
       "      <td>NaN</td>\n",
       "    </tr>\n",
       "    <tr>\n",
       "      <th>4545</th>\n",
       "      <td>10755621</td>\n",
       "      <td>88930865</td>\n",
       "      <td>Imaging ResultsCT Chest Without IV Contrast (P...</td>\n",
       "      <td>Additional Historians: None / See ED CourseExt...</td>\n",
       "      <td>NaN</td>\n",
       "      <td>NaN</td>\n",
       "      <td>NaN</td>\n",
       "    </tr>\n",
       "    <tr>\n",
       "      <th>4546</th>\n",
       "      <td>10755504</td>\n",
       "      <td>88835914</td>\n",
       "      <td>Imaging ResultsXR Chest PA &amp; Lateral (Final re...</td>\n",
       "      <td>Additional Historians: None / See ED CourseExt...</td>\n",
       "      <td>NaN</td>\n",
       "      <td>NaN</td>\n",
       "      <td>NaN</td>\n",
       "    </tr>\n",
       "  </tbody>\n",
       "</table>\n",
       "<p>4547 rows × 7 columns</p>\n",
       "</div>"
      ],
      "text/plain": [
       "        dpd_id  account_number  \\\n",
       "0     10554608        88930867   \n",
       "1     10391161        89297481   \n",
       "2     10755429        88854484   \n",
       "3     11161304        89651846   \n",
       "4     10385982        89297396   \n",
       "...        ...             ...   \n",
       "4542  10490839        89313568   \n",
       "4543  10597701        89389088   \n",
       "4544  10210588        89203884   \n",
       "4545  10755621        88930865   \n",
       "4546  10755504        88835914   \n",
       "\n",
       "                         DIAGNOSTIC_PROCEDURE_SENTENCES  \\\n",
       "0     Results for orders placed or performed during ...   \n",
       "1     Results for orders placed or performed during ...   \n",
       "2     Imaging ResultsNoneVital Signs:Patient Vitals ...   \n",
       "3     Results for orders placed or performed during ...   \n",
       "4     Imaging ResultsNoneVital Signs:Patient Vitals ...   \n",
       "...                                                 ...   \n",
       "4542  Imaging ResultsXR Ankle Complete min 3 views, ...   \n",
       "4543  Labs ReviewedROUTINE CULTURE URINECBC WITH DIF...   \n",
       "4544  Results for orders placed or performed during ...   \n",
       "4545  Imaging ResultsCT Chest Without IV Contrast (P...   \n",
       "4546  Imaging ResultsXR Chest PA & Lateral (Final re...   \n",
       "\n",
       "                                       COURSE_SENTENCES  Unnamed: 4  \\\n",
       "0     ED CourseProceduresProblem List as of 5/25/202...         NaN   \n",
       "1     External Documents Reviewed: None / See ED Cou...         NaN   \n",
       "2     Additional Historians: None / See ED CourseExt...         NaN   \n",
       "3     Please see my notable chief complaint, history...         NaN   \n",
       "4     Please see my notable chief complaint, history...         NaN   \n",
       "...                                                 ...         ...   \n",
       "4542  Additional Historians: None / See ED CourseExt...         NaN   \n",
       "4543  ED CourseGlasgow Coma ScaleEye Opening: Sponta...         NaN   \n",
       "4544  ED CourseED Course as of 06/20/23 1729Sun Jun ...         NaN   \n",
       "4545  Additional Historians: None / See ED CourseExt...         NaN   \n",
       "4546  Additional Historians: None / See ED CourseExt...         NaN   \n",
       "\n",
       "     Unnamed: 5 Unnamed: 6  \n",
       "0           NaN        NaN  \n",
       "1           NaN        NaN  \n",
       "2           NaN        NaN  \n",
       "3           NaN        NaN  \n",
       "4           NaN        NaN  \n",
       "...         ...        ...  \n",
       "4542        NaN        NaN  \n",
       "4543        NaN        NaN  \n",
       "4544        NaN        NaN  \n",
       "4545        NaN        NaN  \n",
       "4546        NaN        NaN  \n",
       "\n",
       "[4547 rows x 7 columns]"
      ]
     },
     "execution_count": 3,
     "metadata": {},
     "output_type": "execute_result"
    }
   ],
   "source": [
    "df\n"
   ]
  },
  {
   "cell_type": "code",
   "execution_count": null,
   "metadata": {},
   "outputs": [],
   "source": [
    "df = pd.read_csv('/home/trishalaswain/Downloads/SCP_1240/SCP_1240_DATA.csv', index_col=False, sep='\\t', lineterminator='\\n', error_bad_lines=False)"
   ]
  },
  {
   "cell_type": "code",
   "execution_count": null,
   "metadata": {},
   "outputs": [],
   "source": [
    "df.to_excel"
   ]
  },
  {
   "cell_type": "code",
   "execution_count": null,
   "metadata": {},
   "outputs": [],
   "source": [
    "# df = pd.read_csv('/home/trishalaswain/Downloads/1240_Parent/1240_DATA.xlsx',  index_col=False, sep='\\t', lineterminator='\\n', error_bad_lines=False)"
   ]
  },
  {
   "cell_type": "code",
   "execution_count": null,
   "metadata": {},
   "outputs": [],
   "source": [
    "# df = pd.read_csv(\"/home/trishalaswain/Downloads/1240_Parent/1240_DATA_2.xlsx\",  index_col=False, sep='\\t', lineterminator='\\n', error_bad_lines=False)"
   ]
  },
  {
   "cell_type": "code",
   "execution_count": null,
   "metadata": {},
   "outputs": [],
   "source": [
    "# df.to_excel('/home/trishalaswain/Downloads/1240_Parent/1240_DATA_2.xlsx', index=False)"
   ]
  },
  {
   "cell_type": "code",
   "execution_count": null,
   "metadata": {},
   "outputs": [],
   "source": [
    "df = pd.read_excel('/home/trishalaswain/Downloads/SCP_4525_MAY_JUN_JUL_Sheet.xlsx', index_col=False)"
   ]
  },
  {
   "cell_type": "code",
   "execution_count": null,
   "metadata": {},
   "outputs": [],
   "source": [
    "df"
   ]
  },
  {
   "cell_type": "code",
   "execution_count": null,
   "metadata": {},
   "outputs": [],
   "source": [
    "df = df.dropna(subset=['lookup'])"
   ]
  },
  {
   "cell_type": "code",
   "execution_count": null,
   "metadata": {},
   "outputs": [],
   "source": [
    "df.reset_index(inplace=True)\n"
   ]
  },
  {
   "cell_type": "code",
   "execution_count": null,
   "metadata": {},
   "outputs": [],
   "source": [
    "df.to_excel('/home/trishalaswain/Downloads/docs_4525_MAY_JUN_JUL_DATA/overall_sheet.xlsx')"
   ]
  },
  {
   "cell_type": "code",
   "execution_count": null,
   "metadata": {},
   "outputs": [],
   "source": []
  }
 ],
 "metadata": {
  "kernelspec": {
   "display_name": "base",
   "language": "python",
   "name": "python3"
  },
  "language_info": {
   "codemirror_mode": {
    "name": "ipython",
    "version": 3
   },
   "file_extension": ".py",
   "mimetype": "text/x-python",
   "name": "python",
   "nbconvert_exporter": "python",
   "pygments_lexer": "ipython3",
   "version": "3.9.12"
  },
  "orig_nbformat": 4
 },
 "nbformat": 4,
 "nbformat_minor": 2
}
