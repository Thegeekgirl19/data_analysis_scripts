{
 "cells": [
  {
   "cell_type": "code",
   "execution_count": null,
   "metadata": {},
   "outputs": [],
   "source": [
    "import pandas as pd\n"
   ]
  },
  {
   "cell_type": "code",
   "execution_count": null,
   "metadata": {},
   "outputs": [],
   "source": [
    "data = pd.read_csv('/home/trishalaswain/ClientData/SCP/EPIC_SCP/MAY/EPIC_MAY_ML_DATA.xlsx', sep='\\t', index_col=False)"
   ]
  },
  {
   "cell_type": "code",
   "execution_count": null,
   "metadata": {},
   "outputs": [],
   "source": [
    "data.dropna(inplace=True)"
   ]
  },
  {
   "cell_type": "code",
   "execution_count": null,
   "metadata": {},
   "outputs": [],
   "source": [
    "data.shape"
   ]
  },
  {
   "cell_type": "code",
   "execution_count": null,
   "metadata": {},
   "outputs": [],
   "source": [
    "data.columns"
   ]
  },
  {
   "cell_type": "code",
   "execution_count": null,
   "metadata": {},
   "outputs": [],
   "source": [
    "data.rename(columns = {'encounter':'encounter_id'}, inplace = True)"
   ]
  },
  {
   "cell_type": "code",
   "execution_count": null,
   "metadata": {},
   "outputs": [],
   "source": [
    "codes = pd.read_excel('/home/trishalaswain/ClientData/SCP/EPIC_SCP/MAY/SCP_MAY_CODES.xlsx', index_col=False)"
   ]
  },
  {
   "cell_type": "code",
   "execution_count": null,
   "metadata": {},
   "outputs": [],
   "source": [
    "codes.shape\n",
    "codes.rename(columns = {'id':'encounter_id'}, inplace = True)\n",
    "codes.rename(columns = {'accountNumber':'account_number'}, inplace = True)"
   ]
  },
  {
   "cell_type": "code",
   "execution_count": null,
   "metadata": {},
   "outputs": [],
   "source": [
    "codes.columns"
   ]
  },
  {
   "cell_type": "code",
   "execution_count": null,
   "metadata": {},
   "outputs": [],
   "source": [
    "inner_join = pd.merge(data, codes, on =['encounter_id', 'account_number'], how ='inner')"
   ]
  },
  {
   "cell_type": "code",
   "execution_count": null,
   "metadata": {},
   "outputs": [],
   "source": [
    "inner_join.encounter_id = inner_join.encounter_id.astype(int)\n",
    "inner_join.account_number = inner_join.account_number.astype(int)\n",
    "inner_join"
   ]
  },
  {
   "cell_type": "code",
   "execution_count": null,
   "metadata": {},
   "outputs": [],
   "source": [
    "# inner_join.to_excel('/home/trishalaswain/ClientData/SCP/SCP_JULY_OVERALL/SCP_JULY (1)/70_JULY_ML_DATA_FINAL.xlsx', index=False)"
   ]
  },
  {
   "cell_type": "code",
   "execution_count": null,
   "metadata": {},
   "outputs": [],
   "source": [
    "ml_df = inner_join.copy()"
   ]
  },
  {
   "cell_type": "code",
   "execution_count": null,
   "metadata": {},
   "outputs": [],
   "source": [
    "# addendum_encounters=[]\n",
    "# for i in open('/home/trishalaswain/ClientData/SCP/BYRD_ML/BYRD_MAY/BYRD_MAY_ADDENDUM_ENC','r').readlines():\n",
    "#     addendum_encounters.append(i.rstrip('\\n'))"
   ]
  },
  {
   "cell_type": "code",
   "execution_count": null,
   "metadata": {},
   "outputs": [],
   "source": [
    "# addendum_encounters"
   ]
  },
  {
   "cell_type": "code",
   "execution_count": null,
   "metadata": {},
   "outputs": [],
   "source": [
    "# inner_join.encounter_id = inner_join.encounter_id.astype(str)"
   ]
  },
  {
   "cell_type": "code",
   "execution_count": null,
   "metadata": {},
   "outputs": [],
   "source": [
    "# df = inner_join.drop(inner_join[~inner_join.encounter_id.isin(addendum_encounters)].index, axis = 0)"
   ]
  },
  {
   "cell_type": "code",
   "execution_count": null,
   "metadata": {},
   "outputs": [],
   "source": [
    "# import re\n",
    "# for i,r in df.iterrows():\n",
    "#     df.loc[i,'eandm_suggested'] = ','.join([str(elem) for elem in re.findall(r\"\\b\\d{5}\\b\", str(r['eandm_suggested']))])\n",
    "#     df.loc[i,'eandm_final'] = ','.join([str(elem) for elem in re.findall(r\"\\b\\d{5}\\b\", str(r['eandm_final']))])"
   ]
  },
  {
   "cell_type": "code",
   "execution_count": null,
   "metadata": {},
   "outputs": [],
   "source": [
    "# def get_counts(x):\n",
    "    \n",
    "#     suggested = str(x['eandm_suggested'])\n",
    "#     final = str(x['eandm_final'])\n",
    "    \n",
    "#     if suggested != '':\n",
    "#         suggested_set = set(suggested.split(','))\n",
    "#         final_set = set(final.split(','))\n",
    "#         if '9' not in suggested:\n",
    "#             final_set.clear()\n",
    "#         if '9' not in final:\n",
    "#             final_set.clear()\n",
    "    \n",
    "#         accepted = len(suggested_set.intersection(final_set))\n",
    "#         rejected = len(suggested_set - final_set)\n",
    "#         added = len(final_set - suggested_set)\n",
    "#         if (rejected >= 1 or added >= 1):\n",
    "        \n",
    "#             print('rejected',rejected)\n",
    "#             print('added',added)\n",
    "#             print('suggested_set',suggested_set,'\\t final_set',final_set)\n",
    "#         #     print('accountNumber', str(x['sheet_accounts']))\n",
    "#         return pd.Series({'accepted':accepted, 'rejected':rejected, 'added':added})"
   ]
  },
  {
   "cell_type": "code",
   "execution_count": null,
   "metadata": {},
   "outputs": [],
   "source": [
    "# count_df =  df.apply(get_counts, axis=1)"
   ]
  },
  {
   "cell_type": "code",
   "execution_count": null,
   "metadata": {},
   "outputs": [],
   "source": [
    "# df2 = pd.concat([df, count_df], axis = 1)\n",
    "# count_df.accepted.sum(), count_df.rejected.sum(), count_df.added.sum()"
   ]
  },
  {
   "cell_type": "code",
   "execution_count": null,
   "metadata": {},
   "outputs": [],
   "source": [
    "# count_df.rejected.sum() / (count_df.accepted.sum() + count_df.added.sum())\n"
   ]
  },
  {
   "cell_type": "code",
   "execution_count": null,
   "metadata": {},
   "outputs": [],
   "source": [
    "# precision = count_df.accepted.sum() / (count_df.accepted.sum() + count_df.rejected.sum())\n",
    "# recall = count_df.accepted.sum() / (count_df.accepted.sum() + count_df.added.sum())\n",
    "# f1_score = (2 * precision * recall) / (recall + precision)\n",
    "# data = {\"precision\":precision, \"recall\":recall, \"f1_score\":f1_score}\n",
    "# pd.Series(data).to_frame('new_overall_sheet_stats_local')"
   ]
  },
  {
   "cell_type": "code",
   "execution_count": null,
   "metadata": {},
   "outputs": [],
   "source": [
    "# df_july = pd.read_excel('/home/trishalaswain/ClientData/SCP/BYRD_ML/BYRD_JULY/BYRD_JULY_ML_DATA_FINAL_2.xlsx', index_col=False)\n",
    "# df_june = pd.read_excel('/home/trishalaswain/ClientData/SCP/BYRD_ML/BYRD_JUNE/BYRD_JUNE_ML_DATA_FINAL_2.xlsx', index_col=False)\n",
    "# df_may = pd.read_excel('/home/trishalaswain/ClientData/SCP/BYRD_ML/BYRD_MAY/BYRD_MAY_ML_DATA_FINAL_2.xlsx', index_col=False)"
   ]
  },
  {
   "cell_type": "code",
   "execution_count": null,
   "metadata": {},
   "outputs": [],
   "source": [
    "# # List of your dataframes\n",
    "\n",
    "# pdList = [df_may, df_june, df_july]  \n",
    "# ml_df = pd.concat(pdList)"
   ]
  },
  {
   "cell_type": "code",
   "execution_count": null,
   "metadata": {},
   "outputs": [],
   "source": [
    "ml_df=ml_df.reset_index()"
   ]
  },
  {
   "cell_type": "code",
   "execution_count": null,
   "metadata": {},
   "outputs": [],
   "source": [
    "ml_df"
   ]
  },
  {
   "cell_type": "code",
   "execution_count": null,
   "metadata": {},
   "outputs": [],
   "source": [
    "ml_df['ADDENDUM'] = 0"
   ]
  },
  {
   "cell_type": "code",
   "execution_count": null,
   "metadata": {},
   "outputs": [],
   "source": [
    "ml_df['ADMIT'] = 0"
   ]
  },
  {
   "cell_type": "code",
   "execution_count": null,
   "metadata": {},
   "outputs": [],
   "source": [
    "# ml_df['DIAGNOSIS'] = ml_df['DIAGNOSIS']. apply(str.lower)\n",
    "# ml_df['DIFF_DIAGNOSIS'] = ml_df['DIFF_DIAGNOSIS']. apply(str.lower)"
   ]
  },
  {
   "cell_type": "code",
   "execution_count": null,
   "metadata": {},
   "outputs": [],
   "source": [
    "ml_df.MDM_SENTS = ml_df.MDM_SENTS.apply(str.lower)"
   ]
  },
  {
   "cell_type": "code",
   "execution_count": null,
   "metadata": {},
   "outputs": [],
   "source": [
    "for i, r in ml_df.iterrows():\n",
    "    if 'addendum' in str(r['MDM_SENTS']):\n",
    "        ml_df.loc[i, 'ADDENDUM'] = 1"
   ]
  },
  {
   "cell_type": "code",
   "execution_count": null,
   "metadata": {},
   "outputs": [],
   "source": [
    "# ml_df.ADMIT = ml_df.ADMIT.apply(str.lower)\n",
    "for i, r in ml_df.iterrows():\n",
    "    if 'Admitted' in str(r['ADMISSION_STATUS']):\n",
    "        ml_df.loc[i, 'ADMIT'] = 1"
   ]
  },
  {
   "cell_type": "code",
   "execution_count": null,
   "metadata": {},
   "outputs": [],
   "source": [
    "ml_df"
   ]
  },
  {
   "cell_type": "code",
   "execution_count": null,
   "metadata": {},
   "outputs": [],
   "source": [
    "ml_df_final.ADMIT.sum()"
   ]
  },
  {
   "cell_type": "code",
   "execution_count": null,
   "metadata": {},
   "outputs": [],
   "source": [
    "import re\n",
    "for i,r in ml_df.iterrows():\n",
    "    ml_df.loc[i,'clean_eandm_suggested'] = ','.join([str(elem) for elem in re.findall(r\"\\b\\d{5}\\b\", str(r['EANDM_Suggested']))])\n",
    "    ml_df.loc[i,'clean_eandm_final'] = ','.join([str(elem) for elem in re.findall(r\"\\b\\d{5}\\b\", str(r['EANDM_Final']))])"
   ]
  },
  {
   "cell_type": "code",
   "execution_count": null,
   "metadata": {},
   "outputs": [],
   "source": [
    "ml_df.info()"
   ]
  },
  {
   "cell_type": "code",
   "execution_count": null,
   "metadata": {},
   "outputs": [],
   "source": [
    "ml_df.clean_eandm_suggested = ml_df.clean_eandm_suggested.astype('str')\n",
    "ml_df.clean_eandm_final = ml_df.clean_eandm_final.astype('str')"
   ]
  },
  {
   "cell_type": "code",
   "execution_count": null,
   "metadata": {},
   "outputs": [],
   "source": [
    "# ml_df.eandm_suggested.iloc[10000]#,'eandm_suggested']"
   ]
  },
  {
   "cell_type": "code",
   "execution_count": null,
   "metadata": {},
   "outputs": [],
   "source": [
    "# ml_df.loc[0,'eandm_suggested']"
   ]
  },
  {
   "cell_type": "code",
   "execution_count": null,
   "metadata": {},
   "outputs": [],
   "source": [
    "# ml_df.eandm_suggested[0:]"
   ]
  },
  {
   "cell_type": "code",
   "execution_count": null,
   "metadata": {},
   "outputs": [],
   "source": [
    "# ml_df[ml_df['EANDM_Suggested_Code'] == \"99291\"]"
   ]
  },
  {
   "cell_type": "code",
   "execution_count": null,
   "metadata": {},
   "outputs": [],
   "source": [
    "ml_df['TIME_CASES'] = 0\n",
    "for i, r in ml_df.iterrows():\n",
    "    if '99291' in r['clean_eandm_suggested'] or '99291' in r['clean_eandm_final']:\n",
    "        ml_df.loc[i, 'TIME_CASES'] = 1"
   ]
  },
  {
   "cell_type": "code",
   "execution_count": null,
   "metadata": {},
   "outputs": [],
   "source": [
    "ml_df['TIME_CASES'].sum()"
   ]
  },
  {
   "cell_type": "code",
   "execution_count": null,
   "metadata": {},
   "outputs": [],
   "source": [
    "ml_df_final = ml_df[(ml_df.TIME_CASES == 0) & (ml_df.ADDENDUM == 0) & (ml_df.ADMIT == 0)].reset_index()"
   ]
  },
  {
   "cell_type": "code",
   "execution_count": null,
   "metadata": {},
   "outputs": [],
   "source": [
    "# ml_df_final = ml_df[(ml_df.ADDENDUM == 0)].reset_index()"
   ]
  },
  {
   "cell_type": "code",
   "execution_count": null,
   "metadata": {},
   "outputs": [],
   "source": [
    "ml_df_final"
   ]
  },
  {
   "cell_type": "code",
   "execution_count": null,
   "metadata": {},
   "outputs": [],
   "source": [
    "ml_df_final.drop(['level_0', 'index'], inplace=True, axis=1)"
   ]
  },
  {
   "cell_type": "code",
   "execution_count": null,
   "metadata": {},
   "outputs": [],
   "source": [
    "ml_df_final"
   ]
  },
  {
   "cell_type": "code",
   "execution_count": null,
   "metadata": {},
   "outputs": [],
   "source": [
    "ml_df_final.to_excel('/home/trishalaswain/ClientData/SCP/EPIC_SCP/JUNE/EPIC_JUNE_ML_DATA_FINAL.xlsx', index=False)"
   ]
  },
  {
   "cell_type": "code",
   "execution_count": null,
   "metadata": {},
   "outputs": [],
   "source": [
    "# import pandas as pd\n",
    "# pd.read_excel('/home/trishalaswain/ClientData/SCP/EPIC_SCP/JUNE/EPIC_JUNE_ML_DATA_FINAL.xlsx', index_col=False)"
   ]
  },
  {
   "cell_type": "code",
   "execution_count": null,
   "metadata": {},
   "outputs": [],
   "source": []
  }
 ],
 "metadata": {
  "kernelspec": {
   "display_name": "base",
   "language": "python",
   "name": "python3"
  },
  "language_info": {
   "codemirror_mode": {
    "name": "ipython",
    "version": 3
   },
   "file_extension": ".py",
   "mimetype": "text/x-python",
   "name": "python",
   "nbconvert_exporter": "python",
   "pygments_lexer": "ipython3",
   "version": "3.9.12"
  },
  "orig_nbformat": 4
 },
 "nbformat": 4,
 "nbformat_minor": 2
}
