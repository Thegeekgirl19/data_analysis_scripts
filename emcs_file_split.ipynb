{
 "cells": [
  {
   "cell_type": "code",
   "execution_count": 5,
   "id": "2cad62d5-f9e7-417d-81fd-59599aa98348",
   "metadata": {
    "scrolled": true,
    "tags": []
   },
   "outputs": [],
   "source": [
    "source_folder = r\"/home/trishalaswain/ClientData/CHS/CHS_JULY/CHS_JULY_ALL_TARS/\"\n",
    "destination_folder = r\"/home/trishalaswain/ClientData/CHS/CHS_JULY/JULY_COMBINED/\"\n",
    "import os\n",
    "import shutil\n",
    "# fetch all files\n",
    "for sub1 in os.listdir(source_folder):\n",
    "    # print(source_folder + sub1 + \"/\")\n",
    "    for sub2 in os.listdir(source_folder + sub1 + \"/\"):\n",
    "        for sub3  in os.listdir(source_folder +sub1+\"/\"+ sub2 + \"/\"):\n",
    "            shutil.copytree(source_folder +sub1+\"/\"+ sub2 + \"/\" + sub3, destination_folder+sub3+\"/\")\n",
    "            # for sub4  in os.listdir(source_folder +sub1+\"/\"+ sub2 + \"/\"+sub3+\"/\"):\n",
    "            \n",
    "            #     if os.path.isfile(source_folder +sub1+\"/\"+ sub2 + \"/\"+sub3+\"/\"+sub4) and sub4.endswith('res.json'):\n",
    "            #         print('copied', sub4)\n",
    "            #         shutil.copy(source_folder +sub1+\"/\"+ sub2 + \"/\"+sub3+\"/\"+sub4, destination_folder)"
   ]
  },
  {
   "cell_type": "code",
   "execution_count": null,
   "id": "8d24c020",
   "metadata": {},
   "outputs": [],
   "source": []
  },
  {
   "cell_type": "code",
   "execution_count": 6,
   "id": "3ce5c1cb",
   "metadata": {},
   "outputs": [],
   "source": [
    "destination_folder = r\"/home/trishalaswain/ClientData/CHS/NlpResponseJson\"\n",
    "for sub1 in os.listdir(destination_folder):\n",
    "    os.rename(destination_folder+'/'+sub1, '/home/trishalaswain/ClientData/CHS/NlpResponseJson/'+sub1.replace('_nlp_req.json', '_nlp_req.json'))"
   ]
  },
  {
   "cell_type": "code",
   "execution_count": 3,
   "id": "a3e6bcee",
   "metadata": {},
   "outputs": [
    {
     "data": {
      "text/plain": [
       "996"
      ]
     },
     "execution_count": 3,
     "metadata": {},
     "output_type": "execute_result"
    }
   ],
   "source": [
    "len(acc)"
   ]
  },
  {
   "cell_type": "code",
   "execution_count": 4,
   "id": "543e8230",
   "metadata": {},
   "outputs": [],
   "source": [
    "import os\n",
    "import shutil"
   ]
  },
  {
   "cell_type": "code",
   "execution_count": 6,
   "id": "d9fc0d79-f759-47c8-872c-0b136436ed3e",
   "metadata": {
    "scrolled": true,
    "tags": []
   },
   "outputs": [],
   "source": [
    "# import os\n",
    "# import shutil\n",
    "\n",
    "# source_folder = r\"/home/trishalaswain/ClientData/PH/CHINO_MONTH_WISE/CHINO_COMBINED_EMCS/\"\n",
    "# destination_folder = r\"/home/trishalaswain/ClientData/PH/CHINO_MONTH_WISE/NEW_CHINO_COMBINED_EMCS/\"\n",
    "\n",
    "# for sub1 in os.listdir(source_folder):\n",
    "#     # print(source_folder + sub1 + \"/\")\n",
    "#     for sub2 in os.listdir(source_folder + sub1 + \"/\"):\n",
    "#             account = str(sub2.split('_')[0])\n",
    "#             if str(account) in acc:\n",
    "#                 shutil.copytree(source_folder +sub1+\"/\", destination_folder+sub1+\"/\")\n",
    "#                 break\n",
    "\n",
    "#     #     for sub3  in os.listdir(source_folder +sub1+\"/\"+ sub2 + \"/\"):\n",
    "#     #         # print(source_folder +sub1+\"/\"+ sub2 + \"/\"+sub3+\"/\")\n",
    "#     #         shutil.copytree(source_folder +sub1+\"/\"+ sub2 + \"/\"+sub3, destination_folder+sub3)\n",
    "#     #         print('copied', sub3)\n",
    "#             # for sub4  in os.listdir(source_folder +sub1+\"/\"+ sub2 + \"/\"+sub3+\"/\"):\n",
    "                \n",
    "#                 # destination = destination_folder + sub4\n",
    "#                 # print(destination)\n",
    "#                 # if os.path.isfile(source_folder +sub1+\"/\"+ sub2 + \"/\"+sub3+\"/\"+sub4) and sub4.endwith('xml'):\n"
   ]
  },
  {
   "cell_type": "code",
   "execution_count": 1,
   "id": "27f90ccb",
   "metadata": {},
   "outputs": [
    {
     "ename": "NameError",
     "evalue": "name 'name_list' is not defined",
     "output_type": "error",
     "traceback": [
      "\u001b[0;31m---------------------------------------------------------------------------\u001b[0m",
      "\u001b[0;31mNameError\u001b[0m                                 Traceback (most recent call last)",
      "\u001b[1;32m/home/trishalaswain/Documents/analysis/python_scripts/emcs_file_split.ipynb Cell 6\u001b[0m in \u001b[0;36m<cell line: 7>\u001b[0;34m()\u001b[0m\n\u001b[1;32m      <a href='vscode-notebook-cell:/home/trishalaswain/Documents/analysis/python_scripts/emcs_file_split.ipynb#W5sZmlsZQ%3D%3D?line=6'>7</a>\u001b[0m \u001b[39mfor\u001b[39;00m sub1 \u001b[39min\u001b[39;00m os\u001b[39m.\u001b[39mlistdir(source_folder):\n\u001b[1;32m      <a href='vscode-notebook-cell:/home/trishalaswain/Documents/analysis/python_scripts/emcs_file_split.ipynb#W5sZmlsZQ%3D%3D?line=7'>8</a>\u001b[0m     pdf_name \u001b[39m=\u001b[39m sub1\u001b[39m.\u001b[39mreplace(\u001b[39m\"\u001b[39m\u001b[39m.pdf\u001b[39m\u001b[39m\"\u001b[39m, \u001b[39m\"\u001b[39m\u001b[39m\"\u001b[39m)\n\u001b[0;32m----> <a href='vscode-notebook-cell:/home/trishalaswain/Documents/analysis/python_scripts/emcs_file_split.ipynb#W5sZmlsZQ%3D%3D?line=8'>9</a>\u001b[0m     \u001b[39mif\u001b[39;00m pdf_name \u001b[39min\u001b[39;00m name_list:\n\u001b[1;32m     <a href='vscode-notebook-cell:/home/trishalaswain/Documents/analysis/python_scripts/emcs_file_split.ipynb#W5sZmlsZQ%3D%3D?line=9'>10</a>\u001b[0m         \u001b[39m# shutil.move(source_folder +sub1, destination_folder+sub1)\u001b[39;00m\n\u001b[1;32m     <a href='vscode-notebook-cell:/home/trishalaswain/Documents/analysis/python_scripts/emcs_file_split.ipynb#W5sZmlsZQ%3D%3D?line=10'>11</a>\u001b[0m         os\u001b[39m.\u001b[39mremove(source_folder \u001b[39m+\u001b[39msub1)\n",
      "\u001b[0;31mNameError\u001b[0m: name 'name_list' is not defined"
     ]
    }
   ],
   "source": [
    "import os\n",
    "import shutil\n",
    "\n",
    "source_folder = r\"/home/trishalaswain/Documents/analysis/data/download_scripts_and_tars/OCR_PROJECT_TEST/PDF/\"\n",
    "# destination_folder = r\"/home/trishalaswain/Documents/analysis/data/download_scripts_and_tars/OCR_PROJECT_TEST/PDF/\"\n",
    "\n",
    "for sub1 in os.listdir(source_folder):\n",
    "    pdf_name = sub1.replace(\".pdf\", \"\")\n",
    "    if pdf_name in name_list:\n",
    "        # shutil.move(source_folder +sub1, destination_folder+sub1)\n",
    "        os.remove(source_folder +sub1)\n",
    "        \n",
    "    # for sub2 in os.listdir(source_folder + sub1 + \"/\"):\n",
    "    #         account = str(sub2.split('_')[0])\n",
    "    #         if str(account) in acc:\n",
    "    #             shutil.copytree(source_folder +sub1+\"/\", destination_folder+sub1+\"/\")\n",
    "    #             break\n",
    "\n",
    "    #     for sub3  in os.listdir(source_folder +sub1+\"/\"+ sub2 + \"/\"):\n",
    "    #         # print(source_folder +sub1+\"/\"+ sub2 + \"/\"+sub3+\"/\")\n",
    "    #         shutil.copytree(source_folder +sub1+\"/\"+ sub2 + \"/\"+sub3, destination_folder+sub3)\n",
    "    #         print('copied', sub3)\n",
    "            # for sub4  in os.listdir(source_folder +sub1+\"/\"+ sub2 + \"/\"+sub3+\"/\"):\n",
    "                \n",
    "                # destination = destination_folder + sub4\n",
    "                # print(destination)\n",
    "                # if os.path.isfile(source_folder +sub1+\"/\"+ sub2 + \"/\"+sub3+\"/\"+sub4) and sub4.endwith('xml'):\n"
   ]
  },
  {
   "cell_type": "code",
   "execution_count": 6,
   "id": "c7d216c3-ad33-4254-afef-1e0f05017e41",
   "metadata": {},
   "outputs": [
    {
     "name": "stdout",
     "output_type": "stream",
     "text": [
      "SubDir count: 8419\n",
      "File count: 16838\n"
     ]
    }
   ],
   "source": [
    "import os\n",
    "\n",
    "# folder path\n",
    "dir_path = r'/home/trishalaswain/ClientData/CHS/CHS_JULY/JULY_COMBINED/'\n",
    "count_file = 0\n",
    "count_sub_dir = 0\n",
    "# Iterate directory\n",
    "for sub in os.listdir(dir_path):\n",
    "    if os.path.isdir(dir_path + sub + \"/\"):\n",
    "        count_sub_dir += 1\n",
    "    for sub2 in os.listdir(dir_path + sub + \"/\"):\n",
    "        if os.path.isfile(dir_path + sub + \"/\" + sub2):\n",
    "            count_file += 1\n",
    "print('SubDir count:', count_sub_dir)\n",
    "print('File count:', count_file)"
   ]
  },
  {
   "cell_type": "code",
   "execution_count": 28,
   "id": "a033eeb6",
   "metadata": {},
   "outputs": [
    {
     "name": "stdout",
     "output_type": "stream",
     "text": [
      "V00001038960\n",
      "V00001039225\n",
      "V00001028589\n",
      "counts =  3\n"
     ]
    }
   ],
   "source": [
    "import os\n",
    "\n",
    "# folder path\n",
    "dir_path = r'/home/trishalaswain/ClientData/PH/CHINO_MONTH_WISE/NEW_CHINO_COMBINED_EMCS/'\n",
    "counts = 0\n",
    "for sub1 in os.listdir(dir_path):\n",
    "    # print(source_folder + sub1 + \"/\")\n",
    "    for sub2 in os.listdir(dir_path + sub1 + \"/\"):\n",
    "            if sub2.endswith('None_pcs.xml'):\n",
    "                print(sub2.split('_')[0])\n",
    "                counts += 1\n",
    "print('counts = ', counts)"
   ]
  },
  {
   "cell_type": "code",
   "execution_count": 28,
   "id": "491d370b-46ab-4ad4-9471-88d7450ff13b",
   "metadata": {},
   "outputs": [
    {
     "name": "stdout",
     "output_type": "stream",
     "text": [
      "12938\n",
      "12862\n"
     ]
    }
   ],
   "source": [
    "# for path in os.listdir(dir_path):\n",
    "#     sub_dir = os.path.join(dir_path, path)\n",
    "#     count = 0\n",
    "#     for file in os.listdir(sub_dir):\n",
    "#         count += 1\n",
    "#     if count > 2:\n",
    "#         # print(sub_dir)\n",
    "\n",
    "#         print(sub_dir.split('/')[8])\n",
    "#         shutil.rmtree(sub_dir)\n",
    "import glob\n",
    "import pandas as pd\n",
    "all_data = pd.DataFrame()\n",
    "allExcelFiles =glob.glob(\"/home/trishalaswain/Downloads/CHINO_MONTHWISE_ACC_SHEETS/*.xlsx\")\n",
    "df = pd.concat(pd.read_excel(excelFile) for excelFile in allExcelFiles)\n",
    "id_list = df[~df.encDocIds.str.contains(',')].id.to_list()\n",
    "list_string = map(str, id_list)\n",
    "print(len(set(list_string)))\n",
    "# print(type(list_string[0]))\n",
    "new = set()\n",
    "count = 0\n",
    "for path in os.listdir(dir_path):\n",
    "    # print(path)\n",
    "    if path in str(id_list):\n",
    "        count += 1\n",
    "    # sub_dir = os.path.join(dir_path, path)\n",
    "    # for file in os.listdir(sub_dir):\n",
    "        # print(file)\n",
    "        # print(type(sub_dir.split('/')[7]))\n",
    "        # result = list_string.count(sub_dir.split('/')[7] )\n",
    "\n",
    "        # if result > 1:\n",
    "        #     print(\"Harvey exists in the list more\", sub_dir.split('/')[7] )\n",
    "        # elif result == 0:\n",
    "        #     print(\"Harvey does not exist in the list\", sub_dir.split('/')[7] )\n",
    "        # if sub_dir.split('/')[7] in str(id_list):\n",
    "        #     count += 1\n",
    "            # print(sub_dir)\n",
    "            # new.add(sub_dir.split('/')[7])\n",
    "            # shutil.rmtree(sub_dir)\n",
    "            \n",
    "print(count)\n",
    "            \n",
    "            "
   ]
  },
  {
   "cell_type": "code",
   "execution_count": null,
   "id": "f2d5f6fb-a244-476e-9e3d-6795f1cce73c",
   "metadata": {},
   "outputs": [],
   "source": []
  }
 ],
 "metadata": {
  "kernelspec": {
   "display_name": "Python 3 (ipykernel)",
   "language": "python",
   "name": "python3"
  },
  "language_info": {
   "codemirror_mode": {
    "name": "ipython",
    "version": 3
   },
   "file_extension": ".py",
   "mimetype": "text/x-python",
   "name": "python",
   "nbconvert_exporter": "python",
   "pygments_lexer": "ipython3",
   "version": "3.9.12"
  }
 },
 "nbformat": 4,
 "nbformat_minor": 5
}
