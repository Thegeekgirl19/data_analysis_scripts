{
 "cells": [
  {
   "cell_type": "code",
   "execution_count": null,
   "id": "2cad62d5-f9e7-417d-81fd-59599aa98348",
   "metadata": {
    "scrolled": true,
    "tags": []
   },
   "outputs": [],
   "source": [
    "source_folder = r\"/home/trishalaswain/ClientData/SCP/SCP_JULY_OVERALL/SCP_JULY (1)/JULY/\"\n",
    "destination_folder = r\"/home/trishalaswain/ClientData/SCP/BYRD_OCR_TEST/BYRD_AUG_COMBINED/\"\n",
    "import os\n",
    "import shutil\n",
    "\n",
    "# fetch all files\n",
    "for sub1 in os.listdir(source_folder):\n",
    "    # print(source_folder + sub1 + \"/\")\n",
    "    for sub2 in os.listdir(source_folder + sub1 + \"/\"):\n",
    "        # for sub3  in os.listdir(source_folder +sub1+\"/\"+ sub2 + \"/\"):\n",
    "        shutil.copytree(source_folder +sub1+\"/\"+ sub2 + \"/\" , destination_folder+sub2+\"/\")\n",
    "            # for sub4  in os.listdir(source_folder +sub1+\"/\"+ sub2 + \"/\"+sub3+\"/\"):\n",
    "            \n",
    "            #     if os.path.isfile(source_folder +sub1+\"/\"+ sub2 + \"/\"+sub3+\"/\"+sub4) and sub4.endswith('res.json'):\n",
    "            #         print('copied', sub4)\n",
    "            #         shutil.copy(source_folder +sub1+\"/\"+ sub2 + \"/\"+sub3+\"/\"+sub4, destination_folder)"
   ]
  },
  {
   "cell_type": "code",
   "execution_count": null,
   "id": "8d24c020",
   "metadata": {},
   "outputs": [],
   "source": []
  },
  {
   "cell_type": "code",
   "execution_count": null,
   "id": "3ce5c1cb",
   "metadata": {},
   "outputs": [],
   "source": [
    "destination_folder = r\"/home/trishalaswain/ClientData/CHS/NlpResponseJson\"\n",
    "for sub1 in os.listdir(destination_folder):\n",
    "    os.rename(destination_folder+'/'+sub1, '/home/trishalaswain/ClientData/CHS/NlpResponseJson/'+sub1.replace('_nlp_req.json', '_nlp_req.json'))"
   ]
  },
  {
   "cell_type": "code",
   "execution_count": null,
   "id": "a3e6bcee",
   "metadata": {},
   "outputs": [],
   "source": [
    "len(acc)"
   ]
  },
  {
   "cell_type": "code",
   "execution_count": null,
   "id": "543e8230",
   "metadata": {},
   "outputs": [],
   "source": [
    "import os\n",
    "import shutil"
   ]
  },
  {
   "cell_type": "code",
   "execution_count": null,
   "id": "d9fc0d79-f759-47c8-872c-0b136436ed3e",
   "metadata": {
    "scrolled": true,
    "tags": []
   },
   "outputs": [],
   "source": [
    "# import os\n",
    "# import shutil\n",
    "\n",
    "# source_folder = r\"/home/trishalaswain/ClientData/PH/CHINO_MONTH_WISE/CHINO_COMBINED_EMCS/\"\n",
    "# destination_folder = r\"/home/trishalaswain/ClientData/PH/CHINO_MONTH_WISE/NEW_CHINO_COMBINED_EMCS/\"\n",
    "\n",
    "# for sub1 in os.listdir(source_folder):\n",
    "#     # print(source_folder + sub1 + \"/\")\n",
    "#     for sub2 in os.listdir(source_folder + sub1 + \"/\"):\n",
    "#             account = str(sub2.split('_')[0])\n",
    "#             if str(account) in acc:\n",
    "#                 shutil.copytree(source_folder +sub1+\"/\", destination_folder+sub1+\"/\")\n",
    "#                 break\n",
    "\n",
    "#     #     for sub3  in os.listdir(source_folder +sub1+\"/\"+ sub2 + \"/\"):\n",
    "#     #         # print(source_folder +sub1+\"/\"+ sub2 + \"/\"+sub3+\"/\")\n",
    "#     #         shutil.copytree(source_folder +sub1+\"/\"+ sub2 + \"/\"+sub3, destination_folder+sub3)\n",
    "#     #         print('copied', sub3)\n",
    "#             # for sub4  in os.listdir(source_folder +sub1+\"/\"+ sub2 + \"/\"+sub3+\"/\"):\n",
    "                \n",
    "#                 # destination = destination_folder + sub4\n",
    "#                 # print(destination)\n",
    "#                 # if os.path.isfile(source_folder +sub1+\"/\"+ sub2 + \"/\"+sub3+\"/\"+sub4) and sub4.endwith('xml'):\n"
   ]
  },
  {
   "cell_type": "code",
   "execution_count": null,
   "id": "27f90ccb",
   "metadata": {},
   "outputs": [],
   "source": [
    "import os\n",
    "import shutil\n",
    "\n",
    "source_folder = r\"/home/trishalaswain/Documents/analysis/data/download_scripts_and_tars/OCR_PROJECT_TEST/PDF/\"\n",
    "# destination_folder = r\"/home/trishalaswain/Documents/analysis/data/download_scripts_and_tars/OCR_PROJECT_TEST/PDF/\"\n",
    "\n",
    "for sub1 in os.listdir(source_folder):\n",
    "    pdf_name = sub1.replace(\".pdf\", \"\")\n",
    "    if pdf_name in name_list:\n",
    "        # shutil.move(source_folder +sub1, destination_folder+sub1)\n",
    "        os.remove(source_folder +sub1)\n",
    "        \n",
    "    # for sub2 in os.listdir(source_folder + sub1 + \"/\"):\n",
    "    #         account = str(sub2.split('_')[0])\n",
    "    #         if str(account) in acc:\n",
    "    #             shutil.copytree(source_folder +sub1+\"/\", destination_folder+sub1+\"/\")\n",
    "    #             break\n",
    "\n",
    "    #     for sub3  in os.listdir(source_folder +sub1+\"/\"+ sub2 + \"/\"):\n",
    "    #         # print(source_folder +sub1+\"/\"+ sub2 + \"/\"+sub3+\"/\")\n",
    "    #         shutil.copytree(source_folder +sub1+\"/\"+ sub2 + \"/\"+sub3, destination_folder+sub3)\n",
    "    #         print('copied', sub3)\n",
    "            # for sub4  in os.listdir(source_folder +sub1+\"/\"+ sub2 + \"/\"+sub3+\"/\"):\n",
    "                \n",
    "                # destination = destination_folder + sub4\n",
    "                # print(destination)\n",
    "                # if os.path.isfile(source_folder +sub1+\"/\"+ sub2 + \"/\"+sub3+\"/\"+sub4) and sub4.endwith('xml'):\n"
   ]
  },
  {
   "cell_type": "code",
   "execution_count": null,
   "id": "c7d216c3-ad33-4254-afef-1e0f05017e41",
   "metadata": {},
   "outputs": [],
   "source": [
    "import os\n",
    "\n",
    "# folder path\n",
    "dir_path = r'/home/trishalaswain/ClientData/CHS/CHS_JULY/JULY_COMBINED/'\n",
    "count_file = 0\n",
    "count_sub_dir = 0\n",
    "# Iterate directory\n",
    "for sub in os.listdir(dir_path):\n",
    "    if os.path.isdir(dir_path + sub + \"/\"):\n",
    "        count_sub_dir += 1\n",
    "    for sub2 in os.listdir(dir_path + sub + \"/\"):\n",
    "        if os.path.isfile(dir_path + sub + \"/\" + sub2):\n",
    "            count_file += 1\n",
    "print('SubDir count:', count_sub_dir)\n",
    "print('File count:', count_file)"
   ]
  },
  {
   "cell_type": "code",
   "execution_count": null,
   "id": "a033eeb6",
   "metadata": {},
   "outputs": [],
   "source": [
    "import os\n",
    "\n",
    "# folder path\n",
    "dir_path = r'/home/trishalaswain/ClientData/PH/CHINO_MONTH_WISE/NEW_CHINO_COMBINED_EMCS/'\n",
    "counts = 0\n",
    "for sub1 in os.listdir(dir_path):\n",
    "    # print(source_folder + sub1 + \"/\")\n",
    "    for sub2 in os.listdir(dir_path + sub1 + \"/\"):\n",
    "            if sub2.endswith('None_pcs.xml'):\n",
    "                print(sub2.split('_')[0])\n",
    "                counts += 1\n",
    "print('counts = ', counts)"
   ]
  },
  {
   "cell_type": "code",
   "execution_count": null,
   "id": "491d370b-46ab-4ad4-9471-88d7450ff13b",
   "metadata": {},
   "outputs": [],
   "source": [
    "# for path in os.listdir(dir_path):\n",
    "#     sub_dir = os.path.join(dir_path, path)\n",
    "#     count = 0\n",
    "#     for file in os.listdir(sub_dir):\n",
    "#         count += 1\n",
    "#     if count > 2:\n",
    "#         # print(sub_dir)\n",
    "\n",
    "#         print(sub_dir.split('/')[8])\n",
    "#         shutil.rmtree(sub_dir)\n",
    "import glob\n",
    "import pandas as pd\n",
    "all_data = pd.DataFrame()\n",
    "allExcelFiles =glob.glob(\"/home/trishalaswain/Downloads/CHINO_MONTHWISE_ACC_SHEETS/*.xlsx\")\n",
    "df = pd.concat(pd.read_excel(excelFile) for excelFile in allExcelFiles)\n",
    "id_list = df[~df.encDocIds.str.contains(',')].id.to_list()\n",
    "list_string = map(str, id_list)\n",
    "print(len(set(list_string)))\n",
    "# print(type(list_string[0]))\n",
    "new = set()\n",
    "count = 0\n",
    "for path in os.listdir(dir_path):\n",
    "    # print(path)\n",
    "    if path in str(id_list):\n",
    "        count += 1\n",
    "    # sub_dir = os.path.join(dir_path, path)\n",
    "    # for file in os.listdir(sub_dir):\n",
    "        # print(file)\n",
    "        # print(type(sub_dir.split('/')[7]))\n",
    "        # result = list_string.count(sub_dir.split('/')[7] )\n",
    "\n",
    "        # if result > 1:\n",
    "        #     print(\"Harvey exists in the list more\", sub_dir.split('/')[7] )\n",
    "        # elif result == 0:\n",
    "        #     print(\"Harvey does not exist in the list\", sub_dir.split('/')[7] )\n",
    "        # if sub_dir.split('/')[7] in str(id_list):\n",
    "        #     count += 1\n",
    "            # print(sub_dir)\n",
    "            # new.add(sub_dir.split('/')[7])\n",
    "            # shutil.rmtree(sub_dir)\n",
    "            \n",
    "print(count)\n",
    "            \n",
    "            "
   ]
  },
  {
   "cell_type": "code",
   "execution_count": null,
   "id": "f2d5f6fb-a244-476e-9e3d-6795f1cce73c",
   "metadata": {},
   "outputs": [],
   "source": []
  }
 ],
 "metadata": {
  "kernelspec": {
   "display_name": "Python 3 (ipykernel)",
   "language": "python",
   "name": "python3"
  },
  "language_info": {
   "codemirror_mode": {
    "name": "ipython",
    "version": 3
   },
   "file_extension": ".py",
   "mimetype": "text/x-python",
   "name": "python",
   "nbconvert_exporter": "python",
   "pygments_lexer": "ipython3",
   "version": "3.9.12"
  }
 },
 "nbformat": 4,
 "nbformat_minor": 5
}
