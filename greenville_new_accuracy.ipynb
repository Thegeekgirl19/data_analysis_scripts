{
 "cells": [
  {
   "cell_type": "code",
   "execution_count": null,
   "id": "b95de9e4-fca1-4e79-b13f-51cc29b65da6",
   "metadata": {},
   "outputs": [],
   "source": [
    "import pandas as pd\n",
    "import ast\n",
    "import re"
   ]
  },
  {
   "cell_type": "code",
   "execution_count": null,
   "id": "9f8277b3-9629-4108-a912-770fcb4f0553",
   "metadata": {},
   "outputs": [],
   "source": [
    "df = pd.read_excel('/home/trishalaswain/Documents/AGS_PROJECTS/OCR_SERVICE/neighbourhood_testing/ACCURACY_MONITORING/493937_BILLED.xlsx', index_col=False)"
   ]
  },
  {
   "cell_type": "code",
   "execution_count": null,
   "id": "6b42ba66",
   "metadata": {},
   "outputs": [],
   "source": [
    "df.dropna(inplace=True)"
   ]
  },
  {
   "cell_type": "code",
   "execution_count": null,
   "id": "cd1e47e2",
   "metadata": {},
   "outputs": [],
   "source": [
    "df.shape\n",
    "df.suggested = df.suggested.astype('str')\n",
    "df.final = df.final.astype('str')\n",
    "df.local_suggested = df.local_suggested.astype('int64')"
   ]
  },
  {
   "cell_type": "code",
   "execution_count": null,
   "id": "eb18f48a",
   "metadata": {},
   "outputs": [],
   "source": [
    "df.shape"
   ]
  },
  {
   "cell_type": "code",
   "execution_count": null,
   "id": "44675aee",
   "metadata": {},
   "outputs": [],
   "source": [
    "df.columns"
   ]
  },
  {
   "cell_type": "code",
   "execution_count": null,
   "id": "db03a80b",
   "metadata": {},
   "outputs": [],
   "source": [
    "# df.encDocIds = df.encDocIds.astype('str')"
   ]
  },
  {
   "cell_type": "code",
   "execution_count": null,
   "id": "bbacdedb",
   "metadata": {},
   "outputs": [],
   "source": [
    "# df = df[~df.encDocIds.str.contains(',')]"
   ]
  },
  {
   "cell_type": "code",
   "execution_count": null,
   "id": "9e73b340",
   "metadata": {},
   "outputs": [],
   "source": [
    "df.shape"
   ]
  },
  {
   "cell_type": "code",
   "execution_count": null,
   "id": "c3d176c5",
   "metadata": {},
   "outputs": [],
   "source": [
    "# for i,r in df.iterrows():\n",
    "#     df.at[i, 'EANDM_Rejected'] = r['EANDM_Rejected'].replace(']', '').replace('[', '')\n",
    "#     df.at[i, 'EANDM_Added'] = r['EANDM_Added'].replace(']', '').replace('[', '')\n",
    "#     df.at[i, 'EANDM_Accepted'] = r['EANDM_Accepted'].replace(']', '').replace('[', '')\n",
    "#     if (df.at[i, 'EANDM_Rejected'] != '') & (df.at[i, 'EANDM_Accepted'] != ''):\n",
    "#         df.at[i, 'clean_suggested'] = df.at[i, 'EANDM_Accepted'] + ', ' + df.at[i, 'EANDM_Rejected']\n",
    "#     else:\n",
    "#        df.at[i, 'clean_suggested'] = df.at[i, 'EANDM_Accepted']  + df.at[i, 'EANDM_Rejected']\n",
    "    \n",
    "    \n",
    "#     if (df.at[i, 'EANDM_Added'] != '') & (df.at[i, 'EANDM_Accepted'] != ''):\n",
    "#         df.at[i, 'clean_final'] = df.at[i, 'EANDM_Accepted'] + ', ' + df.at[i, 'EANDM_Added']\n",
    "#     else:\n",
    "#        df.at[i, 'clean_final'] = df.at[i, 'EANDM_Accepted']  + df.at[i, 'EANDM_Added']"
   ]
  },
  {
   "cell_type": "code",
   "execution_count": null,
   "id": "6d8ca0a4",
   "metadata": {},
   "outputs": [],
   "source": [
    "# for i,r in df.iterrows():\n",
    "#     df.at[i, 'eandm_rejected'] = r['eandm_rejected'].replace(']', '').replace('[', '')\n",
    "#     df.at[i, 'eandm_added'] = r['eandm_added'].replace(']', '').replace('[', '')\n",
    "#     df.at[i, 'eandm_accepted'] = r['eandm_accepted'].replace(']', '').replace('[', '')\n",
    "#     if (df.at[i, 'eandm_rejected'] != '') & (df.at[i, 'eandm_accepted'] != ''):\n",
    "#         df.at[i, 'clean_suggested'] = df.at[i, 'eandm_accepted'] + ', ' + df.at[i, 'eandm_rejected']\n",
    "#     else:\n",
    "#        df.at[i, 'clean_suggested'] = df.at[i, 'eandm_accepted']  + df.at[i, 'eandm_rejected']\n",
    "    \n",
    "    \n",
    "#     if (df.at[i, 'eandm_added'] != '') & (df.at[i, 'eandm_accepted'] != ''):\n",
    "#         df.at[i, 'clean_final'] = df.at[i, 'eandm_accepted'] + ', ' + df.at[i, 'eandm_added']\n",
    "#     else:\n",
    "#        df.at[i, 'clean_final'] = df.at[i, 'eandm_accepted']  + df.at[i, 'eandm_added']"
   ]
  },
  {
   "cell_type": "code",
   "execution_count": null,
   "id": "28256177",
   "metadata": {},
   "outputs": [],
   "source": [
    "# for i,r in df.iterrows():\n",
    "#     df.loc[i,'EANDM_Suggested_Code'] = ','.join([str(elem) for elem in re.findall(r\"\\b\\d{5}\\b\", str(r['EANDM_Suggested']))])\n",
    "#     df.loc[i,'EANDM_Final_Code'] = ','.join([str(elem) for elem in re.findall(r\"\\b\\d{5}\\b\", str(r['EANDM_Final']))])"
   ]
  },
  {
   "cell_type": "code",
   "execution_count": null,
   "id": "5a1bbdb3",
   "metadata": {},
   "outputs": [],
   "source": [
    "# df=df[['processingDate', 'serviceDate', 'encDocIds', 'accountNumber', 'EANDM_Suggested_Code', 'EANDM_Final_Code', 'local_suggested']]"
   ]
  },
  {
   "cell_type": "code",
   "execution_count": null,
   "id": "c495919f",
   "metadata": {},
   "outputs": [],
   "source": [
    "df = df[df['local_suggested'].notna()]\n",
    "df.shape"
   ]
  },
  {
   "cell_type": "code",
   "execution_count": null,
   "id": "112b14d2-f68d-4ff2-82a0-c49c87897092",
   "metadata": {},
   "outputs": [],
   "source": [
    "# df.local = df.local.astype('int')"
   ]
  },
  {
   "cell_type": "code",
   "execution_count": null,
   "id": "cacd22d2",
   "metadata": {},
   "outputs": [],
   "source": [
    "df.local_suggested.value_counts()"
   ]
  },
  {
   "cell_type": "code",
   "execution_count": null,
   "id": "5abe08ef",
   "metadata": {},
   "outputs": [],
   "source": [
    "# df.suggested_code = df.suggested_code.astype('str')"
   ]
  },
  {
   "cell_type": "code",
   "execution_count": null,
   "id": "dbe74d23",
   "metadata": {},
   "outputs": [],
   "source": [
    "# df = df[~df.suggested_code.str.contains('99291')]\n",
    "# df.shape"
   ]
  },
  {
   "cell_type": "code",
   "execution_count": null,
   "id": "0dd27e34-6958-441d-aac3-bd82a7f9f98b",
   "metadata": {
    "scrolled": true,
    "tags": []
   },
   "outputs": [],
   "source": [
    "def get_counts(x):\n",
    "    \n",
    "    suggested = str(x['local_suggested'])\n",
    "    final = str(x['final'])\n",
    "    \n",
    "    if suggested != '':\n",
    "        suggested_set = set(suggested.split(', '))\n",
    "        final_set = set(final.split(','))\n",
    "        if '9' not in suggested:\n",
    "            final_set.clear()\n",
    "        if '9' not in final:\n",
    "            final_set.clear()\n",
    "    \n",
    "        accepted = len(suggested_set.intersection(final_set))\n",
    "        rejected = len(suggested_set - final_set)\n",
    "        added = len(final_set - suggested_set)\n",
    "        if (rejected >= 1 or added >= 1):\n",
    "        \n",
    "            print('rejected',rejected)\n",
    "            print('added',added)\n",
    "            print('suggested_set',suggested_set,'\\t final_set',final_set)\n",
    "        #     print('accountNumber', str(x['sheet_accounts']))\n",
    "        return pd.Series({'accepted':accepted, 'rejected':rejected, 'added':added})"
   ]
  },
  {
   "cell_type": "code",
   "execution_count": null,
   "id": "0c490146-b4ed-4d25-b135-ae0ccb5c42db",
   "metadata": {},
   "outputs": [],
   "source": [
    "count_df =  df.apply(get_counts, axis=1)\n",
    "# def get_accuracy()"
   ]
  },
  {
   "cell_type": "code",
   "execution_count": null,
   "id": "22730740-8e51-4fe1-9054-9cc2b6840a16",
   "metadata": {},
   "outputs": [],
   "source": [
    "df2 = pd.concat([df, count_df], axis = 1)"
   ]
  },
  {
   "cell_type": "code",
   "execution_count": null,
   "id": "649b2597-5f0b-4e8e-b44a-d604c11ea712",
   "metadata": {},
   "outputs": [],
   "source": [
    "df2.reindex()"
   ]
  },
  {
   "cell_type": "code",
   "execution_count": null,
   "id": "040321bf-4a12-4b28-9527-8d2a90671cc1",
   "metadata": {},
   "outputs": [],
   "source": [
    "count_df.accepted.sum(), count_df.rejected.sum(), count_df.added.sum()"
   ]
  },
  {
   "cell_type": "code",
   "execution_count": null,
   "id": "4727a7cf",
   "metadata": {},
   "outputs": [],
   "source": [
    "precision = count_df.accepted.sum() / (count_df.accepted.sum() + count_df.rejected.sum())\n",
    "recall = count_df.accepted.sum() / (count_df.accepted.sum() + count_df.added.sum())\n",
    "f1_score = (2 * precision * recall) / (recall + precision)"
   ]
  },
  {
   "cell_type": "code",
   "execution_count": null,
   "id": "05bf0f4e",
   "metadata": {},
   "outputs": [],
   "source": [
    "data = {\"precision\":precision, \"recall\":recall, \"f1_score\":f1_score}\n",
    "pd.Series(data).to_frame('new_overall_sheet_stats_local')"
   ]
  },
  {
   "cell_type": "code",
   "execution_count": null,
   "id": "27ab3486",
   "metadata": {},
   "outputs": [],
   "source": [
    "# df.clean_final.value_counts()"
   ]
  },
  {
   "cell_type": "code",
   "execution_count": null,
   "id": "8dc40065",
   "metadata": {},
   "outputs": [],
   "source": [
    "# df.local_output_final.value_counts()"
   ]
  },
  {
   "cell_type": "code",
   "execution_count": null,
   "id": "4d71aa3b",
   "metadata": {},
   "outputs": [],
   "source": [
    "df.clean_suggested = df.clean_suggested.astype('str')\n",
    "df.clean_final = df.clean_final.astype('str')\n",
    "df.local_suggested = df.local_suggested.astype('str')"
   ]
  },
  {
   "cell_type": "code",
   "execution_count": null,
   "id": "e948393f",
   "metadata": {},
   "outputs": [],
   "source": [
    "def highlight_same(data):\n",
    "    \n",
    "    highlighter = pd.DataFrame(\"\", index=data.index, columns=data.columns)\n",
    "    for col in data.columns:\n",
    "        for index in data.index:\n",
    "\n",
    " \n",
    "\n",
    "            if col == index:\n",
    "                highlighter.loc[index, col] = 'background-color : springgreen'\n",
    "                \n",
    "            elif str(col)>str(index) and data.loc[index, col]>10:\n",
    "                highlighter.loc[index, col] = 'background-color : lightskyblue'\n",
    "\n",
    "            elif data.loc[index, col]>10:\n",
    "                highlighter.loc[index, col] = 'background-color : PaleVioletRed'\n",
    "\n",
    "    return highlighter\n",
    "\n",
    " \n",
    "\n",
    "crosstab = cs.style.apply(highlight_same, axis=None)"
   ]
  },
  {
   "cell_type": "code",
   "execution_count": null,
   "id": "e9303d7b",
   "metadata": {},
   "outputs": [],
   "source": [
    "crosstab.to_excel('/home/trishalaswain/ClientData/PH/CHINO_JULY_1_TO_10/CHINO_JULY_1_TO_10_local_crosstab.xlsx')"
   ]
  },
  {
   "cell_type": "code",
   "execution_count": null,
   "id": "83d5123d",
   "metadata": {},
   "outputs": [],
   "source": [
    "crosstab"
   ]
  },
  {
   "cell_type": "code",
   "execution_count": null,
   "id": "dc6d71a2",
   "metadata": {},
   "outputs": [],
   "source": [
    "df.clean_final.value_counts()"
   ]
  },
  {
   "cell_type": "code",
   "execution_count": null,
   "id": "26ef137d",
   "metadata": {},
   "outputs": [],
   "source": [
    "df.local_suggested_2 = df.local_suggested_2.astype('str')\n",
    "df.clean_final = df.clean_final.astype('str')"
   ]
  },
  {
   "cell_type": "code",
   "execution_count": null,
   "id": "0e551867",
   "metadata": {},
   "outputs": [],
   "source": [
    "new = df[(df.local_suggested_2.str.contains('99285')) & (df.clean_final.str.contains('99284'))]\n",
    "new[['account_number', 'clean_final', 'clean_suggested', 'local_suggested_2']]"
   ]
  },
  {
   "cell_type": "code",
   "execution_count": null,
   "id": "8c566974",
   "metadata": {},
   "outputs": [],
   "source": [
    "cols_to_use = ['service_date', 'account_number', 'facility_code', 'local_suggested', 'clean_suggested', 'clean_final']"
   ]
  },
  {
   "cell_type": "code",
   "execution_count": null,
   "id": "b8c86720",
   "metadata": {},
   "outputs": [],
   "source": [
    "df[df.clean_final.str.contains('99284') & df.local_suggested_2.str.contains('99285')][cols_to_use]"
   ]
  },
  {
   "cell_type": "code",
   "execution_count": null,
   "id": "c9f1638e",
   "metadata": {},
   "outputs": [],
   "source": [
    "# confusion_matrix"
   ]
  },
  {
   "cell_type": "code",
   "execution_count": null,
   "id": "8eec709b",
   "metadata": {},
   "outputs": [],
   "source": [
    "# cm_display = metrics.ConfusionMatrixDisplay(confusion_matrix, display_labels = df.clean_suggested.unique().tolist())"
   ]
  },
  {
   "cell_type": "code",
   "execution_count": null,
   "id": "e5d1f7b7",
   "metadata": {},
   "outputs": [],
   "source": [
    "# confusion_matrix = pd.crosstab(df.clean_final, df.clean_suggested,margins = True, margins_name='Total')"
   ]
  },
  {
   "cell_type": "code",
   "execution_count": null,
   "id": "a71cf6ca",
   "metadata": {},
   "outputs": [],
   "source": [
    "# confusion_matrix.to_excel('/home/trishalaswain/ClientData/PH/CHINO_MONTH_WISE/CHINO_ALL_OP/25_MAY/test_matrix.xlsx')"
   ]
  },
  {
   "cell_type": "code",
   "execution_count": null,
   "id": "ff56ba71-da05-4884-8ae5-5fd42829545c",
   "metadata": {},
   "outputs": [],
   "source": [
    "# for i, r in df_fac.iterrows():\n",
    "    \n",
    "#     precision = df_fac.at[i,'accepted'] / (df_fac.at[i,'accepted'] + df_fac.at[i,'rejected'])\n",
    "#     recall = df_fac.at[i,'accepted'] / (df_fac.at[i,'accepted'] + df_fac.at[i,'added'])\n",
    "#     f1_score = (2 * precision * recall) / (recall + precision)\n",
    "#     df_fac.at[i,'precision'] = precision\n",
    "#     df_fac.at[i,'recall'] = recall\n",
    "#     df_fac.at[i,'f1_score'] = f1_score"
   ]
  },
  {
   "cell_type": "code",
   "execution_count": null,
   "id": "82773c29-54eb-4446-ae22-c3526fba5b5d",
   "metadata": {},
   "outputs": [],
   "source": [
    "# df_fac"
   ]
  },
  {
   "cell_type": "code",
   "execution_count": null,
   "id": "103250fa-7f67-4281-8b05-97c493674bf9",
   "metadata": {},
   "outputs": [],
   "source": [
    "# df_fac.to_excel('/home/trishalaswain/Downloads/Script_Testing/excel_1.xlsx')"
   ]
  },
  {
   "cell_type": "code",
   "execution_count": null,
   "id": "f33bd8fd-b641-4c18-b390-c590bdccda6a",
   "metadata": {},
   "outputs": [],
   "source": [
    "# precision, recall, f1_score"
   ]
  },
  {
   "cell_type": "code",
   "execution_count": null,
   "id": "bf65fc9e-731d-45b5-8a68-0dc1c1b71605",
   "metadata": {},
   "outputs": [],
   "source": [
    "# def check_suggested(df):\n",
    "#     for ind,row in df.iterrows():\n",
    "#         row['new_suggested'] = str(row['new_suggested']).split(',')\n",
    "#         for item in row['new_suggested']:\n",
    "#             if str(item) == '{No Code}':\n",
    "#                 df.at[ind,'rejected'] = 0\n",
    "#                 continue\n",
    "#             if str(item) in str(row['final']):\n",
    "#                 df.at[ind,'accepted'] += 1\n",
    "#             if str(item) not in str(row['final']):\n",
    "#                 df.at[ind,'rejected'] +=1"
   ]
  },
  {
   "cell_type": "code",
   "execution_count": null,
   "id": "25ffc5f2-f817-4223-92fb-f6423145aac3",
   "metadata": {},
   "outputs": [],
   "source": [
    "# def check_final(df):\n",
    "#     for ind,row in df.iterrows():\n",
    "#         row['final'] = str(row['final']).split(',')\n",
    "#         for final_code in row['final']:\n",
    "#             if final_code not in str(row['new_suggested']):\n",
    "#                 df.at[ind,'added'] +=1"
   ]
  },
  {
   "cell_type": "code",
   "execution_count": null,
   "id": "2acd3646-3fc1-4f82-b986-ecf2258dd713",
   "metadata": {},
   "outputs": [],
   "source": [
    "# check_suggested(df)\n",
    "# check_final(df)"
   ]
  },
  {
   "cell_type": "code",
   "execution_count": null,
   "id": "d1cc4ba0-17e1-4845-8d8f-b102ec6ccbf4",
   "metadata": {},
   "outputs": [],
   "source": [
    "# df['EANDM_Suggested_code'] = None"
   ]
  },
  {
   "cell_type": "code",
   "execution_count": null,
   "id": "58f8be59-c01d-4248-b9ba-a0ee308e00c1",
   "metadata": {},
   "outputs": [],
   "source": [
    "# def emsugg_filtered(df):\n",
    "#     df['EANDM_Suggested_code'] = None\n",
    "#     for ind, row in df.iterrows():\n",
    "\n",
    "#         li = ast.literal_eval(row[\"EM_accepted\"])\n",
    "#         li2 = ast.literal_eval(row[\"EM_rejected\"])\n",
    "#         li3 = li + li2\n",
    "#         df.at[ind,'EANDM_Suggested_code'] = li3"
   ]
  },
  {
   "cell_type": "code",
   "execution_count": null,
   "id": "652a5933-3bce-443b-8cce-fe6dee770daa",
   "metadata": {},
   "outputs": [],
   "source": [
    "# emsugg_filtered(df)"
   ]
  },
  {
   "cell_type": "code",
   "execution_count": null,
   "id": "829b6f78-2bbd-415d-96c5-8151d97d71a7",
   "metadata": {},
   "outputs": [],
   "source": [
    "# df"
   ]
  },
  {
   "cell_type": "code",
   "execution_count": null,
   "id": "f484b36c-bc7b-46e3-b58c-ef612c97fc06",
   "metadata": {},
   "outputs": [],
   "source": [
    "# def check_suggested2(df):\n",
    "#     for ind,row in df.iterrows():\n",
    "#         for item in row['EANDM_Suggested_code']:\n",
    "#             if str(item) in str(row['final']):\n",
    "#                 df.at[ind,'old_accepted'] += 1\n",
    "#             if str(item) not in str(row['final']):\n",
    "#                 df.at[ind,'old_rejected'] +=1"
   ]
  },
  {
   "cell_type": "code",
   "execution_count": null,
   "id": "8c52c884-aefd-44bc-9fef-09ca974f20bb",
   "metadata": {},
   "outputs": [],
   "source": [
    "# def check_final2(df):\n",
    "#     for ind,row in df.iterrows():\n",
    "#         row['final'] = str(row['final']).split(',')\n",
    "#         for final_code in row['final']:\n",
    "#             if final_code not in str(row['EANDM_Suggested_code']):\n",
    "#                 df.at[ind,'old_added'] +=1"
   ]
  },
  {
   "cell_type": "code",
   "execution_count": null,
   "id": "4cb5eb8e-0b7c-4ca4-9860-bba245030b27",
   "metadata": {},
   "outputs": [],
   "source": [
    "# check_suggested2(df)\n",
    "# check_final2(df)"
   ]
  },
  {
   "cell_type": "code",
   "execution_count": null,
   "id": "65c5d1e6",
   "metadata": {},
   "outputs": [],
   "source": [
    "# df2 = pd.read_excel('/home/trishalaswain/Downloads/Script_Testing/CHINO_ALL_TEXT_&_OUTPUT.xlsx', index_col=False)"
   ]
  },
  {
   "cell_type": "code",
   "execution_count": null,
   "id": "124b4d0a",
   "metadata": {},
   "outputs": [],
   "source": [
    "# df2.final_code.value_counts()"
   ]
  },
  {
   "cell_type": "code",
   "execution_count": null,
   "id": "6909c330",
   "metadata": {},
   "outputs": [],
   "source": []
  }
 ],
 "metadata": {
  "kernelspec": {
   "display_name": "Python 3 (ipykernel)",
   "language": "python",
   "name": "python3"
  },
  "language_info": {
   "codemirror_mode": {
    "name": "ipython",
    "version": 3
   },
   "file_extension": ".py",
   "mimetype": "text/x-python",
   "name": "python",
   "nbconvert_exporter": "python",
   "pygments_lexer": "ipython3",
   "version": "3.9.12"
  }
 },
 "nbformat": 4,
 "nbformat_minor": 5
}
