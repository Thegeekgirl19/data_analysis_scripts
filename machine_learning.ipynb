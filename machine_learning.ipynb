{
 "cells": [
  {
   "cell_type": "code",
   "execution_count": null,
   "metadata": {},
   "outputs": [],
   "source": [
    "# pip install eli5"
   ]
  },
  {
   "cell_type": "code",
   "execution_count": null,
   "metadata": {},
   "outputs": [],
   "source": [
    "# pip install termcolor"
   ]
  },
  {
   "cell_type": "code",
   "execution_count": null,
   "metadata": {},
   "outputs": [],
   "source": [
    "import pandas as pd"
   ]
  },
  {
   "cell_type": "code",
   "execution_count": null,
   "metadata": {},
   "outputs": [],
   "source": [
    "mismatch = pd.read_csv('/home/trishalaswain/Documents/machine_learning/pred_july.csv', sep='\\t', index_col=False)"
   ]
  },
  {
   "cell_type": "code",
   "execution_count": null,
   "metadata": {},
   "outputs": [],
   "source": [
    "mismatch.drop(['Unnamed: 0', 'Unnamed: 0.1'],axis = 1, inplace = True)"
   ]
  },
  {
   "cell_type": "code",
   "execution_count": null,
   "metadata": {},
   "outputs": [],
   "source": [
    "data=mismatch['clean_sen_MDM_SENTS'].head(5)"
   ]
  },
  {
   "cell_type": "code",
   "execution_count": null,
   "metadata": {},
   "outputs": [],
   "source": [
    "data = mismatch.head(5).MDM_SENTS.to_list()"
   ]
  },
  {
   "cell_type": "code",
   "execution_count": null,
   "metadata": {},
   "outputs": [],
   "source": [
    "data"
   ]
  },
  {
   "cell_type": "code",
   "execution_count": null,
   "metadata": {},
   "outputs": [],
   "source": [
    "# import pickle\n",
    "# import eli5\n",
    "# import numpy as np\n",
    "# from termcolor import colored\n",
    "\n",
    "# def display_colored(explanation):\n",
    "#     lines = eli5.format_as_text(explanation).split('\\n')\n",
    "#     colored_lines = [colored(line, attrs=['bold']) if 'Prediction' in line else line for line in lines]\n",
    "#     return '\\n'.join(colored_lines)\n",
    "\n",
    "# # Load the trained logistic regression model\n",
    "# with open('/home/trishalaswain/Documents/machine_learning/LR.pkl', 'rb') as model_file:\n",
    "#     model = pickle.load(model_file)\n",
    "\n",
    "# # Load the vectorizer\n",
    "# with open('/home/trishalaswain/Documents/machine_learning/tfidf.pkl', 'rb') as vectorizer_file:\n",
    "#     vectorizer = pickle.load(vectorizer_file)\n",
    "\n",
    "# # Define some example data\n",
    "# # data = [\"This is an example sentence.\",\n",
    "# #         \"Another example for interpretation.\"]\n",
    "\n",
    "# # Transform the data using the vectorizer\n",
    "# X = vectorizer.transform(data)\n",
    "\n",
    "# # Convert sparse matrix to dense array\n",
    "# X_dense = X.toarray()\n",
    "\n",
    "# # Predict the model's output for the given data\n",
    "# predictions = model.predict(X_dense)\n",
    "\n",
    "# # Interpret each prediction using eli5\n",
    "# for text, prediction, x_dense in zip(data, predictions, X_dense):\n",
    "#     expl = eli5.explain_prediction_sklearn(model, x_dense, vec=vectorizer)\n",
    "\n",
    "#     # Print the text, prediction, and colored explanation\n",
    "#     colored_expl = display_colored(expl)\n",
    "#     print(f\"Text: {text}\\nPrediction: {prediction}\\nExplanation:\\n{colored_expl}\\n\")\n"
   ]
  },
  {
   "cell_type": "code",
   "execution_count": null,
   "metadata": {},
   "outputs": [],
   "source": [
    "# import pickle\n",
    "# import eli5\n",
    "# from sklearn.feature_extraction.text import TfidfVectorizer\n",
    "\n",
    "# # Load the trained logistic regression model\n",
    "# with open('/home/trishalaswain/Documents/machine_learning/LR.pkl', 'rb') as model_file:\n",
    "#     model = pickle.load(model_file)\n",
    "\n",
    "# # Load the vectorizer\n",
    "# with open('/home/trishalaswain/Documents/machine_learning/tfidf.pkl', 'rb') as vectorizer_file:\n",
    "#     vectorizer = pickle.load(vectorizer_file)\n",
    "\n",
    "# # Define some example data\n",
    "# # data = [\"This is an example sentence.\",\n",
    "# #         \"Another example for interpretation.\"]\n",
    "\n",
    "# # Transform the data using the vectorizer\n",
    "# X = vectorizer.transform(data)\n",
    "\n",
    "# # Predict the model's output for the given data\n",
    "# predictions = model.predict(X)\n",
    "\n",
    "# # Interpret each prediction using eli5\n",
    "# for text, prediction in zip(data, predictions):\n",
    "#     expl = eli5.explain_prediction_sklearn(model, X, vec=vectorizer)\n",
    "    \n",
    "#     # Print the text, prediction, and explanation\n",
    "#     print(f\"Text: {text}\\nPrediction: {prediction}\\nExplanation:\\n{eli5.format_as_text(expl)}\\n\")\n"
   ]
  },
  {
   "cell_type": "code",
   "execution_count": null,
   "metadata": {},
   "outputs": [],
   "source": [
    "# import pickle\n",
    "# import eli5\n",
    "# from sklearn.feature_extraction.text import TfidfVectorizer\n",
    "\n",
    "# # Load the trained logistic regression model\n",
    "# with open('/home/trishalaswain/Documents/machine_learning/LR.pkl', 'rb') as model_file:\n",
    "#     model = pickle.load(model_file)\n",
    "\n",
    "# # Load the vectorizer\n",
    "# with open('/home/trishalaswain/Documents/machine_learning/tfidf.pkl', 'rb') as vectorizer_file:\n",
    "#     vectorizer = pickle.load(vectorizer_file)\n",
    "\n",
    "# # Define some example data\n",
    "# # data = [\"This is an example sentence.\",\n",
    "# #         \"Another example for interpretation.\"]\n",
    "\n",
    "# # Transform the data using the vectorizer\n",
    "# X = vectorizer.transform(data)\n",
    "\n",
    "# # Interpret the model's predictions using eli5\n",
    "# expl = eli5.explain_prediction_sklearn(model, X[0], vec=vectorizer)\n",
    "\n",
    "# # Print the interpretation\n",
    "# print(eli5.format_as_text(expl))\n"
   ]
  },
  {
   "cell_type": "code",
   "execution_count": null,
   "metadata": {},
   "outputs": [],
   "source": [
    "data"
   ]
  },
  {
   "cell_type": "code",
   "execution_count": null,
   "metadata": {},
   "outputs": [],
   "source": [
    "import pickle\n",
    "import eli5\n",
    "from sklearn.feature_extraction.text import TfidfVectorizer\n",
    "\n",
    "# Load the trained logistic regression model\n",
    "with open('/home/trishalaswain/Documents/machine_learning/LR.pkl', 'rb') as model_file:\n",
    "    model = pickle.load(model_file)\n",
    "\n",
    "# Load the vectorizer\n",
    "with open('/home/trishalaswain/Documents/machine_learning/tfidf.pkl', 'rb') as vectorizer_file:\n",
    "    vectorizer = pickle.load(vectorizer_file)\n",
    "\n",
    "# Define some example data\n",
    "# data = [\"This is an example sentence.\",\n",
    "#         \"Another example for interpretation.\"]\n",
    "\n",
    "# Transform the data using the vectorizer\n",
    "X = vectorizer.transform(data)\n",
    "\n",
    "# Predict the model's output for the given data\n",
    "predictions = model.predict(X)\n",
    "\n",
    "# Get the feature names from the vectorizer\n",
    "feature_names = vectorizer.get_feature_names_out()\n",
    "\n",
    "# # Interpret each prediction using eli5\n",
    "for text, x in zip(data, X):\n",
    "    expl = eli5.explain_prediction(model, text, vec=vectorizer, feature_names=feature_names)\n",
    "    display(expl)\n",
    "    # Print the text, prediction, and explanation\n",
    "    # print(f\"Text: {text}\\nPrediction: {prediction}\\nExplanation:\\n{eli5.format_as_text(expl)}\\n\")\n"
   ]
  },
  {
   "cell_type": "code",
   "execution_count": null,
   "metadata": {},
   "outputs": [],
   "source": [
    "data"
   ]
  },
  {
   "cell_type": "code",
   "execution_count": null,
   "metadata": {},
   "outputs": [],
   "source": [
    "for ind, row in mismatch[0:5].iterrows():\n",
    "    \n",
    "    # expl = eli5.show_prediction(model, row['clean_sen_MDM_SENTS'], vec=vectorizer, feature_names=feature_names)\n",
    "    expl = eli5.explain_prediction_sklearn(model, row['clean_sen_MDM_SENTS'], vec=vectorizer, feature_names=feature_names)\n",
    "    display(expl)\n",
    "    \n",
    "    # Print the text, prediction, and explanation\n",
    "    # print(f\"Text: {text}\\nPrediction: {prediction}\\nExplanation:\\n{eli5.format_as_text(expl)}\\n\")\n"
   ]
  },
  {
   "cell_type": "code",
   "execution_count": null,
   "metadata": {},
   "outputs": [],
   "source": [
    "predictions"
   ]
  },
  {
   "cell_type": "code",
   "execution_count": null,
   "metadata": {},
   "outputs": [],
   "source": []
  },
  {
   "cell_type": "code",
   "execution_count": null,
   "metadata": {},
   "outputs": [],
   "source": []
  },
  {
   "cell_type": "code",
   "execution_count": null,
   "metadata": {},
   "outputs": [],
   "source": []
  },
  {
   "cell_type": "code",
   "execution_count": null,
   "metadata": {},
   "outputs": [],
   "source": []
  },
  {
   "cell_type": "code",
   "execution_count": null,
   "metadata": {},
   "outputs": [],
   "source": [
    "from sklearn.feature_extraction.text import TfidfVectorizer\n",
    "\n",
    "# Example training data\n",
    "train_data = [\"This is an example sentence.\",\n",
    "              \"Another example for understanding.\"]\n",
    "\n",
    "# Example new data (unseen)\n",
    "new_data = [\"A new example for transformation.\",\n",
    "            \"Transforming data into vectors.\"]\n",
    "\n",
    "# Initialize the vectorizer and fit it on the training data\n",
    "vectorizer = TfidfVectorizer()\n",
    "vectorizer.fit(train_data)\n",
    "\n",
    "# Transform both training data and new data\n",
    "train_matrix = vectorizer.transform(train_data)\n",
    "new_matrix = vectorizer.transform(new_data)\n",
    "\n",
    "print(\"Transformed training matrix:\\n\", train_matrix)\n",
    "print(\"Transformed new data matrix:\\n\", new_matrix)\n"
   ]
  },
  {
   "cell_type": "code",
   "execution_count": null,
   "metadata": {},
   "outputs": [],
   "source": []
  }
 ],
 "metadata": {
  "kernelspec": {
   "display_name": "base",
   "language": "python",
   "name": "python3"
  },
  "language_info": {
   "codemirror_mode": {
    "name": "ipython",
    "version": 3
   },
   "file_extension": ".py",
   "mimetype": "text/x-python",
   "name": "python",
   "nbconvert_exporter": "python",
   "pygments_lexer": "ipython3",
   "version": "3.9.12"
  },
  "orig_nbformat": 4
 },
 "nbformat": 4,
 "nbformat_minor": 2
}
