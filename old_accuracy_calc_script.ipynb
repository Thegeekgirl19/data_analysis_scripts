{
 "cells": [
  {
   "cell_type": "code",
   "execution_count": 1,
   "id": "b679b573-0572-4df5-aefb-1cc89e8c722f",
   "metadata": {},
   "outputs": [],
   "source": [
    "import pandas as pd\n",
    "import re\n",
    "import itertools"
   ]
  },
  {
   "cell_type": "code",
   "execution_count": 2,
   "id": "3de769a8-b4e1-4427-ab94-07f2f0aaadc2",
   "metadata": {},
   "outputs": [],
   "source": [
    "import ast"
   ]
  },
  {
   "cell_type": "code",
   "execution_count": 3,
   "id": "5599ebd4-1431-47d7-be5d-50975505bf74",
   "metadata": {},
   "outputs": [],
   "source": [
    "df_final = pd.DataFrame()"
   ]
  },
  {
   "cell_type": "code",
   "execution_count": 4,
   "id": "91d3a859-2a40-4f7b-9271-50c14e3509d8",
   "metadata": {},
   "outputs": [],
   "source": [
    "import os\n",
    "\n",
    "# folder path\n",
    "# dir_path = r'/home/trishalaswain/Downloads/ph-febData/'\n",
    "dir_path = r'/home/trishalaswain/PH_01_to_31_jan/'\n",
    "\n",
    "\n",
    "# list to store files\n",
    "res = []\n",
    "\n",
    "# Iterate directory\n",
    "for path in os.listdir(dir_path):\n",
    "    # check if current path is a file\n",
    "    # if os.path.isfile(os.path.join(dir_path, path)) and str(path).endswith(\".tsv\") and not str(path).endswith(\"HCPCS.tsv\") and not str(path).endswith(\"CPT.tsv\") and not str(path).endswith(\"CM.tsv\")  and not str(path).endswith(\"EANDM.tsv\"):\n",
    "    if os.path.isfile(os.path.join(dir_path, path)) and str(path).endswith(\"31.xlsx\"):\n",
    "        res.append(dir_path + path)"
   ]
  },
  {
   "cell_type": "code",
   "execution_count": 5,
   "id": "cfa00ec0-10b6-4577-a89b-3731c2591e97",
   "metadata": {},
   "outputs": [
    {
     "data": {
      "text/plain": [
       "['/home/trishalaswain/PH_01_to_31_jan/PH-LAMC-Los Alamos Medical Center-2023-01-01-2023-01-31.xlsx',\n",
       " '/home/trishalaswain/PH_01_to_31_jan/PH-EHMC-Encino Hospital Medical Center-2023-01-01-2023-01-31.xlsx',\n",
       " '/home/trishalaswain/PH_01_to_31_jan/PH-SDCH-San Dimas Community Hospital-2023-01-01-2023-01-31.xlsx',\n",
       " '/home/trishalaswain/PH_01_to_31_jan/PH-SOH-Sherman Oaks Hospital-2023-01-01-2023-01-31.xlsx',\n",
       " '/home/trishalaswain/PH_01_to_31_jan/PH-AHE-Alvarado Hospital EMA-2023-01-01-2023-01-31.xlsx',\n",
       " '/home/trishalaswain/PH_01_to_31_jan/PH-CELA-East Los Angeles Doctors Hospital-2023-01-01-2023-01-31.xlsx',\n",
       " '/home/trishalaswain/PH_01_to_31_jan/PH-LPIH-La Palma Intercommunity Hospital-2023-01-01-2023-01-31.xlsx',\n",
       " '/home/trishalaswain/PH_01_to_31_jan/PH-RMHG-Redondo Memorial Hospital of Gardena-2023-01-01-2023-01-31.xlsx',\n",
       " '/home/trishalaswain/PH_01_to_31_jan/PH-HEMAG-Hollywood EMA Group-2023-01-01-2023-01-31.xlsx',\n",
       " '/home/trishalaswain/PH_01_to_31_jan/PH-SRMC-Shasta Regional Medical Center-2023-01-01-2023-01-31.xlsx',\n",
       " '/home/trishalaswain/PH_01_to_31_jan/PH-VPH-Valley Presbyterian Hospital-2023-01-01-2023-01-31.xlsx',\n",
       " '/home/trishalaswain/PH_01_to_31_jan/PH-CHINO-Chino Valley Medical Center-2023-01-01-2023-01-31.xlsx',\n",
       " '/home/trishalaswain/PH_01_to_31_jan/PH-HBH-Huntington Beach Hospital-2023-01-01-2023-01-31.xlsx',\n",
       " '/home/trishalaswain/PH_01_to_31_jan/PH-PEP-Palomar Emergency Physicians, Inc.-2023-01-01-2023-01-31.xlsx',\n",
       " '/home/trishalaswain/PH_01_to_31_jan/PH-MMC-Montclair Hospital Medical Center-2023-01-01-2023-01-31.xlsx',\n",
       " '/home/trishalaswain/PH_01_to_31_jan/PH-TMC-Tarzana Medical Center-2023-01-01-2023-01-31.xlsx',\n",
       " '/home/trishalaswain/PH_01_to_31_jan/PH-PIMG-Palomar Intensivist Medical Group, Inc.-2023-01-01-2023-01-31.xlsx',\n",
       " '/home/trishalaswain/PH_01_to_31_jan/PH-HIG-Hollywood Intensivist Group-2023-01-01-2023-01-31.xlsx',\n",
       " '/home/trishalaswain/PH_01_to_31_jan/PH-CEMA-Corona Regional Emergency Medical Associates-2023-01-01-2023-01-31.xlsx',\n",
       " '/home/trishalaswain/PH_01_to_31_jan/PH-CMC-College Medical Center-2023-01-01-2023-01-31.xlsx',\n",
       " '/home/trishalaswain/PH_01_to_31_jan/PH-CHMC-Centinela Hospital Medical Center-2023-01-01-2023-01-31.xlsx',\n",
       " '/home/trishalaswain/PH_01_to_31_jan/PH-CCHP-Community Hospital of Huntington Park-2023-01-01-2023-01-31.xlsx']"
      ]
     },
     "execution_count": 5,
     "metadata": {},
     "output_type": "execute_result"
    }
   ],
   "source": [
    "res"
   ]
  },
  {
   "cell_type": "code",
   "execution_count": 6,
   "id": "0b52bb2f-de02-4c3d-bc3b-683fea588de2",
   "metadata": {},
   "outputs": [],
   "source": [
    "def sugg_rej(df1):\n",
    "    for index, row in df1.iterrows():\n",
    "        for code in row['EANDM_Suggested_code']:\n",
    "            if str(code) in str(row['EANDM_Final_code']):\n",
    "    #           incrementing accepted count if code found in both suggested and final\n",
    "                df1.at[index,'EANDM_Updated_Accepted_Count'] += 1\n",
    "            if str(code) not in str(row['EANDM_Final_code']):\n",
    "    #           incrementing rejected count if code found suggested but not in final\n",
    "                df1.at[index,'EANDM_Updated_Rejected_Count'] += 1"
   ]
  },
  {
   "cell_type": "code",
   "execution_count": 7,
   "id": "66efd301-4c1a-46c2-9cb3-dfdfc15503ec",
   "metadata": {},
   "outputs": [],
   "source": [
    "def add(df1):\n",
    "    for index, row in df1.iterrows():\n",
    "        for fcode in row['EANDM_Final_code']:\n",
    "            if str(fcode) not in str(row['EANDM_Suggested_code']):\n",
    "    #           incrementing added count if code found final but not in suggested\n",
    "                df1.at[index,'EANDM_Updated_Added_Count'] += 1"
   ]
  },
  {
   "cell_type": "code",
   "execution_count": 14,
   "id": "3c36a327-58e6-46cc-97f8-0efb1c14a47b",
   "metadata": {},
   "outputs": [],
   "source": [
    "def emsugg_filtered(df1):\n",
    "    df1['EANDM_Suggested_code'] = None\n",
    "    for ind, row in df1.iterrows():\n",
    "        # print(type(row['EANDM_Accepted']))\n",
    "        if len(row[\"EANDM_Accepted\"]) == 2:\n",
    "            accepted = \"\"\n",
    "        else:\n",
    "            accepted = row[\"EANDM_Accepted\"][1:-1]\n",
    "\n",
    "        if len(row[\"EANDM_Rejected\"]) == 2:\n",
    "            rejected = \"\"\n",
    "        else:\n",
    "            rejected = row[\"EANDM_Rejected\"][1:-1]\n",
    "            \n",
    "        if len(accepted) == 0:\n",
    "            li = []\n",
    "        else:\n",
    "            li = ast.literal_eval(accepted)\n",
    "            li = [li]\n",
    "\n",
    "        if len(rejected) == 0:\n",
    "            li2 = []\n",
    "        else:\n",
    "            li2 = ast.literal_eval(rejected)\n",
    "            li2 = [li2]\n",
    "\n",
    "        li3 = []\n",
    "        for item in li:\n",
    "            li3.append(item)\n",
    "        for item2 in li2:\n",
    "            li3.append(item2)\n",
    "            \n",
    "        li3 = []\n",
    "        for item in li:\n",
    "            if type(item) is tuple:\n",
    "                for x in item:\n",
    "                    li3.append(x)\n",
    "                    \n",
    "            else:\n",
    "                li3.append(item)\n",
    "\n",
    "        for item2 in li2:\n",
    "            if type(item2) is tuple:\n",
    "                for x in item2:\n",
    "                    li3.append(x)\n",
    "            else: \n",
    "                li3.append(item2)\n",
    "                \n",
    "        if 99282 in li3:\n",
    "            li3.remove(99282)\n",
    "        if 99281 in li3:\n",
    "            li3.remove(99281)\n",
    "            \n",
    "        # if 99282 in li3 and len(li3) != 1:\n",
    "        #     print(row)\n",
    "        #     li3.remove(99282)\n",
    "\n",
    "        df1.at[ind,'EANDM_Suggested_code'] = li3"
   ]
  },
  {
   "cell_type": "code",
   "execution_count": 15,
   "id": "ddab7fd6-9031-4df5-92c9-0ac31677ab56",
   "metadata": {},
   "outputs": [],
   "source": [
    "def emfinal_filtered(df1):\n",
    "    df1['EANDM_Final_code'] = None\n",
    "    for ind, row in df1.iterrows():\n",
    "        if len(row[\"EANDM_Accepted\"]) == 2:\n",
    "            accepted = \"\"\n",
    "        else:\n",
    "            accepted = row[\"EANDM_Accepted\"][1:-1]\n",
    "            \n",
    "        if len(row[\"EANDM_Added\"]) == 2:\n",
    "            added = \"\"\n",
    "        else:\n",
    "            added = row[\"EANDM_Added\"][1:-1]\n",
    "\n",
    "        if len(accepted) == 0:\n",
    "            li = []\n",
    "        else:\n",
    "            li = ast.literal_eval(accepted)\n",
    "            li = [li]\n",
    "\n",
    "        if len(added) == 0:\n",
    "            li2 = []\n",
    "        else:\n",
    "            li2 = ast.literal_eval(added)\n",
    "            li2 = [li2]\n",
    "\n",
    "        li3 = []\n",
    "        for item in li:\n",
    "            if type(item) is tuple:\n",
    "                for x in item:\n",
    "                    li3.append(x)\n",
    "            else:\n",
    "                li3.append(item)\n",
    "\n",
    "        for item2 in li2:\n",
    "            if type(item2) is tuple:\n",
    "                for x in item2:\n",
    "                    li3.append(x)\n",
    "            else: \n",
    "                li3.append(item2)\n",
    "        # li3.remove(\n",
    "       \n",
    "        df1.at[ind,'EANDM_Final_code'] = li3"
   ]
  },
  {
   "cell_type": "code",
   "execution_count": null,
   "id": "6b6559cf-e325-47ea-aa21-413b94fbf9a5",
   "metadata": {},
   "outputs": [],
   "source": []
  },
  {
   "cell_type": "code",
   "execution_count": 17,
   "id": "14e363b5-f2ee-4326-8733-8b6746b80910",
   "metadata": {},
   "outputs": [
    {
     "name": "stdout",
     "output_type": "stream",
     "text": [
      "['PH-LAMC-Los Alamos Medical Center-2023-01-01-2023-01-31.xlsx']\n",
      "Old Accepted + Added\t537\n",
      "New Accepted + Added\t537\n",
      "\n",
      "\n",
      "\n",
      "['PH-EHMC-Encino Hospital Medical Center-2023-01-01-2023-01-31.xlsx']\n",
      "Old Accepted + Added\t724\n",
      "New Accepted + Added\t724\n",
      "\n",
      "\n",
      "\n",
      "['PH-SDCH-San Dimas Community Hospital-2023-01-01-2023-01-31.xlsx']\n",
      "Old Accepted + Added\t1027\n",
      "New Accepted + Added\t1027\n",
      "\n",
      "\n",
      "\n",
      "['PH-SOH-Sherman Oaks Hospital-2023-01-01-2023-01-31.xlsx']\n",
      "Old Accepted + Added\t1692\n",
      "New Accepted + Added\t1692\n",
      "\n",
      "\n",
      "\n",
      "['PH-AHE-Alvarado Hospital EMA-2023-01-01-2023-01-31.xlsx']\n",
      "Old Accepted + Added\t2721\n",
      "New Accepted + Added\t2721\n",
      "\n",
      "\n",
      "\n",
      "['PH-CELA-East Los Angeles Doctors Hospital-2023-01-01-2023-01-31.xlsx']\n",
      "Old Accepted + Added\t1061\n",
      "New Accepted + Added\t1061\n",
      "\n",
      "\n",
      "\n",
      "['PH-LPIH-La Palma Intercommunity Hospital-2023-01-01-2023-01-31.xlsx']\n",
      "Old Accepted + Added\t1285\n",
      "New Accepted + Added\t1285\n",
      "\n",
      "\n",
      "\n",
      "['PH-RMHG-Redondo Memorial Hospital of Gardena-2023-01-01-2023-01-31.xlsx']\n",
      "Old Accepted + Added\t2869\n",
      "New Accepted + Added\t2869\n",
      "\n",
      "\n",
      "\n",
      "['PH-HEMAG-Hollywood EMA Group-2023-01-01-2023-01-31.xlsx']\n",
      "Old Accepted + Added\t1640\n",
      "New Accepted + Added\t1640\n",
      "\n",
      "\n",
      "\n",
      "['PH-SRMC-Shasta Regional Medical Center-2023-01-01-2023-01-31.xlsx']\n",
      "Old Accepted + Added\t2133\n",
      "New Accepted + Added\t2133\n",
      "\n",
      "\n",
      "\n",
      "['PH-VPH-Valley Presbyterian Hospital-2023-01-01-2023-01-31.xlsx']\n",
      "Old Accepted + Added\t4411\n",
      "New Accepted + Added\t4411\n",
      "\n",
      "\n",
      "\n",
      "['PH-CHINO-Chino Valley Medical Center-2023-01-01-2023-01-31.xlsx']\n",
      "Old Accepted + Added\t3250\n",
      "New Accepted + Added\t3250\n",
      "\n",
      "\n",
      "\n",
      "['PH-HBH-Huntington Beach Hospital-2023-01-01-2023-01-31.xlsx']\n",
      "Old Accepted + Added\t1185\n",
      "New Accepted + Added\t1185\n",
      "\n",
      "\n",
      "\n",
      "['PH-PEP-Palomar Emergency Physicians, Inc.-2023-01-01-2023-01-31.xlsx']\n",
      "Old Accepted + Added\t10394\n",
      "New Accepted + Added\t10394\n",
      "\n",
      "\n",
      "\n",
      "['PH-MMC-Montclair Hospital Medical Center-2023-01-01-2023-01-31.xlsx']\n",
      "Old Accepted + Added\t2118\n",
      "New Accepted + Added\t2118\n",
      "\n",
      "\n",
      "\n",
      "['PH-TMC-Tarzana Medical Center-2023-01-01-2023-01-31.xlsx']\n",
      "Old Accepted + Added\t4181\n",
      "New Accepted + Added\t4181\n",
      "\n",
      "\n",
      "\n",
      "['PH-PIMG-Palomar Intensivist Medical Group, Inc.-2023-01-01-2023-01-31.xlsx']\n",
      "Old Accepted + Added\t848\n",
      "New Accepted + Added\t848\n",
      "\n",
      "\n",
      "\n",
      "['PH-HIG-Hollywood Intensivist Group-2023-01-01-2023-01-31.xlsx']\n",
      "Old Accepted + Added\t325\n",
      "New Accepted + Added\t325\n",
      "\n",
      "\n",
      "\n",
      "['PH-CEMA-Corona Regional Emergency Medical Associates-2023-01-01-2023-01-31.xlsx']\n",
      "Old Accepted + Added\t4310\n",
      "New Accepted + Added\t4310\n",
      "\n",
      "\n",
      "\n",
      "['PH-CMC-College Medical Center-2023-01-01-2023-01-31.xlsx']\n",
      "Old Accepted + Added\t891\n",
      "New Accepted + Added\t891\n",
      "\n",
      "\n",
      "\n",
      "['PH-CHMC-Centinela Hospital Medical Center-2023-01-01-2023-01-31.xlsx']\n",
      "Old Accepted + Added\t3886\n",
      "New Accepted + Added\t3886\n",
      "\n",
      "\n",
      "\n",
      "['PH-CCHP-Community Hospital of Huntington Park-2023-01-01-2023-01-31.xlsx']\n",
      "Old Accepted + Added\t2008\n",
      "New Accepted + Added\t2008\n",
      "\n",
      "\n",
      "\n"
     ]
    }
   ],
   "source": [
    "i = 0\n",
    "for file in res:\n",
    "\n",
    "    # filename = re.findall(\"SCP-\\d.*\", file)\n",
    "    filename = re.findall(\"PH-.*\", file)\n",
    "    # df = pd.read_excel('/home/trishalaswain/PH_01_to_31_jan/PH-CHMC-Centinela Hospital Medical Center-2023-01-01-2023-01-31.xlsx')\n",
    "\n",
    "    print(str(filename))\n",
    "    df = pd.read_excel(file, index_col = False)\n",
    "    # df\n",
    "    # Eliminating rows with 0 Accepted, 0 Rejected & 0 Added counts\n",
    "    df = df[(df['EANDM_Accepted_Count'] != 0) | (df['EANDM_Rejected_Count'] != 0) | (df['EANDM_Added_Count'] != 0)]\n",
    "    df = df.reset_index()\n",
    "    df1 = df[[\"facilityCode\",\"facilityName\",\"accountNumber\",\"EANDM_Final\",\"EANDM_Suggested\",\n",
    "              \"EANDM_Accepted\",\"EANDM_Rejected\",\"EANDM_Added\",\n",
    "              \"EANDM_Accepted_Count\",\"EANDM_Rejected_Count\",\"EANDM_Added_Count\"]].reset_index()\n",
    "\n",
    "    emsugg_filtered(df1)\n",
    "    emfinal_filtered(df1)\n",
    "\n",
    "    df1['EANDM_Updated_Accepted_Count'] = 0\n",
    "    df1['EANDM_Updated_Rejected_Count'] = 0\n",
    "    df1['EANDM_Updated_Added_Count'] = 0\n",
    "    # print(df1)\n",
    "    sugg_rej(df1)\n",
    "    add(df1)\n",
    "\n",
    "    old_sum = df1['EANDM_Accepted_Count'].sum() + df1['EANDM_Added_Count'].sum()\n",
    "    print(\"Old Accepted + Added\\t\" +  str(old_sum))\n",
    "\n",
    "    new_sum = df1['EANDM_Updated_Accepted_Count'].sum() + df1['EANDM_Updated_Added_Count'].sum()\n",
    "    print(\"New Accepted + Added\\t\" +  str(new_sum))\n",
    "\n",
    "    # old accuracy measures\n",
    "    precision = df1['EANDM_Accepted_Count'].sum() / (df1['EANDM_Accepted_Count'].sum() + df1['EANDM_Rejected_Count'].sum())\n",
    "    recall = df1['EANDM_Accepted_Count'].sum() / (df1['EANDM_Accepted_Count'].sum() + df1['EANDM_Added_Count'].sum())\n",
    "    f1_score = (2 * precision * recall)/(precision + recall)\n",
    "    # new accuracy measures\n",
    "    new_precision = df1['EANDM_Updated_Accepted_Count'].sum() / (df1['EANDM_Updated_Accepted_Count'].sum() + df1['EANDM_Updated_Rejected_Count'].sum())\n",
    "    new_recall = df1['EANDM_Updated_Accepted_Count'].sum() / (df1['EANDM_Updated_Accepted_Count'].sum() + df1['EANDM_Updated_Added_Count'].sum())\n",
    "    new_f1_score = (2 * new_precision * new_recall)/(new_precision + new_recall)\n",
    "\n",
    "\n",
    "    df_final.at[i,'Facility_name'] = str(filename).strip(\".tsv\")\n",
    "    df_final.at[i,'Precision'] = round(precision,4)\n",
    "    df_final.at[i,'New Precision'] = round(new_precision,4)\n",
    "    df_final.at[i,'Recall'] = round(recall,4)\n",
    "    df_final.at[i,'New Recall'] = round(new_recall,4)\n",
    "    df_final.at[i,'F1-Score'] = round(f1_score,4)\n",
    "    df_final.at[i,'New F1_SCore'] = round(new_f1_score,4)\n",
    "\n",
    "    df_final.at[i,'initial_accepted_counts'] = df1.EANDM_Accepted_Count.sum()\n",
    "    df_final.at[i,'initial_added_counts'] = df1.EANDM_Added_Count.sum()\n",
    "    df_final.at[i,'initial_rejected_counts'] = df1.EANDM_Rejected_Count.sum()\n",
    "\n",
    "    df_final.at[i,'updated_accepted_counts'] = df1.EANDM_Updated_Accepted_Count.sum()\n",
    "    df_final.at[i,'updated_added_counts'] = df1.EANDM_Updated_Added_Count.sum()\n",
    "    df_final.at[i,'updated_rejected_counts'] = df1.EANDM_Updated_Rejected_Count.sum()\n",
    "    i += 1\n",
    "\n",
    "    # print(filename)\n",
    "    # print(\"old accuracy measures\")\n",
    "    # print(\"Precision\\t\" + str(precision))\n",
    "    # print(\"Recall\\t\\t\" + str(recall))\n",
    "    # print(\"F1-score\\t\" + str(f1_score))\n",
    "    # print(\"new accuracy measures\")\n",
    "    # print(\"Precision\\t\" + str(new_precision))\n",
    "    # print(\"Recall\\t\\t\" + str(new_recall))\n",
    "    # print(\"F1-score\\t\" + str(new_f1_score))\n",
    "    print(\"\\n\\n\")"
   ]
  },
  {
   "cell_type": "code",
   "execution_count": 18,
   "id": "86330608-5bf7-43b5-bf21-bafb2a14382b",
   "metadata": {},
   "outputs": [],
   "source": [
    "# df_final"
   ]
  },
  {
   "cell_type": "code",
   "execution_count": 19,
   "id": "6013ef4f-a0bd-4771-bb7d-661192a94212",
   "metadata": {},
   "outputs": [],
   "source": [
    "# df1"
   ]
  },
  {
   "cell_type": "code",
   "execution_count": 20,
   "id": "4774bae4-7a66-49b0-b303-855a20649fb6",
   "metadata": {},
   "outputs": [],
   "source": [
    "# df1.to_excel(\"/home/trishalaswain/Downloads/excel.xlsx\")"
   ]
  },
  {
   "cell_type": "code",
   "execution_count": 21,
   "id": "5baf1b21-b15e-4fcb-a58f-d2b597e0f0d9",
   "metadata": {},
   "outputs": [],
   "source": [
    "# df1.EANDM_Suggested.unique()"
   ]
  },
  {
   "cell_type": "code",
   "execution_count": 22,
   "id": "d310ba60-9cd3-4614-9dd9-af5625f28953",
   "metadata": {},
   "outputs": [],
   "source": [
    "# file_name = 'accuracy-analysis.xlsx'\n",
    "  \n",
    "# saving the excel\n",
    "df_final.to_excel('/home/trishalaswain/Downloads/ph-accuracy-without-99281_99282-JanData.xlsx')"
   ]
  },
  {
   "cell_type": "code",
   "execution_count": null,
   "id": "d825e9a3-c900-4c3e-92c1-467e83b668e0",
   "metadata": {},
   "outputs": [],
   "source": [
    "# df_final"
   ]
  },
  {
   "cell_type": "code",
   "execution_count": null,
   "id": "d729c802-7928-4560-892a-ced44ea7bb0f",
   "metadata": {},
   "outputs": [],
   "source": [
    "# df.shape"
   ]
  },
  {
   "cell_type": "code",
   "execution_count": null,
   "id": "0dde0aae-4d72-42d7-a2b1-a293420b6ca2",
   "metadata": {},
   "outputs": [],
   "source": [
    "# Eliminating rows with 0 Accepted, 0 Rejected & 0 Added counts\n",
    "# df = df[(df[\"EANDM_Accepted_Count\"] != 0) | (df[\"EANDM_Rejected_Count\"] != 0) | (df[\"EANDM_Added_Count\"] != 0)]"
   ]
  },
  {
   "cell_type": "code",
   "execution_count": null,
   "id": "8b899e10-e094-48af-8c38-e179f72f426d",
   "metadata": {},
   "outputs": [],
   "source": [
    "# df.shape"
   ]
  },
  {
   "cell_type": "code",
   "execution_count": null,
   "id": "5ae04ad2-549f-4d51-8620-0774e68dc456",
   "metadata": {},
   "outputs": [],
   "source": [
    "# df = df.reset_index()"
   ]
  },
  {
   "cell_type": "code",
   "execution_count": null,
   "id": "fcda7277-6ad4-49a3-93a4-10d9059d9ced",
   "metadata": {},
   "outputs": [],
   "source": [
    "# df"
   ]
  },
  {
   "cell_type": "code",
   "execution_count": null,
   "id": "75f1699c-9702-4a14-a3c8-4d18ca7f457a",
   "metadata": {},
   "outputs": [],
   "source": [
    "# df1 = df[[\"facilityCode\",\"facilityName\",\"accountNumber\",\"EANDM_Final2\",\"EANDM_Suggested\",\"EANDM_Accepted_Count\",\"EANDM_Rejected_Count\",\"EANDM_Added_Count\"]].reset_index()"
   ]
  },
  {
   "cell_type": "code",
   "execution_count": null,
   "id": "72652e96-f08a-46dc-b8f0-18db88dd976d",
   "metadata": {},
   "outputs": [],
   "source": [
    "# df1"
   ]
  },
  {
   "cell_type": "code",
   "execution_count": null,
   "id": "3ebc4eed-c119-44d6-93e5-f128b2b0a821",
   "metadata": {},
   "outputs": [],
   "source": [
    "# df1.EANDM_Suggested.unique()"
   ]
  },
  {
   "cell_type": "code",
   "execution_count": null,
   "id": "4420ef13-c5f0-4c50-9cf8-7ef01bb6fe5c",
   "metadata": {},
   "outputs": [],
   "source": [
    "# df1['EANDM_Suggested_code'] = None"
   ]
  },
  {
   "cell_type": "code",
   "execution_count": null,
   "id": "604a7a9b-fe61-442b-8650-ab2146128250",
   "metadata": {},
   "outputs": [],
   "source": [
    "# for index, row in df1.iterrows():\n",
    "#     li = []\n",
    "#     i = str(row[\"EANDM_Suggested\"])\n",
    "#     if \"99285\" in i:\n",
    "#         li.append(99285)\n",
    "#     if \"99284\" in i:\n",
    "#         li.append(99284)\n",
    "#     if \"99283\" in i:\n",
    "#         li.append(99283)\n",
    "#     if \"99282\" in i:\n",
    "#         li.append(99282)\n",
    "#     # if \"99281\" in i:\n",
    "#         # li.append(99281)\n",
    "#     if \"99291\" in i:\n",
    "#         li.append(99291)\n",
    "#     if \"99292\" in i:\n",
    "#         li.append(99292)\n",
    "    \n",
    "#     df1.at[index,'EANDM_Suggested_code'] = li"
   ]
  },
  {
   "cell_type": "code",
   "execution_count": null,
   "id": "bc2e3d98-4480-4df4-acaf-2af99df830d0",
   "metadata": {},
   "outputs": [],
   "source": [
    "# df1['EANDM_Final_code'] = None"
   ]
  },
  {
   "cell_type": "code",
   "execution_count": null,
   "id": "16dc48b6-05d1-4a06-8e02-91956c3875b1",
   "metadata": {},
   "outputs": [],
   "source": [
    "# for index, row in df1.iterrows():\n",
    "#     li = []\n",
    "#     i = str(row[\"EANDM_Final2\"])\n",
    "#     if \"99285\" in i:\n",
    "#         li.append(99285)\n",
    "#     if \"99284\" in i:\n",
    "#         li.append(99284)\n",
    "#     if \"99283\" in i:\n",
    "#         li.append(99283)\n",
    "#     if \"99282\" in i:\n",
    "#         li.append(99282)\n",
    "#     if \"99281\" in i:\n",
    "#         li.append(99281)\n",
    "#     if \"99291\" in i:\n",
    "#         li.append(99291)\n",
    "#     if \"99292\" in i:\n",
    "#         li.append(99292)\n",
    "    \n",
    "#     df1.at[index,'EANDM_Final_code'] = li"
   ]
  },
  {
   "cell_type": "code",
   "execution_count": null,
   "id": "784ad1e9-bde7-4c8a-8658-7306f3b1b67a",
   "metadata": {},
   "outputs": [],
   "source": [
    "# df1"
   ]
  },
  {
   "cell_type": "code",
   "execution_count": null,
   "id": "a505421f-44ca-4e65-b918-6678765414af",
   "metadata": {},
   "outputs": [],
   "source": [
    "# df1['EANDM_Updated_Accepted_Count'] = 0\n",
    "# df1['EANDM_Updated_Rejected_Count'] = 0\n",
    "# df1['EANDM_Updated_Added_Count'] = 0"
   ]
  },
  {
   "cell_type": "code",
   "execution_count": null,
   "id": "aefffdf1-24a5-491e-8f8f-8c4438480c7e",
   "metadata": {},
   "outputs": [],
   "source": [
    "# df1['EANDM_Updated_Accepted_Count'].info"
   ]
  },
  {
   "cell_type": "code",
   "execution_count": null,
   "id": "d0aa5f9e-ced4-4ea6-b193-727acd7e52b5",
   "metadata": {},
   "outputs": [],
   "source": [
    "# def sugg_rej(df1):\n",
    "#     for index, row in df1.iterrows():\n",
    "#         for code in row['EANDM_Suggested_code']:\n",
    "#             if str(code) in str(row['EANDM_Final_code']):\n",
    "#     #           incrementing accepted count if code found in both suggested and final\n",
    "#                 df1.at[index,'EANDM_Updated_Accepted_Count'] += 1\n",
    "#             if str(code) not in str(row['EANDM_Final_code']):\n",
    "#     #           incrementing rejected count if code found suggested but not in final\n",
    "#                 df1.at[index,'EANDM_Updated_Rejected_Count'] += 1"
   ]
  },
  {
   "cell_type": "code",
   "execution_count": null,
   "id": "e8572087-4e64-4931-b384-4f1714291ce1",
   "metadata": {},
   "outputs": [],
   "source": [
    "# def add(df1):\n",
    "#     for index, row in df1.iterrows():\n",
    "#         for fcode in row['EANDM_Final_code']:\n",
    "#             if str(fcode) not in str(row['EANDM_Suggested_code']):\n",
    "#     #           incrementing added count if code found final but not in suggested\n",
    "#                 df1.at[index,'EANDM_Updated_Added_Count'] += 1"
   ]
  },
  {
   "cell_type": "code",
   "execution_count": null,
   "id": "8890d405-3136-4b9e-8590-bbe1ad2c9ffe",
   "metadata": {},
   "outputs": [],
   "source": [
    "# df1"
   ]
  },
  {
   "cell_type": "code",
   "execution_count": null,
   "id": "cd76ccf9-917d-4b42-b3e8-42a1ad2fe4af",
   "metadata": {},
   "outputs": [],
   "source": [
    "# # old accuracy measures\n",
    "# precision = df1['EANDM_Accepted_Count'].sum() / (df1['EANDM_Accepted_Count'].sum() + df1['EANDM_Rejected_Count'].sum())\n",
    "# recall = df1['EANDM_Accepted_Count'].sum() / (df1['EANDM_Accepted_Count'].sum() + df1['EANDM_Added_Count'].sum())\n",
    "# f1_score = (2 * precision * recall)/(precision + recall)"
   ]
  },
  {
   "cell_type": "code",
   "execution_count": null,
   "id": "f93761f9-fdb6-4747-8592-93c99530e3a2",
   "metadata": {},
   "outputs": [],
   "source": [
    "# # new accuracy measures\n",
    "# new_precision = df1['EANDM_Updated_Accepted_Count'].sum() / (df1['EANDM_Updated_Accepted_Count'].sum() + df1['EANDM_Updated_Rejected_Count'].sum())\n",
    "# new_recall = df1['EANDM_Updated_Accepted_Count'].sum() / (df1['EANDM_Updated_Accepted_Count'].sum() + df1['EANDM_Updated_Added_Count'].sum())\n",
    "# new_f1_score = (2 * new_precision * new_recall)/(new_precision + new_recall)"
   ]
  },
  {
   "cell_type": "code",
   "execution_count": null,
   "id": "ca5cdad1-3728-4aa6-80c0-496119d6c1c6",
   "metadata": {},
   "outputs": [],
   "source": [
    "# print(\"old accuracy measures\")\n",
    "# print(\"Precision\\t\" + str(precision))\n",
    "# print(\"Recall\\t\\t\" + str(recall))\n",
    "# print(\"F1-score\\t\" + str(f1_score))"
   ]
  },
  {
   "cell_type": "code",
   "execution_count": null,
   "id": "c3544ceb-57de-437f-befc-ae6e7da21bde",
   "metadata": {},
   "outputs": [],
   "source": [
    "# print(\"new accuracy measures\")\n",
    "# print(\"Precision\\t\" + str(new_precision))\n",
    "# print(\"Recall\\t\\t\" + str(new_recall))\n",
    "# print(\"F1-score\\t\" + str(new_f1_score))"
   ]
  },
  {
   "cell_type": "code",
   "execution_count": null,
   "id": "bd329723-566d-41d3-a0bb-ba0c56b1d504",
   "metadata": {},
   "outputs": [],
   "source": []
  }
 ],
 "metadata": {
  "kernelspec": {
   "display_name": "Python 3 (ipykernel)",
   "language": "python",
   "name": "python3"
  },
  "language_info": {
   "codemirror_mode": {
    "name": "ipython",
    "version": 3
   },
   "file_extension": ".py",
   "mimetype": "text/x-python",
   "name": "python",
   "nbconvert_exporter": "python",
   "pygments_lexer": "ipython3",
   "version": "3.9.12"
  }
 },
 "nbformat": 4,
 "nbformat_minor": 5
}
