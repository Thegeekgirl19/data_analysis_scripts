{
 "cells": [
  {
   "cell_type": "code",
   "execution_count": null,
   "metadata": {
    "tags": []
   },
   "outputs": [],
   "source": [
    "import pandas as pd\n",
    "import os\n",
    "import json"
   ]
  },
  {
   "cell_type": "code",
   "execution_count": null,
   "metadata": {
    "tags": []
   },
   "outputs": [],
   "source": [
    "dir_path = r'/home/trishalaswain/ClientData/PH/docs_SRMC/json'"
   ]
  },
  {
   "cell_type": "code",
   "execution_count": null,
   "metadata": {
    "tags": []
   },
   "outputs": [],
   "source": [
    "def parseJson(file):\n",
    "    jsonFile = open(file)\n",
    "    data = json.load(jsonFile)\n",
    "    document_text = data['documentText']\n",
    "    lines = document_text.split(\"\\n\")\n",
    "    wordcount = 0\n",
    "\n",
    "    for words in lines:\n",
    "        wordcount += len(words.split(\" \"))\n",
    "\n",
    "    return wordcount"
   ]
  },
  {
   "cell_type": "code",
   "execution_count": null,
   "metadata": {
    "tags": []
   },
   "outputs": [],
   "source": [
    "df = pd.DataFrame()"
   ]
  },
  {
   "cell_type": "code",
   "execution_count": null,
   "metadata": {
    "tags": []
   },
   "outputs": [],
   "source": [
    "average_word_counts_for_scp = 0\n",
    "\n",
    "for item in os.listdir(dir_path):\n",
    "    # facilityfolder = os.path.join(dir_path, item)\n",
    "    word_counts = 0\n",
    "    file_count=0\n",
    "    # if os.path.isfile(facilityfolder):\n",
    "    #     # print(facilityfolder)\n",
    "    #     continue\n",
    "    # for accountfolder in os.listdir(facilityfolder):\n",
    "    #     accountfolder = os.path.join(facilityfolder, accountfolder)\n",
    "        \n",
    "    #     if os.path.isfile(accountfolder):\n",
    "    #         # print(accountfolder)\n",
    "    #         continue\n",
    "        \n",
    "        # for file in os.listdir(accountfolder):\n",
    "    item = os.path.join(dir_path, item)\n",
    "    if os.path.isfile(item):\n",
    "        if(item.endswith(\"eandm_req.json\")):\n",
    "            file_count += 1\n",
    "            word_counts += parseJson(item)\n",
    "    \n",
    "    if file_count==0:\n",
    "        continue\n",
    "    average_word_counts = word_counts/file_count\n",
    "    average_word_counts_for_scp += average_word_counts\n",
    "\n",
    "    print(item, \"\\t\", average_word_counts)"
   ]
  },
  {
   "cell_type": "code",
   "execution_count": null,
   "metadata": {},
   "outputs": [],
   "source": [
    "average_word_counts_for_scp"
   ]
  },
  {
   "cell_type": "code",
   "execution_count": null,
   "metadata": {},
   "outputs": [],
   "source": [
    "average_word_counts_for_scp = average_word_counts_for_scp/666"
   ]
  },
  {
   "cell_type": "code",
   "execution_count": null,
   "metadata": {},
   "outputs": [],
   "source": [
    "average_word_counts_for_scp"
   ]
  },
  {
   "cell_type": "code",
   "execution_count": null,
   "metadata": {},
   "outputs": [],
   "source": [
    "average_word_counts"
   ]
  },
  {
   "cell_type": "code",
   "execution_count": null,
   "metadata": {},
   "outputs": [],
   "source": []
  }
 ],
 "metadata": {
  "kernelspec": {
   "display_name": "base",
   "language": "python",
   "name": "python3"
  },
  "language_info": {
   "codemirror_mode": {
    "name": "ipython",
    "version": 3
   },
   "file_extension": ".py",
   "mimetype": "text/x-python",
   "name": "python",
   "nbconvert_exporter": "python",
   "pygments_lexer": "ipython3",
   "version": "3.9.12"
  }
 },
 "nbformat": 4,
 "nbformat_minor": 4
}
