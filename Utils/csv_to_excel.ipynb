{
 "cells": [
  {
   "cell_type": "code",
   "execution_count": 9,
   "id": "9352900e-4d17-46a8-93e2-885ac5e5887c",
   "metadata": {},
   "outputs": [],
   "source": [
    "# importing pandas module\n",
    "import pandas as pd\n",
    "\n",
    "# reading the csv file\n",
    "cvsDataframe = pd.read_table('/home/trishalaswain/Downloads/analysis_epic_stats.csv')\n",
    "\n",
    "# creating an output excel file\n",
    "resultExcelFile = pd.ExcelWriter('/home/trishalaswain/Downloads/analysis_epic_stats.xlsx')\n",
    "\n",
    "# # converting the csv file to an excel file\n",
    "cvsDataframe.to_excel(resultExcelFile, index=False)\n",
    "\n",
    "# # saving the excel file\n",
    "resultExcelFile.save()"
   ]
  },
  {
   "cell_type": "code",
   "execution_count": 4,
   "id": "5654b89c-02d6-45d1-8d07-35c4bf88bf57",
   "metadata": {},
   "outputs": [
    {
     "data": {
      "text/plain": [
       "<pandas.io.excel._xlsxwriter.XlsxWriter at 0x7f1f4cd1f970>"
      ]
     },
     "execution_count": 4,
     "metadata": {},
     "output_type": "execute_result"
    }
   ],
   "source": [
    "resultExcelFile"
   ]
  },
  {
   "cell_type": "code",
   "execution_count": null,
   "id": "c87d0b01-f919-476b-8faf-501abc12ebc6",
   "metadata": {},
   "outputs": [],
   "source": []
  }
 ],
 "metadata": {
  "kernelspec": {
   "display_name": "Python 3 (ipykernel)",
   "language": "python",
   "name": "python3"
  },
  "language_info": {
   "codemirror_mode": {
    "name": "ipython",
    "version": 3
   },
   "file_extension": ".py",
   "mimetype": "text/x-python",
   "name": "python",
   "nbconvert_exporter": "python",
   "pygments_lexer": "ipython3",
   "version": "3.9.12"
  }
 },
 "nbformat": 4,
 "nbformat_minor": 5
}
