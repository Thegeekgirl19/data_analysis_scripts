{
 "cells": [
  {
   "cell_type": "code",
   "execution_count": null,
   "metadata": {},
   "outputs": [],
   "source": [
    "import pandas as pd\n",
    "from sqlalchemy import create_engine\n",
    "import regex as re\n",
    "import time\n",
    "from datetime import datetime\n",
    "import os\n",
    "\n",
    "\n",
    "\n",
    "\n",
    "# prod\n",
    "user = 'read_only'\n",
    "pwd = 'WHC63fKyjudfSz2U'\n",
    "host = 'ezcapc-webdb-production-readrep.cncmk5ndlbjo.us-east-1.rds.amazonaws.com'\n",
    "db_name = 'CAPC_APIGATEWAY'\n",
    "env='production'\n",
    "\n",
    "db_connection_str = 'mysql+pymysql://{}:{}@{}/{}'.format(user,pwd,host,db_name)\n",
    "db_connection = create_engine(db_connection_str)"
   ]
  },
  {
   "cell_type": "code",
   "execution_count": null,
   "metadata": {},
   "outputs": [],
   "source": [
    "query = '''\n",
    "SELECT \n",
    "    dm.account_id, orignal_path\n",
    "FROM\n",
    "    document_mst AS dm\n",
    "        INNER JOIN\n",
    "    account_mst AS am ON dm.account_id = am.id\n",
    "        INNER JOIN\n",
    "     document_processing_detail AS dpd ON dm.id = dpd.document_id\n",
    "WHERE\n",
    "    am.facility_id = 150\n",
    "        AND dm.is_physician_document = 1\n",
    "        AND dpd.created_date >= '2023-07-24';\n",
    "'''"
   ]
  },
  {
   "cell_type": "code",
   "execution_count": null,
   "metadata": {},
   "outputs": [],
   "source": [
    "df_query = pd.read_sql(query, con=db_connection)"
   ]
  },
  {
   "cell_type": "code",
   "execution_count": null,
   "metadata": {},
   "outputs": [],
   "source": [
    "df_query.columns "
   ]
  },
  {
   "cell_type": "code",
   "execution_count": null,
   "metadata": {},
   "outputs": [],
   "source": [
    "df_query"
   ]
  },
  {
   "cell_type": "code",
   "execution_count": null,
   "metadata": {},
   "outputs": [],
   "source": [
    "df_query"
   ]
  },
  {
   "cell_type": "code",
   "execution_count": null,
   "metadata": {},
   "outputs": [],
   "source": [
    "name_list = df_query.account_number.tolist()"
   ]
  },
  {
   "cell_type": "code",
   "execution_count": null,
   "metadata": {},
   "outputs": [],
   "source": [
    "name_list"
   ]
  },
  {
   "cell_type": "code",
   "execution_count": null,
   "metadata": {},
   "outputs": [],
   "source": [
    "import os\n",
    "import shutil\n",
    "\n",
    "source_folder = r\"/home/trishalaswain/Documents/analysis/data/download_scripts_and_tars/OCR_PROJECT_TEST/PDF/\"\n",
    "# destination_folder = r\"/home/trishalaswain/Documents/analysis/data/download_scripts_and_tars/OCR_PROJECT_TEST/PDF/\"\n",
    "\n",
    "for sub1 in os.listdir(source_folder):\n",
    "    # pdf_name = sub1.replace(\".json\", \"\")\n",
    "    pdf_name = sub1.replace(\".pdf\", \"\")\n",
    "\n",
    "    # print(pdf_name.tr)\n",
    "    # if pdf_name[1:] not in name_list:\n",
    "    if pdf_name not in name_list:\n",
    "        # shutil.move(source_folder +sub1, destination_folder+sub1)\n",
    "        os.remove(source_folder +sub1)"
   ]
  },
  {
   "cell_type": "code",
   "execution_count": null,
   "metadata": {},
   "outputs": [],
   "source": []
  },
  {
   "cell_type": "code",
   "execution_count": null,
   "metadata": {},
   "outputs": [],
   "source": [
    "df_query.columns"
   ]
  },
  {
   "cell_type": "code",
   "execution_count": null,
   "metadata": {},
   "outputs": [],
   "source": [
    "print(df_query.groupby('facility_id').size().to_markdown())"
   ]
  },
  {
   "cell_type": "code",
   "execution_count": null,
   "metadata": {},
   "outputs": [],
   "source": [
    "for account_number, orignal_path in zip(df_query.account_number, df_query.orignal_path):\n",
    "    if orignal_path == None or account_number ==None:\n",
    "        continue\n",
    "\n",
    "# fac_name=file_path.split(\"/\")[2]\n",
    "# cli=file_path.split(\"/\")[0]\n",
    "# fac_list.append(fac_name)\n",
    "\n",
    "# original path\n",
    "    print(\"aws s3 cp 's3://ezdi-{}-bucket/ezcapc/{}' {}.pdf\".format(env,orignal_path,account_number))"
   ]
  },
  {
   "cell_type": "code",
   "execution_count": null,
   "metadata": {},
   "outputs": [],
   "source": []
  }
 ],
 "metadata": {
  "kernelspec": {
   "display_name": "base",
   "language": "python",
   "name": "python3"
  },
  "language_info": {
   "codemirror_mode": {
    "name": "ipython",
    "version": 3
   },
   "file_extension": ".py",
   "mimetype": "text/x-python",
   "name": "python",
   "nbconvert_exporter": "python",
   "pygments_lexer": "ipython3",
   "version": "3.9.12"
  },
  "orig_nbformat": 4
 },
 "nbformat": 4,
 "nbformat_minor": 2
}
