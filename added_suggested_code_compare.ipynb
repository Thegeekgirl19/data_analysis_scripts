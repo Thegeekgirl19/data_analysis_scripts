{
 "cells": [
  {
   "cell_type": "code",
   "execution_count": 1,
   "id": "4ac3577c-4be3-42d1-8291-c621335d7a02",
   "metadata": {},
   "outputs": [],
   "source": [
    "import pandas as pd\n",
    "import os\n",
    "import re"
   ]
  },
  {
   "cell_type": "code",
   "execution_count": 2,
   "id": "e4717baa-b2fc-4e4b-9904-2470982606d3",
   "metadata": {},
   "outputs": [],
   "source": [
    "facility=\"SCP\"\n",
    "dir_path = r'/home/trishalaswain/SCP_oct_xlsx/'.format(facility)\n",
    "res = []\n",
    "\n",
    "for path in os.listdir(dir_path):\n",
    "    if path.startswith('.'):\n",
    "        continue\n",
    "    if path.endswith('EANDM.xlsx') or path.endswith('CPT.xlsx') or path.endswith('CM.xlsx') or path.endswith('HCPCS.xlsx'):\n",
    "        continue\n",
    "    if os.path.isfile(os.path.join(dir_path, path)):\n",
    "        res.append(r'/home/trishalaswain/SCP_oct_xlsx/'.format(facility)+path)"
   ]
  },
  {
   "cell_type": "code",
   "execution_count": 3,
   "id": "7fb20cb1",
   "metadata": {},
   "outputs": [],
   "source": [
    "df=[]\n",
    "for r in res:\n",
    "    df.append(pd.read_excel(r))"
   ]
  },
  {
   "cell_type": "code",
   "execution_count": 4,
   "id": "e54196b4-0bc8-4138-aa4f-7dd21b9e6d4d",
   "metadata": {},
   "outputs": [],
   "source": [
    "# cleaning of suggestion and final codes\n",
    "\n",
    "def clean(x):\n",
    "    x=str(x)\n",
    "    new_code=''\n",
    "    if re.match('.*9921[1-5].*',x) and re.match('.*9920[1-5].*',x):\n",
    "            codes=x.split(',')\n",
    "            for code in codes:\n",
    "                if re.match('.*9921[1-5].*', code):\n",
    "                    new_code=code.strip()   \n",
    "    \n",
    "    if re.match('.*992[0-9]{2}.*',x) and re.match('.*994[0-9]{2}.*',x):\n",
    "            codes=x.split(',')\n",
    "            for code in codes:\n",
    "                if re.match('.*992[0-9]{2}.*', code):\n",
    "                    new_code=code.strip()   \n",
    "               \n",
    "    if new_code!='':\n",
    "        codes=re.findall('\\d{5}',new_code)\n",
    "    else:\n",
    "        codes=re.findall('\\d{5}',x)\n",
    "    codes.sort()\n",
    "    \n",
    "    if codes!=[]:\n",
    "        return codes[-1]\n",
    "    else:\n",
    "        return '[]'\n",
    "    \n",
    "for df_new in df:\n",
    "    df_new['new_sugg'] = df_new.EANDM_Suggested.apply(clean)\n",
    "    df_new['new_final'] = df_new.EANDM_Final.apply(clean)"
   ]
  },
  {
   "cell_type": "code",
   "execution_count": 5,
   "id": "0f493689-868a-46c6-aa25-1a0b6b22aa73",
   "metadata": {},
   "outputs": [],
   "source": [
    "# df_new.EANDM_Final"
   ]
  },
  {
   "cell_type": "code",
   "execution_count": 6,
   "id": "a423f2d6-a609-4e31-b370-3c328faf800e",
   "metadata": {
    "scrolled": true
   },
   "outputs": [],
   "source": [
    "# category 1 - we did not suggest any code\n",
    "\n",
    "def get_category_1(x):\n",
    "    sugg = x.new_sugg\n",
    "    final = str(x.new_final)\n",
    "    \n",
    "    # a\n",
    "    if sugg == \"{}\" and re.match('.*(992[018]{1}5).*',final):\n",
    "        return \"category_1_a\"\n",
    "\n",
    "    # b\n",
    "    elif sugg == \"{}\" and re.match('.*(9929[12]).*',final):\n",
    "        return \"category_1_b\"\n",
    "\n",
    "    # c\n",
    "    elif sugg == \"{}\" and re.match('.*(9944[1-3]).*',final):\n",
    "        return \"category_1_c\"\n",
    "\n",
    "    # d\n",
    "    elif sugg == \"{}\" and re.match('.*(993[8-9][1-7]).*',final):\n",
    "        return \"category_1_d\"\n",
    "\n",
    "    # e\n",
    "    elif sugg == \"{}\" and re.match('\\d.*',final):\n",
    "        return \"category_1_e\"\n",
    "    \n",
    "    return \"null\"\n",
    "\n",
    "for df_new in df:\n",
    "    df_new['category1'] = df_new.apply(get_category_1, axis=1)"
   ]
  },
  {
   "cell_type": "code",
   "execution_count": 7,
   "id": "7a10b529-da9e-4d27-b11d-fc7933596e48",
   "metadata": {
    "scrolled": true
   },
   "outputs": [],
   "source": [
    "# for df_new in df:\n",
    "#     print(df_new.category1.value_counts())\n",
    "#     print(df_new.facilityName.unique())"
   ]
  },
  {
   "cell_type": "code",
   "execution_count": 8,
   "id": "5abf28b2-ec6f-4f48-84c9-485518874f7f",
   "metadata": {},
   "outputs": [],
   "source": [
    "# category 2 a - missed the place of care\n",
    "\n",
    "def get_category_2a(x):\n",
    "    sugg = x.new_sugg\n",
    "    final = str(x.new_final)\n",
    "    \n",
    "    # i\n",
    "    if re.match('.*9928[1-5].*',sugg) and re.match('.*9929[12].*',final):\n",
    "        return \"category_2a_i\"\n",
    "\n",
    "    # ii\n",
    "    elif re.match('.*9929[12].*',sugg) and re.match('.*9928[1-5].*',final):\n",
    "        return \"category_2a_ii\"\n",
    "\n",
    "    # iii\n",
    "    elif re.match('.*9944[1-3].*',sugg) and re.match('.*992[01][2-5].*',final):\n",
    "        return \"category_2a_iii\"\n",
    "\n",
    "    # iv\n",
    "    elif re.match('.*992[01][2-5].*',sugg) and re.match('.*9944[1-3].*',final):\n",
    "        return \"category_2a_iv\"\n",
    "\n",
    "    # v\n",
    "    elif re.match('.*992[01][2-5].*',sugg) and re.match('.*993[89][1-7].*',final):\n",
    "        return \"category_2a_v\"\n",
    "\n",
    "    # vi\n",
    "    elif re.match('.*993[89][1-7].*',sugg) and re.match('.*992[01][2-5].*',final):\n",
    "        return \"category_2a_vi\"\n",
    "\n",
    "    return \"null\"\n",
    "\n",
    "for df_new in df:\n",
    "    df_new['category2a'] = df_new.apply(get_category_2a, axis=1)\n",
    "    "
   ]
  },
  {
   "cell_type": "code",
   "execution_count": 9,
   "id": "0102409c-75ab-418d-9022-bd5c69998a65",
   "metadata": {
    "scrolled": true
   },
   "outputs": [],
   "source": [
    "# for d in df:\n",
    "#     print(d.category2a.value_counts())\n",
    "#     print(df_new.facilityName.unique())"
   ]
  },
  {
   "cell_type": "code",
   "execution_count": 10,
   "id": "deab5e5f-5975-42ff-b29b-53b167076dd0",
   "metadata": {},
   "outputs": [],
   "source": [
    "# category 2 b - missed the place of care\n",
    "\n",
    "def get_category_2b(x):\n",
    "    sugg = x.new_sugg\n",
    "    final = str(x.new_final)\n",
    "    \n",
    "    # i\n",
    "    if re.match('.*9920[1-5].*',sugg) and re.match('.*9921[1-5].*',final):\n",
    "        return \"category_2b_i\"\n",
    "    # ii\n",
    "    elif re.match('.*9921[1-5].*',sugg) and re.match('.*9920[1-5].*',final):\n",
    "        return \"category_2b_ii\"\n",
    "\n",
    "    # iii\n",
    "    elif re.match('.*9938[1-7].*',sugg) and re.match('.*9939[1-7].*',final):\n",
    "        return \"category_2b_iii\"\n",
    "\n",
    "    # iv\n",
    "    elif re.match('.*9939[1-7].*',sugg) and re.match('.*9938[1-7].*',final):\n",
    "        return \"category_2b_iv\"\n",
    "\n",
    "    return \"null\"\n",
    "\n",
    "\n",
    "for df_new in df:\n",
    "    df_new['category2b'] = df_new.apply(get_category_2b, axis=1)"
   ]
  },
  {
   "cell_type": "code",
   "execution_count": 11,
   "id": "f8b6c06f-a187-4db8-9463-763c40ca7a4f",
   "metadata": {
    "scrolled": true
   },
   "outputs": [],
   "source": [
    "# for df_new in df:\n",
    "#     print(df_new.category2b.value_counts())\n",
    "#     print(df_new.facilityName.unique())"
   ]
  },
  {
   "cell_type": "code",
   "execution_count": 12,
   "id": "c1653006-f048-43d4-b21a-b556ec675642",
   "metadata": {},
   "outputs": [],
   "source": [
    "# category 2 c - missed the place of care\n",
    "\n",
    "def get_category_2c(x):\n",
    "    sugg = x.new_sugg\n",
    "    final = str(x.new_final)\n",
    "\n",
    "    # i\n",
    "  \n",
    "    if re.match('.*9928[1-4].*',sugg) and re.match('.*99285.*',final):\n",
    "        return \"category_2c_i\"\n",
    "\n",
    "    # ii\n",
    "    elif re.match('.*99285.*',sugg) and re.match('.*9928[1-4].*',final):\n",
    "        return \"category_2c_ii\"\n",
    "\n",
    "    # iii\n",
    "    elif re.match('.*992[01][1-4].*',sugg) and re.match('.*992[01]5.*',final):\n",
    "        return \"category_2c_iii\"\n",
    "\n",
    "    # iv\n",
    "    elif re.match('.*992[01]5.*',sugg) and re.match('.*992[01][1-4].*',final):\n",
    "        return \"category_2c_iv\"\n",
    "    \n",
    "    # v\n",
    "    elif (sugg=='99291' and final=='99292') or (sugg=='99292' and final=='99291'): \n",
    "        return \"category_2c_v\"\n",
    "\n",
    "    return \"null\"\n",
    "\n",
    "for df_new in df:\n",
    "    df_new['category2c'] = df_new.apply(get_category_2c, axis=1)"
   ]
  },
  {
   "cell_type": "code",
   "execution_count": 13,
   "id": "707ec2eb-7256-49ba-a11f-c0dcdde207b0",
   "metadata": {},
   "outputs": [],
   "source": [
    "# print(re.match('.*992[01][1-4].*','99214, 99215') and re.match('.*992[01]5.*','99215'))"
   ]
  },
  {
   "cell_type": "code",
   "execution_count": 14,
   "id": "72142cdc-2418-49ac-a015-0327b4ec7d3d",
   "metadata": {
    "scrolled": true
   },
   "outputs": [],
   "source": [
    "# for df_new in df:\n",
    "#     print(df_new.category2c.value_counts())\n",
    "#     print(df_new.facilityName.unique())"
   ]
  },
  {
   "cell_type": "code",
   "execution_count": 15,
   "id": "67c79026-cf68-4def-b5ba-8a2338731edd",
   "metadata": {},
   "outputs": [],
   "source": [
    "\n",
    "def get_match(sug, fin):\n",
    "\n",
    "    if sug==fin:\n",
    "        return True\n",
    "    return False\n",
    "\n",
    "\n",
    "def get_not_accepted(x):\n",
    "    sugg = x.new_sugg\n",
    "    final = str(x.new_final)\n",
    "\n",
    "    # a they didn't accept any code\n",
    "    if re.match('\\d.*',sugg) and final=='[]':\n",
    "        return \"category_3a\"\n",
    "\n",
    "    # b the exact match code\n",
    "    elif get_match(sugg, final):\n",
    "        return \"category_3b\"\n",
    "\n",
    "    return \"other\"\n",
    "\n",
    "for df_new in df:\n",
    "    # print(df_new.facilityName.unique())\n",
    "    df_new['category3'] = df_new.apply(get_not_accepted, axis=1)"
   ]
  },
  {
   "cell_type": "code",
   "execution_count": null,
   "id": "ae91d03f",
   "metadata": {},
   "outputs": [],
   "source": [
    "def get_final_category(x):\n",
    "    cat1=x.category1\n",
    "    cat2a=x.category2a\n",
    "    cat2b=x.category2b\n",
    "    cat2c=x.category2c\n",
    "    cat3=x.category3\n",
    "    \n",
    "    if cat1!=\"null\":\n",
    "        return cat1\n",
    "        \n",
    "    if cat2a!=\"null\":\n",
    "        return cat2a\n",
    "    \n",
    "    if cat2b!=\"null\":\n",
    "        return cat2b\n",
    "    \n",
    "    if cat2c!=\"null\":\n",
    "        return cat2c\n",
    "    \n",
    "    if cat3!=\"null\":\n",
    "        return cat3\n",
    "        \n",
    "    return \"null\"\n",
    "\n",
    "\n",
    "for df_new in df:\n",
    "    df_new['final_category'] = df_new.apply(get_final_category, axis=1)"
   ]
  },
  {
   "cell_type": "code",
   "execution_count": null,
   "id": "cfd0396c-0cbd-4a1c-93f8-bd807b98b6c3",
   "metadata": {},
   "outputs": [],
   "source": [
    "# for df_new in df:\n",
    "#     print(df_new.category3.value_counts())\n",
    "#     print(df_new.facilityName.unique())"
   ]
  },
  {
   "cell_type": "code",
   "execution_count": null,
   "id": "29f2367b-9013-45d7-81cd-a76cf9342162",
   "metadata": {},
   "outputs": [],
   "source": [
    "# where category 1,2a,2b,2c and category 3 conflict\n",
    "\n",
    "# for df_new in df:\n",
    "#     for d1, d2a, d2b, d2c, d3, dAcc, fn in zip(df_new.category1,df_new.category2a,df_new.category2b,df_new.category2c,df_new.category3,df_new.accountNumber,df_new.facilityName):\n",
    "#         if (d1!='null' or d2a!='null' or d2b!='null' or d2c!='null') and d3!='other':\n",
    "#             print(dAcc,fn)"
   ]
  },
  {
   "cell_type": "code",
   "execution_count": null,
   "id": "1648dd59-72e8-4e5a-a3b1-e64a91ee9b34",
   "metadata": {
    "tags": []
   },
   "outputs": [],
   "source": [
    "# category 1: When we did not suggest any code:\n",
    "# \ta) How many level 5 codes\n",
    "# \tb) how many critical care codes: 91, 92\n",
    "# \tc) How many telephone codes: 441 - 443\n",
    "# \td) preventive 381-387 & 91-97\n",
    "# \te) How many other codes\n",
    "\n",
    "# Category 2: We suggested wrong code:\n",
    "# \ta) how many times we missed the place of care\n",
    "# \t\ti) We suggested 81-85, they added 91, 92\n",
    "# \t\tii) We suggested 91, 92, they added 81-85\n",
    "# \t\tiii) We suggested 441 - 443, they added 212-215\n",
    "# \t\tiv) We suggested 212-215, they added 441, 443\n",
    "# \t\tv) we suggested 212-215 and they added 381-387 & 391-397\n",
    "# \t\tvi) we suggested 381-387 & 391-397 and they added 212-215\n",
    "# \tb) How many visit types we mismatched\n",
    "# \t\ti) We suggested NP 201 - 205, they added EP 212 - 215\n",
    "# \t\tii) We suggested EP 212 - 215, they added NP 201 - 205\n",
    "# \t\tiii) we suggested NP 381-387 and they added 391-397\n",
    "# \t\tiv) we suggested NP 391-397 and they added 381-387\n",
    "# \tc) How many level 5 mismatch in same place of care\n",
    "# \t\ti) We suggested 81 - 84, they added 85\n",
    "# \t\tii) We suggested 85, they added 81 - 84\n",
    "# \t\tiii) We suggested 212-214 or 201-204, they added 205 or 215\n",
    "# \t\tiv) We suggested 205 or 215, they added 212-214 or 201-204\n",
    "# \t\tv) miss-match with 91 and 92\n",
    "\n",
    "# Category 3: final result\n",
    "# \ta) they didn't accept any code\n",
    "# \tb) they accepted our code"
   ]
  },
  {
   "cell_type": "code",
   "execution_count": null,
   "id": "e193ee41-ab71-41a2-bebd-54088a1aa846",
   "metadata": {},
   "outputs": [],
   "source": [
    "# code range of facilities\n",
    "\n",
    "def get_code_range(x):\n",
    "    # sugg = x.new_sugg\n",
    "    final = str(x.new_final)\n",
    "                \n",
    "    if final=='nan' or final=='[]':\n",
    "        return 'other'\n",
    "\n",
    "    code=int(final)\n",
    "    \n",
    "    if code>=99201 and code<=99205:\n",
    "        return '99202-99205'\n",
    "    \n",
    "    if code>=99211 and code<=99215:\n",
    "        return '99212-99215'\n",
    "    \n",
    "    if code>=99281 and code<=99285:\n",
    "        return '99281-99285'\n",
    "    \n",
    "    if code>=99291 and code<=99292:\n",
    "        return '99291-99292'\n",
    "    \n",
    "    if code>=99221 and code<=99223:\n",
    "        return '99221-99223'\n",
    "    \n",
    "    if code>=99231 and code<=99233:\n",
    "        return '99231-99233'\n",
    "    \n",
    "    if code>=99234 and code<=99236:\n",
    "        return '99234-99236'\n",
    "    \n",
    "    if code>=99238 and code<=99239:\n",
    "        return '99238-99239'\n",
    "    \n",
    "    if code>=99381 and code<=99387:\n",
    "        return '99381-99387'\n",
    "    \n",
    "    if code>=99391 and code<=99397:\n",
    "        return '99224-99226'\n",
    "    \n",
    "    if code>=99251 and code<=99255:\n",
    "        return '99251-99255'\n",
    "    \n",
    "    if code>=99218 and code<=99220:\n",
    "        return '99218-99220'\n",
    "    \n",
    "    if code>=99224 and code<=99226:\n",
    "        return '99224-99226'\n",
    "    \n",
    "    if code==99217:\n",
    "        return '99217'\n",
    "    \n",
    "    return 'other'\n",
    "\n",
    "for df_new in df:\n",
    "    df_new['code_range']=df_new.apply(get_code_range, axis=1)"
   ]
  },
  {
   "cell_type": "code",
   "execution_count": null,
   "id": "1860f8ba-66dd-4b32-8586-645bdbffb7ce",
   "metadata": {},
   "outputs": [],
   "source": [
    "# df_new"
   ]
  },
  {
   "cell_type": "code",
   "execution_count": null,
   "id": "d29639cb-1ffd-459e-84e7-40926a4fc16f",
   "metadata": {},
   "outputs": [],
   "source": [
    "# for df_new in df:\n",
    "#     display(df_new.code_range)"
   ]
  },
  {
   "cell_type": "code",
   "execution_count": null,
   "id": "31ad9f63-7f87-4ab8-bf3b-7aa050c27202",
   "metadata": {},
   "outputs": [],
   "source": [
    "# find code ranges per facility\n",
    "\n",
    "code_ranges=[]\n",
    "\n",
    "for df_new in df:\n",
    "    # df_code.append(df_new.groupby(df_new.code_range))\n",
    "    code_ranges.append(df_new.code_range.unique())"
   ]
  },
  {
   "cell_type": "code",
   "execution_count": null,
   "id": "6dd91756-0aae-46e2-91e1-38a754016fae",
   "metadata": {},
   "outputs": [],
   "source": [
    "# code_ranges"
   ]
  },
  {
   "cell_type": "code",
   "execution_count": null,
   "id": "7c0c3720-649e-4c3a-a4b3-fc6f6e8aaaad",
   "metadata": {},
   "outputs": [],
   "source": [
    "# df_new"
   ]
  },
  {
   "cell_type": "code",
   "execution_count": null,
   "id": "9c5cccee-7992-4911-b085-31609205d98b",
   "metadata": {},
   "outputs": [],
   "source": []
  },
  {
   "cell_type": "code",
   "execution_count": null,
   "id": "0815f710-a798-49d9-85fe-a39a6bf744b1",
   "metadata": {},
   "outputs": [
    {
     "data": {
      "text/plain": [
       "615    85186079\n",
       "419    85109670\n",
       "590    85197674\n",
       "102    84754220\n",
       "82     84614155\n",
       "256    84928168\n",
       "252    84910984\n",
       "50     84772368\n",
       "346    85168735\n",
       "57     84772350\n",
       "451    85079871\n",
       "677    85295753\n",
       "394    84979200\n",
       "33     84754213\n",
       "64     84772370\n",
       "637    85261746\n",
       "485    85030295\n",
       "290    84928172\n",
       "155    84842832\n",
       "518    85079877\n",
       "Name: accountNumber, dtype: int64"
      ]
     },
     "metadata": {},
     "output_type": "display_data"
    },
    {
     "data": {
      "text/plain": [
       "195    84868096\n",
       "219    84874628\n",
       "275    84910998\n",
       "542    84669003\n",
       "315    84687159\n",
       "498    85046132\n",
       "389    84964324\n",
       "540    84687144\n",
       "472    84996752\n",
       "274    84910996\n",
       "670    85279236\n",
       "536    84687147\n",
       "539    85094911\n",
       "164    84825509\n",
       "482    84996754\n",
       "37     84717732\n",
       "81     84772366\n",
       "336    84717729\n",
       "Name: accountNumber, dtype: int64"
      ]
     },
     "metadata": {},
     "output_type": "display_data"
    }
   ],
   "source": [
    "for code_ran in df_new.code_range.unique(): \n",
    "    temp = df_new[df_new.code_range==code_ran]\n",
    "    to_take = 20\n",
    "    if to_take>temp.shape[0]:\n",
    "        to_take = temp.shape[0]\n",
    "    \n",
    "    display(temp.sample(to_take).accountNumber)"
   ]
  },
  {
   "cell_type": "code",
   "execution_count": null,
   "id": "e4e22d6f-00e6-4a7e-9c05-d77f1e98043b",
   "metadata": {},
   "outputs": [],
   "source": [
    "def check_row(x):\n",
    "    if x.accountNumber==7763806:\n",
    "        print(x)\n",
    "\n",
    "for df_new in df:\n",
    "    df_new.apply(check_row, axis=1)"
   ]
  },
  {
   "cell_type": "code",
   "execution_count": null,
   "id": "051871a8-d69d-4810-ab63-85c7ec63778f",
   "metadata": {},
   "outputs": [],
   "source": [
    "df_new=pd.concat(df)\n",
    "df_new.loc[:, ~df_new.columns.isin(['new_sugg', 'new_final'])].to_csv('{}_SEPT_COMBINED_new.csv'.format(facility), index=False)"
   ]
  },
  {
   "cell_type": "code",
   "execution_count": null,
   "id": "82ef5fb2-a092-4098-9c9c-2fe360236047",
   "metadata": {},
   "outputs": [],
   "source": [
    "# for df_new,r in zip(df, res):\n",
    "#     fname=r.rsplit('/',1)[1].rsplit('.xlsx')[0]+'.csv'\n",
    "#     # df_new.style.set_properties(**{'text-align': 'left'})\n",
    "#     df_new.to_csv('{}'.format(fname), index=False)"
   ]
  },
  {
   "cell_type": "code",
   "execution_count": null,
   "id": "a0be25f4-ec09-4997-a990-049658060870",
   "metadata": {},
   "outputs": [],
   "source": [
    "# df_new.facilityName.unique()"
   ]
  },
  {
   "cell_type": "code",
   "execution_count": null,
   "id": "16c79082-cefa-46b2-86a3-d0236b6a968c",
   "metadata": {},
   "outputs": [
    {
     "ename": "NameError",
     "evalue": "name 'added_count' is not defined",
     "output_type": "error",
     "traceback": [
      "\u001b[0;31m---------------------------------------------------------------------------\u001b[0m",
      "\u001b[0;31mNameError\u001b[0m                                 Traceback (most recent call last)",
      "Input \u001b[0;32mIn [31]\u001b[0m, in \u001b[0;36m<cell line: 1>\u001b[0;34m()\u001b[0m\n\u001b[0;32m----> 1\u001b[0m \u001b[38;5;28mprint\u001b[39m(\u001b[43madded_count\u001b[49m)\n",
      "\u001b[0;31mNameError\u001b[0m: name 'added_count' is not defined"
     ]
    }
   ],
   "source": [
    "print(added_count)"
   ]
  },
  {
   "cell_type": "code",
   "execution_count": null,
   "id": "0e627633-8cee-4dd6-ad91-9c1c1a307c3f",
   "metadata": {},
   "outputs": [],
   "source": []
  }
 ],
 "metadata": {
  "kernelspec": {
   "display_name": "Python 3 (ipykernel)",
   "language": "python",
   "name": "python3"
  },
  "language_info": {
   "codemirror_mode": {
    "name": "ipython",
    "version": 3
   },
   "file_extension": ".py",
   "mimetype": "text/x-python",
   "name": "python",
   "nbconvert_exporter": "python",
   "pygments_lexer": "ipython3",
   "version": "3.9.12"
  }
 },
 "nbformat": 4,
 "nbformat_minor": 5
}
