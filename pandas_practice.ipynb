{
 "cells": [
  {
   "cell_type": "code",
   "execution_count": 1,
   "id": "91f78d94-2eef-4b11-81e8-ea6e9b51099f",
   "metadata": {},
   "outputs": [],
   "source": [
    "import pandas as pd\n",
    "import numpy as np"
   ]
  },
  {
   "cell_type": "code",
   "execution_count": 2,
   "id": "99e2b78d-3bfb-49ea-8127-7d58fa8c5d68",
   "metadata": {},
   "outputs": [],
   "source": [
    "df = pd.read_excel(\"SCP-5365-GREENVILLE COMMUNITY HOSPITAL EAST-2023-01-01-2023-01-31.xlsx\", index_col=False)"
   ]
  },
  {
   "cell_type": "code",
   "execution_count": 12,
   "id": "91a0c771-6158-4515-9595-3170b6615fce",
   "metadata": {},
   "outputs": [],
   "source": [
    "accepted_counts = 0"
   ]
  },
  {
   "cell_type": "code",
   "execution_count": 19,
   "id": "8158e831-c007-45ef-8ce7-c0d9d5787fd3",
   "metadata": {},
   "outputs": [],
   "source": [
    "\n",
    "def get_accepted_counts(x):\n",
    "    if str({x.new_suggested}) in str({x.final}):\n",
    "        return 1\n",
    "    else:\n",
    "        return 0\n",
    "    \n",
    "df['get_accepted_counts'] = df.apply(get_accepted_counts, axis = 1)"
   ]
  },
  {
   "cell_type": "code",
   "execution_count": 20,
   "id": "24be46ff-bc7c-426c-8219-d6454c39a1d4",
   "metadata": {},
   "outputs": [
    {
     "data": {
      "text/html": [
       "<div>\n",
       "<style scoped>\n",
       "    .dataframe tbody tr th:only-of-type {\n",
       "        vertical-align: middle;\n",
       "    }\n",
       "\n",
       "    .dataframe tbody tr th {\n",
       "        vertical-align: top;\n",
       "    }\n",
       "\n",
       "    .dataframe thead th {\n",
       "        text-align: right;\n",
       "    }\n",
       "</style>\n",
       "<table border=\"1\" class=\"dataframe\">\n",
       "  <thead>\n",
       "    <tr style=\"text-align: right;\">\n",
       "      <th></th>\n",
       "      <th>acoount</th>\n",
       "      <th>new_suggested</th>\n",
       "      <th>final</th>\n",
       "      <th>EM_accepted</th>\n",
       "      <th>EM_rejected</th>\n",
       "      <th>get_accepted_counts</th>\n",
       "    </tr>\n",
       "  </thead>\n",
       "  <tbody>\n",
       "    <tr>\n",
       "      <th>0</th>\n",
       "      <td>84767141</td>\n",
       "      <td>99283</td>\n",
       "      <td>99283</td>\n",
       "      <td>[]</td>\n",
       "      <td>[99284, 99281]</td>\n",
       "      <td>1</td>\n",
       "    </tr>\n",
       "    <tr>\n",
       "      <th>1</th>\n",
       "      <td>84767162</td>\n",
       "      <td>{No Code}</td>\n",
       "      <td>99284</td>\n",
       "      <td>[99284]</td>\n",
       "      <td>[]</td>\n",
       "      <td>0</td>\n",
       "    </tr>\n",
       "    <tr>\n",
       "      <th>2</th>\n",
       "      <td>84767186</td>\n",
       "      <td>99283</td>\n",
       "      <td>99285</td>\n",
       "      <td>[]</td>\n",
       "      <td>[99284, 99281]</td>\n",
       "      <td>0</td>\n",
       "    </tr>\n",
       "    <tr>\n",
       "      <th>3</th>\n",
       "      <td>84820779</td>\n",
       "      <td>99285</td>\n",
       "      <td>99285</td>\n",
       "      <td>[99285]</td>\n",
       "      <td>[]</td>\n",
       "      <td>1</td>\n",
       "    </tr>\n",
       "    <tr>\n",
       "      <th>4</th>\n",
       "      <td>84854375</td>\n",
       "      <td>99291</td>\n",
       "      <td>99285</td>\n",
       "      <td>[]</td>\n",
       "      <td>[99281, 99291]</td>\n",
       "      <td>0</td>\n",
       "    </tr>\n",
       "    <tr>\n",
       "      <th>...</th>\n",
       "      <td>...</td>\n",
       "      <td>...</td>\n",
       "      <td>...</td>\n",
       "      <td>...</td>\n",
       "      <td>...</td>\n",
       "      <td>...</td>\n",
       "    </tr>\n",
       "    <tr>\n",
       "      <th>2733</th>\n",
       "      <td>87055781</td>\n",
       "      <td>99284</td>\n",
       "      <td>99284</td>\n",
       "      <td>[99284]</td>\n",
       "      <td>[]</td>\n",
       "      <td>1</td>\n",
       "    </tr>\n",
       "    <tr>\n",
       "      <th>2734</th>\n",
       "      <td>87055786</td>\n",
       "      <td>99284</td>\n",
       "      <td>99284</td>\n",
       "      <td>[99284]</td>\n",
       "      <td>[]</td>\n",
       "      <td>1</td>\n",
       "    </tr>\n",
       "    <tr>\n",
       "      <th>2735</th>\n",
       "      <td>87055787</td>\n",
       "      <td>99284</td>\n",
       "      <td>99284</td>\n",
       "      <td>[]</td>\n",
       "      <td>[99285]</td>\n",
       "      <td>1</td>\n",
       "    </tr>\n",
       "    <tr>\n",
       "      <th>2736</th>\n",
       "      <td>87055788</td>\n",
       "      <td>99284</td>\n",
       "      <td>99284</td>\n",
       "      <td>[99284]</td>\n",
       "      <td>[]</td>\n",
       "      <td>1</td>\n",
       "    </tr>\n",
       "    <tr>\n",
       "      <th>2737</th>\n",
       "      <td>87073920</td>\n",
       "      <td>99284</td>\n",
       "      <td>99284</td>\n",
       "      <td>[99284]</td>\n",
       "      <td>[]</td>\n",
       "      <td>1</td>\n",
       "    </tr>\n",
       "  </tbody>\n",
       "</table>\n",
       "<p>2738 rows × 6 columns</p>\n",
       "</div>"
      ],
      "text/plain": [
       "       acoount new_suggested  final EM_accepted     EM_rejected  \\\n",
       "0     84767141         99283  99283          []  [99284, 99281]   \n",
       "1     84767162     {No Code}  99284     [99284]              []   \n",
       "2     84767186         99283  99285          []  [99284, 99281]   \n",
       "3     84820779         99285  99285     [99285]              []   \n",
       "4     84854375         99291  99285          []  [99281, 99291]   \n",
       "...        ...           ...    ...         ...             ...   \n",
       "2733  87055781         99284  99284     [99284]              []   \n",
       "2734  87055786         99284  99284     [99284]              []   \n",
       "2735  87055787         99284  99284          []         [99285]   \n",
       "2736  87055788         99284  99284     [99284]              []   \n",
       "2737  87073920         99284  99284     [99284]              []   \n",
       "\n",
       "      get_accepted_counts  \n",
       "0                       1  \n",
       "1                       0  \n",
       "2                       0  \n",
       "3                       1  \n",
       "4                       0  \n",
       "...                   ...  \n",
       "2733                    1  \n",
       "2734                    1  \n",
       "2735                    1  \n",
       "2736                    1  \n",
       "2737                    1  \n",
       "\n",
       "[2738 rows x 6 columns]"
      ]
     },
     "execution_count": 20,
     "metadata": {},
     "output_type": "execute_result"
    }
   ],
   "source": [
    "df"
   ]
  },
  {
   "cell_type": "code",
   "execution_count": 22,
   "id": "e468137e-41fb-4e06-8b02-8f39266891a2",
   "metadata": {},
   "outputs": [
    {
     "data": {
      "text/plain": [
       "1805"
      ]
     },
     "execution_count": 22,
     "metadata": {},
     "output_type": "execute_result"
    }
   ],
   "source": [
    "df.get_accepted_counts.sum()"
   ]
  },
  {
   "cell_type": "code",
   "execution_count": null,
   "id": "e63ce950-4edd-493d-aebd-21c79f26e040",
   "metadata": {},
   "outputs": [],
   "source": []
  }
 ],
 "metadata": {
  "kernelspec": {
   "display_name": "Python 3 (ipykernel)",
   "language": "python",
   "name": "python3"
  },
  "language_info": {
   "codemirror_mode": {
    "name": "ipython",
    "version": 3
   },
   "file_extension": ".py",
   "mimetype": "text/x-python",
   "name": "python",
   "nbconvert_exporter": "python",
   "pygments_lexer": "ipython3",
   "version": "3.9.12"
  }
 },
 "nbformat": 4,
 "nbformat_minor": 5
}
