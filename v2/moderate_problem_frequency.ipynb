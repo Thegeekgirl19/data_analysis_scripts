{
 "cells": [
  {
   "cell_type": "code",
   "execution_count": null,
   "metadata": {},
   "outputs": [],
   "source": [
    "# method 2\n",
    "\n",
    "import os\n",
    "import pandas as pd"
   ]
  },
  {
   "cell_type": "code",
   "execution_count": null,
   "metadata": {},
   "outputs": [],
   "source": [
    "df_data = pd.read_excel(\"/home/jaiminrana/Analysis/SCP/SCP-3412-BAPTIST MEMORIAL HOSPITAL - ATTALA-2023-03-01-2023-03-15.xlsx\")\n",
    "df_use = df_data[['accountNumber','EANDM_Suggested','EANDM_Final']]"
   ]
  },
  {
   "cell_type": "code",
   "execution_count": null,
   "metadata": {},
   "outputs": [],
   "source": [
    "df_use = df_use[(df_use.EANDM_Final.str.contains('99284')) | (df_use.EANDM_Final.str.contains('99285'))]\n",
    "# df_use.set_index('accountNumber',inplace = True)"
   ]
  },
  {
   "cell_type": "code",
   "execution_count": null,
   "metadata": {},
   "outputs": [],
   "source": [
    "df_use['problem'] = None\n",
    "df_use['cui'] = None"
   ]
  },
  {
   "cell_type": "code",
   "execution_count": null,
   "metadata": {},
   "outputs": [],
   "source": [
    "df_use"
   ]
  },
  {
   "cell_type": "code",
   "execution_count": null,
   "metadata": {},
   "outputs": [],
   "source": [
    "df_use[df_use.accountNumber==87257242]"
   ]
  },
  {
   "cell_type": "code",
   "execution_count": null,
   "metadata": {},
   "outputs": [],
   "source": [
    "file = open(\"/home/jaiminrana/Documents/problem.txt\", \"r\")\n",
    "account = ''\n",
    "\n",
    "for i in file.readlines():\n",
    "    problem_list = set()\n",
    "    cui_set = set()\n",
    "    \n",
    "    if(i.__contains__('FILE ')):\n",
    "        account_list = i.split(\" -\")\n",
    "        account = account_list[1][0:8]\n",
    "    else:   \n",
    "        problem_cui_list = i.split(\"\\t\")\n",
    "    #         problem_cui_list.remove('')\n",
    "    #         problem_cui_list.remove('\\n')\n",
    "\n",
    "    #         print(problem_cui_list)\n",
    "        for item in problem_cui_list:\n",
    "            if(item == '' or item == '\\n'):\n",
    "                continue\n",
    "            problem = item.split(\"==\")[0]\n",
    "            cui = item.split(\"==\")[1]\n",
    "            \n",
    "    #             print(problem)\n",
    "    #             print(cui)\n",
    "    \n",
    "            problem_list.add(problem)\n",
    "            cui_set.add(cui)\n",
    "    \n",
    "#         print(account)\n",
    "#         print(problem_list)\n",
    "#         print(cui_list)\n",
    "#         print(problem_list)\n",
    "#         print(cui_set)\n",
    "#         print(df_use.loc[df_use[\"accountNumber\"] == int(account)].shape)\n",
    "#         print(account, print(type(account)))\n",
    "        df_use.loc[df_use[\"accountNumber\"] == int(account), \"problem\"] = ', '.join(problem_list)\n",
    "        df_use.loc[df_use[\"accountNumber\"] == int(account), \"cui\"] = ', '.join(cui_set)"
   ]
  },
  {
   "cell_type": "code",
   "execution_count": null,
   "metadata": {},
   "outputs": [],
   "source": [
    "df_use.sample(10)"
   ]
  },
  {
   "cell_type": "code",
   "execution_count": null,
   "metadata": {},
   "outputs": [],
   "source": [
    "df_use.EANDM_Final.value_counts()"
   ]
  },
  {
   "cell_type": "code",
   "execution_count": null,
   "metadata": {},
   "outputs": [],
   "source": [
    "df_use.EANDM_Suggested.value_counts()"
   ]
  },
  {
   "cell_type": "code",
   "execution_count": null,
   "metadata": {},
   "outputs": [],
   "source": [
    "df_use[(df_use.EANDM_Suggested.str.contains('99284')) & (df_use.EANDM_Final.str.contains('99285'))].shape"
   ]
  },
  {
   "cell_type": "code",
   "execution_count": null,
   "metadata": {},
   "outputs": [],
   "source": [
    "df_use[(df_use.EANDM_Suggested.str.contains('99285')) \n",
    "      & (df_use.EANDM_Final.str.contains('99284'))].problem.value_counts()"
   ]
  },
  {
   "cell_type": "code",
   "execution_count": null,
   "metadata": {},
   "outputs": [],
   "source": [
    "from collections import defaultdict\n",
    "cui_count_99284 = defaultdict(int)\n",
    "\n",
    "for val in df_use[df_use.EANDM_Final.str.contains('99284')].cui:\n",
    "    for c in val:\n",
    "        cui_count_99284[c]+=1\n",
    "\n",
    "cui_count_99285 = defaultdict(int)\n",
    "for val in df_use[df_use.EANDM_Final.str.contains('99285')].cui:\n",
    "    for c in val:\n",
    "        cui_count_99285[c]+=1"
   ]
  },
  {
   "cell_type": "code",
   "execution_count": null,
   "metadata": {},
   "outputs": [],
   "source": [
    "# for key, val in sorted(cui_count_99285.items(), key=lambda item: item[1], reverse=True):\n",
    "#     print(key, val, cui_count_99284[key])"
   ]
  },
  {
   "cell_type": "code",
   "execution_count": null,
   "metadata": {},
   "outputs": [],
   "source": []
  }
 ],
 "metadata": {
  "kernelspec": {
   "display_name": "Python 3 (ipykernel)",
   "language": "python",
   "name": "python3"
  },
  "language_info": {
   "codemirror_mode": {
    "name": "ipython",
    "version": 3
   },
   "file_extension": ".py",
   "mimetype": "text/x-python",
   "name": "python",
   "nbconvert_exporter": "python",
   "pygments_lexer": "ipython3",
   "version": "3.9.12"
  }
 },
 "nbformat": 4,
 "nbformat_minor": 4
}
