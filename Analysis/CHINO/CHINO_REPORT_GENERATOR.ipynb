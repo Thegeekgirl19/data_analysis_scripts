{
 "cells": [
  {
   "cell_type": "code",
   "execution_count": 1,
   "metadata": {},
   "outputs": [],
   "source": [
    "import pandas as pd\n",
    "from sqlalchemy import create_engine\n",
    "import regex as re\n",
    "import time\n",
    "from datetime import datetime\n",
    "import os\n",
    "import glob"
   ]
  },
  {
   "cell_type": "code",
   "execution_count": 2,
   "metadata": {},
   "outputs": [],
   "source": [
    "all_data = pd.DataFrame()\n",
    "allExcelFiles =glob.glob(\"/home/trishalaswain/ClientData/PH/PH_JULY_HALF/PH/*31.tsv\")\n",
    "chino_all_overall_sheets_combined = pd.concat(pd.read_table(excelFile, index_col=False) for excelFile in allExcelFiles)\n"
   ]
  },
  {
   "cell_type": "code",
   "execution_count": 6,
   "metadata": {},
   "outputs": [],
   "source": [
    "chino_all_overall_sheets_combined.reset_index().to_excel('/home/trishalaswain/ClientData/PH/PH_JULY_HALF/PH_JULY_ALL_SHEET.xlsx')"
   ]
  },
  {
   "cell_type": "code",
   "execution_count": null,
   "metadata": {},
   "outputs": [],
   "source": [
    "chino_all_overall_sheets_combined = pd.read_excel('/home/trishalaswain/Documents/CHINO_DATA_JUNE_TILL_25th.xlsx', index_col=False)"
   ]
  },
  {
   "cell_type": "code",
   "execution_count": null,
   "metadata": {},
   "outputs": [],
   "source": [
    "chino_all_overall_sheets_combined.columns"
   ]
  },
  {
   "cell_type": "code",
   "execution_count": null,
   "metadata": {},
   "outputs": [],
   "source": [
    "# cols_to_use = ['id', 'serviceDate', 'processingDate', 'lastCodingDate', 'month', 'accountNumber', 'encDocIds', 'EANDM_Final', 'EANDM_Accepted', 'EANDM_Rejected', 'EANDM_Added', 'EANDM_Suggested', 'EANDM_Accepted_Count', 'EANDM_Rejected_Count', 'EANDM_Added_Count']"
   ]
  },
  {
   "cell_type": "code",
   "execution_count": null,
   "metadata": {},
   "outputs": [],
   "source": [
    "# chino_all_overall_sheets_combined.columns"
   ]
  },
  {
   "cell_type": "code",
   "execution_count": null,
   "metadata": {},
   "outputs": [],
   "source": [
    "# filtering accounts with single document\n",
    "# chino_all_overall_sheets_combined = chino_all_overall_sheets_combined[~chino_all_overall_sheets_combined.encDocIds.str.contains(',')]\n",
    "# chino_all_overall_sheets_combined.shape\n",
    "chino_all_overall_sheets_combined.local_output_3 = chino_all_overall_sheets_combined.local_output_3.astype('str')\n",
    "# chino_all_overall_sheets_combined.dropna(inplace=True)\n",
    "chino_all_overall_sheets_combined = chino_all_overall_sheets_combined[~chino_all_overall_sheets_combined.local_output_3.str.contains('nan')]"
   ]
  },
  {
   "cell_type": "code",
   "execution_count": null,
   "metadata": {},
   "outputs": [],
   "source": [
    "# applying filter of lastProcessingDate >= 01-01-2023\n",
    "# chino_all_overall_sheets_combined['serviceDate'] = pd.to_datetime( chino_all_overall_sheets_combined.serviceDate)\n",
    "# chino_all_overall_sheets_combined = chino_all_overall_sheets_combined[chino_all_overall_sheets_combined.serviceDate >= '2023-01-01']"
   ]
  },
  {
   "cell_type": "code",
   "execution_count": null,
   "metadata": {},
   "outputs": [],
   "source": [
    "chino_all_overall_sheets_combined"
   ]
  },
  {
   "cell_type": "code",
   "execution_count": null,
   "metadata": {},
   "outputs": [],
   "source": [
    "chino_all_overall_sheets_combined = chino_all_overall_sheets_combined[cols_to_use]\n",
    "chino_all_overall_sheets_combined.reset_index(inplace=True)\n",
    "chino_all_overall_sheets_combined"
   ]
  },
  {
   "cell_type": "code",
   "execution_count": null,
   "metadata": {},
   "outputs": [],
   "source": [
    "for i,r in chino_all_overall_sheets_combined.iterrows():\n",
    "    chino_all_overall_sheets_combined.loc[i,'clean_suggested'] = ', '.join([str(elem) for elem in re.findall(r\"\\b\\d{5}\\b\", str(r['suggested']))])\n",
    "    chino_all_overall_sheets_combined.loc[i,'clean_final'] = ', '.join([str(elem) for elem in re.findall(r\"\\b\\d{5}\\b\", str(r['final']))])"
   ]
  },
  {
   "cell_type": "code",
   "execution_count": null,
   "metadata": {},
   "outputs": [],
   "source": [
    "# df_custom_cpt_filtered = pd.read_table('/home/trishalaswain/ClientData/PH/CHINO_MONTH_WISE/CHINO_ALL_OP/devansh_chino.tsv', index_col=False)"
   ]
  },
  {
   "cell_type": "code",
   "execution_count": null,
   "metadata": {},
   "outputs": [],
   "source": [
    "# df_custom_cpt_accounts_filtered = df_custom_cpt_filtered.accountNumber.to_list()"
   ]
  },
  {
   "cell_type": "code",
   "execution_count": null,
   "metadata": {},
   "outputs": [],
   "source": [
    "# type(df_custom_cpt_accounts_filtered[0])"
   ]
  },
  {
   "cell_type": "code",
   "execution_count": null,
   "metadata": {},
   "outputs": [],
   "source": [
    "# chino_all_overall_sheets_combined.reset_index(inplace=True)"
   ]
  },
  {
   "cell_type": "code",
   "execution_count": null,
   "metadata": {},
   "outputs": [],
   "source": [
    "# for i, row in chino_all_overall_sheets_combined.iterrows():\n",
    "#     if str(row['accountNumber']) not in df_custom_cpt_accounts_filtered:\n",
    "#         chino_all_overall_sheets_combined.drop([i], inplace=True)\n",
    "# chino_all_overall_sheets_combined.reset_index(inplace=True)"
   ]
  },
  {
   "cell_type": "code",
   "execution_count": null,
   "metadata": {},
   "outputs": [],
   "source": [
    "chino_all_overall_sheets_combined"
   ]
  },
  {
   "cell_type": "code",
   "execution_count": null,
   "metadata": {},
   "outputs": [],
   "source": [
    "# chino_all_overall_sheets_combined.EANDM_Final = chino_all_overall_sheets_combined.EANDM_Accepted.apply(lambda x:chino_all_overall_sheets_combined(x))+chino_all_overall_sheets_combined.EANDM_Added.apply(lambda x:chino_all_overall_sheets_combined(x))\n",
    "# chino_all_overall_sheets_combined.EANDM_Suggested = chino_all_overall_sheets_combined.EANDM_Accepted.apply(lambda x:chino_all_overall_sheets_combined(x))+chino_all_overall_sheets_combined.EANDM_Rejected.apply(lambda x:chino_all_overall_sheets_combined(x))"
   ]
  },
  {
   "cell_type": "code",
   "execution_count": null,
   "metadata": {},
   "outputs": [],
   "source": []
  },
  {
   "cell_type": "code",
   "execution_count": null,
   "metadata": {},
   "outputs": [],
   "source": [
    "from collections import OrderedDict\n",
    "def get_accuracy(data_df, codetype):\n",
    "    accept = data_df[codetype+'_Accepted_Count'].sum()\n",
    "    reject = data_df[codetype+'_Rejected_Count'].sum()\n",
    "    add = data_df[codetype+'_Added_Count'].sum()\n",
    "    \n",
    "    d = OrderedDict()\n",
    "    \n",
    "    d['encounters'] = data_df.shape[0]\n",
    "    \n",
    "    d[codetype+'_accepted'] = accept\n",
    "    d[codetype+'_rejected'] = reject\n",
    "    d[codetype+'_added'] = add\n",
    "    \n",
    "    d[codetype+'_billed'] = accept+add\n",
    "    \n",
    "    if accept == 0:\n",
    "        if add + reject == 0:\n",
    "            d['precision'] = 1\n",
    "            d['recall'] = 1\n",
    "            d['f1'] = 1\n",
    "        else:\n",
    "            d['precision'] = 0.0\n",
    "            d['recall'] = 0.0\n",
    "            d['f1'] = 0.0\n",
    "    else:\n",
    "        d['precision'] = accept / (accept + reject)\n",
    "        d['recall'] = accept / (accept + add)\n",
    "        d['f1'] = 2 * d['precision'] * d['recall'] / (d['precision'] + d['recall'])\n",
    "    \n",
    "    return pd.Series(d)"
   ]
  },
  {
   "cell_type": "code",
   "execution_count": null,
   "metadata": {},
   "outputs": [],
   "source": [
    "chino_all_overall_sheets_combined.clean_final.value_counts()"
   ]
  },
  {
   "cell_type": "code",
   "execution_count": null,
   "metadata": {},
   "outputs": [],
   "source": [
    "chino_all_overall_sheets_combined.clean_suggested.value_counts()"
   ]
  },
  {
   "cell_type": "code",
   "execution_count": null,
   "metadata": {},
   "outputs": [],
   "source": [
    "# valid_encounter_ids = chino_all_overall_sheets_combined.id.to_list()"
   ]
  },
  {
   "cell_type": "code",
   "execution_count": null,
   "metadata": {},
   "outputs": [],
   "source": [
    "# filtering multiple documents in singke encounter\n",
    "import shutil\n",
    "encounter_downloaded = []\n",
    "dir_path = '/home/trishalaswain/ClientData/PH/CHINO_MONTH_WISE/CHINO_COMBINED_EMCS (copy)'\n",
    "deleted_file_count = 0\n",
    "for path in os.listdir(dir_path):\n",
    "    sub_dir = os.path.join(dir_path, path)\n",
    "    # print(path)\n",
    "    \n",
    "    if str(path) not in str(valid_encounter_ids):\n",
    "        \n",
    "        # print(sub_dir)\n",
    "        deleted_file_count += 1\n",
    "        shutil.rmtree(sub_dir)\n",
    "    else:\n",
    "        encounter_downloaded.append(str(path))\n",
    "    # for file in os.listdir(sub_dir):\n",
    "    #     count += 1\n",
    "    # if count > 2:\n",
    "    #     print('Deleting multiple docs:', sub_dir)\n",
    "    #     shutil.rmtree(sub_dir)\n",
    "    #     deleted_file_count += 1\n",
    "    # else:\n",
    "    #     encounter_downloaded.append(str(path))\n",
    "print('Deleted encounter counts: ',deleted_file_count)        "
   ]
  },
  {
   "cell_type": "code",
   "execution_count": null,
   "metadata": {},
   "outputs": [],
   "source": [
    "dir_path = '/home/trishalaswain/ClientData/PH/CHINO_MONTH_WISE/CHINO_COMBINED_EMCS (copy)'\n",
    "deleted_file_count = 0\n",
    "for path in os.listdir(dir_path):\n",
    "    sub_dir = os.path.join(dir_path, path)\n",
    "    count = 0\n",
    "    for file in os.listdir(sub_dir):\n",
    "        count += 1\n",
    "        if count > 2:\n",
    "            print('Deleting multiple docs:', sub_dir)\n",
    "            # shutil.rmtree(sub_dir)\n",
    "            deleted_file_count += 1\n",
    "print(deleted_file_count)       "
   ]
  },
  {
   "cell_type": "code",
   "execution_count": null,
   "metadata": {},
   "outputs": [],
   "source": [
    "rows_to_delete = 0\n",
    "for i, r in chino_all_overall_sheets_combined.iterrows():\n",
    "    if str(r['id']) not in str(encounter_downloaded):\n",
    "        rows_to_delete += 1\n",
    "        chino_all_overall_sheets_combined.drop([i], inplace=True)\n",
    "print('rows_to_delete', rows_to_delete)"
   ]
  },
  {
   "cell_type": "code",
   "execution_count": null,
   "metadata": {},
   "outputs": [],
   "source": [
    "# chino_all_overall_sheets_combined"
   ]
  },
  {
   "cell_type": "code",
   "execution_count": null,
   "metadata": {},
   "outputs": [],
   "source": [
    "chino_all_overall_sheets_combined.shape"
   ]
  },
  {
   "cell_type": "code",
   "execution_count": null,
   "metadata": {},
   "outputs": [],
   "source": [
    "acc = chino_all_overall_sheets_combined.groupby(['month']).apply(get_accuracy, 'EANDM').sort_values(['f1','EANDM_rejected'],ascending=[True,False]).reset_index()\n",
    "acc"
   ]
  },
  {
   "cell_type": "code",
   "execution_count": null,
   "metadata": {},
   "outputs": [],
   "source": [
    "acc.to_excel('/home/trishalaswain/acc.xlsx')"
   ]
  },
  {
   "cell_type": "code",
   "execution_count": null,
   "metadata": {},
   "outputs": [],
   "source": [
    "# local_output_dataframe = pd.read_excel('/home/trishalaswain/ClientData/PH/CHINO_MONTH_WISE/CHINO_LOCAL_OUTPUT_AS_ON_JUNE_9.xlsx', index_col=False)"
   ]
  },
  {
   "cell_type": "code",
   "execution_count": null,
   "metadata": {},
   "outputs": [],
   "source": [
    "chino_all_overall_sheets_combined.accountNumber = chino_all_overall_sheets_combined.accountNumber.astype('str')"
   ]
  },
  {
   "cell_type": "code",
   "execution_count": null,
   "metadata": {},
   "outputs": [],
   "source": [
    "chino_all_overall_sheets_combined.shape"
   ]
  },
  {
   "cell_type": "code",
   "execution_count": null,
   "metadata": {},
   "outputs": [],
   "source": [
    "# chino_all_overall_sheets_combined.reset_index(inplace=True)"
   ]
  },
  {
   "cell_type": "code",
   "execution_count": null,
   "metadata": {},
   "outputs": [],
   "source": [
    "# chino_all_overall_sheets_combined.to_excel('/home/trishalaswain/chino_all_overall_sheets_combined_FINAL.xlsx')"
   ]
  },
  {
   "cell_type": "code",
   "execution_count": null,
   "metadata": {},
   "outputs": [],
   "source": [
    "new_chino_all_overall_sheets_combined = pd.read_excel('/home/trishalaswain/chino_all_overall_sheets_combined_FINAL.xlsx', index_col=False)"
   ]
  },
  {
   "cell_type": "code",
   "execution_count": null,
   "metadata": {},
   "outputs": [],
   "source": [
    "# for i, r in local_output_dataframe.iterrows():\n",
    "#     chino_all_overall_sheets_combined.loc[chino_all_overall_sheets_combined.accountNumber==str(r['account_number']), 'local_suggested'] = str(r['local_output'])"
   ]
  },
  {
   "cell_type": "code",
   "execution_count": null,
   "metadata": {},
   "outputs": [],
   "source": [
    "# new_chino_all_overall_sheets_combined_2 = new_chino_all_overall_sheets_combined.copy()"
   ]
  },
  {
   "cell_type": "code",
   "execution_count": null,
   "metadata": {},
   "outputs": [],
   "source": [
    "new_chino_all_overall_sheets_combined.clean_final.value_counts()"
   ]
  },
  {
   "cell_type": "code",
   "execution_count": null,
   "metadata": {},
   "outputs": [],
   "source": [
    "    # x=str(x)\n",
    "    # new_code=''\n",
    "    # if re.match('.*9921[1-5].*',x) and re.match('.*9920[1-5].*',x):\n",
    "    #         codes=x.split(',')\n",
    "    #         for code in codes:\n",
    "    #             if re.match('.*9921[1-5].*', code):\n",
    "    #                 new_code=code.strip()  "
   ]
  },
  {
   "cell_type": "code",
   "execution_count": null,
   "metadata": {},
   "outputs": [],
   "source": [
    "# for i, r in new_chino_all_overall_sheets_combined.iterrows():\n",
    "    \n",
    "#     if re.match('.*9922[1-5].*',str(r['clean_final'])) and re.match('.*9928[1-5].*',str(r['clean_final'])):\n",
    "#         # codes = str(r['clean_final']).split(',')\n",
    "        \n",
    "#         for code in codes:\n",
    "#             obv_code = re.findall('9922[1-5].*',code)\n",
    "            \n",
    "#             if '9' in str(obv_code):\n",
    "#                 code_to_remove = str(obv_code).replace(\"['\", \"\").replace(\"']\", \"\")\n",
    "#                 print(str(obv_code))\n",
    "#                 # codes=codes.remove(code_to_remove)\n",
    "        \n",
    "#         # print(codes)\n",
    "#         # new_chino_all_overall_sheets_combined.loc[i,'clean_final'] = r['clean_final'].remove(code)\n",
    "new_chino_all_overall_sheets_combined.local_suggested.value_counts()"
   ]
  },
  {
   "cell_type": "code",
   "execution_count": null,
   "metadata": {},
   "outputs": [],
   "source": [
    "# for i,r in new_chino_all_overall_sheets_combined.iterrows():\n",
    "#     new_chino_all_overall_sheets_combined.loc[i, 'local_suggested_set'] = r['local_suggested'].split(', ')\n",
    "# new_chino_all_overall_sheets_combined.local_suggested_set = new_chino_all_overall_sheets_combined.local_suggested_set.astype('str')"
   ]
  },
  {
   "cell_type": "code",
   "execution_count": null,
   "metadata": {},
   "outputs": [],
   "source": [
    "# new_chino_all_overall_sheets_combined_2.reset_index(inplace=True)\n",
    "# for i,r in new_chino_all_overall_sheets_combined_2.iterrows():\n",
    "#     if str(new_chino_all_overall_sheets_combined_2.loc[i, 'clean_final']) == '99418, 99223':\n",
    "#         new_chino_all_overall_sheets_combined_2.loc[i, 'clean_final'] = '99223'\n",
    "        \n",
    "#     if str(new_chino_all_overall_sheets_combined_2.loc[i, 'clean_final']) == '99284,99222':\n",
    "#         new_chino_all_overall_sheets_combined_2.loc[i, 'clean_final'] = '99222'\n",
    "        \n",
    "#     if str(new_chino_all_overall_sheets_combined_2.loc[i, 'clean_final']) == '99285,99223':\n",
    "#         new_chino_all_overall_sheets_combined_2.loc[i, 'clean_final'] = '99223'\n",
    "        \n",
    "#     if str(new_chino_all_overall_sheets_combined_2.loc[i, 'clean_final']) == '99239,99223':\n",
    "#         new_chino_all_overall_sheets_combined_2.loc[i, 'clean_final'] = '99223'\n",
    "        \n",
    "#     if str(new_chino_all_overall_sheets_combined_2.loc[i, 'clean_final']) == '99285,99236':\n",
    "#         new_chino_all_overall_sheets_combined_2.loc[i, 'clean_final'] = '99285'\n",
    "        \n",
    "#     if str(new_chino_all_overall_sheets_combined_2.loc[i, 'clean_final']) == '99285,99213':\n",
    "#         new_chino_all_overall_sheets_combined_2.loc[i, 'clean_final'] = '99285'\n",
    "        \n",
    "#     if str(new_chino_all_overall_sheets_combined_2.loc[i, 'clean_final']) == '99292,99223':\n",
    "#         new_chino_all_overall_sheets_combined_2.loc[i, 'clean_final'] = '99292'\n",
    "#         # \n",
    "        \n",
    "    # if str(new_chino_all_overall_sheets_combined_2.loc[i, 'clean_suggested']) == '99222':\n",
    "    #     new_chino_all_overall_sheets_combined_2.loc[i, 'clean_suggested'] = '99284'\n",
    "\n",
    "    # if str(new_chino_all_overall_sheets_combined_2.loc[i, 'clean_suggested']) == '99223':\n",
    "    #     new_chino_all_overall_sheets_combined_2.loc[i, 'clean_suggested'] = '99285'\n",
    "\n",
    "    # if str(new_chino_all_overall_sheets_combined_2.loc[i, 'clean_suggested']) == '99223,99406':\n",
    "    #     new_chino_all_overall_sheets_combined_2.loc[i, 'clean_suggested'] = '99284, 99406'\n",
    "\n",
    "    # if str(new_chino_all_overall_sheets_combined_2.loc[i, 'clean_suggested']) == '99222,99406':\n",
    "    #     new_chino_all_overall_sheets_combined_2.loc[i, 'clean_suggested'] = '99284,99406'\n",
    "\n",
    "    # if str(new_chino_all_overall_sheets_combined_2.loc[i, 'clean_suggested']) == '99221':\n",
    "    #     new_chino_all_overall_sheets_combined_2.loc[i, 'clean_suggested'] = ''\n",
    "\n",
    "    # if str(new_chino_all_overall_sheets_combined_2.loc[i, 'clean_suggested']) == '99418,99223':\n",
    "    #     new_chino_all_overall_sheets_combined_2.loc[i, 'clean_suggested'] = '99285'\n",
    "        \n",
    "    # if str(new_chino_all_overall_sheets_combined_2.loc[i, 'clean_suggested']) == '99236':\n",
    "    #     new_chino_all_overall_sheets_combined_2.loc[i, 'clean_suggested'] = '99285'\n",
    "        \n",
    "    # if str(new_chino_all_overall_sheets_combined_2.loc[i, 'clean_suggested']) == '99418,99236':\n",
    "    #     new_chino_all_overall_sheets_combined_2.loc[i, 'clean_suggested'] = '99418,99285'\n",
    "        \n",
    "    # "
   ]
  },
  {
   "cell_type": "code",
   "execution_count": null,
   "metadata": {},
   "outputs": [],
   "source": [
    "def get_counts(x):\n",
    "    \n",
    "    suggested = str(x['clean_suggested'])\n",
    "    final = str(x['clean_final'])\n",
    "    \n",
    "    if suggested != '':\n",
    "        suggested_set = set(suggested.split(', '))\n",
    "        final_set = set(final.split(', '))\n",
    "\n",
    "        if '9' not in suggested:\n",
    "            suggested_set.clear()\n",
    "            # final_set.clear()\n",
    "        if '9' not in final:\n",
    "            final_set.clear()\n",
    "        # if '99406' in suggested:\n",
    "        #     print(suggested)\n",
    "        #     suggested_set.remove('99406')\n",
    "\n",
    "            \n",
    "        # if '99418' in suggested:\n",
    "        #     print(suggested)\n",
    "        #     suggested_set.remove('99418')\n",
    "            \n",
    "        # if '9922' in suggested:\n",
    "        #     suggested_set.clear()\n",
    "        #     final_set.clear()\n",
    "        \n",
    "        # if '9922' in suggested:\n",
    "        #     suggested_set.clear()\n",
    "        #     final_set.clear()\n",
    "        \n",
    "    \n",
    "        accepted = len(suggested_set.intersection(final_set))\n",
    "        rejected = len(suggested_set - final_set)\n",
    "        added = len(final_set - suggested_set)\n",
    "        if (rejected >= 1 or added >= 1):\n",
    "            print('rejected',rejected)\n",
    "            print('added',added)\n",
    "            print('suggested_set',suggested_set,'\\t final_set',final_set)\n",
    "            print('accountNumber', str(x['account_number']))\n",
    "\n",
    "        return pd.Series({'NEW_EANDM_Accepted_Count':accepted, 'NEW_EANDM_Rejected_Count':rejected, 'NEW_EANDM_Added_Count':added})"
   ]
  },
  {
   "cell_type": "code",
   "execution_count": null,
   "metadata": {},
   "outputs": [],
   "source": [
    "# count_df =  new_chino_all_overall_sheets_combined[new_chino_all_overall_sheets_combined.month=='2023-05'].apply(get_counts, axis=1)\n",
    "chino_all_overall_sheets_combined.columns"
   ]
  },
  {
   "cell_type": "code",
   "execution_count": null,
   "metadata": {},
   "outputs": [],
   "source": [
    "count_df =  chino_all_overall_sheets_combined.apply(get_counts, axis=1)"
   ]
  },
  {
   "cell_type": "code",
   "execution_count": null,
   "metadata": {},
   "outputs": [],
   "source": [
    "# chino_all_overall_sheets_combined\n",
    "count_df"
   ]
  },
  {
   "cell_type": "code",
   "execution_count": null,
   "metadata": {},
   "outputs": [],
   "source": [
    "count_df.NEW_EANDM_Accepted_Count.sum(), count_df.NEW_EANDM_Rejected_Count.sum(), count_df.NEW_EANDM_Added_Count.sum()"
   ]
  },
  {
   "cell_type": "code",
   "execution_count": null,
   "metadata": {},
   "outputs": [],
   "source": [
    "precision = count_df.NEW_EANDM_Accepted_Count.sum() / (count_df.NEW_EANDM_Accepted_Count.sum() + count_df.NEW_EANDM_Rejected_Count.sum())\n",
    "recall = count_df.NEW_EANDM_Accepted_Count.sum() / (count_df.NEW_EANDM_Accepted_Count.sum() + count_df.NEW_EANDM_Added_Count.sum())\n",
    "f1_score = (2 * precision * recall) / (recall + precision)"
   ]
  },
  {
   "cell_type": "code",
   "execution_count": null,
   "metadata": {},
   "outputs": [],
   "source": [
    "precision,recall, f1_score"
   ]
  },
  {
   "cell_type": "code",
   "execution_count": null,
   "metadata": {},
   "outputs": [],
   "source": [
    "new_chino_all_overall_sheets_combined_3 = pd.concat([new_chino_all_overall_sheets_combined, count_df], axis = 1)\n",
    "# new_chino_all_overall_sheets_combined_3.to_excel('/home/trishalaswain/new_chino_all_overall_sheets_combined_3.xlsx')"
   ]
  },
  {
   "cell_type": "code",
   "execution_count": null,
   "metadata": {},
   "outputs": [],
   "source": [
    "data = {\"precision\":precision, \"recall\":recall, \"f1_score\":f1_score}\n",
    "pd.Series(data).to_frame('new_overall_sheet_stats_local')"
   ]
  },
  {
   "cell_type": "code",
   "execution_count": null,
   "metadata": {},
   "outputs": [],
   "source": [
    "# new_chino_all_overall_sheets_combined_3 = new_chino_all_overall_sheets_combined_3[new_chino_all_overall_sheets_combined_3.month=='2023-05']\n",
    "# new_chino_all_overall_sheets_combined_3"
   ]
  },
  {
   "cell_type": "code",
   "execution_count": null,
   "metadata": {},
   "outputs": [],
   "source": [
    "new_chino_all_overall_sheets_combined_3.NEW_EANDM_Accepted_Count.sum(), new_chino_all_overall_sheets_combined_3.NEW_EANDM_Rejected_Count.sum(), new_chino_all_overall_sheets_combined_3.NEW_EANDM_Added_Count.sum()"
   ]
  },
  {
   "cell_type": "code",
   "execution_count": null,
   "metadata": {},
   "outputs": [],
   "source": [
    "from collections import OrderedDict\n",
    "def get_code_counts(data_df, codetype):\n",
    "    accept = data_df[codetype+'_Accepted_Count'].sum()\n",
    "    reject = data_df[codetype+'_Rejected_Count'].sum()\n",
    "    add = data_df[codetype+'_Added_Count'].sum()\n",
    "    \n",
    "    d = OrderedDict()\n",
    "    d['encounters'] = data_df.shape[0]\n",
    "    d['total_accepted_counts'] = accept\n",
    "    d['total_rejected_counts'] = reject\n",
    "    d['total_added_counts'] = add\n",
    "\n",
    "    d['precision'] = accept / (accept + reject)\n",
    "    d['recall'] = accept / (accept + add)\n",
    "    d['f1'] = 2 * d['precision'] * d['recall'] / (d['precision'] + d['recall'])\n",
    "\n",
    "    return pd.Series(d)"
   ]
  },
  {
   "cell_type": "code",
   "execution_count": null,
   "metadata": {},
   "outputs": [],
   "source": [
    "from collections import OrderedDict\n",
    "def get_accuracy(data_df, codetype):\n",
    "    accept = data_df[codetype+'_Accepted_Count'].sum()\n",
    "    reject = data_df[codetype+'_Rejected_Count'].sum()\n",
    "    add = data_df[codetype+'_Added_Count'].sum()\n",
    "    \n",
    "    d = OrderedDict()\n",
    "    \n",
    "    d['encounters'] = data_df.shape[0]\n",
    "    \n",
    "    d[codetype+'_accepted'] = accept\n",
    "    d[codetype+'_rejected'] = reject\n",
    "    d[codetype+'_added'] = add\n",
    "    \n",
    "    d[codetype+'_billed'] = accept+add\n",
    "    \n",
    "    if accept == 0:\n",
    "        if add + reject == 0:\n",
    "            d['precision'] = 1\n",
    "            d['recall'] = 1\n",
    "            d['f1'] = 1\n",
    "        else:\n",
    "            d['precision'] = 0.0\n",
    "            d['recall'] = 0.0\n",
    "            d['f1'] = 0.0\n",
    "    else:\n",
    "        d['precision'] = accept / (accept + reject)\n",
    "        d['recall'] = accept / (accept + add)\n",
    "        d['f1'] = 2 * d['precision'] * d['recall'] / (d['precision'] + d['recall'])\n",
    "    \n",
    "    return pd.Series(d)"
   ]
  },
  {
   "cell_type": "code",
   "execution_count": null,
   "metadata": {},
   "outputs": [],
   "source": [
    "new_chino_all_overall_sheets_combined_2_accuracy = new_chino_all_overall_sheets_combined_3.groupby(['month']).apply(get_code_counts, 'NEW_EANDM').reset_index()\n",
    "# new_chino_all_overall_sheets_combined_2_accuracy.to_excel('/home/trishalaswain/new_chino_all_overall_sheets_combined_2_accuracy.xlsx')\n",
    "new_chino_all_overall_sheets_combined_2_accuracy"
   ]
  },
  {
   "cell_type": "code",
   "execution_count": null,
   "metadata": {},
   "outputs": [],
   "source": []
  },
  {
   "cell_type": "code",
   "execution_count": null,
   "metadata": {},
   "outputs": [],
   "source": [
    "chino_all_overall_sheets_combined_acc  = new_chino_all_overall_sheets_combined.groupby(['month']).apply(get_accuracy, 'EANDM').reset_index()\n",
    "# chino_all_overall_sheets_combined_acc.to_excel('/home/trishalaswain/chino_all_overall_sheets_combined_acc1.xlsx')\n",
    "chino_all_overall_sheets_combined_acc"
   ]
  },
  {
   "cell_type": "code",
   "execution_count": null,
   "metadata": {},
   "outputs": [],
   "source": [
    "new_chino_all_overall_sheets_combined.columns"
   ]
  },
  {
   "cell_type": "code",
   "execution_count": null,
   "metadata": {},
   "outputs": [],
   "source": [
    "new_chino_all_overall_sheets_combined_may = new_chino_all_overall_sheets_combined[new_chino_all_overall_sheets_combined.month=='2023-05']"
   ]
  },
  {
   "cell_type": "code",
   "execution_count": null,
   "metadata": {},
   "outputs": [],
   "source": [
    "cs =  pd.crosstab(new_chino_all_overall_sheets_combined.clean_final, new_chino_all_overall_sheets_combined.clean_suggested, margins=True)"
   ]
  },
  {
   "cell_type": "code",
   "execution_count": null,
   "metadata": {},
   "outputs": [],
   "source": [
    "# cs.to_excel('/home/trishalaswain/crosstab_2.xlsx')\n",
    "new_chino_all_overall_sheets_combined_may.local_suggested_new = new_chino_all_overall_sheets_combined_may.local_suggested_new.astype('str')\n",
    "new_chino_all_overall_sheets_combined_may.clean_suggested = new_chino_all_overall_sheets_combined_may.clean_suggested.astype('str')\n",
    "\n",
    "new_chino_all_overall_sheets_combined_may.clean_final = new_chino_all_overall_sheets_combined_may.clean_final.astype('str')\n",
    "new_chino_all_overall_sheets_combined_may.local_suggested.value_counts()"
   ]
  },
  {
   "cell_type": "code",
   "execution_count": null,
   "metadata": {},
   "outputs": [],
   "source": [
    "new_chino_all_overall_sheets_combined_may['local_suggested_new'].str.contains('99284').sum()"
   ]
  },
  {
   "cell_type": "code",
   "execution_count": null,
   "metadata": {},
   "outputs": [],
   "source": [
    "from operator import length_hint\n",
    "\n",
    "\n",
    "code_wise_count = pd.DataFrame()\n",
    "code_wise_count['code']=None\n",
    "\n",
    "\n",
    "code_list = ['99213',\n",
    "'99222',\n",
    "'99223',\n",
    "'99236',\n",
    "'99239',\n",
    "'99282',\n",
    "'99283',\n",
    "'99284',\n",
    "'99285',\n",
    "'99291',\n",
    "'99292',\n",
    "'99406',\n",
    "'99418']\n",
    "def get_codewise_counts(code_list, df_to_use):\n",
    "    code_wise_count = pd.DataFrame(code_list, columns=['code'])\n",
    "    code_wise_count['clean_suggested']=0\n",
    "    code_wise_count['final']=0  \n",
    "    code_wise_count.set_index('code', inplace=True)\n",
    "        \n",
    "    # code_wise_count\n",
    "    for code in code_list:\n",
    "        # code = str(code)\n",
    "        # print(code)\n",
    "        code_wise_count.loc[code,'clean_suggested'] += df_to_use['clean_suggested'].str.contains(code).sum()\n",
    "        code_wise_count.loc[code, 'final'] += df_to_use['clean_final'].str.contains(code).sum()\n",
    "        \n",
    "        \n",
    "    return code_wise_count"
   ]
  },
  {
   "cell_type": "code",
   "execution_count": null,
   "metadata": {},
   "outputs": [],
   "source": [
    "get_codewise_counts(code_list, chino_all_overall_sheets_combined).to_excel('/home/trishalaswain/ClientData/PH/CHINO_MONTH_WISE/code_wise_counts.xlsx')"
   ]
  },
  {
   "cell_type": "code",
   "execution_count": null,
   "metadata": {},
   "outputs": [],
   "source": [
    "get_codewise_counts(code_list, new_chino_all_overall_sheets_combined_may)"
   ]
  },
  {
   "cell_type": "code",
   "execution_count": null,
   "metadata": {},
   "outputs": [],
   "source": [
    "new_chino_all_overall_sheets_combined['clean_suggested'].str.contains('99284').sum()"
   ]
  },
  {
   "cell_type": "code",
   "execution_count": null,
   "metadata": {},
   "outputs": [],
   "source": []
  }
 ],
 "metadata": {
  "kernelspec": {
   "display_name": "base",
   "language": "python",
   "name": "python3"
  },
  "language_info": {
   "codemirror_mode": {
    "name": "ipython",
    "version": 3
   },
   "file_extension": ".py",
   "mimetype": "text/x-python",
   "name": "python",
   "nbconvert_exporter": "python",
   "pygments_lexer": "ipython3",
   "version": "3.9.12"
  },
  "orig_nbformat": 4
 },
 "nbformat": 4,
 "nbformat_minor": 2
}
