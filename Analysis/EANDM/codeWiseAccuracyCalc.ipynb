{
 "cells": [
  {
   "cell_type": "code",
   "execution_count": null,
   "id": "96902f16-e0d8-4f27-a4a1-5c3111faf343",
   "metadata": {},
   "outputs": [],
   "source": [
    "import pandas as pd"
   ]
  },
  {
   "cell_type": "code",
   "execution_count": null,
   "id": "0168604d-d6b8-442c-85c4-210480a085b3",
   "metadata": {},
   "outputs": [],
   "source": [
    "df = pd.read_csv(r'SCP_SEPT_COMBINED_new.csv')"
   ]
  },
  {
   "cell_type": "code",
   "execution_count": null,
   "id": "4413307a-3390-42a9-ae0f-7c3dbeb812af",
   "metadata": {},
   "outputs": [],
   "source": [
    "df.columns"
   ]
  },
  {
   "cell_type": "code",
   "execution_count": null,
   "id": "7a2de4f9-edb2-4d98-b5e3-92a8a06369d0",
   "metadata": {},
   "outputs": [],
   "source": [
    "df1 = df[[\"facilityCode\",\"facilityName\",\"accountNumber\",\"EANDM_Final2\",\"EANDM_Suggested\"]]"
   ]
  },
  {
   "cell_type": "code",
   "execution_count": null,
   "id": "79b875d2-0c49-4910-9b43-afd457468a39",
   "metadata": {},
   "outputs": [],
   "source": [
    "df1"
   ]
  },
  {
   "cell_type": "code",
   "execution_count": null,
   "id": "5bcf59c5-aae3-4973-807a-4aa1e452a63f",
   "metadata": {},
   "outputs": [],
   "source": [
    "df1.to_csv(\"/home/trishalaswain/Downloads/final_scp_oct_overall.csv\")"
   ]
  },
  {
   "cell_type": "code",
   "execution_count": null,
   "id": "b0a2b5bb-8927-462b-86c7-515c0755477e",
   "metadata": {},
   "outputs": [],
   "source": [
    "df1.EANDM_Final2.unique()"
   ]
  },
  {
   "cell_type": "code",
   "execution_count": null,
   "id": "97bedb01-dc45-4f56-a866-96bbe4398ead",
   "metadata": {},
   "outputs": [],
   "source": [
    "li = []\n",
    "for i in df1.EANDM_Suggested:\n",
    "    i = str(i)\n",
    "    if \"99285\" in i:\n",
    "        li.append(99285)\n",
    "    elif \"99284\" in i:\n",
    "        li.append(99284)\n",
    "    elif \"99283\" in i:\n",
    "        li.append(99283)\n",
    "    elif \"99291\" in i:\n",
    "        to_append = \"99291\"\n",
    "        # li.append(99291)\n",
    "        if \"99292\" in i:\n",
    "            to_append = \"99291,99292\"\n",
    "        li.append(to_append)\n",
    "    else:\n",
    "        #print(i)\n",
    "        li.append(i)\n",
    "    "
   ]
  },
  {
   "cell_type": "code",
   "execution_count": null,
   "id": "5a220ca8-8b06-400b-8701-85cd18ebc1b2",
   "metadata": {},
   "outputs": [],
   "source": [
    "df1[\"EANDM_Suggested_code\"] = li"
   ]
  },
  {
   "cell_type": "code",
   "execution_count": null,
   "id": "0a3c697f-3ffe-4ad8-b47b-ee35d3be44c0",
   "metadata": {},
   "outputs": [],
   "source": [
    "df1"
   ]
  },
  {
   "cell_type": "code",
   "execution_count": null,
   "id": "3d1b8a1f-1138-44b5-80d5-90d4f408894c",
   "metadata": {},
   "outputs": [],
   "source": [
    "li_2 = []\n",
    "for i in df1.EANDM_Final2:\n",
    "    i = str(i)\n",
    "    if \"99285\" in i:\n",
    "        li_2.append(99285)\n",
    "    elif \"99284\" in i:\n",
    "        li_2.append(99284)\n",
    "    elif \"99283\" in i:\n",
    "        li_2.append(99283)\n",
    "    elif \"99291\" in i:\n",
    "        to_append = \"99291\"\n",
    "        # li.append(99291)\n",
    "        if \"99292\" in i:\n",
    "            to_append = \"99291,99292\"\n",
    "        li_2.append(to_append)\n",
    "    else:\n",
    "        #print(i)\n",
    "        li_2.append(i)"
   ]
  },
  {
   "cell_type": "code",
   "execution_count": null,
   "id": "70a6e295-d041-4d12-8bce-eb2c48b9230a",
   "metadata": {},
   "outputs": [],
   "source": [
    "df1[\"EANDM_Final2_code\"] = li_2"
   ]
  },
  {
   "cell_type": "code",
   "execution_count": null,
   "id": "66261b22-a231-48d2-99e8-898e7a43f688",
   "metadata": {},
   "outputs": [],
   "source": [
    "#df1.to_csv(\"/home/trishalaswain/Downloads/final_code.csv\")"
   ]
  },
  {
   "cell_type": "code",
   "execution_count": null,
   "id": "46ffe3ea-66cc-4450-bbb7-42b87189393e",
   "metadata": {},
   "outputs": [],
   "source": [
    "df1"
   ]
  },
  {
   "cell_type": "code",
   "execution_count": null,
   "id": "c57efa72-1995-4ca3-9222-0dd8234b4e62",
   "metadata": {},
   "outputs": [],
   "source": [
    "df1.EANDM_Final2_code.value_counts()"
   ]
  },
  {
   "cell_type": "code",
   "execution_count": null,
   "id": "d5e1fc6a-3ea7-41a9-a446-0e2660fcf615",
   "metadata": {},
   "outputs": [],
   "source": [
    "df1[df1.EANDM_Final2_code == '99203']"
   ]
  },
  {
   "cell_type": "code",
   "execution_count": null,
   "id": "a3284390-e976-4e91-bcb0-880e47671425",
   "metadata": {},
   "outputs": [],
   "source": [
    "df1"
   ]
  },
  {
   "cell_type": "code",
   "execution_count": null,
   "id": "76c13fd6-0fef-476d-a3b1-cd871b3f518c",
   "metadata": {},
   "outputs": [],
   "source": [
    "all_data_99285 = df1[(df1[\"EANDM_Final2_code\"] == 99285) | (df1[\"EANDM_Suggested_code\"] == 99285)]"
   ]
  },
  {
   "cell_type": "code",
   "execution_count": null,
   "id": "24ddb2c8-2c0a-4334-9fda-91ee946e15dc",
   "metadata": {},
   "outputs": [],
   "source": [
    "all_data_99284 = df1[(df1[\"EANDM_Final2_code\"] == 99284) | (df1[\"EANDM_Suggested_code\"] == 99284)]"
   ]
  },
  {
   "cell_type": "code",
   "execution_count": null,
   "id": "d69efeba-6dca-49c2-a39d-1d299b8ad403",
   "metadata": {},
   "outputs": [],
   "source": [
    "all_data_99283 = df1[(df1[\"EANDM_Final2_code\"] == 99283) | (df1[\"EANDM_Suggested_code\"] == 99283)]"
   ]
  },
  {
   "cell_type": "code",
   "execution_count": null,
   "id": "2ef0bb22-807d-4249-b3b5-e05d446d962e",
   "metadata": {},
   "outputs": [],
   "source": [
    "all_data_99291_only = df1[(df1[\"EANDM_Final2_code\"] == '99291') | (df1[\"EANDM_Suggested_code\"] == '99291')]"
   ]
  },
  {
   "cell_type": "code",
   "execution_count": null,
   "id": "15ddb118-777d-4aca-9868-f50bc659a2cc",
   "metadata": {},
   "outputs": [],
   "source": [
    "all_data_99291_filtered = all_data_99291_only[all_data_99291_only[\"EANDM_Final2_code\"] != 99285]"
   ]
  },
  {
   "cell_type": "code",
   "execution_count": null,
   "id": "0fc8e80e-177c-427b-92dc-d7d6a5cf03eb",
   "metadata": {},
   "outputs": [],
   "source": [
    "all_data_99291_99292 = df1[(df1[\"EANDM_Final2_code\"] == '99291,99292') | (df1[\"EANDM_Suggested_code\"] == '99291,99292')]"
   ]
  },
  {
   "cell_type": "code",
   "execution_count": null,
   "id": "7ecf7332-a611-4de1-8d6e-c8a2974ecaf3",
   "metadata": {},
   "outputs": [],
   "source": [
    "all_data_99291_99292_filtered = all_data_99291_99292[(all_data_99291_99292[\"EANDM_Final2_code\"] != 99285) & (all_data_99291_99292[\"EANDM_Final2_code\"] != 99284) & (all_data_99291_99292[\"EANDM_Final2_code\"] != 99283)]"
   ]
  },
  {
   "cell_type": "code",
   "execution_count": null,
   "id": "de2baa7f-5f12-493b-b5cd-7dac85dec24b",
   "metadata": {},
   "outputs": [],
   "source": [
    "all_data_99291_filtered"
   ]
  },
  {
   "cell_type": "code",
   "execution_count": null,
   "id": "0edc5801-b28a-438b-8205-2b869ed4be71",
   "metadata": {},
   "outputs": [],
   "source": [
    "all_data_99291_99292_filtered"
   ]
  },
  {
   "cell_type": "code",
   "execution_count": null,
   "id": "92243073-ecdd-4d7d-a7c6-ea0a60644c01",
   "metadata": {},
   "outputs": [],
   "source": [
    "all_data_99285"
   ]
  },
  {
   "cell_type": "code",
   "execution_count": null,
   "id": "5ad207ce-e296-4f5e-ad04-94377a17c185",
   "metadata": {},
   "outputs": [],
   "source": [
    "all_data_99284"
   ]
  },
  {
   "cell_type": "code",
   "execution_count": null,
   "id": "e2e40086-b7ec-4dd6-9e46-3a829f7cd941",
   "metadata": {},
   "outputs": [],
   "source": [
    "all_data_99283"
   ]
  },
  {
   "cell_type": "code",
   "execution_count": null,
   "id": "5e90c2f8-7e80-46b7-b01d-06bc0e11496e",
   "metadata": {},
   "outputs": [],
   "source": [
    "# all_data_99291_only"
   ]
  },
  {
   "cell_type": "code",
   "execution_count": null,
   "id": "77041413-ce50-4a35-b9c9-0c5fb6f7f740",
   "metadata": {},
   "outputs": [],
   "source": [
    "# all_data_99291_99292"
   ]
  },
  {
   "cell_type": "code",
   "execution_count": null,
   "id": "5e3faa80-86f1-42f6-abcd-b63a02a196d5",
   "metadata": {},
   "outputs": [],
   "source": [
    "def accepted(s):\n",
    "     #print(s)\n",
    "    if s['EANDM_Final2_code'] == s[\"EANDM_Suggested_code\"]:\n",
    "        return 1\n",
    "    return 0\n",
    "\n",
    "def rejected(s):\n",
    "     if s['EANDM_Final2_code'] != s[\"EANDM_Suggested_code\"]:\n",
    "        return 1\n",
    "     return 0\n",
    "    \n",
    "def added(s):\n",
    "     if s['EANDM_Final2_code'] == 0:\n",
    "        return 0\n",
    "     if s['EANDM_Final2_code'] != s[\"EANDM_Suggested_code\"]:\n",
    "        return 1\n",
    "     return 0"
   ]
  },
  {
   "cell_type": "code",
   "execution_count": null,
   "id": "20af5bbb-ae7a-4ba2-aa13-0fcb5ca690d4",
   "metadata": {},
   "outputs": [],
   "source": [
    "all_data_99285['Accepted'] = all_data_99285.apply(accepted,axis=1)\n",
    "all_data_99285['Rejected'] = all_data_99285.apply(rejected,axis=1)\n",
    "all_data_99285['Added'] = all_data_99285.apply(added,axis=1)"
   ]
  },
  {
   "cell_type": "code",
   "execution_count": null,
   "id": "e1a11c76-9537-4cea-bf87-dfebee815561",
   "metadata": {},
   "outputs": [],
   "source": [
    "all_data_99284['Accepted'] = all_data_99284.apply(accepted,axis=1)\n",
    "all_data_99284['Rejected'] = all_data_99284.apply(rejected,axis=1)\n",
    "all_data_99284['Added'] = all_data_99284.apply(added,axis=1)"
   ]
  },
  {
   "cell_type": "code",
   "execution_count": null,
   "id": "f22f25df-b168-4e42-971b-93408c91ada1",
   "metadata": {},
   "outputs": [],
   "source": [
    "all_data_99283['Accepted'] = all_data_99283.apply(accepted,axis=1)\n",
    "all_data_99283['Rejected'] = all_data_99283.apply(rejected,axis=1)\n",
    "all_data_99283['Added'] = all_data_99283.apply(added,axis=1)"
   ]
  },
  {
   "cell_type": "code",
   "execution_count": null,
   "id": "9af20329-cd0e-42fd-9679-d14812dad912",
   "metadata": {},
   "outputs": [],
   "source": [
    "# all_data_99291_only['Accepted'] = all_data_99291_only.apply(accepted,axis=1)\n",
    "# all_data_99291_only['Rejected'] = all_data_99291_only.apply(rejected,axis=1)\n",
    "# all_data_99291_only['Added'] = all_data_99291_only.apply(added,axis=1)"
   ]
  },
  {
   "cell_type": "code",
   "execution_count": null,
   "id": "7b859562-7532-4edb-83d6-a25fa40a5a34",
   "metadata": {},
   "outputs": [],
   "source": [
    "all_data_99291_filtered['Accepted'] = all_data_99291_filtered.apply(accepted,axis=1)\n",
    "all_data_99291_filtered['Rejected'] = all_data_99291_filtered.apply(rejected,axis=1)\n",
    "all_data_99291_filtered['Added'] = all_data_99291_filtered.apply(added,axis=1)"
   ]
  },
  {
   "cell_type": "code",
   "execution_count": null,
   "id": "d05bbcd3-7940-4da4-8e33-423a69635667",
   "metadata": {},
   "outputs": [],
   "source": [
    "# all_data_99291_99292['Accepted'] = all_data_99291_99292.apply(accepted,axis=1)\n",
    "# all_data_99291_99292['Rejected'] = all_data_99291_99292.apply(rejected,axis=1)\n",
    "# all_data_99291_99292['Added'] = all_data_99291_99292.apply(added,axis=1)"
   ]
  },
  {
   "cell_type": "code",
   "execution_count": null,
   "id": "ff267564-92fd-4047-92ef-dea5410ca999",
   "metadata": {},
   "outputs": [],
   "source": [
    "all_data_99291_99292_filtered['Accepted'] = all_data_99291_99292_filtered.apply(accepted,axis=1)\n",
    "all_data_99291_99292_filtered['Rejected'] = all_data_99291_99292_filtered.apply(rejected,axis=1)\n",
    "all_data_99291_99292_filtered['Added'] = all_data_99291_99292_filtered.apply(added,axis=1)"
   ]
  },
  {
   "cell_type": "code",
   "execution_count": null,
   "id": "53111bd6-80c2-4b64-9ee5-bd50ded32c2b",
   "metadata": {},
   "outputs": [],
   "source": [
    "# all_data_99291_99292"
   ]
  },
  {
   "cell_type": "code",
   "execution_count": null,
   "id": "c2f21c60-8046-4efd-8775-0ce76e052db4",
   "metadata": {},
   "outputs": [],
   "source": [
    "all_data_99285"
   ]
  },
  {
   "cell_type": "code",
   "execution_count": null,
   "id": "8121cec9-b047-4027-9a55-49f39628beb3",
   "metadata": {},
   "outputs": [],
   "source": [
    "all_data_99284"
   ]
  },
  {
   "cell_type": "code",
   "execution_count": null,
   "id": "0b32b4b5-b231-4c8c-8152-449af02a7637",
   "metadata": {},
   "outputs": [],
   "source": [
    "all_data_99283"
   ]
  },
  {
   "cell_type": "code",
   "execution_count": null,
   "id": "733bf519-b160-41db-b7ff-1db48612656b",
   "metadata": {},
   "outputs": [],
   "source": [
    "# all_data_99291_only"
   ]
  },
  {
   "cell_type": "code",
   "execution_count": null,
   "id": "d40f0c69-96f3-44a1-931c-230184cc2313",
   "metadata": {},
   "outputs": [],
   "source": [
    "all_data_99291_filtered"
   ]
  },
  {
   "cell_type": "code",
   "execution_count": null,
   "id": "3d0754e9-a6ef-4799-bf6a-4e3f76daaf9c",
   "metadata": {
    "scrolled": true,
    "tags": []
   },
   "outputs": [],
   "source": [
    "def highlight_cells(val):\n",
    "    color = 'yellow' if val == 5.1 else '#C6E2E9' # Pastel blue\n",
    "    return 'background-color: {}'.format(color)\n",
    "\n",
    "df.style.applymap(highlight_cells)"
   ]
  },
  {
   "cell_type": "code",
   "execution_count": null,
   "id": "0f1bffd9-2a57-43fb-a07a-31b3034d71b4",
   "metadata": {},
   "outputs": [],
   "source": [
    "# all_data_99291_99292"
   ]
  },
  {
   "cell_type": "code",
   "execution_count": null,
   "id": "4195e2c7-785a-4ee5-b737-b4e1db617574",
   "metadata": {},
   "outputs": [],
   "source": [
    "all_data_99291_99292_filtered"
   ]
  },
  {
   "cell_type": "code",
   "execution_count": null,
   "id": "68b67b69-45a5-4de1-bf67-22be5aa753ef",
   "metadata": {},
   "outputs": [],
   "source": [
    "all_data_99285.loc['Column_Total'] = all_data_99285.loc[:,'Accepted'::].sum(axis=0)"
   ]
  },
  {
   "cell_type": "code",
   "execution_count": null,
   "id": "0f1c82eb-9120-4e3b-b710-7c10f8d43e65",
   "metadata": {},
   "outputs": [],
   "source": [
    "all_data_99284.loc['Column_Total'] = all_data_99284.loc[:,'Accepted'::].sum(axis=0)"
   ]
  },
  {
   "cell_type": "code",
   "execution_count": null,
   "id": "64909454-30a7-4942-93c6-65e0e1ce1d19",
   "metadata": {},
   "outputs": [],
   "source": [
    "all_data_99283.loc['Column_Total'] = all_data_99283.loc[:,'Accepted'::].sum(axis=0)"
   ]
  },
  {
   "cell_type": "code",
   "execution_count": null,
   "id": "b83444a2-b672-4077-a57a-53b942bbe575",
   "metadata": {},
   "outputs": [],
   "source": [
    "# all_data_99291_only.loc['Column_Total'] = all_data_99291_only.loc[:,'Accepted'::].sum(axis=0)"
   ]
  },
  {
   "cell_type": "code",
   "execution_count": null,
   "id": "65dc49fd-6eb6-4e2f-8f77-40f445129c6b",
   "metadata": {},
   "outputs": [],
   "source": [
    "all_data_99291_filtered.loc['Column_Total'] = all_data_99291_filtered.loc[:,'Accepted'::].sum(axis=0)"
   ]
  },
  {
   "cell_type": "code",
   "execution_count": null,
   "id": "d7dbf456-035d-43c0-a75d-c434eb212f53",
   "metadata": {},
   "outputs": [],
   "source": [
    "# all_data_99291_99292.loc['Column_Total'] = all_data_99291_99292.loc[:,'Accepted'::].sum(axis=0)"
   ]
  },
  {
   "cell_type": "code",
   "execution_count": null,
   "id": "68ba34da-2aab-4fc6-8a24-72ffc4085da2",
   "metadata": {},
   "outputs": [],
   "source": [
    "all_data_99291_99292_filtered.loc['Column_Total'] = all_data_99291_99292_filtered.loc[:,'Accepted'::].sum(axis=0)"
   ]
  },
  {
   "cell_type": "code",
   "execution_count": null,
   "id": "01c5218a-3c7b-404e-b6cf-3e207a14acb6",
   "metadata": {},
   "outputs": [],
   "source": [
    "all_data_99285"
   ]
  },
  {
   "cell_type": "code",
   "execution_count": null,
   "id": "6c759261-e46b-4782-85af-af241b7c36d6",
   "metadata": {},
   "outputs": [],
   "source": [
    "all_data_99284"
   ]
  },
  {
   "cell_type": "code",
   "execution_count": null,
   "id": "ef717253-cf14-4a31-91b6-935b1b60323a",
   "metadata": {},
   "outputs": [],
   "source": [
    "all_data_99283"
   ]
  },
  {
   "cell_type": "code",
   "execution_count": null,
   "id": "a3cc2960-96bb-4157-85da-15972951070b",
   "metadata": {},
   "outputs": [],
   "source": [
    "# all_data_99291_only"
   ]
  },
  {
   "cell_type": "code",
   "execution_count": null,
   "id": "59d3c17f-d7a0-4a7d-a9bf-1ba088e7358b",
   "metadata": {},
   "outputs": [],
   "source": [
    "all_data_99291_filtered"
   ]
  },
  {
   "cell_type": "code",
   "execution_count": null,
   "id": "dd3dc8a2-c5f3-405d-a79a-142f39a60f27",
   "metadata": {},
   "outputs": [],
   "source": [
    "# all_data_99291_99292"
   ]
  },
  {
   "cell_type": "code",
   "execution_count": null,
   "id": "5b240ab8-bca1-47bf-b72d-813c1e70d93a",
   "metadata": {},
   "outputs": [],
   "source": [
    "all_data_99291_99292_filtered"
   ]
  },
  {
   "cell_type": "code",
   "execution_count": null,
   "id": "0a445305-b328-4c49-83f2-7af2a0e95cd6",
   "metadata": {},
   "outputs": [],
   "source": [
    "Accepted_count_99285 = all_data_99285['Accepted'].iloc[-1]\n",
    "Rejected_count_99285 = all_data_99285['Rejected'].iloc[-1]\n",
    "Added_count_99285 = all_data_99285['Added'].iloc[-1]"
   ]
  },
  {
   "cell_type": "code",
   "execution_count": null,
   "id": "f068b21b-88fa-401f-a772-50e42ec6a87d",
   "metadata": {},
   "outputs": [],
   "source": [
    "Accepted_count_99284 = all_data_99284['Accepted'].iloc[-1]\n",
    "Rejected_count_99284 = all_data_99284['Rejected'].iloc[-1]\n",
    "Added_count_99284 = all_data_99284['Added'].iloc[-1]"
   ]
  },
  {
   "cell_type": "code",
   "execution_count": null,
   "id": "d506b758-3fda-4f8b-83fd-709097b7f334",
   "metadata": {},
   "outputs": [],
   "source": [
    "Accepted_count_99283 = all_data_99283['Accepted'].iloc[-1]\n",
    "Rejected_count_99283 = all_data_99283['Rejected'].iloc[-1]\n",
    "Added_count_99283 = all_data_99283['Added'].iloc[-1]"
   ]
  },
  {
   "cell_type": "code",
   "execution_count": null,
   "id": "6c591bbe-e234-4857-b74e-3370aa78ed2b",
   "metadata": {},
   "outputs": [],
   "source": [
    "# Accepted_count_99291_only = all_data_99291_only['Accepted'].iloc[-1]\n",
    "# Rejected_count_99291_only = all_data_99291_only['Rejected'].iloc[-1]\n",
    "# Added_count_99291_only = all_data_99291_only['Added'].iloc[-1]"
   ]
  },
  {
   "cell_type": "code",
   "execution_count": null,
   "id": "fcbc36b9-0167-4555-9193-7025500d01f3",
   "metadata": {},
   "outputs": [],
   "source": [
    "Accepted_count_99291_filtered = all_data_99291_filtered['Accepted'].iloc[-1]\n",
    "Rejected_count_99291_filtered = all_data_99291_filtered['Rejected'].iloc[-1]\n",
    "Added_count_99291_filtered = all_data_99291_filtered['Added'].iloc[-1]"
   ]
  },
  {
   "cell_type": "code",
   "execution_count": null,
   "id": "e9703edb-993b-45f1-9bac-d9074eec2867",
   "metadata": {},
   "outputs": [],
   "source": [
    "# Accepted_count_99291_99292 = all_data_99291_99292['Accepted'].iloc[-1]\n",
    "# Rejected_count_99291_99292 = all_data_99291_99292['Rejected'].iloc[-1]\n",
    "# Added_count_99291_99292 = all_data_99291_99292['Added'].iloc[-1]"
   ]
  },
  {
   "cell_type": "code",
   "execution_count": null,
   "id": "a6b769cb-03a3-46ea-9e19-f01e81817a58",
   "metadata": {},
   "outputs": [],
   "source": [
    "Accepted_count_99291_99292_filtered = all_data_99291_99292_filtered['Accepted'].iloc[-1]\n",
    "Rejected_count_99291_99292_filtered = all_data_99291_99292_filtered['Rejected'].iloc[-1]\n",
    "Added_count_99291_99292_filtered = all_data_99291_99292_filtered['Added'].iloc[-1]"
   ]
  },
  {
   "cell_type": "code",
   "execution_count": null,
   "id": "ac04fe61-ee51-4b79-a886-5b537288b98b",
   "metadata": {},
   "outputs": [],
   "source": [
    "precision_99285 = Accepted_count_99285 / (Accepted_count_99285 + Rejected_count_99285)\n",
    "recall_99285 = Accepted_count_99285 / (Accepted_count_99285 + Added_count_99285)\n",
    "f1_score_99285 = (2*precision_99285*recall_99285)/(precision_99285 + recall_99285)"
   ]
  },
  {
   "cell_type": "code",
   "execution_count": null,
   "id": "a84532ff-c29e-45b7-ae11-d23dc42a9277",
   "metadata": {},
   "outputs": [],
   "source": [
    "precision_99284 = Accepted_count_99284 / (Accepted_count_99284 + Rejected_count_99284)\n",
    "recall_99284 = Accepted_count_99284 / (Accepted_count_99284 + Added_count_99284)\n",
    "f1_score_99284 = (2*precision_99284*recall_99284)/(precision_99284 + recall_99284)"
   ]
  },
  {
   "cell_type": "code",
   "execution_count": null,
   "id": "dd1264ae-6b37-45b3-8466-0884bbddbb56",
   "metadata": {},
   "outputs": [],
   "source": [
    "precision_99283 = Accepted_count_99283 / (Accepted_count_99283 + Rejected_count_99283)\n",
    "recall_99283 = Accepted_count_99283 / (Accepted_count_99283 + Added_count_99283)\n",
    "f1_score_99283 = (2 * precision_99283 * recall_99283)/(precision_99283 + recall_99283)"
   ]
  },
  {
   "cell_type": "code",
   "execution_count": null,
   "id": "829c19bd-3534-4f27-8ffb-f6c994ded330",
   "metadata": {},
   "outputs": [],
   "source": [
    "# precision_99291_only = Accepted_count_99291_only / (Accepted_count_99291_only + Rejected_count_99291_only)\n",
    "# recall_99291_only = Accepted_count_99291_only / (Accepted_count_99291_only + Added_count_99291_only)\n",
    "# f1_score_99291_only = (2 * precision_99291_only * recall_99291_only)/(precision_99291_only + recall_99291_only)"
   ]
  },
  {
   "cell_type": "code",
   "execution_count": null,
   "id": "b9d2e091-4eb6-487c-b871-941900a7c0e5",
   "metadata": {},
   "outputs": [],
   "source": [
    "precision_99291_filtered = Accepted_count_99291_filtered / (Accepted_count_99291_filtered + Rejected_count_99291_filtered)\n",
    "recall_99291_filtered = Accepted_count_99291_filtered / (Accepted_count_99291_filtered + Added_count_99291_filtered)\n",
    "f1_score_99291_filtered = (2 * precision_99291_filtered * recall_99291_filtered)/(precision_99291_filtered + recall_99291_filtered)"
   ]
  },
  {
   "cell_type": "code",
   "execution_count": null,
   "id": "11a1244b-6d71-4539-9e0f-447309f098bc",
   "metadata": {},
   "outputs": [],
   "source": [
    "# precision_99291_99292 = Accepted_count_99291_99292 / (Accepted_count_99291_99292 + Rejected_count_99291_99292)\n",
    "# recall_99291_99292 = Accepted_count_99291_99292 / (Accepted_count_99291_99292 + Added_count_99291_99292)\n",
    "# f1_score_99291_99292 = (2 * precision_99291_99292 * recall_99291_99292)/(precision_99291_99292 + recall_99291_99292)"
   ]
  },
  {
   "cell_type": "code",
   "execution_count": null,
   "id": "f0dc722f-9553-4dd4-a7f4-d11ee07a8bd3",
   "metadata": {},
   "outputs": [],
   "source": [
    "precision_99291_99292_filtered = Accepted_count_99291_99292_filtered / (Accepted_count_99291_99292_filtered + Rejected_count_99291_99292_filtered)\n",
    "recall_99291_99292_filtered = Accepted_count_99291_99292_filtered / (Accepted_count_99291_99292_filtered + Added_count_99291_99292_filtered)\n",
    "f1_score_99291_99292_filtered = (2 * precision_99291_99292_filtered * recall_99291_99292_filtered)/(precision_99291_99292_filtered + recall_99291_99292_filtered)"
   ]
  },
  {
   "cell_type": "code",
   "execution_count": null,
   "id": "bbc7e748-23b1-4dbc-8baa-6f5a406519bc",
   "metadata": {},
   "outputs": [],
   "source": [
    "print(\"Precision_99285:\\t\" + str(precision_99285))\n",
    "print(\"Recall_99285:\\t\" + str(recall_99285))\n",
    "print(\"F1-score_99285:\\t\" + str(f1_score_99285))"
   ]
  },
  {
   "cell_type": "code",
   "execution_count": null,
   "id": "767f3914-e914-4aa7-aac4-8bec16934202",
   "metadata": {},
   "outputs": [],
   "source": [
    "print(\"Precision_99284:\\t\" + str(precision_99284))\n",
    "print(\"Recall_99284:\\t\" + str(recall_99284))\n",
    "print(\"F1-score_99284:\\t\" + str(f1_score_99284))"
   ]
  },
  {
   "cell_type": "code",
   "execution_count": null,
   "id": "0f3aa59f-8622-4a0c-9cb2-2ebc0c0c7b25",
   "metadata": {},
   "outputs": [],
   "source": [
    "print(\"Precision_99283:\\t\" + str(precision_99283))\n",
    "print(\"Recall_99283:\\t\" + str(recall_99283))\n",
    "print(\"F1-score_99283:\\t\" + str(f1_score_99283))"
   ]
  },
  {
   "cell_type": "code",
   "execution_count": null,
   "id": "bb6078aa-b734-4f1f-aa52-2e352fb17c5f",
   "metadata": {},
   "outputs": [],
   "source": [
    "# print(\"Precision_99291_only:\\t\" + str(precision_99291_only))\n",
    "# print(\"Recall_99291_only:\\t\" + str(recall_99291_only))\n",
    "# print(\"F1-score_99291_only:\\t\" + str(f1_score_99291_only))"
   ]
  },
  {
   "cell_type": "code",
   "execution_count": null,
   "id": "bb14d699-49d7-49c0-a5d5-75ecaea5c223",
   "metadata": {},
   "outputs": [],
   "source": [
    "print(\"99291 Filtered Accuracy\")\n",
    "print(\"Precision_99291_filtered:\\t\" + str(precision_99291_filtered))\n",
    "print(\"Recall_99291_filtered:\\t\" + str(recall_99291_filtered))\n",
    "print(\"F1-score_99291_filtered:\\t\" + str(f1_score_99291_filtered))"
   ]
  },
  {
   "cell_type": "code",
   "execution_count": null,
   "id": "c3ca373d-7a2f-45aa-93c9-0dfaa6632f43",
   "metadata": {},
   "outputs": [],
   "source": [
    "# print(\"99292 & 99292 unhandled accuracy (wrong)\")\n",
    "# print(\"Precision_99291_99292:\\t\" + str(precision_99291_99292))\n",
    "# print(\"Recall_99291_99292:\\t\" + str(recall_99291_99292))\n",
    "# print(\"F1-score_99291_99292:\\t\" + str(f1_score_99291_99292))"
   ]
  },
  {
   "cell_type": "code",
   "execution_count": null,
   "id": "8b885a79-41b1-45ad-9b57-0ead4eacca79",
   "metadata": {},
   "outputs": [],
   "source": [
    "print(\"99291 & 99292 Filtered Accuracy\")\n",
    "print(\"Precision_99291_99292_filtered:\\t\" + str(precision_99291_99292_filtered))\n",
    "print(\"Recall_99291_99292_filtered:\\t\" + str(recall_99291_99292_filtered))\n",
    "print(\"F1-score_99291_99292_filtered:\\t\" + str(f1_score_99291_99292_filtered))"
   ]
  }
 ],
 "metadata": {
  "kernelspec": {
   "display_name": "Python 3 (ipykernel)",
   "language": "python",
   "name": "python3"
  },
  "language_info": {
   "codemirror_mode": {
    "name": "ipython",
    "version": 3
   },
   "file_extension": ".py",
   "mimetype": "text/x-python",
   "name": "python",
   "nbconvert_exporter": "python",
   "pygments_lexer": "ipython3",
   "version": "3.9.12"
  }
 },
 "nbformat": 4,
 "nbformat_minor": 5
}
