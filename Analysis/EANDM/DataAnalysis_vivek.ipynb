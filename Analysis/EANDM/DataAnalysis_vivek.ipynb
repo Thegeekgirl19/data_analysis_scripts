{
 "cells": [
  {
   "cell_type": "code",
   "execution_count": null,
   "id": "7605c300-ab54-4ba6-a65e-e11cb113ad7d",
   "metadata": {},
   "outputs": [],
   "source": [
    "import pandas as pd, numpy as np"
   ]
  },
  {
   "cell_type": "code",
   "execution_count": null,
   "id": "2b91b9d8",
   "metadata": {},
   "outputs": [],
   "source": [
    "# pip install openpyxl"
   ]
  },
  {
   "cell_type": "code",
   "execution_count": null,
   "id": "9b46b1be-7480-4a06-b338-9913293f69ce",
   "metadata": {},
   "outputs": [],
   "source": [
    "def applytab(row):\n",
    "    print('\\t'.join(map(str,row.values)))"
   ]
  },
  {
   "cell_type": "code",
   "execution_count": null,
   "id": "ea44eb1c",
   "metadata": {},
   "outputs": [],
   "source": [
    "df = pd.read_excel('/home/trishalaswain/Documents/AGS_PROJECTS/download_scripts_and_tars/CHS_ALL_JUNE/CHS-June-accuracy_sheets_combined.xlsx', index_col=False)"
   ]
  },
  {
   "cell_type": "code",
   "execution_count": null,
   "id": "ada82f63",
   "metadata": {},
   "outputs": [],
   "source": [
    "df.facilityCode = df.facilityCode.astype(str)\n"
   ]
  },
  {
   "cell_type": "code",
   "execution_count": null,
   "id": "b70b6e6f",
   "metadata": {},
   "outputs": [],
   "source": [
    "df = df[df.facilityCode=='1475']"
   ]
  },
  {
   "cell_type": "code",
   "execution_count": null,
   "id": "a7949a35",
   "metadata": {},
   "outputs": [],
   "source": [
    "df2 = df.copy()"
   ]
  },
  {
   "cell_type": "code",
   "execution_count": null,
   "id": "875fd0ee",
   "metadata": {},
   "outputs": [],
   "source": [
    "df = pd.DataFrame()"
   ]
  },
  {
   "cell_type": "code",
   "execution_count": null,
   "id": "f41430bc",
   "metadata": {},
   "outputs": [],
   "source": [
    "merge_df = pd.DataFrame()\n"
   ]
  },
  {
   "cell_type": "code",
   "execution_count": null,
   "id": "9e992841-fe17-4562-a47b-a772037da987",
   "metadata": {
    "scrolled": true,
    "tags": []
   },
   "outputs": [],
   "source": [
    "import os\n",
    "\n",
    "folder = \"/home/trishalaswain/ClientData/SCP/SCP_JULY_ALL_SHEETS/\"\n",
    "# folder = \"/home/trishalaswain/Downloads/Feb_01_to_28_tsv (1)/\"\n",
    "dfs = []\n",
    "for filename in os.listdir(folder):\n",
    "    print(filename)\n",
    "    if filename.startswith('SCP-'):\n",
    "        if filename.endswith(\"31.tsv\"):\n",
    "            print(os.path.join(folder, filename))\n",
    "            dfs.append(pd.read_table(os.path.join(folder, filename),index_col=False))\n",
    "        # if filename.endswith(\"15.xlsx\"):\n",
    "        #     print(os.path.join(folder, filename))\n",
    "        #     dfs.append(pd.read_excel(os.path.join(folder, filename),index_col=False))\n",
    "df = pd.concat(dfs)\n",
    "\n",
    "# import os\n",
    "\n",
    "# folder = \"/home/trishalaswain/ClientData/SCP/SCP_JULY_ALL_SHEETS/\"\n",
    "# for filename in os.listdir(folder):\n",
    "#     if filename.startswith('SCP-') and filename.endswith(\"31.tsv\"):\n",
    "#             print(os.path.join(folder, filename))\n",
    "#             df = pd.read_table(os.path.join(folder, filename),index_col=False)\n",
    "\n",
    "# merge_df = pd.concat([merge_df,df])"
   ]
  },
  {
   "cell_type": "code",
   "execution_count": null,
   "id": "bba8da00",
   "metadata": {},
   "outputs": [],
   "source": [
    "df.id.to_excel('/home/trishalaswain/ClientData/Accounts.xlsx')"
   ]
  },
  {
   "cell_type": "code",
   "execution_count": null,
   "id": "a66fbda7",
   "metadata": {},
   "outputs": [],
   "source": [
    "df =  pd.read_excel('/home/trishalaswain/Downloads/CHS-4696-CHS - Tablespace 4696-2023-04-01-2023-04-21.xlsx',index_col=False).fillna('0')"
   ]
  },
  {
   "cell_type": "code",
   "execution_count": null,
   "id": "b4e4f195-7a11-4778-8eea-7b8d7bff3d6d",
   "metadata": {},
   "outputs": [],
   "source": [
    "df"
   ]
  },
  {
   "cell_type": "code",
   "execution_count": null,
   "id": "ba4fa5fc-e4db-4694-a15c-2e56d89725b5",
   "metadata": {
    "scrolled": true,
    "tags": []
   },
   "outputs": [],
   "source": [
    "# df[df.EANDM_Final.isna()].EANDM_Suggested.value_counts()\n",
    "df[df.EANDM_Final.isna()].shape"
   ]
  },
  {
   "cell_type": "code",
   "execution_count": null,
   "id": "8fdd14a4-915d-49a2-bef2-97d7e54941bf",
   "metadata": {
    "tags": []
   },
   "outputs": [],
   "source": [
    "# pep_folder = '/home/vivekkumar/EandMTXT/docs_PEP/PEP/'\n",
    "\n",
    "# enc_pcs_dict = {}\n",
    "# # enc_req_dict = {}\n",
    "\n",
    "# for subfoldername in os.listdir(pep_folder):\n",
    "#     subfolder = os.path.join(pep_folder, subfoldername)\n",
    "#     for filename in os.listdir(subfolder):\n",
    "        \n",
    "#         enc_id = int(filename[:filename.index('_')])\n",
    "#         if filename.endswith('_pcs.xml'):\n",
    "#             enc_pcs_dict[enc_id] = os.path.join(subfolder, filename)\n",
    "# df.to_excel('/home/trishalaswain/Downloads/excel.xlsx')"
   ]
  },
  {
   "cell_type": "code",
   "execution_count": null,
   "id": "8e03c91e-41d9-45a3-b3cc-8e9f01cb33df",
   "metadata": {},
   "outputs": [],
   "source": [
    "df.month.nunique()"
   ]
  },
  {
   "cell_type": "code",
   "execution_count": null,
   "id": "87f7c1a0-86a5-4a0e-a98e-83ad44d8f774",
   "metadata": {},
   "outputs": [],
   "source": [
    "# df.to_csv('/home/vivekkumar/AccuracySheets/testt.csv', index=False)"
   ]
  },
  {
   "cell_type": "code",
   "execution_count": null,
   "id": "a75d7587-20f0-4e68-9a46-c0651d1d7672",
   "metadata": {
    "scrolled": true,
    "tags": []
   },
   "outputs": [],
   "source": [
    "df.facilityName.value_counts()"
   ]
  },
  {
   "cell_type": "code",
   "execution_count": null,
   "id": "a984bcd1-6039-4071-b4b5-53515308c690",
   "metadata": {},
   "outputs": [],
   "source": [
    "# df.columns"
   ]
  },
  {
   "cell_type": "code",
   "execution_count": null,
   "id": "6dbdc1ed-a9bb-450e-b44a-0f5c233ae60c",
   "metadata": {},
   "outputs": [],
   "source": [
    "from collections import OrderedDict\n",
    "def get_accuracy(data_df, codetype):\n",
    "    \n",
    "    # display(data_df)\n",
    "    # print(data_df.columns)\n",
    "    \n",
    "    accept = data_df[codetype+'_Accepted_Count'].sum()\n",
    "    reject = data_df[codetype+'_Rejected_Count'].sum()\n",
    "    add = data_df[codetype+'_Added_Count'].sum()\n",
    "    \n",
    "    d = OrderedDict()\n",
    "    \n",
    "    d['encounters'] = data_df.shape[0]\n",
    "    \n",
    "    d[codetype+'_accepted'] = accept\n",
    "    d[codetype+'_rejected'] = reject\n",
    "    d[codetype+'_added'] = add\n",
    "    \n",
    "    d[codetype+'_billed'] = accept+add\n",
    "    \n",
    "    if accept == 0:\n",
    "        if add + reject == 0:\n",
    "            d['precision'] = 1\n",
    "            d['recall'] = 1\n",
    "            d['f1'] = 1\n",
    "        else:\n",
    "            d['precision'] = 0.0\n",
    "            d['recall'] = 0.0\n",
    "            d['f1'] = 0.0\n",
    "    else:\n",
    "        d['precision'] = accept / (accept + reject)\n",
    "        d['recall'] = accept / (accept + add)\n",
    "        d['f1'] = 2 * d['precision'] * d['recall'] / (d['precision'] + d['recall'])\n",
    "    \n",
    "    return pd.Series(d)"
   ]
  },
  {
   "cell_type": "code",
   "execution_count": null,
   "id": "07f5a574-3dd8-42e6-915b-d12c3a9df35d",
   "metadata": {},
   "outputs": [],
   "source": [
    "df_accuracy = df.groupby(['facilityCode', 'month']).apply(get_accuracy, codetype='EANDM').reset_index()\n",
    "df_accuracy\n",
    "pep_df = df.copy()"
   ]
  },
  {
   "cell_type": "code",
   "execution_count": null,
   "id": "ce181fbe-ae20-44e5-b1c6-ae6cd3943365",
   "metadata": {
    "tags": []
   },
   "outputs": [],
   "source": [
    "df['serviceDate'] = pd.to_datetime(df['serviceDate'])"
   ]
  },
  {
   "cell_type": "code",
   "execution_count": null,
   "id": "0d1b8a1e-1605-449d-9fd6-28ef9783ebb2",
   "metadata": {
    "tags": []
   },
   "outputs": [],
   "source": [
    "set_cpt = set()\n",
    "set_rejected = set()"
   ]
  },
  {
   "cell_type": "code",
   "execution_count": null,
   "id": "03a19ba4-d9ae-49b9-8310-a530d07b05e9",
   "metadata": {},
   "outputs": [],
   "source": [
    "def get_cpt_counts(code_list, df_to_use, col, codetype):\n",
    "    count_dict = {}\n",
    "    for code in code_list:\n",
    "        count_dict[code] = df_to_use[col].str.contains(code).sum()\n",
    "        \n",
    "    return count_dict"
   ]
  },
  {
   "cell_type": "code",
   "execution_count": null,
   "id": "8b356c74-d285-4a71-9f87-1f60170e2fd2",
   "metadata": {},
   "outputs": [],
   "source": [
    "def clean_cpt(x):\n",
    "    \n",
    "    clean = str(x['CPT_Final']).split(', ')\n",
    "    for i in clean:\n",
    "        i = i[0:5]\n",
    "        set_cpt.add(i)\n",
    "    return clean\n",
    "cpt_code_list = set_cpt\n",
    "clean_cpt = df.apply(clean_cpt, axis=1)"
   ]
  },
  {
   "cell_type": "code",
   "execution_count": null,
   "id": "9469df70-0248-4565-a2ef-a2b01e52105d",
   "metadata": {
    "scrolled": true,
    "tags": []
   },
   "outputs": [],
   "source": [
    "pep_df[pep_df.EANDM_Final.isna()].shape"
   ]
  },
  {
   "cell_type": "code",
   "execution_count": null,
   "id": "aa2f300c-67c4-4ebe-a868-da0d4f37101a",
   "metadata": {},
   "outputs": [],
   "source": [
    "count_dict_cpt = get_cpt_counts(cpt_code_list, pep_df[pep_df.EANDM_Final.isna()], 'CPT_Suggested', 'CPT_Suggested')"
   ]
  },
  {
   "cell_type": "code",
   "execution_count": null,
   "id": "48594a5b-242d-44f2-ae3e-a91e17c1030a",
   "metadata": {},
   "outputs": [],
   "source": [
    "cpt_stats = pd.DataFrame(count_dict_cpt.items(), columns = ['cpt_code','code_counts']).sort_values(by=['code_counts'], ascending=False).reset_index()"
   ]
  },
  {
   "cell_type": "code",
   "execution_count": null,
   "id": "7f75d77a-8441-4fbf-84ff-d3800466cab7",
   "metadata": {
    "scrolled": true,
    "tags": []
   },
   "outputs": [],
   "source": [
    "cpt_stats.head(20)"
   ]
  },
  {
   "cell_type": "code",
   "execution_count": null,
   "id": "709f1ca8-1cfa-413b-a90d-174116e484da",
   "metadata": {
    "tags": []
   },
   "outputs": [],
   "source": [
    "from ast import literal_eval\n",
    "# from collections import Counter\n",
    "# def get_counts(x):\n",
    "#     d= Counter([c for y in x for c in literal_eval(y)])\n",
    "    \n",
    "#     for k, v in d.most_common():\n",
    "#         print(k, v)\n",
    "    # print(d)"
   ]
  },
  {
   "cell_type": "code",
   "execution_count": null,
   "id": "e2754c90-b34a-441e-8227-847b7dbbd9d6",
   "metadata": {
    "scrolled": true,
    "tags": []
   },
   "outputs": [],
   "source": [
    "# get_counts(df[df.facilityCode==1475]['CPT_Accepted'])"
   ]
  },
  {
   "cell_type": "code",
   "execution_count": null,
   "id": "b895dc72-fccf-4288-8859-80df7d0ad106",
   "metadata": {
    "scrolled": true,
    "tags": []
   },
   "outputs": [],
   "source": [
    "# get_counts(df[df.facilityCode=='PEP']['CPT_Rejected'])"
   ]
  },
  {
   "cell_type": "code",
   "execution_count": null,
   "id": "a971f966-35f6-4aa2-ab56-2fb6a9d20941",
   "metadata": {
    "scrolled": true,
    "tags": []
   },
   "outputs": [],
   "source": [
    "# get_counts(df[df.facilityCode=='PEP']['CPT_Added'])"
   ]
  },
  {
   "cell_type": "code",
   "execution_count": null,
   "id": "6b760c47-ce1a-423f-963c-747d51cb0951",
   "metadata": {
    "tags": []
   },
   "outputs": [],
   "source": [
    "# df.facilityCode.value_counts()"
   ]
  },
  {
   "cell_type": "code",
   "execution_count": null,
   "id": "8234b2b6-63f6-4a11-8303-c7a91b92f5a0",
   "metadata": {
    "scrolled": true,
    "tags": []
   },
   "outputs": [],
   "source": [
    "pep_df = df.copy()\n",
    "# pep_df[pep_df['encDocIds'].fillna('').astype(str).apply(lambda x:len(literal_eval('['+str(x)+']'))==1)].shape, pep_df.shape"
   ]
  },
  {
   "cell_type": "code",
   "execution_count": null,
   "id": "5e343a0b-46a9-43a8-901c-e94bce82697f",
   "metadata": {
    "scrolled": true,
    "tags": []
   },
   "outputs": [],
   "source": [
    "# len(set(pep_df.id).intersection(set(enc_pcs_dict)))"
   ]
  },
  {
   "cell_type": "code",
   "execution_count": null,
   "id": "734c0a22-41a2-4314-99a0-5bf274cd4b57",
   "metadata": {
    "tags": []
   },
   "outputs": [],
   "source": [
    "# pep_df['filepath'] = pep_df.id.apply(lambda x:enc_pcs_dict[x] if x in enc_pcs_dict else np.nan)\n",
    "# pep_df = pep_df[~pep_df.filepath.isna()].copy()"
   ]
  },
  {
   "cell_type": "code",
   "execution_count": null,
   "id": "9dd282cc-60c6-46f0-97f1-7b221c75261a",
   "metadata": {
    "tags": []
   },
   "outputs": [],
   "source": [
    "pep_df.EANDM_Final = pep_df.EANDM_Accepted.apply(lambda x:literal_eval(x))+pep_df.EANDM_Added.apply(lambda x:literal_eval(x))\n",
    "pep_df.EANDM_Suggested = pep_df.EANDM_Accepted.apply(lambda x:literal_eval(x))+pep_df.EANDM_Rejected.apply(lambda x:literal_eval(x))"
   ]
  },
  {
   "cell_type": "code",
   "execution_count": null,
   "id": "2a5df5f5-bf76-4c6e-9fb8-f93c8b9f22a6",
   "metadata": {
    "tags": []
   },
   "outputs": [],
   "source": [
    "def get_counts_group(x, grouped_col):\n",
    "    print(x[grouped_col].unique())\n",
    "    d= Counter([c for y in x['EANDM_Final'] for c in y])\n",
    "    \n",
    "    for k, v in d.most_common():\n",
    "        print(k, v)\n",
    "    print('\\n')"
   ]
  },
  {
   "cell_type": "code",
   "execution_count": null,
   "id": "0dbfae70-7640-4946-9d4a-c88b7f3e7470",
   "metadata": {
    "scrolled": true,
    "tags": []
   },
   "outputs": [],
   "source": [
    "pep_df.EANDM_Final.value_counts()"
   ]
  },
  {
   "cell_type": "code",
   "execution_count": null,
   "id": "6a49f15a-2c21-4d14-894c-df480262c839",
   "metadata": {
    "scrolled": true,
    "tags": []
   },
   "outputs": [],
   "source": [
    "pep_df.EANDM_Suggested.value_counts()"
   ]
  },
  {
   "cell_type": "code",
   "execution_count": null,
   "id": "0396b99b-f1b3-4933-986b-e7499b2f9b5c",
   "metadata": {
    "scrolled": true,
    "tags": []
   },
   "outputs": [],
   "source": [
    "# for col in pep_df.columns:\n",
    "#     print(col)\n",
    "#     display(pep_df[col].value_counts())\n",
    "#     print('\\n\\n')"
   ]
  },
  {
   "cell_type": "code",
   "execution_count": null,
   "id": "4eefa873",
   "metadata": {},
   "outputs": [],
   "source": [
    "df.userId = df.userId.astype('str')\n",
    "pep_df_1 = df[df.userId=='5050'].copy()"
   ]
  },
  {
   "cell_type": "code",
   "execution_count": null,
   "id": "ee0186cb",
   "metadata": {},
   "outputs": [],
   "source": [
    "pep_df_1"
   ]
  },
  {
   "cell_type": "code",
   "execution_count": null,
   "id": "680db799-7995-4cb4-b336-4a7c31fb6a2d",
   "metadata": {
    "scrolled": true,
    "tags": []
   },
   "outputs": [],
   "source": [
    "n = pep_df_1.groupby(['userId','facilityCode']).apply(get_accuracy, 'EANDM')\n",
    "n.to_excel('/home/trishalaswain/Documents/AGS_PROJECTS/download_scripts_and_tars/CHS_ALL_JUNE/CHS_userId_5050.xlsx')"
   ]
  },
  {
   "cell_type": "code",
   "execution_count": null,
   "id": "23d77b00-c5b5-47d2-9818-4d74e42ab329",
   "metadata": {
    "scrolled": true,
    "tags": []
   },
   "outputs": [],
   "source": [
    "# # pep_df.groupby('physicianId').apply(get_counts_group, grouped_col='pointOfCare')\n",
    "# pep_df_1 = df[df.EANDM_Final.isna()]\n",
    "# pep_df_1.groupby(['visitType']).apply(get_accuracy, 'EANDM').sort_values(['f1','EANDM_rejected'],ascending=[True,False])"
   ]
  },
  {
   "cell_type": "code",
   "execution_count": null,
   "id": "a7af0d3f-1e2b-4e05-8c4c-e83465908816",
   "metadata": {
    "scrolled": true,
    "tags": []
   },
   "outputs": [],
   "source": [
    "pep_df.EANDM_Final.value_counts()"
   ]
  },
  {
   "cell_type": "code",
   "execution_count": null,
   "id": "571458c4-6a53-45b5-8c20-bda48d695968",
   "metadata": {
    "scrolled": true,
    "tags": []
   },
   "outputs": [],
   "source": [
    "# pep_df = pep_df.groupby(['visitType']).apply(get_accuracy, 'EANDM').sort_values(['f1','EANDM_rejected'],ascending=[True,False]).reset_index()\n",
    "# df[df.visitType.fillna('').str.contains('Follow-up 15') & (~df.EANDM_Final.isna())][cols_to_use]\n",
    "# temp[temp.encounters>10]"
   ]
  },
  {
   "cell_type": "code",
   "execution_count": null,
   "id": "fa0ad74d-685c-464e-8bac-ebc92fc48910",
   "metadata": {
    "scrolled": true,
    "tags": []
   },
   "outputs": [],
   "source": [
    "# df.groupby(['payor','visitType']).apply(get_accuracy, 'EANDM').sort_values(['f1'],ascending=[True]).head(50).reset_index()"
   ]
  },
  {
   "cell_type": "code",
   "execution_count": null,
   "id": "0b974217-8020-4a64-9c36-3a30da66b897",
   "metadata": {
    "scrolled": true,
    "tags": []
   },
   "outputs": [],
   "source": [
    "# pep_df.groupby(['visitType']).apply(get_accuracy, 'EANDM').sort_values(['f1','EANDM_rejected'],ascending=[True,False]).head(60).reset_index()"
   ]
  },
  {
   "cell_type": "code",
   "execution_count": null,
   "id": "763dd813-280d-40d5-baad-8541ee12da38",
   "metadata": {
    "scrolled": true,
    "tags": []
   },
   "outputs": [],
   "source": [
    "# df[df.visitType.fillna('').str.contains('Follow-up 15')][cols_to_use].head(50)"
   ]
  },
  {
   "cell_type": "code",
   "execution_count": null,
   "id": "58cf2160-d36b-4d73-b647-9c2bf1f67ada",
   "metadata": {},
   "outputs": [],
   "source": [
    "cols_to_use = ['physicianId', 'userId', 'month', 'visitType','accountNumber',\n",
    "       'placeOfService', 'gender', 'pointOfCare','payor', 'EANDM_Final', 'EANDM_Suggested','CPT_Suggested', 'CPT_Final', 'HCPCS_Suggested', 'HCPCS_Final', 'CM_Suggested', 'CM_Final']"
   ]
  },
  {
   "cell_type": "code",
   "execution_count": null,
   "id": "e063c583",
   "metadata": {},
   "outputs": [],
   "source": [
    "df.shape"
   ]
  },
  {
   "cell_type": "code",
   "execution_count": null,
   "id": "2b627d3a-bee2-4221-8396-2f68f03f77ef",
   "metadata": {
    "scrolled": true,
    "tags": []
   },
   "outputs": [],
   "source": [
    "df7 = df[df.CPT_Suggested.fillna('').str.contains('99024')]\n",
    "# df7 = df[((df.visitType.fillna('').str.contains('STAPLE/STITCH REMOVAL')))]\n",
    "# df7 = df[(df.CPT_Suggested.str.contains('57456')) | (df.CPT_Suggested.str.contains('58301'))]\n",
    "# df.CPT_Suggested.str.contains('96372')) & \n",
    "\n",
    "# df7 = df[(df.CPT_Suggested.str.contains('0502F'))  & (df.EANDM_Final.isna())]\n",
    "# df7 = df[((df.EANDM_Suggested.str.contains('99212')) & (~df.EANDM_Suggested.str.contains('99202'))) & df.CPT_Final.str.contains('20610')]\n",
    "# df7 = df[~(df.CPT_Suggested.str.contains('99024')) & ~(df.CPT_Final.str.contains('99024'))& ((df.EANDM_Suggested.str.contains('99212'))) & (df.EANDM_Final=='0')]\n",
    "# df7 = df[((df.EANDM_Suggested.str.contains('99212')) & (~df.EANDM_Suggested.str.contains('99202'))) & (df.EANDM_Final.isna())]\n",
    "\n",
    "# df7 = df[(df.EANDM_Final.str.contains('99212') | df.EANDM_Final.str.contains('99213')) & (~df.EANDM_Suggested.str.contains('9'))]\n",
    "\n",
    "# df7 = df[(df.CPT_Suggested.str.contains('99024')) & (df.EANDM_Suggested.str.contains('9'))]\n",
    "# df7 = df[(df.visitType.str.contains('Established OB 15')) & ~(df.EANDM_Final=='0')]\n",
    "# df7 = df[(df.visitType.str.contains('Established Patient 5')) & (df.pointOfCare.str.contains('OSSM_Sparks')) & (df.CPT_Final.str.contains('206'))]\n",
    "\n",
    "# df7 = df[(df.pointOfCare.fillna('').str.contains('OSSM_Sparks'))]\n",
    "\n",
    "df7[cols_to_use]\n",
    "\n"
   ]
  },
  {
   "cell_type": "code",
   "execution_count": null,
   "id": "45e60826",
   "metadata": {},
   "outputs": [],
   "source": [
    "df7[df7.CPT_Suggested.str.contains('0502F')].shape"
   ]
  },
  {
   "cell_type": "code",
   "execution_count": null,
   "id": "6813cf67",
   "metadata": {},
   "outputs": [],
   "source": [
    "df7.CPT_Final = df7.CPT_Final.astype('str')"
   ]
  },
  {
   "cell_type": "code",
   "execution_count": null,
   "id": "2bce4b0b",
   "metadata": {},
   "outputs": [],
   "source": [
    "df7[(~df.CPT_Final.str.contains(\"99024\"))]"
   ]
  },
  {
   "cell_type": "code",
   "execution_count": null,
   "id": "5eb11666",
   "metadata": {},
   "outputs": [],
   "source": [
    "df7.groupby(['visitType']).apply(get_accuracy, 'EANDM').sort_values(['f1','EANDM_rejected'],ascending=[True,False])"
   ]
  },
  {
   "cell_type": "code",
   "execution_count": null,
   "id": "d9d9ae90",
   "metadata": {},
   "outputs": [],
   "source": [
    "# df8[df8.EANDM_Final.isna()]"
   ]
  },
  {
   "cell_type": "code",
   "execution_count": null,
   "id": "97bddc33-bc36-43b6-8f07-89862140ff0c",
   "metadata": {
    "scrolled": true,
    "tags": []
   },
   "outputs": [],
   "source": [
    "df7[df7.EANDM_Final.isna()][cols_to_use]\n",
    "count_dict_cpt = get_cpt_counts(cpt_code_list, df7[df7.EANDM_Final.isna()][cols_to_use], 'CPT_Suggested', 'CPT_Suggested')\n",
    "cpt_stats = pd.DataFrame(count_dict_cpt.items(), columns = ['cpt_code','code_counts']).sort_values(by=['code_counts'], ascending=False).reset_index()"
   ]
  },
  {
   "cell_type": "code",
   "execution_count": null,
   "id": "33e7bef7-d6a4-464f-a723-0b3dfd88e468",
   "metadata": {},
   "outputs": [],
   "source": [
    "cpt_stats.head()"
   ]
  },
  {
   "cell_type": "code",
   "execution_count": null,
   "id": "aaf991c2-22d1-4389-ba47-554ef0c7dacc",
   "metadata": {},
   "outputs": [],
   "source": [
    "# df7.payor.value_counts()"
   ]
  },
  {
   "cell_type": "code",
   "execution_count": null,
   "id": "bf51ec2c-6f13-4483-9978-667a9d51c216",
   "metadata": {
    "scrolled": true,
    "tags": []
   },
   "outputs": [],
   "source": [
    "df7[df7.EANDM_Final.isna()][cols_to_use].shape"
   ]
  },
  {
   "cell_type": "code",
   "execution_count": null,
   "id": "c57cfb67-6a8a-4e9f-88a2-dc81a0ec3c06",
   "metadata": {
    "scrolled": true,
    "tags": []
   },
   "outputs": [],
   "source": [
    "df7[~df7.EANDM_Final.isna()][cols_to_use].shape"
   ]
  },
  {
   "cell_type": "code",
   "execution_count": null,
   "id": "36eafde8-9b1b-4da8-be48-9661e5a32130",
   "metadata": {},
   "outputs": [],
   "source": [
    "# df7.groupby(['visitType']).apply(get_accuracy, 'EANDM').sort_values(['f1','EANDM_rejected'],ascending=[True,False]).head(60).reset_index()"
   ]
  },
  {
   "cell_type": "code",
   "execution_count": null,
   "id": "2a62b178-0d6e-40ac-a0a0-810c48478977",
   "metadata": {},
   "outputs": [],
   "source": [
    "df7[cols_to_use].EANDM_Final.value_counts()"
   ]
  },
  {
   "cell_type": "code",
   "execution_count": null,
   "id": "251328e7-9780-4e6e-bad9-0843723e08de",
   "metadata": {},
   "outputs": [],
   "source": [
    "df7[cols_to_use].EANDM_Suggested.value_counts()"
   ]
  },
  {
   "cell_type": "code",
   "execution_count": null,
   "id": "c0a00152-a48e-4231-8111-1b50e0978c77",
   "metadata": {
    "scrolled": true,
    "tags": []
   },
   "outputs": [],
   "source": [
    "df7[df7.EANDM_Final.isna()][cols_to_use]"
   ]
  },
  {
   "cell_type": "code",
   "execution_count": null,
   "id": "49d7ed32-c2b2-471d-a72c-5967a1007b8c",
   "metadata": {
    "scrolled": true,
    "tags": []
   },
   "outputs": [],
   "source": [
    "df7[~df7.EANDM_Final.isna()][cols_to_use]"
   ]
  },
  {
   "cell_type": "code",
   "execution_count": null,
   "id": "9e7127db-e17a-4c0c-973c-ab18ca0e3122",
   "metadata": {},
   "outputs": [],
   "source": [
    "# df9[cols_to_use]"
   ]
  },
  {
   "cell_type": "code",
   "execution_count": null,
   "id": "872989d3-af9a-4783-804d-82122bbc0091",
   "metadata": {},
   "outputs": [],
   "source": [
    "df7.EANDM_Final.value_counts()"
   ]
  },
  {
   "cell_type": "code",
   "execution_count": null,
   "id": "10482209-1bdd-46a6-990b-8c368c652b7f",
   "metadata": {
    "scrolled": true,
    "tags": []
   },
   "outputs": [],
   "source": [
    "df7.groupby(['visitType','pointOfCare']).apply(get_accuracy, 'EANDM').sort_values(['f1','EANDM_rejected'],ascending=[True,False]).reset_index()"
   ]
  },
  {
   "cell_type": "code",
   "execution_count": null,
   "id": "87cb350c-1073-4c27-8e7a-0dcc3a94d4f9",
   "metadata": {
    "scrolled": true,
    "tags": []
   },
   "outputs": [],
   "source": [
    "# new_df.sort_values('EANDM_rejected', ascending=False).reset_index()"
   ]
  },
  {
   "cell_type": "code",
   "execution_count": null,
   "id": "8bcf8c84",
   "metadata": {},
   "outputs": [],
   "source": [
    "pep_df.columns\n",
    "pep_df.CPT_Suggested = pep_df.CPT_Suggested.astype('str')\n",
    "pep_df"
   ]
  },
  {
   "cell_type": "code",
   "execution_count": null,
   "id": "8fa38c67",
   "metadata": {},
   "outputs": [],
   "source": [
    "pep_df.CPT_Final = pep_df.CPT_Final.astype('str')"
   ]
  },
  {
   "cell_type": "code",
   "execution_count": null,
   "id": "16e2b184",
   "metadata": {},
   "outputs": [],
   "source": [
    "df[df.CPT_Final.fillna('').str.contains('99024')]"
   ]
  },
  {
   "cell_type": "code",
   "execution_count": null,
   "id": "7009d6b1",
   "metadata": {},
   "outputs": [],
   "source": [
    "pep_df.EANDM_Final = pep_df.EANDM_Final.astype('str')"
   ]
  },
  {
   "cell_type": "code",
   "execution_count": null,
   "id": "83842b35",
   "metadata": {},
   "outputs": [],
   "source": [
    "pep = pep_df[pep_df.CPT_Suggested.str.contains('99024') & (~pep_df.EANDM_Final.fillna('').str.contains('9'))]"
   ]
  },
  {
   "cell_type": "code",
   "execution_count": null,
   "id": "45b86197",
   "metadata": {},
   "outputs": [],
   "source": [
    "pep.columns"
   ]
  },
  {
   "cell_type": "code",
   "execution_count": null,
   "id": "fc7bc7d3",
   "metadata": {},
   "outputs": [],
   "source": [
    "get_accuracy(pep, 'EANDM')"
   ]
  },
  {
   "cell_type": "code",
   "execution_count": null,
   "id": "51ad9e51",
   "metadata": {},
   "outputs": [],
   "source": [
    "pep[['accountNumber', 'EANDM_Final', 'EANDM_Suggested', 'CPT_Suggested', 'CPT_Final', 'CM_Suggested']]"
   ]
  },
  {
   "cell_type": "code",
   "execution_count": null,
   "id": "98fb758f-6322-45b1-9d80-58222c812a76",
   "metadata": {
    "tags": []
   },
   "outputs": [],
   "source": [
    "# visitTypes_to_ignore = ['VNG', 'FNA', 'Cochlear Implant 60', 'CLINIC Hearing Evaluation (30','Hearing Test','*Nurse Visit','*Procedure 15','Physical: Sports 15','Botox',]\n",
    "# physicianIds_to_ignore = [28480,28485,10569]\n",
    "# visitTypes_to_ignore = []\n",
    "# df1 = pep_df[~pep_df.physicianId.isin(physicianIds_to_ignore)]\n",
    "get_accuracy(pep_df[pep_df.CPT_Suggested.str.contains('99024')], 'EANDM')\n",
    "# get_accuracy(pep_df[~pep_df.physicianId.isin(physicianIds_to_ignore)], 'EANDM')"
   ]
  },
  {
   "cell_type": "code",
   "execution_count": null,
   "id": "475bb70e",
   "metadata": {},
   "outputs": [],
   "source": [
    "df.CPT_Suggested = df.CPT_Suggested.astype('str')\n",
    "df.EANDM_Suggested = df.EANDM_Suggested.astype('str')\n",
    "get_accuracy(df, 'EANDM')"
   ]
  },
  {
   "cell_type": "code",
   "execution_count": null,
   "id": "f9c7d5b2",
   "metadata": {},
   "outputs": [],
   "source": [
    "get_accuracy(df2, 'EANDM')"
   ]
  },
  {
   "cell_type": "code",
   "execution_count": null,
   "id": "7ac3a0a4",
   "metadata": {},
   "outputs": [],
   "source": [
    "for i, r in df2.iterrows():\n",
    "    if '99024' in r['CPT_Suggested']:\n",
    "        df2.at[i, 'EANDM_Rejected_Count'] = 0"
   ]
  },
  {
   "cell_type": "code",
   "execution_count": null,
   "id": "0f022b9f",
   "metadata": {},
   "outputs": [],
   "source": [
    "df2[df2.CPT_Suggested.str.contains('99024')].EANDM_Final.value_counts()"
   ]
  },
  {
   "cell_type": "code",
   "execution_count": null,
   "id": "eda7a9f2",
   "metadata": {},
   "outputs": [],
   "source": [
    "df2[df2.CPT_Suggested.str.contains('99024')].EANDM_Suggested.value_counts()"
   ]
  },
  {
   "cell_type": "code",
   "execution_count": null,
   "id": "fda93b43-2459-44fe-8378-2f44d71f0e62",
   "metadata": {},
   "outputs": [],
   "source": [
    "# df1 = pep_df[pep_df.physicianId.isin(physicianIds_to_ignore)].visitType.value_counts()"
   ]
  },
  {
   "cell_type": "code",
   "execution_count": null,
   "id": "55eb7ac2-b100-4ff4-ab06-3b3831488fdf",
   "metadata": {
    "tags": []
   },
   "outputs": [],
   "source": [
    "get_accuracy(pep_df[~pep_df.CPT_Suggested.str.contains('99024')], 'EANDM')"
   ]
  },
  {
   "cell_type": "code",
   "execution_count": null,
   "id": "5625dda1-5069-4210-aed4-b45d7de59a5d",
   "metadata": {},
   "outputs": [],
   "source": [
    "pep_df = pep_df[~pep_df.visitType.isin(visitTypes_to_ignore)]"
   ]
  },
  {
   "cell_type": "code",
   "execution_count": null,
   "id": "74a622c9-0985-4fb9-ac15-51118319d6ce",
   "metadata": {
    "scrolled": true,
    "tags": []
   },
   "outputs": [],
   "source": [
    "# pep_df[pep_df.pointOfCare=='ENT_MERIT HEALTH ENT'].groupby(['visitType']).apply(get_accuracy, 'EANDM').sort_values('f1').reset_index()"
   ]
  },
  {
   "cell_type": "code",
   "execution_count": null,
   "id": "1c0ecd3d-1bd8-43b0-b20e-f33d5c33b830",
   "metadata": {
    "tags": []
   },
   "outputs": [],
   "source": [
    "pep_df.groupby(['payor']).apply(get_accuracy, 'EANDM').sort_values('EANDM_rejected',ascending=False).reset_index().head(15)"
   ]
  },
  {
   "cell_type": "code",
   "execution_count": null,
   "id": "797ba449-250f-44ae-a9ff-0c57bfb4645a",
   "metadata": {
    "tags": []
   },
   "outputs": [],
   "source": [
    "pep_df.columns"
   ]
  },
  {
   "cell_type": "code",
   "execution_count": null,
   "id": "407533b3-054e-4843-9896-a599bbcfb5eb",
   "metadata": {},
   "outputs": [],
   "source": [
    "df4 = df[(df.CPT_Final.str.contains('57456')) | (df.CPT_Final.str.contains('58301'))]"
   ]
  },
  {
   "cell_type": "code",
   "execution_count": null,
   "id": "96f4fdcb-c7b4-4fb8-ac7e-391e6a99de7a",
   "metadata": {},
   "outputs": [],
   "source": [
    "df4.EANDM_Final.value_counts()"
   ]
  },
  {
   "cell_type": "code",
   "execution_count": null,
   "id": "e5d6bdff-ff28-40bf-be8d-181c3f721b84",
   "metadata": {},
   "outputs": [],
   "source": [
    "df4.groupby(['visitType','payor']).apply(get_accuracy, 'EANDM').sort_values('EANDM_billed',ascending=False).reset_index()"
   ]
  },
  {
   "cell_type": "code",
   "execution_count": null,
   "id": "fdb7967e-59e6-4282-810c-67c07555d20b",
   "metadata": {},
   "outputs": [],
   "source": [
    "df5 = df[df.visitType.str.contains('Botox')]"
   ]
  },
  {
   "cell_type": "code",
   "execution_count": null,
   "id": "3dc93d47-bd25-4442-b746-d857f1812613",
   "metadata": {},
   "outputs": [],
   "source": [
    "df4.shape"
   ]
  },
  {
   "cell_type": "code",
   "execution_count": null,
   "id": "8ece8369-8165-40d7-ab4b-f9a76d2a7aef",
   "metadata": {},
   "outputs": [],
   "source": [
    "df6 = pd.concat([df4[cols_to_use],df5[cols_to_use]])"
   ]
  },
  {
   "cell_type": "code",
   "execution_count": null,
   "id": "45af55c5-e49f-4df9-9b94-31bd9212f7f8",
   "metadata": {},
   "outputs": [],
   "source": [
    "df6.shape"
   ]
  },
  {
   "cell_type": "code",
   "execution_count": null,
   "id": "79147f94-bd83-452a-9c83-263cc036bc96",
   "metadata": {},
   "outputs": [],
   "source": [
    "df6 = df6.drop_duplicates()"
   ]
  },
  {
   "cell_type": "code",
   "execution_count": null,
   "id": "39d8b5ba-f270-4383-b7fc-0cc74668c28b",
   "metadata": {},
   "outputs": [],
   "source": [
    "df6"
   ]
  },
  {
   "cell_type": "code",
   "execution_count": null,
   "id": "1716cd1c-6756-4c75-bfa3-715f845cb966",
   "metadata": {
    "tags": []
   },
   "outputs": [],
   "source": [
    "cols_to_use = ['physicianId', 'userId', 'month', 'visitType','accountNumber',\n",
    "       'placeOfService', 'gender', 'pointOfCare','payor', 'EANDM_Final', 'EANDM_Suggested','CPT_Final']\n",
    "pep_df[pep_df.userId==6000][cols_to_use].T"
   ]
  },
  {
   "cell_type": "code",
   "execution_count": null,
   "id": "079db5cc-3ff5-4668-9861-ce820de4fdac",
   "metadata": {},
   "outputs": [],
   "source": []
  },
  {
   "cell_type": "code",
   "execution_count": null,
   "id": "95100697-c6cd-45d7-a0ef-f4e86b051b45",
   "metadata": {},
   "outputs": [],
   "source": [
    "df5.EANDM_Final.value_counts()"
   ]
  },
  {
   "cell_type": "code",
   "execution_count": null,
   "id": "3ab903a5-23f8-420a-889c-06f930f8fd9f",
   "metadata": {
    "scrolled": true,
    "tags": []
   },
   "outputs": [],
   "source": [
    "for facility in pep_df.facilityCode.unique():\n",
    "    temp = pep_df[pep_df.facilityCode==facility]\n",
    "    print(facility)\n",
    "    display(temp.groupby('visitType').apply(get_accuracy, 'EANDM').sort_values('EANDM_rejected', ascending=False).reset_index())\n",
    "    print()"
   ]
  },
  {
   "cell_type": "code",
   "execution_count": null,
   "id": "6c967117-b835-4e3a-8861-d51d52aa373e",
   "metadata": {},
   "outputs": [],
   "source": [
    "for facility in pep_df.facilityCode.unique():\n",
    "    temp = pep_df[pep_df.facilityCode==facility]\n",
    "    print(facility)\n",
    "    display(temp.groupby('visitType').apply(get_accuracy, 'EANDM').sort_values('EANDM_rejected', ascending=False).reset_index())\n",
    "    print()"
   ]
  },
  {
   "cell_type": "code",
   "execution_count": null,
   "id": "e524e12e-dfff-41a4-b693-ddca97e972b9",
   "metadata": {},
   "outputs": [],
   "source": []
  },
  {
   "cell_type": "code",
   "execution_count": null,
   "id": "4a7ef9c6-b651-47e2-83ac-5d25b6d7d637",
   "metadata": {
    "tags": []
   },
   "outputs": [],
   "source": [
    "confusion_matrix = pd.crosstab(pep_df.EANDM_Final.astype(str), pep_df.EANDM_Suggested.astype(str))\n",
    "confusion_matrix"
   ]
  },
  {
   "cell_type": "code",
   "execution_count": null,
   "id": "63f6f939-a9fa-442f-941c-7293cd213673",
   "metadata": {
    "tags": []
   },
   "outputs": [],
   "source": [
    "# from itertools import zip_longest\n",
    "\n",
    "# def grouper(iterable, n, fillvalue=None):\n",
    "#     args = [iter(iterable)] * n\n",
    "#     return zip_longest(*args, fillvalue=fillvalue)\n",
    "\n",
    "# # for x in grouper('ABCDEFG', 3, 'x'):\n",
    "# #     print(x)\n",
    "    \n",
    "# def chunker(seq, size):\n",
    "#     return (seq[pos:pos + size] for pos in range(0, len(seq), size))\n",
    "\n",
    "# for col in chunker(confusion_matrix.columns, 5):\n",
    "#     # print(list(col))\n",
    "#     print(col)\n",
    "#     display(confusion_matrix[list(col)])\n",
    "#     print()"
   ]
  },
  {
   "cell_type": "code",
   "execution_count": null,
   "id": "ab0da885-7a7b-4611-8193-5bf159032997",
   "metadata": {
    "tags": []
   },
   "outputs": [],
   "source": [
    "confusion_matrix.style.background_gradient(cmap='YlGnBu', vmin=-5, vmax=16.5)"
   ]
  },
  {
   "cell_type": "code",
   "execution_count": null,
   "id": "5d41ec5f-0f1e-41fa-af33-a21cbad12583",
   "metadata": {
    "scrolled": true,
    "tags": []
   },
   "outputs": [],
   "source": [
    "req_columns = ['accountNumber', 'gender', 'pointOfCare', 'visitType']\n",
    "pep_df[(pep_df.EANDM_Suggested.astype(str)=='[99213, 99203]') & (pep_df.EANDM_Final.astype(str)=='[99213]')][req_columns+['EANDM_Suggested', 'EANDM_Final']]\n",
    "# pep_df[(pep_df.EANDM_Suggested.astype(str)=='[99202, 99212]')][req_columns+['EANDM_Suggested', 'EANDM_Final']]"
   ]
  },
  {
   "cell_type": "code",
   "execution_count": null,
   "id": "ff5e4ee2-4a63-402e-80a9-d350597ac478",
   "metadata": {
    "tags": []
   },
   "outputs": [],
   "source": [
    "def get_proper(x):\n",
    "    if 99223 in x and (99238 in x or 99281 in x or 99283 in x or 99284 in x):\n",
    "        return [99223]\n",
    "    elif 99292 in x:\n",
    "        return [99292]\n",
    "    elif 99285 in x:\n",
    "        return [99285]\n",
    "    elif 99291 in x and (99283 in x or 99284 in x):\n",
    "        return [99291]\n",
    "    elif 99284 in x and (99283 in x or 99282 in x):\n",
    "        return [99284]\n",
    "    if 99418 in x:\n",
    "        x.remove(99418)\n",
    "    return x\n",
    "pep_df.EANDM_Final.apply(get_proper).value_counts()"
   ]
  },
  {
   "cell_type": "code",
   "execution_count": null,
   "id": "5d4b227f-51d4-4c9d-b4d3-a72cc6432cc0",
   "metadata": {
    "tags": []
   },
   "outputs": [],
   "source": [
    "pep_df.EANDM_Suggested.apply(get_proper).value_counts()"
   ]
  },
  {
   "cell_type": "code",
   "execution_count": null,
   "id": "a039c919-3dfb-4cf7-85db-a15ca44a0577",
   "metadata": {
    "tags": []
   },
   "outputs": [],
   "source": [
    "pd.crosstab(pep_df.EANDM_Final.apply(get_proper).astype(str), \n",
    "            pep_df.EANDM_Suggested.apply(get_proper).astype(str)).style.background_gradient(cmap='YlGnBu', vmin=-5, vmax=16.5)"
   ]
  },
  {
   "cell_type": "code",
   "execution_count": null,
   "id": "6494134d",
   "metadata": {},
   "outputs": [],
   "source": [
    "type(pep_df.EANDM_Final[0])"
   ]
  },
  {
   "cell_type": "code",
   "execution_count": null,
   "id": "4240921d-9b3c-4177-bd8d-5a60ad588cde",
   "metadata": {
    "tags": []
   },
   "outputs": [],
   "source": [
    "pep_df[pep_df.EANDM_Final.astype(str)=='[99223]'][req_columns]"
   ]
  },
  {
   "cell_type": "code",
   "execution_count": null,
   "id": "190e6287-f1b6-4f9e-a353-faa22946ec5c",
   "metadata": {},
   "outputs": [],
   "source": []
  },
  {
   "cell_type": "code",
   "execution_count": null,
   "id": "e10ec640-97a8-4d23-9a02-1fa630d4cbe0",
   "metadata": {},
   "outputs": [],
   "source": []
  },
  {
   "cell_type": "code",
   "execution_count": null,
   "id": "57d20644-6e5a-4e69-911a-9bd60528a1e8",
   "metadata": {},
   "outputs": [],
   "source": []
  },
  {
   "cell_type": "code",
   "execution_count": null,
   "id": "7e095bd7-2466-4964-beb1-186d6f70d3ca",
   "metadata": {},
   "outputs": [],
   "source": []
  },
  {
   "cell_type": "code",
   "execution_count": null,
   "id": "aad8697e-5bd4-43ac-8422-1d41a39bc881",
   "metadata": {},
   "outputs": [],
   "source": []
  },
  {
   "cell_type": "code",
   "execution_count": null,
   "id": "25a49982-bd9c-4ffb-83b4-0c58eaddbf48",
   "metadata": {},
   "outputs": [],
   "source": []
  },
  {
   "cell_type": "code",
   "execution_count": null,
   "id": "2e88a8b0-1945-473f-9233-a290f15b5c23",
   "metadata": {},
   "outputs": [],
   "source": []
  },
  {
   "cell_type": "code",
   "execution_count": null,
   "id": "25f5a8ee-cb1f-47d6-9351-b69abd765340",
   "metadata": {},
   "outputs": [],
   "source": []
  },
  {
   "cell_type": "code",
   "execution_count": null,
   "id": "4dae7a94-c16c-4cae-83c7-d62cdfbf1b6f",
   "metadata": {},
   "outputs": [],
   "source": []
  },
  {
   "cell_type": "code",
   "execution_count": null,
   "id": "4bc803f5-3158-49f7-8473-911f415cfb28",
   "metadata": {},
   "outputs": [],
   "source": []
  },
  {
   "cell_type": "code",
   "execution_count": null,
   "id": "7be1b464-37e8-4c25-bb76-2df392f00b32",
   "metadata": {},
   "outputs": [],
   "source": []
  },
  {
   "cell_type": "code",
   "execution_count": null,
   "id": "1cf43fb0-3272-4847-8b90-cbfeb94dedfc",
   "metadata": {},
   "outputs": [],
   "source": []
  },
  {
   "cell_type": "code",
   "execution_count": null,
   "id": "9a2911ef-ec5a-475b-8058-7effedc65306",
   "metadata": {},
   "outputs": [],
   "source": []
  },
  {
   "cell_type": "code",
   "execution_count": null,
   "id": "2ded3d77-8834-4d08-b4a4-f1a679b57328",
   "metadata": {},
   "outputs": [],
   "source": []
  },
  {
   "cell_type": "code",
   "execution_count": null,
   "id": "4c0e7b45-9fa3-4d8a-b993-c2d5bac4393f",
   "metadata": {},
   "outputs": [],
   "source": []
  },
  {
   "cell_type": "code",
   "execution_count": null,
   "id": "710ad77f-0b8a-43bc-9fe3-0a9e41de1c12",
   "metadata": {},
   "outputs": [],
   "source": []
  },
  {
   "cell_type": "code",
   "execution_count": null,
   "id": "ec51b319-55de-4b6c-8c70-ddabb9a3809c",
   "metadata": {},
   "outputs": [],
   "source": []
  },
  {
   "cell_type": "code",
   "execution_count": null,
   "id": "89bf642a-c741-45c5-9fe8-834ee48563a8",
   "metadata": {
    "tags": []
   },
   "outputs": [],
   "source": [
    "# df_accuracy_prev = df[df.serviceDate<'2023-01-01'].groupby(['facilityName', 'month']).apply(get_accuracy, codetype='CPT').reset_index()\n",
    "# df_accuracy_new = df[df.serviceDate>='2023-01-01'].groupby(['facilityName', 'month']).apply(get_accuracy, codetype='CPT').reset_index()"
   ]
  },
  {
   "cell_type": "code",
   "execution_count": null,
   "id": "32d3d498-4c29-466e-9354-d08787fb0af1",
   "metadata": {
    "scrolled": true,
    "tags": []
   },
   "outputs": [],
   "source": [
    "df_accuracy_new.head(30)"
   ]
  },
  {
   "cell_type": "code",
   "execution_count": null,
   "id": "c0c3fa43-7d18-4d53-96d3-118c1d2990c6",
   "metadata": {
    "scrolled": true,
    "tags": []
   },
   "outputs": [],
   "source": [
    "df_accuracy_prev.head(30)"
   ]
  },
  {
   "cell_type": "code",
   "execution_count": null,
   "id": "be4674ab-0ca0-4600-a956-1090ee327d25",
   "metadata": {},
   "outputs": [],
   "source": [
    "def get_difference(data_df, codetype):\n",
    "    \n",
    "    d = OrderedDict()\n",
    "    \n",
    "    if data_df.shape[0]==2:\n",
    "        jan = data_df[data_df.month=='2023-01'].iloc[0].to_dict()\n",
    "        feb = data_df[data_df.month=='2023-02'].iloc[0].to_dict()\n",
    "    \n",
    "        d['diff_precision'] = feb['precision'] - jan['precision']\n",
    "        d['diff_recall'] = feb['recall'] - jan['recall']\n",
    "        d['diff_f1'] = feb['f1'] - jan['f1']\n",
    "    \n",
    "    else:\n",
    "        d['diff_precision'] = 0.0\n",
    "        d['diff_recall'] = 0.0\n",
    "        d['diff_f1'] = 0.0\n",
    "\n",
    "    return pd.Series(d)\n",
    "                                                     \n",
    "df_diff = df_accuracy.groupby('facilityName').apply(get_difference, codetype='CPT')"
   ]
  },
  {
   "cell_type": "code",
   "execution_count": null,
   "id": "d9486818-0f0c-472f-b36e-a1056bd32d0c",
   "metadata": {},
   "outputs": [],
   "source": [
    "df_accuracy[df_accuracy.facilityName=='NORTHWEST HEALTH-FAYETTEVILLE FSED']"
   ]
  },
  {
   "cell_type": "code",
   "execution_count": null,
   "id": "0cba9a45-d9b7-426c-919f-afebdedb5d22",
   "metadata": {},
   "outputs": [],
   "source": [
    "df.columns"
   ]
  },
  {
   "cell_type": "code",
   "execution_count": null,
   "id": "7b792305-70e4-4e8d-9ab1-db57465143bc",
   "metadata": {},
   "outputs": [],
   "source": [
    "get_accuracy(df[df.month=='2023-01'], codetype='CPT')"
   ]
  },
  {
   "cell_type": "code",
   "execution_count": null,
   "id": "32f6a20a-6f9c-4a6a-82e9-da35f86ad817",
   "metadata": {},
   "outputs": [],
   "source": [
    "get_accuracy(df[df.month=='2023-02'], codetype='CPT')"
   ]
  },
  {
   "cell_type": "code",
   "execution_count": null,
   "id": "566261cd-29a0-41b5-84a1-a249f4099524",
   "metadata": {},
   "outputs": [],
   "source": [
    "excluded_facilities = [\n",
    "    'NORTHWEST HEALTH-FAYETTEVILLE FSED',\n",
    "    'JASPER MEMORIAL HOSPITAL',\n",
    "    'INDIAN PATH COMMUNITY HOSPITAL - PEDS',\n",
    "    'HANCOCK COUNTY HOSPITAL - ICP',\n",
    "    'THOREK MEMORIAL HOSPITAL-ANDERSONVILLE',\n",
    "    'BIENVILLE MEDICAL CENTER',\n",
    "]\n",
    "# THOREK MEMORIAL HOSPITAL, HANCOCK COUNTY HOSPITAL - ICP, BAPTIST MEMORIAL HOSPITAL YAZOO - ICP,\n",
    "# DICKENSON COMMUNITY HOSPITAL-ICP, BAPTIST MEMORIAL HOSPITAL CALHOUN - ICP,\n",
    "# WINN PARISH MEDICAL CENTER, BIENVILLE MEDICAL CENTER, BRISTOL REGIONAL MEDICAL CENTER PEDS,\n"
   ]
  },
  {
   "cell_type": "code",
   "execution_count": null,
   "id": "c678ceca-3d23-459d-ae73-8ef17d71fdd7",
   "metadata": {},
   "outputs": [],
   "source": [
    "get_accuracy(df[(df.month=='2023-02') & ~(df.facilityName.isin(excluded_facilities))], codetype='CPT')"
   ]
  },
  {
   "cell_type": "code",
   "execution_count": null,
   "id": "7981277c-2efe-4f2d-8721-b781f244faf6",
   "metadata": {
    "scrolled": true,
    "tags": []
   },
   "outputs": [],
   "source": [
    "for name in df_diff.sort_values(['diff_precision'], ascending=[True]).reset_index().facilityName:\n",
    "    print(df[df.facilityName==name].facilityCode.iloc[0])\n",
    "    display(df_accuracy[df_accuracy.facilityName==name])\n",
    "    print()"
   ]
  },
  {
   "cell_type": "code",
   "execution_count": null,
   "id": "bb4042f8-bc45-4f3f-a45f-14b7971651ca",
   "metadata": {
    "scrolled": true,
    "tags": []
   },
   "outputs": [],
   "source": [
    "for col in ['physicianId', 'userId', 'visitType', 'gender', 'pointOfCare', 'visitType.1', 'placeOfService.1', \n",
    "                'patientType', 'serviceLine', 'financialClass', 'payor']:\n",
    "    print(col)        \n",
    "    display(df[col].value_counts().reset_index())"
   ]
  },
  {
   "cell_type": "code",
   "execution_count": null,
   "id": "c7151f95-6ee9-4fcd-bf7b-976db756ff71",
   "metadata": {
    "scrolled": true,
    "tags": []
   },
   "outputs": [],
   "source": [
    "for name in df_diff.sort_values(['diff_precision'], ascending=[True]).reset_index().facilityName:\n",
    "# for name in ['PIEDMONT CARTERSVILLE MEDICAL CENTER']:\n",
    "    temp = df[df.facilityName==name]\n",
    "    print(get_accuracy(temp[temp.month=='2023-01'], codetype='CPT'))\n",
    "    print(get_accuracy(temp[temp.month=='2023-02'], codetype='CPT'))\n",
    "    print(name)\n",
    "    for col in ['physicianId', 'userId', 'processId', 'gender', 'financialClass', 'payor']:\n",
    "        print(col)        \n",
    "        display(temp[temp.month=='2023-01'][col].value_counts().reset_index())\n",
    "        display(temp[temp.month=='2023-02'][col].value_counts().reset_index())\n",
    "        print()\n",
    "    print()\n",
    "    print('----------------------------------------------------------')\n",
    "    print()"
   ]
  },
  {
   "cell_type": "code",
   "execution_count": null,
   "id": "d3a7c4a0-8b9e-4c4a-bf8c-fc9111522884",
   "metadata": {},
   "outputs": [],
   "source": [
    "temp = df\n",
    "get_accuracy(temp[(temp.facilityCode==1395) \n",
    "       & (temp.month=='2023-01')\n",
    "           & (temp.serviceDate.str.contains('2023', na=False))\n",
    "                 ], codetype='CPT')"
   ]
  },
  {
   "cell_type": "code",
   "execution_count": null,
   "id": "618db302-f924-474a-84bc-3d99f1240177",
   "metadata": {},
   "outputs": [],
   "source": [
    "temp = df\n",
    "get_accuracy(temp[(temp.facilityCode==1395) \n",
    "       & (temp.month=='2023-01')\n",
    "           & (temp.serviceDate.str.contains('2022', na=False))\n",
    "                 ], codetype='CPT')"
   ]
  },
  {
   "cell_type": "code",
   "execution_count": null,
   "id": "bc911fad-ad03-495b-beaa-35416e26817c",
   "metadata": {},
   "outputs": [],
   "source": [
    "temp = df\n",
    "get_accuracy(temp[(temp.facilityCode==1395) \n",
    "       & (temp.month=='2023-02')\n",
    "           & (temp.serviceDate.str.contains('2023', na=False))\n",
    "                 ], codetype='CPT')"
   ]
  },
  {
   "cell_type": "code",
   "execution_count": null,
   "id": "f9c11844-3edb-4f7a-94c1-17f838ccacda",
   "metadata": {
    "scrolled": true,
    "tags": []
   },
   "outputs": [],
   "source": [
    "for eandmcode in ['99283', '99284', '99285', '99291']:\n",
    "    print(eandmcode)\n",
    "    temp = df[df.EANDM_Final.str.contains(eandmcode, na=False)]\n",
    "    temp[(temp.facilityCode==1395) \n",
    "       & (temp.month=='2023-01') \n",
    "       & (temp.CPT_Suggested.str.contains('93010', na=False)) \n",
    "        & ~(temp.CPT_Final.str.contains('93010', na=False)) \n",
    "           & (temp.serviceDate.str.contains('2023', na=False)) \n",
    "       # & (df.EANDM_Final.str.contains('99282', na=False))\n",
    "       # & (temp.refDocTypes.str.contains('EKG', na=False))\n",
    "      ].sort_values('serviceDate').payor.value_counts().reset_index().apply(applytab, axis=1)\n",
    "    # [['userId', 'processId', 'serviceDate', 'month', 'accountNumber',  'CPT_Final', 'CPT_Suggested', 'EANDM_Final', 'EANDM_Suggested']].apply(applytab,axis=1)\n",
    "    print()\n",
    "    print()"
   ]
  },
  {
   "cell_type": "code",
   "execution_count": null,
   "id": "8e359327-c97f-4263-b407-347655628443",
   "metadata": {
    "scrolled": true,
    "tags": []
   },
   "outputs": [],
   "source": [
    "for eandmcode in ['99283', '99284', '99285', '99291']:\n",
    "    print(eandmcode)\n",
    "    temp = df[df.EANDM_Final.str.contains(eandmcode, na=False)]\n",
    "    temp[(temp.facilityCode==1395) \n",
    "       & (temp.month=='2023-01') \n",
    "       & (temp.CPT_Suggested.str.contains('93010', na=False)) \n",
    "       & (temp.CPT_Final.str.contains('93010', na=False)) \n",
    "         & (temp.serviceDate.str.contains('2023', na=False)) \n",
    "       # & (df.EANDM_Final.str.contains('99282', na=False))\n",
    "       # & (temp.refDocTypes.str.contains('EKG', na=False))\n",
    "      ].sort_values('serviceDate').payor.value_counts().reset_index().apply(applytab, axis=1)\n",
    "    # [['userId', 'processId', 'serviceDate', 'month', 'accountNumber',  'CPT_Final', 'CPT_Suggested', 'EANDM_Final', 'EANDM_Suggested']].apply(applytab,axis=1)\n",
    "    print()\n",
    "    print()"
   ]
  },
  {
   "cell_type": "code",
   "execution_count": null,
   "id": "c6f0354c-d018-4fae-a81e-b9eb9ff49e20",
   "metadata": {},
   "outputs": [],
   "source": [
    "df[df.accountNumber==87340850][['userId', 'processId', 'serviceDate', 'month', 'accountNumber',  'CPT_Final', 'CPT_Suggested', 'EANDM_Final', 'EANDM_Suggested']]"
   ]
  },
  {
   "cell_type": "code",
   "execution_count": null,
   "id": "c4e5558c-166f-4934-a8fe-c58d763ec59b",
   "metadata": {},
   "outputs": [],
   "source": [
    "pd.crosstab(temp.EANDM_Suggested, temp.EANDM_Final).reset_index().T.reset_index().T.apply(applytab, axis=1);"
   ]
  },
  {
   "cell_type": "code",
   "execution_count": null,
   "id": "581e83a8-dd0d-4d29-b5d2-29c4624a7de2",
   "metadata": {
    "scrolled": true,
    "tags": []
   },
   "outputs": [],
   "source": [
    "temp = df[(df.facilityCode==1395) \n",
    "       & (df.month=='2023-02')]\n",
    "\n",
    "def get_new_counts(row):\n",
    "    d = row.to_dict()\n",
    "    if '99285' in row['EANDM_Suggested']:\n",
    "        if '93010' in row['CPT_Accepted']:\n",
    "            # display(row[['CPT_Final', 'EANDM_Final', 'EANDM_Suggested']])\n",
    "            d['CPT_Accepted_Count'] -= 1\n",
    "            d['CPT_Added_Count'] += 1\n",
    "        elif '93010' in row['CPT_Rejected']:\n",
    "            d['CPT_Rejected_Count'] -= 1\n",
    "            \n",
    "    return pd.Series(d)\n",
    "\n",
    "temp_new_counts = temp.apply(get_new_counts,axis=1)"
   ]
  },
  {
   "cell_type": "code",
   "execution_count": null,
   "id": "8ddd4109-b1ec-49cc-a6c5-dfbecf4ece6c",
   "metadata": {},
   "outputs": [],
   "source": [
    "temp.EANDM_Suggested.value_counts()"
   ]
  },
  {
   "cell_type": "code",
   "execution_count": null,
   "id": "70745dcb-01a9-42ac-aa51-ea3e7122f0fa",
   "metadata": {},
   "outputs": [],
   "source": [
    "temp.EANDM_Final.value_counts()"
   ]
  },
  {
   "cell_type": "code",
   "execution_count": null,
   "id": "c7640f21-a068-41fc-82c6-35427387aeeb",
   "metadata": {},
   "outputs": [],
   "source": [
    "display(get_accuracy(temp, codetype='CPT'))\n",
    "display(get_accuracy(temp_new_counts, codetype='CPT'))"
   ]
  }
 ],
 "metadata": {
  "kernelspec": {
   "display_name": "Python 3 (ipykernel)",
   "language": "python",
   "name": "python3"
  },
  "language_info": {
   "codemirror_mode": {
    "name": "ipython",
    "version": 3
   },
   "file_extension": ".py",
   "mimetype": "text/x-python",
   "name": "python",
   "nbconvert_exporter": "python",
   "pygments_lexer": "ipython3",
   "version": "3.9.12"
  }
 },
 "nbformat": 4,
 "nbformat_minor": 5
}
