{
 "cells": [
  {
   "cell_type": "code",
   "execution_count": null,
   "id": "e67ca273-a0e6-4e25-b75a-3904e96e3cbe",
   "metadata": {},
   "outputs": [],
   "source": [
    "import re\n",
    "import pandas as pd"
   ]
  },
  {
   "cell_type": "code",
   "execution_count": null,
   "id": "a78df435-2977-4c94-b4d9-29186ed1ae4f",
   "metadata": {},
   "outputs": [],
   "source": [
    "# with open('/home/trishalaswain/arrangeSection.txt') as file:\n",
    "#     for line in file:\n",
    "#         print(line.strip())"
   ]
  },
  {
   "cell_type": "code",
   "execution_count": null,
   "id": "1c77b4ce-d224-486d-b4bd-151587fa12cc",
   "metadata": {},
   "outputs": [],
   "source": [
    "with open('/home/trishalaswain/Downloads/test.txt') as file:\n",
    "    for line in file:\n",
    "        line = line.strip()\n",
    "        if ('sentText.' in line or 'previousSec =' in line or 'map.containsKey' in line) and '//' not in line:\n",
    "            print(line)  "
   ]
  },
  {
   "cell_type": "code",
   "execution_count": null,
   "id": "884b4d02-8e1b-4981-86ab-075c4c7e9d41",
   "metadata": {},
   "outputs": [],
   "source": [
    "outer_dict={}"
   ]
  },
  {
   "cell_type": "code",
   "execution_count": null,
   "id": "80137235-e9eb-48f7-bdda-6766ac027775",
   "metadata": {},
   "outputs": [],
   "source": [
    "list_startsWith = []\n",
    "list_equals = []\n",
    "list_contains = []\n",
    "inner_dict = {}\n",
    "list_1 = []"
   ]
  },
  {
   "cell_type": "code",
   "execution_count": null,
   "id": "c04d5b2e-5038-4b16-a337-fd6f90128769",
   "metadata": {},
   "outputs": [],
   "source": [
    "def clear():\n",
    "        list_startsWith.clear()\n",
    "        list_equals.clear()\n",
    "        list_contains.clear()"
   ]
  },
  {
   "cell_type": "code",
   "execution_count": null,
   "id": "1a7c9e34-1bec-4e60-9a96-1714a4e900d3",
   "metadata": {},
   "outputs": [],
   "source": [
    "from collections import defaultdict"
   ]
  },
  {
   "cell_type": "code",
   "execution_count": null,
   "id": "bbd6e0c3-db7c-42f0-be54-a3c4ab0c0a8f",
   "metadata": {},
   "outputs": [],
   "source": [
    "with open('/home/trishalaswain/Downloads/test.txt') as file:\n",
    "    prevSec = ''\n",
    "    def_dict = defaultdict(int)\n",
    "    currentLevel = 0\n",
    "\n",
    "    for line in file:\n",
    "        line = line.strip()\n",
    "\n",
    "        if 'if' in line and 'HPI' in line or 'if' in line and 'history of present illness' in line:\n",
    "            currentLevel += 1\n",
    "\n",
    "        if currentLevel == 0: \n",
    "            continue\n",
    "\n",
    "        if 'sentText.' in line and '//' not in line and currentLevel > 0:\n",
    "            pattern_1 = re.findall('(?:\\\")(.*)(?:\\\")', line)\n",
    "            list_1.append(str(pattern_1)[1:-1])\n",
    "\n",
    "            and_count = 0\n",
    "            and_str = \"\"\n",
    "\n",
    "            if '&&' in line:\n",
    "                and_count += 1\n",
    "                if(and_count > 0):\n",
    "                    and_str += line\n",
    "                    \n",
    "                templine = and_str.split(\"&&\")\n",
    "                for item in templine:\n",
    "                    if '' is not item:\n",
    "                        print(item)\n",
    "                        temp_pattern = re.findall('(?:\\\")(.*)(?:\\\")', item)\n",
    "                        boundary_pattern = re.findall('.*(startsWith|endsWith|equals|contains).*',item)\n",
    "                        inner_dict[str(temp_pattern)] = boundary_pattern\n",
    "            else:\n",
    "                if '.startsWith' in line:         \n",
    "                    inner_dict[str(pattern_1)[1:-1]] = 'startsWith'  \n",
    "                if '.equals' in line:\n",
    "                    inner_dict[str(pattern_1)[1:-1]] = 'equals'  \n",
    "                if '.contains' in line:\n",
    "                    inner_dict[str(pattern_1)[1:-1]] = 'contains'  \n",
    "                    \n",
    "        if 'previousSec =' in line and '//' not in line:  \n",
    "            myset = set(list_1)\n",
    "            if len(list_1) != len(myset):\n",
    "                # print(\"duplicates found in the list\")\n",
    "                seen = set()\n",
    "                dupes = []\n",
    "                for x in list_1:\n",
    "                    if x in seen:\n",
    "                        dupes.append(x)\n",
    "                    else:\n",
    "                        seen.add(x)\n",
    "                # print('duplicate patterns found -- ',dupes)\n",
    "            pattern_2 = re.findall('(?:\\\")(.*)(?:\\\")', line)\n",
    "            # prevSec = str(pattern_2)[1:-1]\n",
    "            # print(prevSec)(sentText.startsWith(\"orders\") && sentText.contains(\"name\")))\n",
    "            if str(pattern_2)[1:-1] in outer_dict:\n",
    "                # print('duplicate prevSec found: ',pattern_2)\n",
    "                old_dict = outer_dict.get(str(pattern_2)[1:-1])\n",
    "                new_inner_dict = {**inner_dict, **old_dict}\n",
    "                outer_dict[str(pattern_2)[1:-1]] = new_inner_dict\n",
    "            else:\n",
    "                outer_dict[str(pattern_2)[1:-1]] = inner_dict\n",
    "\n",
    "\n",
    "            # sub_inner_dict = {}\n",
    "            # for key,value in inner_dict.items():\n",
    "            #     if '[' in key:\n",
    "            #         sub_inner_dict[key] = value\n",
    "            \n",
    "            outer_dict[str(pattern_2)[1:-1]] = inner_dict\n",
    "            clear()\n",
    "            inner_dict = {}\n",
    "            list_1 = []\n",
    "            myset.clear()\n",
    "            "
   ]
  },
  {
   "cell_type": "code",
   "execution_count": null,
   "id": "50c73cc1",
   "metadata": {},
   "outputs": [],
   "source": [
    "outer_dict"
   ]
  },
  {
   "cell_type": "code",
   "execution_count": null,
   "id": "b74ad22c-8e65-47d9-8120-9d64cb7e563d",
   "metadata": {},
   "outputs": [],
   "source": [
    "# for key,value in outer_dict.items():\n",
    "#     if 'HPI' in key:\n",
    "#         for key_in,value_in in value.items():\n",
    "#             if ('HPI' not in key_in) or ('History of presentIllness' not in key_in):\n",
    "#                 del value[key_in]\n"
   ]
  },
  {
   "cell_type": "code",
   "execution_count": null,
   "id": "3d59e251-a86a-4b85-b601-1e405636bec7",
   "metadata": {},
   "outputs": [],
   "source": [
    "for out_key, out_value in outer_dict.items():\n",
    "    # print(out_key)\n",
    "    for in_key, in_value in out_value.items():\n",
    "       \n",
    "        pattern = str(in_key)[1:-1]\n",
    "        if '[' in in_key:\n",
    "            pattern = str(in_key)[2:-2]\n",
    "            \n",
    "        if 'startsWith' in in_value: \n",
    "            secType = 'SectionStartsType'\n",
    "        if 'equals' in in_value:\n",
    "            secType = 'SectionType'\n",
    "        if 'contains' in in_value:\n",
    "            secType = 'SectionType'\n",
    "        derivedSectionType = out_key\n",
    "\n",
    "        print('SectionTypeMap.put(new '+ secType + ' (\"' + pattern + '\".toLowerCase()), DerivedSectionType.' + derivedSectionType + \")\")\n",
    "        "
   ]
  },
  {
   "cell_type": "code",
   "execution_count": null,
   "id": "7bdb2115-ff3b-4b7b-839d-2f11dc5d08cc",
   "metadata": {},
   "outputs": [],
   "source": [
    "pd.DataFrame.from_dict({(i,j): outer_dict[i][j] \n",
    "                           for i in outer_dict.keys() \n",
    "                           for j in outer_dict[i].keys()},\n",
    "                       orient='index').reset_index()"
   ]
  },
  {
   "cell_type": "code",
   "execution_count": null,
   "id": "91950d9a-5825-42f8-b8fa-18e7a34135a8",
   "metadata": {},
   "outputs": [],
   "source": []
  },
  {
   "cell_type": "code",
   "execution_count": null,
   "id": "3fdde2bf-8b0d-462c-bb0b-3b99c548a77b",
   "metadata": {},
   "outputs": [],
   "source": []
  }
 ],
 "metadata": {
  "kernelspec": {
   "display_name": "Python 3 (ipykernel)",
   "language": "python",
   "name": "python3"
  },
  "language_info": {
   "codemirror_mode": {
    "name": "ipython",
    "version": 3
   },
   "file_extension": ".py",
   "mimetype": "text/x-python",
   "name": "python",
   "nbconvert_exporter": "python",
   "pygments_lexer": "ipython3",
   "version": "3.9.12"
  }
 },
 "nbformat": 4,
 "nbformat_minor": 5
}
