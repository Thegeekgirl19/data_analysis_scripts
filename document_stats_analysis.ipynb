{
 "cells": [
  {
   "cell_type": "code",
   "execution_count": null,
   "id": "431ce1ee-6e36-4465-a474-ddb0ae668b02",
   "metadata": {},
   "outputs": [],
   "source": [
    "# conda install pymysql"
   ]
  },
  {
   "cell_type": "code",
   "execution_count": null,
   "id": "e9de9b02-0410-476c-96e3-8d6a84aba0ac",
   "metadata": {},
   "outputs": [],
   "source": [
    "import re"
   ]
  },
  {
   "cell_type": "code",
   "execution_count": null,
   "id": "fac374ad-cb36-482d-82d0-52b152a6e3d6",
   "metadata": {},
   "outputs": [],
   "source": [
    "import os\n",
    "\n",
    "# folder path\n",
    "dir_path = r'/home/trishalaswain/Downloads/JanSCP18/JanSCP-New18v3Selected/'\n",
    "\n",
    "# list to store files\n",
    "res = []\n",
    "\n",
    "# Iterate directory\n",
    "for path in os.listdir(dir_path):\n",
    "    # check if current path is a file\n",
    "    if os.path.isfile(os.path.join(dir_path, path)) and not str(path).endswith(\"HCPCS.tsv\") and not str(path).endswith(\"CPT.tsv\") and not str(path).endswith(\"CM.tsv\")  and not str(path).endswith(\"EANDM.tsv\"):\n",
    "\n",
    "        # print(path)\n",
    "        \n",
    "        res.append(dir_path + path)\n",
    "        # print(path)"
   ]
  },
  {
   "cell_type": "code",
   "execution_count": null,
   "id": "1e9fed78-2fc6-4f87-8170-2aa3885281cf",
   "metadata": {},
   "outputs": [],
   "source": [
    "df_final = pd.DataFrame()"
   ]
  },
  {
   "cell_type": "code",
   "execution_count": null,
   "id": "f966c0db-0902-4622-bb21-c90122a16de2",
   "metadata": {},
   "outputs": [],
   "source": [
    "def initialize(index):\n",
    "    df_final.at[index,'1_doc_only_counts'] = 0\n",
    "    df_final.at[index,'2_doc_only_counts'] = 0\n",
    "    df_final.at[index,'3_doc_only_counts'] = 0\n",
    "    df_final.at[index,'4_doc_only_counts'] = 0\n",
    "    df_final.at[index,'other_no_of_docs_counts'] = 0"
   ]
  },
  {
   "cell_type": "code",
   "execution_count": null,
   "id": "cdb36731-2471-4edc-aa21-4fad13b020ec",
   "metadata": {},
   "outputs": [],
   "source": [
    "# df_final['facility_code'] = None\n",
    "df_final['facility_name'] = None\n",
    "# df_final['prod_id'] = None\n",
    "df_final['no_of_encounters'] = None\n",
    "df_final['total_docs'] = None\n",
    "df_final['doc_mean'] = 0\n",
    "df_final['doc_std_dev'] = 0\n",
    "df_final['25_percentile'] = 0\n",
    "df_final['50_percentile'] = 0\n",
    "df_final['75_percentile'] = 0\n",
    "df_final['min_doc_count'] = 0\n",
    "df_final['max_doc_count'] = 0"
   ]
  },
  {
   "cell_type": "code",
   "execution_count": null,
   "id": "d395efd5-eb06-4f06-a377-3d722a03a244",
   "metadata": {},
   "outputs": [],
   "source": [
    "def fill_df_final(index,facility_name,total_no_of_encounters,total_no_of_docs):\n",
    "    df_final.at[index,'facility_name'] = facility_name\n",
    "    # df_final.at[index,'individual_doc_counts'] = docs\n",
    "    df_final.at[index,'no_of_encounters'] = total_no_of_encounters\n",
    "    df_final.at[index,'total_docs'] = total_no_of_docs\n",
    "    initialize(index)"
   ]
  },
  {
   "cell_type": "code",
   "execution_count": null,
   "id": "775ec455-fc1e-4da6-9974-8e14689986d6",
   "metadata": {},
   "outputs": [],
   "source": [
    "for file in res:\n",
    "    \n",
    "    filename = re.findall(\"SCP-\\d\\d.*\", file)\n",
    "    # print(str(filename))\n",
    "    df = pd.read_table(file, index_col = False)\n",
    "    for index,row in df.iterrows():\n",
    "        df1 = df['encDocIds'].dropna\n",
    "        df1.shape\n",
    "        index = 0\n",
    "        for index, r in df1.iterrows():\n",
    "            \n",
    "            \n",
    "        "
   ]
  },
  {
   "cell_type": "code",
   "execution_count": null,
   "id": "56bf80f6-e511-4809-8249-f49d988563e4",
   "metadata": {},
   "outputs": [],
   "source": [
    "df1"
   ]
  },
  {
   "cell_type": "code",
   "execution_count": null,
   "id": "04fd577d-a80d-491b-b657-c18d9ee72c1b",
   "metadata": {},
   "outputs": [],
   "source": [
    "index = 0\n",
    "\n",
    "for index,row in df.iterrows():\n",
    "    # filename = str(row['facility_code']) + \"_\" + str(row['facility_name']) + \"_\" + str(row['prod_id']) +  \".xlsx\"\n",
    "\n",
    "    sql = \"\"\"SELECT \n",
    "        em.id AS encounter_id,\n",
    "        am.account_number,\n",
    "        COUNT(dm.id) AS document_count\n",
    "    FROM\n",
    "        encounter_mst em\n",
    "            INNER JOIN\n",
    "        account_mst am ON am.id = em.account_id\n",
    "            INNER JOIN\n",
    "        document_mst dm ON dm.account_id = am.id\n",
    "    WHERE\n",
    "        is_physician_document = 1\n",
    "            AND am.facility_id = \"\"\"  + str(row['prod_id']) + \"\"\"\n",
    "            AND dm.created_date > '2023-01-01'\n",
    "    GROUP BY account_number\n",
    "    ORDER BY document_count DESC;\"\"\"\n",
    "    \n",
    "    \n",
    "    sql_query = pd.read_sql(sql,con = connection)\n",
    "    total_no_of_encounters = sql_query['encounter_id'].count()\n",
    "    total_no_of_docs = sql_query['document_count'].sum()\n",
    "    fill_df_final(index, row['facility_code'], row['facility_name'], row['prod_id'], total_no_of_encounters, total_no_of_docs)\n",
    "    \n",
    "        \n",
    "#   Finding count of encounters with only1,only2,only3,only4 & more than4 docs\n",
    "    for doc_counts in sql_query.document_count:\n",
    "        if doc_counts == 1:\n",
    "            df_final.at[index,'1_doc_only_counts'] += 1  \n",
    "            # print(type(df_final.at[index,'1_doc_only_counts']))\n",
    "        if doc_counts == 2:\n",
    "            df_final.at[index,'2_doc_only_counts'] += 1   \n",
    "        if doc_counts == 3:\n",
    "            df_final.at[index,'3_doc_only_counts'] += 1   \n",
    "        if doc_counts == 4:\n",
    "            df_final.at[index,'4_doc_only_counts'] += 1   \n",
    "        else:\n",
    "            df_final.at[index,'other_no_of_docs_counts'] += 1  \n",
    "            \n",
    "    sql_query = sql_query.sort_values(by=['document_count'], ascending=True).reset_index()\n",
    "    \n",
    "    #   Finding mean of doc_counts\n",
    "    mean = sql_query['document_count'].mean()\n",
    "    df_final.at[index,'doc_mean'] = mean\n",
    "\n",
    "    #   Finding standard deviation of doc_counts\n",
    "    std_dev = sql_query['document_count'].std()\n",
    "    df_final.at[index,'doc_std_dev'] = std_dev\n",
    "\n",
    "    #   Finding 25th percentile\n",
    "    _25_percentile = sql_query['document_count'].quantile(0.25)\n",
    "    df_final.at[index,'25_percentile'] = _25_percentile\n",
    "\n",
    "    #   Finding 50th percentile\n",
    "    _50_percentile = sql_query['document_count'].quantile(0.50)\n",
    "    df_final.at[index,'50_percentile'] = _50_percentile\n",
    "\n",
    "    #   Finding 75th percentile\n",
    "    _75_percentile = sql_query['document_count'].quantile(0.75)\n",
    "    df_final.at[index,'75_percentile'] = _75_percentile\n",
    "\n",
    "    #   Finding minimum doc_counts of all\n",
    "    minimum = sql_query['document_count'].min()\n",
    "    df_final.at[index,'min_doc_count'] = minimum\n",
    "\n",
    "    #   Finding maximum doc_counts of all\n",
    "    maximum = sql_query['document_count'].max()\n",
    "    df_final.at[index,'max_doc_count'] = maximum\n",
    "\n",
    "    columns_titles = ['facility_code','facility_name','prod_id','no_of_encounters','total_docs','1_doc_only_counts','2_doc_only_counts'\n",
    "                      ,'3_doc_only_counts','4_doc_only_counts','other_no_of_docs_counts','doc_mean','doc_std_dev','25_percentile','50_percentile'\n",
    "                      ,'75_percentile','min_doc_count','max_doc_count']\n",
    "      \n",
    "    df_final = df_final.reindex(columns=columns_titles)\n",
    "\n",
    "    index = index + 1\n",
    "df_final.to_excel(\"/home/trishalaswain/Downloads/Data/document_stats_report.xlsx\",index = False)\n",
    "print(\"created successfully\")"
   ]
  },
  {
   "cell_type": "code",
   "execution_count": null,
   "id": "28acc035-963a-42a7-b1cf-800678895ea3",
   "metadata": {},
   "outputs": [],
   "source": [
    "df_final"
   ]
  },
  {
   "cell_type": "code",
   "execution_count": null,
   "id": "52245821-3833-4d24-b2bb-a1a0d62d9d2b",
   "metadata": {},
   "outputs": [],
   "source": [
    "# sql_query['document_count'].describe(percentiles=0.25)"
   ]
  },
  {
   "cell_type": "code",
   "execution_count": null,
   "id": "d1b6f8e0-08d1-4c8b-8ab8-2c1441f23dc4",
   "metadata": {},
   "outputs": [],
   "source": [
    "sql_query['encounter_id'].unique().size\n"
   ]
  },
  {
   "cell_type": "code",
   "execution_count": null,
   "id": "81ee6e5b-c9ec-4a10-8edf-c0bcbe535032",
   "metadata": {},
   "outputs": [],
   "source": [
    "sql_query.info()"
   ]
  },
  {
   "cell_type": "code",
   "execution_count": null,
   "id": "408f17e2-26b6-4a28-bbeb-569f2d2aebf3",
   "metadata": {},
   "outputs": [],
   "source": []
  }
 ],
 "metadata": {
  "kernelspec": {
   "display_name": "Python 3 (ipykernel)",
   "language": "python",
   "name": "python3"
  },
  "language_info": {
   "codemirror_mode": {
    "name": "ipython",
    "version": 3
   },
   "file_extension": ".py",
   "mimetype": "text/x-python",
   "name": "python",
   "nbconvert_exporter": "python",
   "pygments_lexer": "ipython3",
   "version": "3.9.12"
  }
 },
 "nbformat": 4,
 "nbformat_minor": 5
}
