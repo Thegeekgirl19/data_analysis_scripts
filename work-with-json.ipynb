{
 "cells": [
  {
   "cell_type": "code",
   "execution_count": 18,
   "metadata": {},
   "outputs": [],
   "source": [
    "import json\n",
    "import os"
   ]
  },
  {
   "cell_type": "code",
   "execution_count": 26,
   "metadata": {},
   "outputs": [],
   "source": [
    "textFileFolder = \"/home/jaiminrana/Documents/Dual_testing/results/\"\n",
    "\n",
    "for textFileName in os.listdir(textFileFolder):\n",
    "    textFile = open(os.path.join(textFileFolder, textFileName))\n",
    "    name = os.path.splitext(textFileName)[0]\n",
    "\n",
    "    with open('/home/jaiminrana/Downloads/default.json', 'r') as file:\n",
    "\n",
    "        Json = json.load(file)\n",
    "\n",
    "    Json['clientCode'] = \"SCP\"\n",
    "    Json['facilityCode'] = \"6494\"\n",
    "    Json['placeOfServiceMnemonic'] = \"ED\"\n",
    "    Json['visitTypeMnemonic'] = \"NP\"\n",
    "\n",
    "    text = \"\"\n",
    "\n",
    "    for line in textFile:\n",
    "        text += line\n",
    "    \n",
    "    Json[\"documentText\"] = text\n",
    "\n",
    "    with open(\"/home/jaiminrana/Documents/Dual_testing/req_json/\" + name + \".json\", \"w\") as outfile:\n",
    "        json.dump(Json, outfile)"
   ]
  },
  {
   "cell_type": "code",
   "execution_count": null,
   "metadata": {},
   "outputs": [],
   "source": []
  }
 ],
 "metadata": {
  "kernelspec": {
   "display_name": "Python 3",
   "language": "python",
   "name": "python3"
  },
  "language_info": {
   "codemirror_mode": {
    "name": "ipython",
    "version": 3
   },
   "file_extension": ".py",
   "mimetype": "text/x-python",
   "name": "python",
   "nbconvert_exporter": "python",
   "pygments_lexer": "ipython3",
   "version": "3.8.10"
  },
  "orig_nbformat": 4
 },
 "nbformat": 4,
 "nbformat_minor": 2
}
