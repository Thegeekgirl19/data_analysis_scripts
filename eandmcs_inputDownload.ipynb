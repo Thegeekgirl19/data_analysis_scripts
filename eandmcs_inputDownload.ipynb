{
 "cells": [
  {
   "cell_type": "code",
   "execution_count": 1,
   "id": "6f7703ac-943f-4a56-a581-93a2c8fbd877",
   "metadata": {},
   "outputs": [],
   "source": [
    "import pymysql.cursors\n",
    "import pandas as pd\n",
    "connection = pymysql.connect(host='ezcapc-webdb-production-readrep.cncmk5ndlbjo.us-east-1.rds.amazonaws.com', \n",
    "                             user='read_only', password='WHC63fKyjudfSz2U', db='CAPC_APIGATEWAY',\n",
    "                             cursorclass=pymysql.cursors.SSDictCursor)"
   ]
  },
  {
   "cell_type": "code",
   "execution_count": 2,
   "id": "95cf3c4d-5a87-4b30-8112-dc1cb6708185",
   "metadata": {},
   "outputs": [
    {
     "data": {
      "text/plain": [
       "<pymysql.connections.Connection at 0x7fe9cc2c8ca0>"
      ]
     },
     "execution_count": 2,
     "metadata": {},
     "output_type": "execute_result"
    }
   ],
   "source": [
    "connection"
   ]
  },
  {
   "cell_type": "code",
   "execution_count": 3,
   "id": "03a4cd4f-c662-4866-947a-bed8ca5db3a2",
   "metadata": {},
   "outputs": [],
   "source": [
    "acc = []\n",
    "for i in open('/home/trishalaswain/Documents/encDocIds','r').readlines():\n",
    "    acc.append(i.rstrip('\\n'))"
   ]
  },
  {
   "cell_type": "code",
   "execution_count": 4,
   "id": "a5fec137-c64b-45f9-9015-a2508ab9fc19",
   "metadata": {},
   "outputs": [
    {
     "data": {
      "text/plain": [
       "13"
      ]
     },
     "execution_count": 4,
     "metadata": {},
     "output_type": "execute_result"
    }
   ],
   "source": [
    "len(acc)"
   ]
  },
  {
   "cell_type": "code",
   "execution_count": 5,
   "id": "473395cb-66f4-4da9-af23-49d39ec96412",
   "metadata": {},
   "outputs": [],
   "source": [
    "# sql = \"\"\"SELECT em.id,dm.updated_date,am.account_number as account_no,dm.id as document_id,dc.code as suggested_code,dm.name as document_name FROM\n",
    "# CAPC_APIGATEWAY.account_mst am INNER JOIN\n",
    "# CAPC_APIGATEWAY.encounter_mst em ON am.id = em.account_id INNER JOIN\n",
    "# CAPC_APIGATEWAY.document_mst dm ON dm.account_id = am.id INNER JOIN\n",
    "# CAPC_APIGATEWAY.document_code dc ON dm.id = dc.document_id\n",
    "# WHERE facility_id = 333 AND dm.is_active=1 and am.is_active=1 and em.is_active=1 and\n",
    "# dm.updated_date in (select max(updated_date) from document_mst where am.id=account_id) and\n",
    "#  dc.code_category = 'EANDM' AND\n",
    "#  am.account_number in ({}) AND\n",
    "#  ORDER BY dm.updated_date,am.account_number DESC\"\"\".format(','.join(str(r) for r in acc))\n"
   ]
  },
  {
   "cell_type": "code",
   "execution_count": 6,
   "id": "8c081afc-ae78-4fa1-947b-5e28524cc695",
   "metadata": {},
   "outputs": [],
   "source": [
    "# sql = \"\"\"SELECT \n",
    "#     em.id,\n",
    "#     dm.updated_date,\n",
    "#     am.id,\n",
    "#     GROUP_CONCAT(DISTINCT am.account_number) AS account_no,\n",
    "#     dm.id AS document_id,\n",
    "#     GROUP_CONCAT(DISTINCT dm.name) AS document_name,\n",
    "#     GROUP_CONCAT(dc.code) AS suggested_codes\n",
    "# FROM\n",
    "#     CAPC_APIGATEWAY.account_mst am\n",
    "#         INNER JOIN\n",
    "#     CAPC_APIGATEWAY.document_mst dm ON dm.account_id = am.id\n",
    "#         AND dm.is_physician_document = 1\n",
    "#         AND dm.is_active = 1\n",
    "#         INNER JOIN\n",
    "#     CAPC_APIGATEWAY.encounter_mst em ON dm.account_id = em.account_id\n",
    "#         AND dm.service_date = em.service_date\n",
    "#         AND dm.physician_id = em.physician_id\n",
    "#         AND em.is_active = 1\n",
    "#         INNER JOIN\n",
    "#     CAPC_APIGATEWAY.document_code dc ON dm.id = dc.document_id\n",
    "# WHERE\n",
    "#         am.facility_id = 288\n",
    "#         AND am.is_active = 1\n",
    "#         AND dm.id = (SELECT \n",
    "#             id\n",
    "#         FROM\n",
    "#             document_mst\n",
    "#         WHERE\n",
    "#             account_id = em.account_id\n",
    "#                 AND service_date = em.service_date\n",
    "#                 AND physician_id = em.physician_id\n",
    "#         ORDER BY updated_date DESC\n",
    "#         LIMIT 1)\n",
    "#         AND dc.code_category = 'EANDM'\n",
    "#         AND em.id in ({})\n",
    "# GROUP BY em.id , dm.updated_date , am.id , dm.id\"\"\".format(\",\".join(\"'\"+str(x)+\"'\" for x in acc))"
   ]
  },
  {
   "cell_type": "code",
   "execution_count": 7,
   "id": "b4879a6d-e99b-4434-9bcd-0305a0439955",
   "metadata": {},
   "outputs": [],
   "source": [
    "# only pcs download by encDocIds\n",
    "sql = \"\"\"select dm.id,nlp_pcs_xml_result_s3_path from document_processing_detail dpd\n",
    "inner join\n",
    "document_mst dm ON dm.id = dpd.document_id\n",
    "inner join\n",
    "account_mst am ON am.id = dm.account_id\n",
    "where dm.id in ({});\"\"\".format(\",\".join(\"'\"+str(x)+\"'\" for x in acc))"
   ]
  },
  {
   "cell_type": "code",
   "execution_count": 8,
   "id": "973bcdaa-2c74-4600-8535-5746532cb5c9",
   "metadata": {},
   "outputs": [],
   "source": [
    "# pcs and eandmcs_request.json download by encDocIds\n",
    "# sql = \"\"\"select dm.id,dpd.nlp_pcs_xml_result_s3_path,dpd.eandmcs_request_s3_path from document_processing_detail dpd\n",
    "# inner join\n",
    "# document_mst dm ON dm.id = dpd.document_id\n",
    "# inner join\n",
    "# account_mst am ON am.id = dm.account_id\n",
    "# where dm.id in ({});\"\"\".format(\",\".join(\"'\"+str(x)+\"'\" for x in acc))"
   ]
  },
  {
   "cell_type": "code",
   "execution_count": 9,
   "id": "9653c717-7cdd-42ac-9a61-7eb14efae59f",
   "metadata": {},
   "outputs": [],
   "source": [
    "# sql = \"\"\"SELECT code,id FROM CAPC_APIGATEWAY.eandm_code where eandm_code.id in ({});\"\"\""
   ]
  },
  {
   "cell_type": "code",
   "execution_count": 10,
   "id": "c658bf4a-e11c-450e-98c3-c4f8de49e51b",
   "metadata": {
    "tags": []
   },
   "outputs": [
    {
     "name": "stderr",
     "output_type": "stream",
     "text": [
      "/home/trishalaswain/anaconda3/lib/python3.9/site-packages/pandas/io/sql.py:761: UserWarning: pandas only support SQLAlchemy connectable(engine/connection) ordatabase string URI or sqlite3 DBAPI2 connectionother DBAPI2 objects are not tested, please consider using SQLAlchemy\n",
      "  warnings.warn(\n"
     ]
    }
   ],
   "source": [
    "sql_query = pd.read_sql(sql,con= connection)"
   ]
  },
  {
   "cell_type": "code",
   "execution_count": 11,
   "id": "0e76e8c0-d860-4934-bf26-2e13ebf40213",
   "metadata": {},
   "outputs": [
    {
     "data": {
      "text/html": [
       "<div>\n",
       "<style scoped>\n",
       "    .dataframe tbody tr th:only-of-type {\n",
       "        vertical-align: middle;\n",
       "    }\n",
       "\n",
       "    .dataframe tbody tr th {\n",
       "        vertical-align: top;\n",
       "    }\n",
       "\n",
       "    .dataframe thead th {\n",
       "        text-align: right;\n",
       "    }\n",
       "</style>\n",
       "<table border=\"1\" class=\"dataframe\">\n",
       "  <thead>\n",
       "    <tr style=\"text-align: right;\">\n",
       "      <th></th>\n",
       "      <th>id</th>\n",
       "      <th>nlp_pcs_xml_result_s3_path</th>\n",
       "    </tr>\n",
       "  </thead>\n",
       "  <tbody>\n",
       "    <tr>\n",
       "      <th>0</th>\n",
       "      <td>29454303</td>\n",
       "      <td>ezcapc/PH/data/ERLCH/nlp/pcs-xml/20230201/6167...</td>\n",
       "    </tr>\n",
       "    <tr>\n",
       "      <th>1</th>\n",
       "      <td>29454314</td>\n",
       "      <td>ezcapc/PH/data/ERLCH/nlp/pcs-xml/20230201/6167...</td>\n",
       "    </tr>\n",
       "    <tr>\n",
       "      <th>2</th>\n",
       "      <td>29454396</td>\n",
       "      <td>ezcapc/PH/data/ERLCH/nlp/pcs-xml/20230201/6167...</td>\n",
       "    </tr>\n",
       "    <tr>\n",
       "      <th>3</th>\n",
       "      <td>29454542</td>\n",
       "      <td>ezcapc/PH/data/ERLCH/nlp/pcs-xml/20230201/6167...</td>\n",
       "    </tr>\n",
       "    <tr>\n",
       "      <th>4</th>\n",
       "      <td>29627074</td>\n",
       "      <td>ezcapc/PH/data/ERLCH/nlp/pcs-xml/20230202/6198...</td>\n",
       "    </tr>\n",
       "    <tr>\n",
       "      <th>5</th>\n",
       "      <td>29808894</td>\n",
       "      <td>ezcapc/PH/data/ERLCH/nlp/pcs-xml/20230203/6230...</td>\n",
       "    </tr>\n",
       "    <tr>\n",
       "      <th>6</th>\n",
       "      <td>29809058</td>\n",
       "      <td>ezcapc/PH/data/ERLCH/nlp/pcs-xml/20230203/6230...</td>\n",
       "    </tr>\n",
       "    <tr>\n",
       "      <th>7</th>\n",
       "      <td>29809089</td>\n",
       "      <td>ezcapc/PH/data/ERLCH/nlp/pcs-xml/20230203/6230...</td>\n",
       "    </tr>\n",
       "    <tr>\n",
       "      <th>8</th>\n",
       "      <td>29809523</td>\n",
       "      <td>ezcapc/PH/data/ERLCH/nlp/pcs-xml/20230203/6230...</td>\n",
       "    </tr>\n",
       "    <tr>\n",
       "      <th>9</th>\n",
       "      <td>29809780</td>\n",
       "      <td>ezcapc/PH/data/ERLCH/nlp/pcs-xml/20230203/6230...</td>\n",
       "    </tr>\n",
       "    <tr>\n",
       "      <th>10</th>\n",
       "      <td>29986110</td>\n",
       "      <td>ezcapc/PH/data/ERLCH/nlp/pcs-xml/20230204/6260...</td>\n",
       "    </tr>\n",
       "    <tr>\n",
       "      <th>11</th>\n",
       "      <td>29986113</td>\n",
       "      <td>ezcapc/PH/data/ERLCH/nlp/pcs-xml/20230204/6260...</td>\n",
       "    </tr>\n",
       "    <tr>\n",
       "      <th>12</th>\n",
       "      <td>30303425</td>\n",
       "      <td>ezcapc/PH/data/ERLCH/nlp/pcs-xml/20230207/6321...</td>\n",
       "    </tr>\n",
       "  </tbody>\n",
       "</table>\n",
       "</div>"
      ],
      "text/plain": [
       "          id                         nlp_pcs_xml_result_s3_path\n",
       "0   29454303  ezcapc/PH/data/ERLCH/nlp/pcs-xml/20230201/6167...\n",
       "1   29454314  ezcapc/PH/data/ERLCH/nlp/pcs-xml/20230201/6167...\n",
       "2   29454396  ezcapc/PH/data/ERLCH/nlp/pcs-xml/20230201/6167...\n",
       "3   29454542  ezcapc/PH/data/ERLCH/nlp/pcs-xml/20230201/6167...\n",
       "4   29627074  ezcapc/PH/data/ERLCH/nlp/pcs-xml/20230202/6198...\n",
       "5   29808894  ezcapc/PH/data/ERLCH/nlp/pcs-xml/20230203/6230...\n",
       "6   29809058  ezcapc/PH/data/ERLCH/nlp/pcs-xml/20230203/6230...\n",
       "7   29809089  ezcapc/PH/data/ERLCH/nlp/pcs-xml/20230203/6230...\n",
       "8   29809523  ezcapc/PH/data/ERLCH/nlp/pcs-xml/20230203/6230...\n",
       "9   29809780  ezcapc/PH/data/ERLCH/nlp/pcs-xml/20230203/6230...\n",
       "10  29986110  ezcapc/PH/data/ERLCH/nlp/pcs-xml/20230204/6260...\n",
       "11  29986113  ezcapc/PH/data/ERLCH/nlp/pcs-xml/20230204/6260...\n",
       "12  30303425  ezcapc/PH/data/ERLCH/nlp/pcs-xml/20230207/6321..."
      ]
     },
     "execution_count": 11,
     "metadata": {},
     "output_type": "execute_result"
    }
   ],
   "source": [
    "sql_query"
   ]
  },
  {
   "cell_type": "code",
   "execution_count": 12,
   "id": "4b599a5f-f99e-4aef-a74a-9c38c4d0d2ba",
   "metadata": {},
   "outputs": [],
   "source": [
    "# cmd1 = []\n",
    "# for pcs_path,request_path,enc_id in zip(sql_query.nlp_pcs_xml_result_s3_path,sql_query.eandmcs_request_s3_path,sql_query.id):\n",
    "#     # cmd1.append(\"aws s3 cp s3://ezdi-production-bucket/\"+str(pcs_path)+\"    \"+str(enc_id)+\"/\"+str(enc_id) +\"_pcs.xml\")\n",
    "#     cmd1.append(\"aws s3 cp s3://ezdi-production-bucket/\"+str(pcs_path)+\"    \"+str(enc_id) +\"_pcs.xml\")\n",
    "\n",
    "#     # cmd1.append(\"aws s3 cp s3://ezdi-production-bucket/\"+str(request_path)+\"    \"+str(enc_id)+\"/\"+ str(enc_id)+\"_request.json\")"
   ]
  },
  {
   "cell_type": "code",
   "execution_count": 13,
   "id": "b0478fb4-6d2f-42e8-90c5-85252a82b1fb",
   "metadata": {},
   "outputs": [],
   "source": [
    "cmd1 = []\n",
    "for pcs_path,enc_id in zip(sql_query.nlp_pcs_xml_result_s3_path,sql_query.id):\n",
    "    # cmd1.append(\"aws s3 cp s3://ezdi-production-bucket/\"+str(pcs_path)+\"    \"+str(enc_id)+\"/\"+str(enc_id) +\"_pcs.xml\")\n",
    "    pcs_path = pcs_path.replace(\"'\",\"\\'\")\n",
    "    pcs_path = pcs_path.replace(\" \",\"\\ \")\n",
    "    # pcs_path = pcs_path.replace(\"'\",\"\\'\")\n",
    "    cmd1.append(\"aws s3 cp s3://ezdi-production-bucket/\"+str(pcs_path)+\"    \"+str(enc_id) +\"_pcs.xml\")\n",
    "\n",
    "    # cmd1.append(\"aws s3 cp s3://ezdi-production-bucket/\"+str(request_path)+\"    \"+str(enc_id)+\"/\"+ str(enc_id)+\"_request.json\")"
   ]
  },
  {
   "cell_type": "code",
   "execution_count": 14,
   "id": "ac37c86e-0893-4d55-8e7b-bfa04e7f2dbd",
   "metadata": {},
   "outputs": [
    {
     "data": {
      "text/plain": [
       "['aws s3 cp s3://ezdi-production-bucket/ezcapc/PH/data/ERLCH/nlp/pcs-xml/20230201/6167888__LCH_1613771_TUBERA_MICHAEL_2023-02-01_1352_126609124_20230206152054.054_result.xml    29454303_pcs.xml',\n",
       " 'aws s3 cp s3://ezdi-production-bucket/ezcapc/PH/data/ERLCH/nlp/pcs-xml/20230201/6167890__LCH_1613848_SHIPLEE_CATHERINE_2023-02-01_1447_126612379_20230206152100.000_result.xml    29454314_pcs.xml',\n",
       " 'aws s3 cp s3://ezdi-production-bucket/ezcapc/PH/data/ERLCH/nlp/pcs-xml/20230201/6167919__LCH_1613451_TOLENTINO_MARIEL\\\\ CHAELI\\\\ ARICIA\\\\ CO_2023-02-01_0556_126587767_20230206152155.055_result.xml    29454396_pcs.xml',\n",
       " 'aws s3 cp s3://ezdi-production-bucket/ezcapc/PH/data/ERLCH/nlp/pcs-xml/20230201/6167932__LCH_1613948_OBADO_SOLIDAD_2023-02-01_1725_126619978_20230206152211.011_result.xml    29454542_pcs.xml',\n",
       " 'aws s3 cp s3://ezdi-production-bucket/ezcapc/PH/data/ERLCH/nlp/pcs-xml/20230202/6198901__LCH_1614437_BROWN_DUKE\\\\ KEKOA_2023-02-02_1806_126657772_20230207150958.058_result.xml    29627074_pcs.xml',\n",
       " 'aws s3 cp s3://ezdi-production-bucket/ezcapc/PH/data/ERLCH/nlp/pcs-xml/20230203/6230261__LCH_1614990_PARKER_ANTHONY_2023-02-03_1927_126692103_20230208151017.017_result.xml    29808894_pcs.xml',\n",
       " 'aws s3 cp s3://ezdi-production-bucket/ezcapc/PH/data/ERLCH/nlp/pcs-xml/20230203/6230275__LCH_1614882_MANUEL_DENNIS\\\\ JR._2023-02-03_1448_126683432_20230208151040.040_result.xml    29809058_pcs.xml',\n",
       " 'aws s3 cp s3://ezdi-production-bucket/ezcapc/PH/data/ERLCH/nlp/pcs-xml/20230203/6230302__LCH_1614494_ESPIRITU_RENATO_2023-02-03_0317_126661032_20230208151102.002_result.xml    29809089_pcs.xml',\n",
       " 'aws s3 cp s3://ezdi-production-bucket/ezcapc/PH/data/ERLCH/nlp/pcs-xml/20230203/6230310__LCH_1614485_RIVERA_ESTELLA\\\\ A_2023-02-03_0010_126660370_20230208151513.013_result.xml    29809523_pcs.xml',\n",
       " 'aws s3 cp s3://ezdi-production-bucket/ezcapc/PH/data/ERLCH/nlp/pcs-xml/20230203/6230372__LCH_1614781_EDWIN_GIDEON\\\\ C_2023-02-03_1216_126676623_20230208151608.008_result.xml    29809780_pcs.xml',\n",
       " 'aws s3 cp s3://ezdi-production-bucket/ezcapc/PH/data/ERLCH/nlp/pcs-xml/20230204/6260700__LCH_1615041_FELIPE_DARYL\\\\ D_2023-02-04_0657_126694065_20230209154949.049_result.xml    29986110_pcs.xml',\n",
       " 'aws s3 cp s3://ezdi-production-bucket/ezcapc/PH/data/ERLCH/nlp/pcs-xml/20230204/6260702__LCH_1615077_JOHNSON_BRIAN\\\\ K_2023-02-04_1138_126696834_20230209154950.050_result.xml    29986113_pcs.xml',\n",
       " 'aws s3 cp s3://ezdi-production-bucket/ezcapc/PH/data/ERLCH/nlp/pcs-xml/20230207/6321212__LCH_1616656_PAUAA_MICHAEL\\\\ F_2023-02-07_1852_126787485_20230212151012.012_result.xml    30303425_pcs.xml']"
      ]
     },
     "execution_count": 14,
     "metadata": {},
     "output_type": "execute_result"
    }
   ],
   "source": [
    "cmd1"
   ]
  },
  {
   "cell_type": "code",
   "execution_count": 15,
   "id": "8b6344bc-736f-4a1a-8dc6-d149efaa54d5",
   "metadata": {},
   "outputs": [
    {
     "name": "stdout",
     "output_type": "stream",
     "text": [
      "Done\n"
     ]
    }
   ],
   "source": [
    "with open(r'/home/trishalaswain/Downloads/common-server/sh-files/testing.sh', 'w') as fp:\n",
    "    for item in cmd1:\n",
    "        # write each item on a new line\n",
    "        fp.write(\"%s\\n\" % item)\n",
    "    print('Done')"
   ]
  },
  {
   "cell_type": "code",
   "execution_count": null,
   "id": "ea917c0e-1c9f-49b1-a12c-212b81ff34e3",
   "metadata": {},
   "outputs": [],
   "source": []
  },
  {
   "cell_type": "code",
   "execution_count": null,
   "id": "4bf02b1b-5e84-40d0-aada-91e3240f14ff",
   "metadata": {},
   "outputs": [],
   "source": []
  }
 ],
 "metadata": {
  "kernelspec": {
   "display_name": "Python 3 (ipykernel)",
   "language": "python",
   "name": "python3"
  },
  "language_info": {
   "codemirror_mode": {
    "name": "ipython",
    "version": 3
   },
   "file_extension": ".py",
   "mimetype": "text/x-python",
   "name": "python",
   "nbconvert_exporter": "python",
   "pygments_lexer": "ipython3",
   "version": "3.9.12"
  }
 },
 "nbformat": 4,
 "nbformat_minor": 5
}
