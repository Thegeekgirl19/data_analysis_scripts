{
 "cells": [
  {
   "cell_type": "code",
   "execution_count": 1,
   "id": "7d5e3769",
   "metadata": {},
   "outputs": [],
   "source": [
    "import requests\n",
    "import os\n",
    "import json       \n",
    "from os import listdir\n",
    "import time"
   ]
  },
  {
   "cell_type": "code",
   "execution_count": 2,
   "id": "641a55e0",
   "metadata": {},
   "outputs": [],
   "source": [
    "def postReqPCSFiles(url,reqJsonPath):\n",
    "    \n",
    "    reqJson = open(os.path.join(\"\", reqJsonPath))\n",
    "    jsonText = reqJson.read()\n",
    "    \n",
    "    demo = json.loads(jsonText)\n",
    "\n",
    "    # print(type(reqJson))\n",
    "\n",
    "    request_nlp_api = requests.post(url, json=demo)\n",
    "    print(request_nlp_api)\n",
    "    if request_nlp_api.status_code != 200:\n",
    "        print('Problem in NLP POST response ' + str(request_nlp_api.status_code))   \n",
    "        print(reqJsonPath)\n",
    "\n",
    "    #nlp_token\n",
    "    postJson = json.loads(request_nlp_api.text)\n",
    "    \n",
    "    token=postJson[\"token\"]\n",
    "    # token = (str(request_nlp_api.content))\n",
    "    print(token)\n",
    "    return token\n"
   ]
  },
  {
   "cell_type": "code",
   "execution_count": 3,
   "id": "bd35e091",
   "metadata": {},
   "outputs": [],
   "source": [
    "def getPCSFiles(url,token,accountName,pathToSave):\n",
    "    \n",
    "    print(token)\n",
    "    request_nlp_get = requests.get(url.format(t=token))\n",
    "    if request_nlp_get.status_code != 200:\n",
    "        print('Problem in PCS GET response' + str(request_nlp_get.status_code))\n",
    "\n",
    "    #Download PCS\n",
    "\n",
    "    pcs_file_path = os.path.join(pathToSave+\"/\", accountName + '.xml')\n",
    "\n",
    "    while(True):\n",
    "        if 'message' in request_nlp_get.headers.keys():\n",
    "            print(request_nlp_get.headers['message'])\n",
    "            time.sleep(2)\n",
    "            request_nlp_get = requests.get(url.format(t=token))\n",
    "            continue\n",
    "        else:\n",
    "            response = requests.get(request_nlp_get.url)\n",
    "            with open(pcs_file_path, 'wb') as file:\n",
    "                file.write(response.content)\n",
    "                file.close()\n",
    "            print(accountName, \"PCS Download Complete.\")\n",
    "            break"
   ]
  },
  {
   "cell_type": "code",
   "execution_count": 4,
   "id": "b3a2ac4f",
   "metadata": {},
   "outputs": [
    {
     "name": "stdout",
     "output_type": "stream",
     "text": [
      "[]\n"
     ]
    }
   ],
   "source": [
    "posturl = 'https://qanlpcontrollerservice.ezdicloud.com/client/1/facility/1/nlp:pcsXmlData'\n",
    "geturl = 'https://qanlpcontrollerservice.ezdicloud.com/client/1/facility/1/nlp:pcsXmlData?token={t}'\n",
    "textFolder = \"/home/jaiminrana/Documents/Neigh_new/PCS\"\n",
    "subFolders = listdir(textFolder)\n",
    "print(subFolders)"
   ]
  },
  {
   "cell_type": "code",
   "execution_count": 5,
   "id": "dc740daa",
   "metadata": {},
   "outputs": [],
   "source": [
    "# acc=[\"88452479\", \"88056014\", \"88452483\", \"88387607\", \"88387607\", \"88387650\", \"88182476\", \"88291360\", \"88357014\", \"88275259\", \"88307261\", \"88307194\", \"88307198\", \"88404565\", \"88104787\", \"88072542\", \"88104704\", \"88104719\", \"88387655\", \"88275287\", \"88275287\", \"88275274\", \"88404478\", \"88404489\", \"88151699\", \"88341503\", \"88009972\", \"88137123\", \"88371606\", \"88371623\", \"88435167\", \"88324769\", \"88009910\", \"88197084\", \"88324768\", \"88420042\", \"88253257\", \"88009897\", \"88056049\"]"
   ]
  },
  {
   "cell_type": "code",
   "execution_count": 6,
   "id": "26306ea3",
   "metadata": {},
   "outputs": [
    {
     "name": "stdout",
     "output_type": "stream",
     "text": [
      "<Response [200]>\n",
      "879265b6-c5a0-4406-a13d-1becaaca8d54\n",
      "<Response [200]>\n",
      "1d70a3bd-5b4a-4c11-8b83-4d4b56464960\n",
      "<Response [200]>\n",
      "e0c57445-cca4-464d-8081-ce8e9d89d200\n",
      "<Response [200]>\n",
      "d59fca11-f0d2-4cdc-8427-9beb730451a3\n",
      "<Response [200]>\n",
      "1b4cc1c0-3ede-478c-8192-cd20887f0cdd\n",
      "<Response [200]>\n",
      "8781bd04-57c4-41f3-abfc-e30e94478895\n",
      "<Response [200]>\n",
      "a458c5e1-b3b3-4049-9410-0cd922e34be8\n",
      "<Response [200]>\n",
      "25f951e7-3f85-4c72-abee-b3fb6df4383a\n",
      "<Response [200]>\n",
      "81ed5e93-463f-46f3-97ca-4f0b979a1178\n",
      "<Response [200]>\n",
      "b151bea7-592e-4014-97d8-1877f3648eac\n",
      "<Response [200]>\n",
      "73a557f2-78dc-4f43-a18d-c4cf193957ac\n",
      "<Response [200]>\n",
      "4a0f6d29-cc1d-4ec7-92fd-409aa4c7a127\n",
      "<Response [200]>\n",
      "565c435e-dd6b-4ac2-8d26-c857285f3a3d\n",
      "<Response [200]>\n",
      "2b7e96f5-2742-4ef4-bd3b-2790615bb279\n",
      "<Response [200]>\n",
      "1918a321-8566-4ed6-992d-bfc39d67c270\n"
     ]
    }
   ],
   "source": [
    "# Post All account request and collect token\n",
    "accountTokenList={}\n",
    "# for subFolder in subFolders:\n",
    "#     reqJsonName=\"\"\n",
    "\n",
    "#     filePath = textFolder + subFolder + \"/\"\n",
    "#     account=subFolder.split(\"_\")[0]\n",
    "textFileFolder = \"/home/jaiminrana/Documents/Neigh_new/texts/\"\n",
    "\n",
    "for textFileName in os.listdir(textFileFolder):\n",
    "    textFile = open(os.path.join(textFileFolder, textFileName))\n",
    "    name = os.path.splitext(textFileName)[0]\n",
    "\n",
    "    with open('/home/jaiminrana/Downloads/default.json', 'r') as file:\n",
    "\n",
    "        Json = json.load(file)\n",
    "\n",
    "    Json['clientCode'] = \"SCP\"\n",
    "    Json['facilityCode'] = \"493937\"\n",
    "    Json['placeOfServiceMnemonic'] = \"ED\"\n",
    "    Json['visitTypeMnemonic'] = \"NP\"\n",
    "\n",
    "    text = \"\"\n",
    "\n",
    "    for line in textFile:\n",
    "        text += line\n",
    "    \n",
    "    Json[\"documentText\"] = text\n",
    "\n",
    "    with open(\"/home/jaiminrana/Documents/Neigh_new/req_json/\" + name + \".json\", \"w\") as outfile:\n",
    "        json.dump(Json, outfile)\n",
    "\n",
    "#     print(filePath, subFolder, listdir(filePath)\n",
    "#     if subFolder == \"output\" or subFolder.endswith(\"txt\"):\n",
    "#         continue\n",
    "\n",
    "#     print(\"Account: {}\".format(subFolder))\n",
    "#     for requestFile in listdir(filePath):\n",
    "\n",
    "#         # if \".json\" in requestFile:\n",
    "#         if \".json\" in requestFile:\n",
    "#             reqJsonName = requestFile\n",
    "                        \n",
    "#     reqJsonPath = filePath + reqJsonName\n",
    "# #     print(reqJsonPath)\n",
    "\n",
    "#     if not os.path.exists(reqJsonPath):\n",
    "#         continue\n",
    "    token=postReqPCSFiles(posturl,\"/home/jaiminrana/Documents/Neigh_new/req_json/\" + name + \".json\")\n",
    "    accountTokenList[name]=token\n",
    "\n",
    "# with open(\"/home/jaiminrana/Documents/Dual_testing/account_token\", 'wb') as file:\n",
    "#     for i in accountTokenList.items():\n",
    "# \t    file.write(i)\n"
   ]
  },
  {
   "cell_type": "code",
   "execution_count": 7,
   "id": "7f6f4bae",
   "metadata": {},
   "outputs": [
    {
     "data": {
      "text/plain": [
       "{'89262091_new': '879265b6-c5a0-4406-a13d-1becaaca8d54',\n",
       " '89262085_new': '1d70a3bd-5b4a-4c11-8b83-4d4b56464960',\n",
       " '89262087_new': 'e0c57445-cca4-464d-8081-ce8e9d89d200',\n",
       " '89262075_new': 'd59fca11-f0d2-4cdc-8427-9beb730451a3',\n",
       " '89262084_new': '1b4cc1c0-3ede-478c-8192-cd20887f0cdd',\n",
       " '89262099_new': '8781bd04-57c4-41f3-abfc-e30e94478895',\n",
       " '89262089_new': 'a458c5e1-b3b3-4049-9410-0cd922e34be8',\n",
       " '89262100_new': '25f951e7-3f85-4c72-abee-b3fb6df4383a',\n",
       " '89262074_new': '81ed5e93-463f-46f3-97ca-4f0b979a1178',\n",
       " '89262098_new': 'b151bea7-592e-4014-97d8-1877f3648eac',\n",
       " '89262082_new': '73a557f2-78dc-4f43-a18d-c4cf193957ac',\n",
       " '89262086_new': '4a0f6d29-cc1d-4ec7-92fd-409aa4c7a127',\n",
       " '89262073_new': '565c435e-dd6b-4ac2-8d26-c857285f3a3d',\n",
       " '89262097_new': '2b7e96f5-2742-4ef4-bd3b-2790615bb279',\n",
       " '89262095_new': '1918a321-8566-4ed6-992d-bfc39d67c270'}"
      ]
     },
     "execution_count": 7,
     "metadata": {},
     "output_type": "execute_result"
    }
   ],
   "source": [
    "accountTokenList"
   ]
  },
  {
   "cell_type": "code",
   "execution_count": 8,
   "id": "da8fb880",
   "metadata": {},
   "outputs": [
    {
     "name": "stdout",
     "output_type": "stream",
     "text": [
      "879265b6-c5a0-4406-a13d-1becaaca8d54\n",
      "89262091_new PCS Download Complete.\n",
      "1d70a3bd-5b4a-4c11-8b83-4d4b56464960\n",
      "89262085_new PCS Download Complete.\n",
      "e0c57445-cca4-464d-8081-ce8e9d89d200\n",
      "89262087_new PCS Download Complete.\n",
      "d59fca11-f0d2-4cdc-8427-9beb730451a3\n",
      "89262075_new PCS Download Complete.\n",
      "1b4cc1c0-3ede-478c-8192-cd20887f0cdd\n",
      "89262084_new PCS Download Complete.\n",
      "8781bd04-57c4-41f3-abfc-e30e94478895\n",
      "89262099_new PCS Download Complete.\n",
      "a458c5e1-b3b3-4049-9410-0cd922e34be8\n",
      "89262089_new PCS Download Complete.\n",
      "25f951e7-3f85-4c72-abee-b3fb6df4383a\n",
      "89262100_new PCS Download Complete.\n",
      "81ed5e93-463f-46f3-97ca-4f0b979a1178\n",
      "89262074_new PCS Download Complete.\n",
      "b151bea7-592e-4014-97d8-1877f3648eac\n",
      "89262098_new PCS Download Complete.\n",
      "73a557f2-78dc-4f43-a18d-c4cf193957ac\n",
      "89262082_new PCS Download Complete.\n",
      "4a0f6d29-cc1d-4ec7-92fd-409aa4c7a127\n",
      "89262086_new PCS Download Complete.\n",
      "565c435e-dd6b-4ac2-8d26-c857285f3a3d\n",
      "89262073_new PCS Download Complete.\n",
      "2b7e96f5-2742-4ef4-bd3b-2790615bb279\n",
      "89262097_new PCS Download Complete.\n",
      "1918a321-8566-4ed6-992d-bfc39d67c270\n",
      "89262095_new PCS Download Complete.\n"
     ]
    }
   ],
   "source": [
    "# get request result from token list\n",
    "\n",
    "for account,tokenVal in accountTokenList.items():\n",
    "    while True:\n",
    "        time.sleep(5) # 5 second delay\n",
    "        try:\n",
    "            getPCSFiles(geturl,tokenVal,account,textFolder)\n",
    "            break\n",
    "        except:\n",
    "            print (\"issue in getting file\")\n",
    "            continue"
   ]
  },
  {
   "cell_type": "code",
   "execution_count": null,
   "id": "092f3e13",
   "metadata": {},
   "outputs": [],
   "source": []
  }
 ],
 "metadata": {
  "kernelspec": {
   "display_name": "base",
   "language": "python",
   "name": "python3"
  },
  "language_info": {
   "codemirror_mode": {
    "name": "ipython",
    "version": 3
   },
   "file_extension": ".py",
   "mimetype": "text/x-python",
   "name": "python",
   "nbconvert_exporter": "python",
   "pygments_lexer": "ipython3",
   "version": "3.9.12"
  },
  "vscode": {
   "interpreter": {
    "hash": "f53865e5402881d73f81479e9e4511e648d034bbfb3dd673522c962c9bee7c65"
   }
  }
 },
 "nbformat": 4,
 "nbformat_minor": 5
}
