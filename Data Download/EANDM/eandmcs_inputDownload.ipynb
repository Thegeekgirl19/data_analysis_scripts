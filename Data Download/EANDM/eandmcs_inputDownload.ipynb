{
 "cells": [
  {
   "cell_type": "code",
   "execution_count": null,
   "id": "6f7703ac-943f-4a56-a581-93a2c8fbd877",
   "metadata": {},
   "outputs": [],
   "source": [
    "import pymysql.cursors\n",
    "import pandas as pd\n",
    "connection = pymysql.connect(host='ezcapc-webdb-production-readrep.cncmk5ndlbjo.us-east-1.rds.amazonaws.com', \n",
    "                             user='read_only', password='WHC63fKyjudfSz2U', db='CAPC_APIGATEWAY',\n",
    "                             cursorclass=pymysql.cursors.SSDictCursor)"
   ]
  },
  {
   "cell_type": "code",
   "execution_count": null,
   "id": "95cf3c4d-5a87-4b30-8112-dc1cb6708185",
   "metadata": {},
   "outputs": [],
   "source": [
    "connection"
   ]
  },
  {
   "cell_type": "code",
   "execution_count": null,
   "id": "03a4cd4f-c662-4866-947a-bed8ca5db3a2",
   "metadata": {},
   "outputs": [],
   "source": [
    "acc = []\n",
    "for i in open('/home/trishalaswain/Documents/encDocIds','r').readlines():\n",
    "    acc.append(i.rstrip('\\n'))"
   ]
  },
  {
   "cell_type": "code",
   "execution_count": null,
   "id": "a5fec137-c64b-45f9-9015-a2508ab9fc19",
   "metadata": {},
   "outputs": [],
   "source": [
    "len(acc)"
   ]
  },
  {
   "cell_type": "code",
   "execution_count": null,
   "id": "b4879a6d-e99b-4434-9bcd-0305a0439955",
   "metadata": {},
   "outputs": [],
   "source": [
    "# only pcs download by encDocIds\n",
    "sql = \"\"\"select dm.id,nlp_pcs_xml_result_s3_path from document_processing_detail dpd\n",
    "inner join\n",
    "document_mst dm ON dm.id = dpd.document_id\n",
    "inner join\n",
    "account_mst am ON am.id = dm.account_id\n",
    "where dm.id in ({});\"\"\".format(\",\".join(\"'\"+str(x)+\"'\" for x in acc))"
   ]
  },
  {
   "cell_type": "code",
   "execution_count": null,
   "id": "c658bf4a-e11c-450e-98c3-c4f8de49e51b",
   "metadata": {
    "tags": []
   },
   "outputs": [],
   "source": [
    "sql_query = pd.read_sql(sql,con= connection)"
   ]
  },
  {
   "cell_type": "code",
   "execution_count": null,
   "id": "0e76e8c0-d860-4934-bf26-2e13ebf40213",
   "metadata": {},
   "outputs": [],
   "source": [
    "sql_query"
   ]
  },
  {
   "cell_type": "code",
   "execution_count": null,
   "id": "b0478fb4-6d2f-42e8-90c5-85252a82b1fb",
   "metadata": {},
   "outputs": [],
   "source": [
    "cmd1 = []\n",
    "for pcs_path,enc_id in zip(sql_query.nlp_pcs_xml_result_s3_path,sql_query.id):\n",
    "    # cmd1.append(\"aws s3 cp s3://ezdi-production-bucket/\"+str(pcs_path)+\"    \"+str(enc_id)+\"/\"+str(enc_id) +\"_pcs.xml\")\n",
    "    pcs_path = pcs_path.replace(\"'\",\"\\'\")\n",
    "    pcs_path = pcs_path.replace(\" \",\"\\ \")\n",
    "    # pcs_path = pcs_path.replace(\"'\",\"\\'\")\n",
    "    cmd1.append(\"aws s3 cp s3://ezdi-production-bucket/\"+str(pcs_path)+\"    \"+str(enc_id) +\"_pcs.xml\")\n",
    "\n",
    "    # cmd1.append(\"aws s3 cp s3://ezdi-production-bucket/\"+str(request_path)+\"    \"+str(enc_id)+\"/\"+ str(enc_id)+\"_request.json\")"
   ]
  },
  {
   "cell_type": "code",
   "execution_count": null,
   "id": "ac37c86e-0893-4d55-8e7b-bfa04e7f2dbd",
   "metadata": {},
   "outputs": [],
   "source": [
    "cmd1"
   ]
  },
  {
   "cell_type": "code",
   "execution_count": null,
   "id": "8b6344bc-736f-4a1a-8dc6-d149efaa54d5",
   "metadata": {},
   "outputs": [],
   "source": [
    "with open(r'/home/trishalaswain/Downloads/common-server/sh-files/testing.sh', 'w') as fp:\n",
    "    for item in cmd1:\n",
    "        # write each item on a new line\n",
    "        fp.write(\"%s\\n\" % item)\n",
    "    print('Done')"
   ]
  },
  {
   "cell_type": "code",
   "execution_count": null,
   "id": "ea917c0e-1c9f-49b1-a12c-212b81ff34e3",
   "metadata": {},
   "outputs": [],
   "source": []
  },
  {
   "cell_type": "code",
   "execution_count": null,
   "id": "4bf02b1b-5e84-40d0-aada-91e3240f14ff",
   "metadata": {},
   "outputs": [],
   "source": []
  }
 ],
 "metadata": {
  "kernelspec": {
   "display_name": "Python 3 (ipykernel)",
   "language": "python",
   "name": "python3"
  },
  "language_info": {
   "codemirror_mode": {
    "name": "ipython",
    "version": 3
   },
   "file_extension": ".py",
   "mimetype": "text/x-python",
   "name": "python",
   "nbconvert_exporter": "python",
   "pygments_lexer": "ipython3",
   "version": "3.9.12"
  }
 },
 "nbformat": 4,
 "nbformat_minor": 5
}
