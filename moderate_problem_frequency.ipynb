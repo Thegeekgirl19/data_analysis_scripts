{
 "cells": [
  {
   "cell_type": "code",
   "execution_count": 11,
   "metadata": {},
   "outputs": [],
   "source": [
    "# method 2\n",
    "\n",
    "import os\n",
    "import pandas as pd"
   ]
  },
  {
   "cell_type": "code",
   "execution_count": 12,
   "metadata": {},
   "outputs": [],
   "source": [
    "df_data = pd.read_excel(\"/home/jaiminrana/Analysis/SCP/SCP-3412-BAPTIST MEMORIAL HOSPITAL - ATTALA-2023-03-01-2023-03-15.xlsx\")\n",
    "df_use = df_data[['accountNumber','EANDM_Suggested','EANDM_Final']]"
   ]
  },
  {
   "cell_type": "code",
   "execution_count": 13,
   "metadata": {},
   "outputs": [],
   "source": [
    "df_use = df_use[(df_use.EANDM_Final.str.contains('99284')) | (df_use.EANDM_Final.str.contains('99285'))]\n",
    "# df_use.set_index('accountNumber',inplace = True)"
   ]
  },
  {
   "cell_type": "code",
   "execution_count": 14,
   "metadata": {},
   "outputs": [],
   "source": [
    "df_use['problem'] = None\n",
    "df_use['cui'] = None"
   ]
  },
  {
   "cell_type": "code",
   "execution_count": 15,
   "metadata": {},
   "outputs": [
    {
     "data": {
      "text/html": [
       "<div>\n",
       "<style scoped>\n",
       "    .dataframe tbody tr th:only-of-type {\n",
       "        vertical-align: middle;\n",
       "    }\n",
       "\n",
       "    .dataframe tbody tr th {\n",
       "        vertical-align: top;\n",
       "    }\n",
       "\n",
       "    .dataframe thead th {\n",
       "        text-align: right;\n",
       "    }\n",
       "</style>\n",
       "<table border=\"1\" class=\"dataframe\">\n",
       "  <thead>\n",
       "    <tr style=\"text-align: right;\">\n",
       "      <th></th>\n",
       "      <th>accountNumber</th>\n",
       "      <th>EANDM_Suggested</th>\n",
       "      <th>EANDM_Final</th>\n",
       "      <th>problem</th>\n",
       "      <th>cui</th>\n",
       "    </tr>\n",
       "  </thead>\n",
       "  <tbody>\n",
       "    <tr>\n",
       "      <th>0</th>\n",
       "      <td>87701409</td>\n",
       "      <td>{99284=[]}</td>\n",
       "      <td>99284</td>\n",
       "      <td>None</td>\n",
       "      <td>None</td>\n",
       "    </tr>\n",
       "    <tr>\n",
       "      <th>1</th>\n",
       "      <td>87701407</td>\n",
       "      <td>{99285=[25]}</td>\n",
       "      <td>99285</td>\n",
       "      <td>None</td>\n",
       "      <td>None</td>\n",
       "    </tr>\n",
       "    <tr>\n",
       "      <th>2</th>\n",
       "      <td>87701406</td>\n",
       "      <td>{99285=[25]}</td>\n",
       "      <td>99285 = [25-Sig/Sep ID E&amp;M Same Pro/Day]</td>\n",
       "      <td>None</td>\n",
       "      <td>None</td>\n",
       "    </tr>\n",
       "    <tr>\n",
       "      <th>3</th>\n",
       "      <td>87701404</td>\n",
       "      <td>{99284=[]}</td>\n",
       "      <td>99284</td>\n",
       "      <td>None</td>\n",
       "      <td>None</td>\n",
       "    </tr>\n",
       "    <tr>\n",
       "      <th>4</th>\n",
       "      <td>87701402</td>\n",
       "      <td>{99284=[]}</td>\n",
       "      <td>99284</td>\n",
       "      <td>None</td>\n",
       "      <td>None</td>\n",
       "    </tr>\n",
       "    <tr>\n",
       "      <th>...</th>\n",
       "      <td>...</td>\n",
       "      <td>...</td>\n",
       "      <td>...</td>\n",
       "      <td>...</td>\n",
       "      <td>...</td>\n",
       "    </tr>\n",
       "    <tr>\n",
       "      <th>456</th>\n",
       "      <td>87338235</td>\n",
       "      <td>{99284=[25]}</td>\n",
       "      <td>99284</td>\n",
       "      <td>None</td>\n",
       "      <td>None</td>\n",
       "    </tr>\n",
       "    <tr>\n",
       "      <th>457</th>\n",
       "      <td>87338229</td>\n",
       "      <td>{99285=[25]}</td>\n",
       "      <td>99284</td>\n",
       "      <td>None</td>\n",
       "      <td>None</td>\n",
       "    </tr>\n",
       "    <tr>\n",
       "      <th>458</th>\n",
       "      <td>87338225</td>\n",
       "      <td>{99285=[25]}</td>\n",
       "      <td>99285</td>\n",
       "      <td>None</td>\n",
       "      <td>None</td>\n",
       "    </tr>\n",
       "    <tr>\n",
       "      <th>461</th>\n",
       "      <td>87290126</td>\n",
       "      <td>{99284=[25]}</td>\n",
       "      <td>99284</td>\n",
       "      <td>None</td>\n",
       "      <td>None</td>\n",
       "    </tr>\n",
       "    <tr>\n",
       "      <th>462</th>\n",
       "      <td>87257242</td>\n",
       "      <td>{99285=[25]}</td>\n",
       "      <td>99284</td>\n",
       "      <td>None</td>\n",
       "      <td>None</td>\n",
       "    </tr>\n",
       "  </tbody>\n",
       "</table>\n",
       "<p>430 rows × 5 columns</p>\n",
       "</div>"
      ],
      "text/plain": [
       "     accountNumber EANDM_Suggested                               EANDM_Final  \\\n",
       "0         87701409      {99284=[]}                                     99284   \n",
       "1         87701407    {99285=[25]}                                     99285   \n",
       "2         87701406    {99285=[25]}  99285 = [25-Sig/Sep ID E&M Same Pro/Day]   \n",
       "3         87701404      {99284=[]}                                     99284   \n",
       "4         87701402      {99284=[]}                                     99284   \n",
       "..             ...             ...                                       ...   \n",
       "456       87338235    {99284=[25]}                                     99284   \n",
       "457       87338229    {99285=[25]}                                     99284   \n",
       "458       87338225    {99285=[25]}                                     99285   \n",
       "461       87290126    {99284=[25]}                                     99284   \n",
       "462       87257242    {99285=[25]}                                     99284   \n",
       "\n",
       "    problem   cui  \n",
       "0      None  None  \n",
       "1      None  None  \n",
       "2      None  None  \n",
       "3      None  None  \n",
       "4      None  None  \n",
       "..      ...   ...  \n",
       "456    None  None  \n",
       "457    None  None  \n",
       "458    None  None  \n",
       "461    None  None  \n",
       "462    None  None  \n",
       "\n",
       "[430 rows x 5 columns]"
      ]
     },
     "execution_count": 15,
     "metadata": {},
     "output_type": "execute_result"
    }
   ],
   "source": [
    "df_use"
   ]
  },
  {
   "cell_type": "code",
   "execution_count": 16,
   "metadata": {},
   "outputs": [
    {
     "data": {
      "text/html": [
       "<div>\n",
       "<style scoped>\n",
       "    .dataframe tbody tr th:only-of-type {\n",
       "        vertical-align: middle;\n",
       "    }\n",
       "\n",
       "    .dataframe tbody tr th {\n",
       "        vertical-align: top;\n",
       "    }\n",
       "\n",
       "    .dataframe thead th {\n",
       "        text-align: right;\n",
       "    }\n",
       "</style>\n",
       "<table border=\"1\" class=\"dataframe\">\n",
       "  <thead>\n",
       "    <tr style=\"text-align: right;\">\n",
       "      <th></th>\n",
       "      <th>accountNumber</th>\n",
       "      <th>EANDM_Suggested</th>\n",
       "      <th>EANDM_Final</th>\n",
       "      <th>problem</th>\n",
       "      <th>cui</th>\n",
       "    </tr>\n",
       "  </thead>\n",
       "  <tbody>\n",
       "    <tr>\n",
       "      <th>462</th>\n",
       "      <td>87257242</td>\n",
       "      <td>{99285=[25]}</td>\n",
       "      <td>99284</td>\n",
       "      <td>None</td>\n",
       "      <td>None</td>\n",
       "    </tr>\n",
       "  </tbody>\n",
       "</table>\n",
       "</div>"
      ],
      "text/plain": [
       "     accountNumber EANDM_Suggested EANDM_Final problem   cui\n",
       "462       87257242    {99285=[25]}       99284    None  None"
      ]
     },
     "execution_count": 16,
     "metadata": {},
     "output_type": "execute_result"
    }
   ],
   "source": [
    "df_use[df_use.accountNumber==87257242]"
   ]
  },
  {
   "cell_type": "code",
   "execution_count": 17,
   "metadata": {},
   "outputs": [],
   "source": [
    "file = open(\"/home/jaiminrana/Documents/problem.txt\", \"r\")\n",
    "account = ''\n",
    "\n",
    "for i in file.readlines():\n",
    "    problem_list = set()\n",
    "    cui_set = set()\n",
    "    \n",
    "    if(i.__contains__('FILE ')):\n",
    "        account_list = i.split(\" -\")\n",
    "        account = account_list[1][0:8]\n",
    "    else:   \n",
    "        problem_cui_list = i.split(\"\\t\")\n",
    "    #         problem_cui_list.remove('')\n",
    "    #         problem_cui_list.remove('\\n')\n",
    "\n",
    "    #         print(problem_cui_list)\n",
    "        for item in problem_cui_list:\n",
    "            if(item == '' or item == '\\n'):\n",
    "                continue\n",
    "            problem = item.split(\"==\")[0]\n",
    "            cui = item.split(\"==\")[1]\n",
    "            \n",
    "    #             print(problem)\n",
    "    #             print(cui)\n",
    "    \n",
    "            problem_list.add(problem)\n",
    "            cui_set.add(cui)\n",
    "    \n",
    "#         print(account)\n",
    "#         print(problem_list)\n",
    "#         print(cui_list)\n",
    "#         print(problem_list)\n",
    "#         print(cui_set)\n",
    "#         print(df_use.loc[df_use[\"accountNumber\"] == int(account)].shape)\n",
    "#         print(account, print(type(account)))\n",
    "        df_use.loc[df_use[\"accountNumber\"] == int(account), \"problem\"] = ', '.join(problem_list)\n",
    "        df_use.loc[df_use[\"accountNumber\"] == int(account), \"cui\"] = ', '.join(cui_set)"
   ]
  },
  {
   "cell_type": "code",
   "execution_count": 26,
   "metadata": {},
   "outputs": [
    {
     "data": {
      "text/html": [
       "<div>\n",
       "<style scoped>\n",
       "    .dataframe tbody tr th:only-of-type {\n",
       "        vertical-align: middle;\n",
       "    }\n",
       "\n",
       "    .dataframe tbody tr th {\n",
       "        vertical-align: top;\n",
       "    }\n",
       "\n",
       "    .dataframe thead th {\n",
       "        text-align: right;\n",
       "    }\n",
       "</style>\n",
       "<table border=\"1\" class=\"dataframe\">\n",
       "  <thead>\n",
       "    <tr style=\"text-align: right;\">\n",
       "      <th></th>\n",
       "      <th>accountNumber</th>\n",
       "      <th>EANDM_Suggested</th>\n",
       "      <th>EANDM_Final</th>\n",
       "      <th>problem</th>\n",
       "      <th>cui</th>\n",
       "    </tr>\n",
       "  </thead>\n",
       "  <tbody>\n",
       "    <tr>\n",
       "      <th>123</th>\n",
       "      <td>87623495</td>\n",
       "      <td>{99285=[25]}</td>\n",
       "      <td>99285</td>\n",
       "      <td>Hypokalemia, hypertension, Uncontrolled hypert...</td>\n",
       "      <td>205318, 100002892, 20538, 100001819</td>\n",
       "    </tr>\n",
       "    <tr>\n",
       "      <th>50</th>\n",
       "      <td>87670714</td>\n",
       "      <td>{99284=[25]}</td>\n",
       "      <td>99285</td>\n",
       "      <td>Gastroesophageal reflux disease</td>\n",
       "      <td>17168</td>\n",
       "    </tr>\n",
       "    <tr>\n",
       "      <th>456</th>\n",
       "      <td>87338235</td>\n",
       "      <td>{99284=[25]}</td>\n",
       "      <td>99284</td>\n",
       "      <td>shortness, SOB, breath</td>\n",
       "      <td>13404</td>\n",
       "    </tr>\n",
       "    <tr>\n",
       "      <th>63</th>\n",
       "      <td>87654465</td>\n",
       "      <td>{99284=[25]}</td>\n",
       "      <td>99284 = [25-Sig/Sep ID E&amp;M Same Pro/Day]</td>\n",
       "      <td>palpitations, Rapid palpitations, Rapid</td>\n",
       "      <td>1637379, 30252, 425585</td>\n",
       "    </tr>\n",
       "    <tr>\n",
       "      <th>394</th>\n",
       "      <td>87494407</td>\n",
       "      <td>{99284=[]}</td>\n",
       "      <td>99284 = [25-Sig/Sep ID E&amp;M Same Pro/Day]</td>\n",
       "      <td>Acute, body, right, ear, Acute infective otiti...</td>\n",
       "      <td>1268086, 16542, 21355, 521421, 1289033, 100017...</td>\n",
       "    </tr>\n",
       "    <tr>\n",
       "      <th>165</th>\n",
       "      <td>87606051</td>\n",
       "      <td>{99285=[25]}</td>\n",
       "      <td>99285 = [25-Sig/Sep ID E&amp;M Same Pro/Day]</td>\n",
       "      <td>Acute, Chest pain, Chest, Acute pain, left, pa...</td>\n",
       "      <td>3538919, NO-CUI, 441994, 1288640, 184567, 1000...</td>\n",
       "    </tr>\n",
       "    <tr>\n",
       "      <th>32</th>\n",
       "      <td>87670733</td>\n",
       "      <td>{99291=[25]}</td>\n",
       "      <td>99285 = [25-Sig/Sep ID E&amp;M Same Pro/Day]</td>\n",
       "      <td>hypotension, pregnancy, collapse, unspecified,...</td>\n",
       "      <td>120004548, 205370, 39070, 100021760, 20649, 31...</td>\n",
       "    </tr>\n",
       "    <tr>\n",
       "      <th>74</th>\n",
       "      <td>87654453</td>\n",
       "      <td>{99284=[]}</td>\n",
       "      <td>99284</td>\n",
       "      <td>Viral syndrome</td>\n",
       "      <td>42740</td>\n",
       "    </tr>\n",
       "    <tr>\n",
       "      <th>381</th>\n",
       "      <td>87494426</td>\n",
       "      <td>{99284=[]}</td>\n",
       "      <td>99284</td>\n",
       "      <td>Gilbert syndrome</td>\n",
       "      <td>17551</td>\n",
       "    </tr>\n",
       "    <tr>\n",
       "      <th>416</th>\n",
       "      <td>87477795</td>\n",
       "      <td>{99284=[]}</td>\n",
       "      <td>99284</td>\n",
       "      <td>otitis media, unspecified otitis media, otitis...</td>\n",
       "      <td>205370, 2827407, 677540, 29882, 2881704, 29877...</td>\n",
       "    </tr>\n",
       "  </tbody>\n",
       "</table>\n",
       "</div>"
      ],
      "text/plain": [
       "     accountNumber EANDM_Suggested                               EANDM_Final  \\\n",
       "123       87623495    {99285=[25]}                                     99285   \n",
       "50        87670714    {99284=[25]}                                     99285   \n",
       "456       87338235    {99284=[25]}                                     99284   \n",
       "63        87654465    {99284=[25]}  99284 = [25-Sig/Sep ID E&M Same Pro/Day]   \n",
       "394       87494407      {99284=[]}  99284 = [25-Sig/Sep ID E&M Same Pro/Day]   \n",
       "165       87606051    {99285=[25]}  99285 = [25-Sig/Sep ID E&M Same Pro/Day]   \n",
       "32        87670733    {99291=[25]}  99285 = [25-Sig/Sep ID E&M Same Pro/Day]   \n",
       "74        87654453      {99284=[]}                                     99284   \n",
       "381       87494426      {99284=[]}                                     99284   \n",
       "416       87477795      {99284=[]}                                     99284   \n",
       "\n",
       "                                               problem  \\\n",
       "123  Hypokalemia, hypertension, Uncontrolled hypert...   \n",
       "50                     Gastroesophageal reflux disease   \n",
       "456                             shortness, SOB, breath   \n",
       "63             palpitations, Rapid palpitations, Rapid   \n",
       "394  Acute, body, right, ear, Acute infective otiti...   \n",
       "165  Acute, Chest pain, Chest, Acute pain, left, pa...   \n",
       "32   hypotension, pregnancy, collapse, unspecified,...   \n",
       "74                                      Viral syndrome   \n",
       "381                                   Gilbert syndrome   \n",
       "416  otitis media, unspecified otitis media, otitis...   \n",
       "\n",
       "                                                   cui  \n",
       "123                205318, 100002892, 20538, 100001819  \n",
       "50                                               17168  \n",
       "456                                              13404  \n",
       "63                              1637379, 30252, 425585  \n",
       "394  1268086, 16542, 21355, 521421, 1289033, 100017...  \n",
       "165  3538919, NO-CUI, 441994, 1288640, 184567, 1000...  \n",
       "32   120004548, 205370, 39070, 100021760, 20649, 31...  \n",
       "74                                               42740  \n",
       "381                                              17551  \n",
       "416  205370, 2827407, 677540, 29882, 2881704, 29877...  "
      ]
     },
     "execution_count": 26,
     "metadata": {},
     "output_type": "execute_result"
    }
   ],
   "source": [
    "df_use.sample(10)"
   ]
  },
  {
   "cell_type": "code",
   "execution_count": 31,
   "metadata": {},
   "outputs": [
    {
     "data": {
      "text/plain": [
       "99284                                       298\n",
       "99285                                        81\n",
       "99285 = [25-Sig/Sep ID E&M Same Pro/Day]     28\n",
       "99284 = [25-Sig/Sep ID E&M Same Pro/Day]     23\n",
       "Name: EANDM_Final, dtype: int64"
      ]
     },
     "execution_count": 31,
     "metadata": {},
     "output_type": "execute_result"
    }
   ],
   "source": [
    "df_use.EANDM_Final.value_counts()"
   ]
  },
  {
   "cell_type": "code",
   "execution_count": 32,
   "metadata": {},
   "outputs": [
    {
     "data": {
      "text/plain": [
       "{99284=[]}                  229\n",
       "{99285=[25]}                 88\n",
       "{99284=[25]}                 73\n",
       "{99285=[]}                   17\n",
       "{99291=[25]}                 11\n",
       "{99285=[25, 25]}              3\n",
       "{99291=[]}                    3\n",
       "{99292=[25], 99291=[25]}      1\n",
       "{99285=[25], 99284=[25]}      1\n",
       "{99285=[], 99284=[]}          1\n",
       "{99291=[25, 25]}              1\n",
       "{99284=[25, 25]}              1\n",
       "{99285=[25], 99284=[]}        1\n",
       "Name: EANDM_Suggested, dtype: int64"
      ]
     },
     "execution_count": 32,
     "metadata": {},
     "output_type": "execute_result"
    }
   ],
   "source": [
    "df_use.EANDM_Suggested.value_counts()"
   ]
  },
  {
   "cell_type": "code",
   "execution_count": 33,
   "metadata": {},
   "outputs": [
    {
     "data": {
      "text/plain": [
       "(13, 5)"
      ]
     },
     "execution_count": 33,
     "metadata": {},
     "output_type": "execute_result"
    }
   ],
   "source": [
    "df_use[(df_use.EANDM_Suggested.str.contains('99284')) & (df_use.EANDM_Final.str.contains('99285'))].shape"
   ]
  },
  {
   "cell_type": "code",
   "execution_count": 25,
   "metadata": {},
   "outputs": [
    {
     "data": {
      "text/plain": [
       "bone, without loss of consciousness, vascular disease, fracture, nasal bone, Cerebral, Closed, BMI, Concussion, Falling, nasal, loss, consciousness, Obesity, Concussion without loss, Closed fracture                                                                                                           1\n",
       "examination                                                                                                                                                                                                                                                                                                      1\n",
       "side, Sciatica, left side                                                                                                                                                                                                                                                                                        1\n",
       "unspecified, hematuria, Urinary tract infection                                                                                                                                                                                                                                                                  1\n",
       "Epigastric pain                                                                                                                                                                                                                                                                                                  1\n",
       "URI, Mild, Viral URI, dehydration, Mild dehydration                                                                                                                                                                                                                                                              1\n",
       "Anxiety, depression                                                                                                                                                                                                                                                                                              1\n",
       "Bowel, Dehydration, Bowel perforation, HCC, perforation                                                                                                                                                                                                                                                          1\n",
       "Anxiety, Noncompliance, attack, Anxiety attack                                                                                                                                                                                                                                                                   1\n",
       "Ureterolithiasis, Ureterollhhasis, right, right side, colic, Renal, side, Renal colic                                                                                                                                                                                                                            1\n",
       "fracture, severe headache, collision, MVC, blunt head trauma, mechanism, vertebra, minor, severe, MVA, CT, Minor Head Trauma, headache, Minor, Trauma, injury, Compression fracture, L3, blunt, Head CT, HCC, Head, Head Trauma, head trauma, motor vehicle collision, head, trauma, Compression, L3 vertebra    1\n",
       "right tibia, proximal end, right fibula, fibula, fracture, right, Closed, torus, distal end, fracture of proximal, torus fracture, tibia, Closed torus fracture, proximal, distal, of                                                                                                                            1\n",
       "infection, Wound, Wound infection                                                                                                                                                                                                                                                                                1\n",
       "Umbilical, SURGERY                                                                                                                                                                                                                                                                                               1\n",
       "enteritis, Moderate, dehydration, Viral enteritis, Moderate dehydration                                                                                                                                                                                                                                          1\n",
       "Urinary fistula, fistula                                                                                                                                                                                                                                                                                         1\n",
       "Hypokalemia, Palpitations, Anemia                                                                                                                                                                                                                                                                                1\n",
       "                                                                                                                                                                                                                                                                                                                 1\n",
       "Costochondritis                                                                                                                                                                                                                                                                                                  1\n",
       "Acute, acute, unspecified acute appendicitis, unspecified, appendicitis, Acute appendicitis                                                                                                                                                                                                                      1\n",
       "Duodenitis                                                                                                                                                                                                                                                                                                       1\n",
       "virus infection, infection, vomiting, unspecified vomiting, Nausea, unspecified, COVID-19                                                                                                                                                                                                                        1\n",
       "Dehydration, HCC, Seizures                                                                                                                                                                                                                                                                                       1\n",
       "Pleurodynia                                                                                                                                                                                                                                                                                                      1\n",
       "right hip, blunt head trauma, older, contusion, minor, hip, CT, right, Minor Head Trauma, Minor, Lumbar, Trauma, blunt, Head CT, focal, neurologic deficit, Head, Head Trauma, head trauma, Contusion, head, trauma, focal neurologic deficit, neurologic, Lumbar contusion                                      1\n",
       "Abdominal pain, abdominal, location, unspecified                                                                                                                                                                                                                                                                 1\n",
       "disorder, Bipolar, Difficulty controlling anger, Bipolar 1 disorder, Difficulty, controlling anger, HCC, anger                                                                                                                                                                                                   1\n",
       "Alcoholic intoxication, Depression, hallucinations, unspecified depression, unspecified, Auditory hallucinations, HCC, depression, intoxication                                                                                                                                                                  1\n",
       "Abrasions, back, multiple, Contusion                                                                                                                                                                                                                                                                             1\n",
       "carcinomatosis, Abdominal carcinomatosis, HCC, Abdominal                                                                                                                                                                                                                                                         1\n",
       "hypotension, Fatigue, unspecified, Hypotension, unspecified hypotension                                                                                                                                                                                                                                          1\n",
       "Name: problem, dtype: int64"
      ]
     },
     "execution_count": 25,
     "metadata": {},
     "output_type": "execute_result"
    }
   ],
   "source": [
    "df_use[(df_use.EANDM_Suggested.str.contains('99285')) \n",
    "      & (df_use.EANDM_Final.str.contains('99284'))].problem.value_counts()"
   ]
  },
  {
   "cell_type": "code",
   "execution_count": 19,
   "metadata": {},
   "outputs": [],
   "source": [
    "from collections import defaultdict\n",
    "cui_count_99284 = defaultdict(int)\n",
    "\n",
    "for val in df_use[df_use.EANDM_Final.str.contains('99284')].cui:\n",
    "    for c in val:\n",
    "        cui_count_99284[c]+=1\n",
    "\n",
    "cui_count_99285 = defaultdict(int)\n",
    "for val in df_use[df_use.EANDM_Final.str.contains('99285')].cui:\n",
    "    for c in val:\n",
    "        cui_count_99285[c]+=1"
   ]
  },
  {
   "cell_type": "code",
   "execution_count": 21,
   "metadata": {},
   "outputs": [],
   "source": [
    "# for key, val in sorted(cui_count_99285.items(), key=lambda item: item[1], reverse=True):\n",
    "#     print(key, val, cui_count_99284[key])"
   ]
  },
  {
   "cell_type": "code",
   "execution_count": null,
   "metadata": {},
   "outputs": [],
   "source": []
  }
 ],
 "metadata": {
  "kernelspec": {
   "display_name": "Python 3 (ipykernel)",
   "language": "python",
   "name": "python3"
  },
  "language_info": {
   "codemirror_mode": {
    "name": "ipython",
    "version": 3
   },
   "file_extension": ".py",
   "mimetype": "text/x-python",
   "name": "python",
   "nbconvert_exporter": "python",
   "pygments_lexer": "ipython3",
   "version": "3.9.12"
  }
 },
 "nbformat": 4,
 "nbformat_minor": 4
}
