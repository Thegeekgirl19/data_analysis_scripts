{
 "cells": [
  {
   "cell_type": "code",
   "execution_count": 9,
   "metadata": {},
   "outputs": [],
   "source": [
    "import requests\n",
    "import os\n",
    "import json       \n",
    "from os import listdir\n",
    "import time"
   ]
  },
  {
   "cell_type": "code",
   "execution_count": 10,
   "metadata": {},
   "outputs": [],
   "source": [
    "posturl = 'https://stgocrcontrollerservice.ezdicloud.com/client/22/facility/279/ocr'\n",
    "geturl = 'https://stgocrcontrollerservice.ezdicloud.com/client/22/facility/279/ocr:result?token={}'"
   ]
  },
  {
   "cell_type": "code",
   "execution_count": 11,
   "metadata": {},
   "outputs": [],
   "source": [
    "# geturl.format(\"x\")"
   ]
  },
  {
   "cell_type": "code",
   "execution_count": 12,
   "metadata": {},
   "outputs": [],
   "source": [
    "def postReqTextFile(url,pdfPath):\n",
    "    \n",
    "    # reqJson = open(os.path.join(\"\", reqJsonPath))\n",
    "    # jsonText = reqJson.read()\n",
    "    \n",
    "    # demo = json.loads(jsonText)\n",
    "\n",
    "    # print(type(reqJson))\n",
    "    files = {'file': open(pdfPath, 'rb')}\n",
    "\n",
    "    request_nlp_api = requests.post(url, files = files)\n",
    "    print(request_nlp_api)\n",
    "    if request_nlp_api.status_code != 200:\n",
    "        print('Problem in NLP POST response ' + str(request_nlp_api.status_code))\n",
    "\n",
    "    #nlp_token\n",
    "    postJson = json.loads(request_nlp_api.text)\n",
    "    \n",
    "    token=postJson[\"token\"]\n",
    "    # token = (str(request_nlp_api.content))\n",
    "    print(token)\n",
    "    return token"
   ]
  },
  {
   "cell_type": "code",
   "execution_count": 13,
   "metadata": {},
   "outputs": [
    {
     "name": "stdout",
     "output_type": "stream",
     "text": [
      "<Response [200]>\n",
      "227a6fbc-8158-49c9-af0c-16820c984370\n",
      "<Response [200]>\n",
      "fa302438-dbfc-494b-b142-adb8092f1482\n",
      "<Response [200]>\n",
      "5319b8a6-b20a-43a5-b0ec-d0c641bf1b0d\n",
      "<Response [200]>\n",
      "bc8f51cc-6994-40d5-95bc-402e3e4086bd\n",
      "<Response [200]>\n",
      "5f0fab5f-638c-4a01-acc2-4e86884b0d21\n",
      "<Response [200]>\n",
      "87950326-77d5-4feb-885e-843d7a519792\n",
      "<Response [200]>\n",
      "d945ccab-5e52-4cae-b576-575656b9ef0d\n",
      "<Response [200]>\n",
      "232f2e85-3eda-4687-a027-098f1f17ae3d\n",
      "<Response [200]>\n",
      "7871d872-b892-4c33-b194-7b96eae8d4b2\n",
      "<Response [200]>\n",
      "9020ac22-0ccf-4a18-ac6e-1f6f9543e19b\n",
      "<Response [200]>\n",
      "1fdf4661-d067-42dc-ab08-3ce3c2a00c19\n",
      "<Response [200]>\n",
      "36dea9f5-bc55-4c64-a7bc-2f6266101432\n",
      "<Response [200]>\n",
      "010e9ee0-89b8-4302-a0ab-6f5b67b45164\n",
      "<Response [200]>\n",
      "5d919f70-1879-442b-be2f-4c38a627e05a\n",
      "<Response [200]>\n",
      "decbdce4-33af-4d5f-9a48-b536be0217b7\n"
     ]
    }
   ],
   "source": [
    "tokenList = {}\n",
    "\n",
    "pdfFolder = \"/home/jaiminrana/Documents/Neigh_new/pdfs/\"\n",
    "textFolder = \"/home/jaiminrana/Documents/Neigh_new/texts/\"\n",
    "\n",
    "for textFileName in os.listdir(pdfFolder):\n",
    "    tokenList[textFileName] = postReqTextFile(posturl,pdfFolder + \"/\" + textFileName)"
   ]
  },
  {
   "cell_type": "code",
   "execution_count": 14,
   "metadata": {},
   "outputs": [
    {
     "data": {
      "text/plain": [
       "{'89262097.pdf': '227a6fbc-8158-49c9-af0c-16820c984370',\n",
       " '89262074.pdf': 'fa302438-dbfc-494b-b142-adb8092f1482',\n",
       " '89262098.pdf': '5319b8a6-b20a-43a5-b0ec-d0c641bf1b0d',\n",
       " '89262084.pdf': 'bc8f51cc-6994-40d5-95bc-402e3e4086bd',\n",
       " '89262091.pdf': '5f0fab5f-638c-4a01-acc2-4e86884b0d21',\n",
       " '89262087.pdf': '87950326-77d5-4feb-885e-843d7a519792',\n",
       " '89262089.pdf': 'd945ccab-5e52-4cae-b576-575656b9ef0d',\n",
       " '89262075.pdf': '232f2e85-3eda-4687-a027-098f1f17ae3d',\n",
       " '89262095.pdf': '7871d872-b892-4c33-b194-7b96eae8d4b2',\n",
       " '89262100.pdf': '9020ac22-0ccf-4a18-ac6e-1f6f9543e19b',\n",
       " '89262099.pdf': '1fdf4661-d067-42dc-ab08-3ce3c2a00c19',\n",
       " '89262082.pdf': '36dea9f5-bc55-4c64-a7bc-2f6266101432',\n",
       " '89262086.pdf': '010e9ee0-89b8-4302-a0ab-6f5b67b45164',\n",
       " '89262073.pdf': '5d919f70-1879-442b-be2f-4c38a627e05a',\n",
       " '89262085.pdf': 'decbdce4-33af-4d5f-9a48-b536be0217b7'}"
      ]
     },
     "execution_count": 14,
     "metadata": {},
     "output_type": "execute_result"
    }
   ],
   "source": [
    "tokenList"
   ]
  },
  {
   "cell_type": "code",
   "execution_count": 15,
   "metadata": {},
   "outputs": [],
   "source": [
    "def getTextFiles(url,token,accountName,pathToSave):\n",
    "    \n",
    "    print(token, url.format(token))\n",
    "    request_nlp_get = requests.get(url.format(token))\n",
    "    if request_nlp_get.status_code != 200:\n",
    "        print('Problem in PCS GET response' + str(request_nlp_get.status_code))\n",
    "\n",
    "    #Download PCS\n",
    "\n",
    "    pcs_file_path = os.path.join(pathToSave+\"/\", accountName + '_new.txt')\n",
    "\n",
    "    while(True):\n",
    "        if 'message' in request_nlp_get.headers.keys():\n",
    "            print(request_nlp_get.headers['message'])\n",
    "            time.sleep(2)\n",
    "            request_nlp_get = requests.get(url.format(t=token))\n",
    "            continue\n",
    "        else:\n",
    "            response = requests.get(request_nlp_get.url)\n",
    "            with open(pcs_file_path, 'wb') as file:\n",
    "                file.write(response.content)\n",
    "                file.close()\n",
    "            print(accountName, \"Text File Download Complete.\")\n",
    "            break"
   ]
  },
  {
   "cell_type": "code",
   "execution_count": 16,
   "metadata": {},
   "outputs": [
    {
     "name": "stdout",
     "output_type": "stream",
     "text": [
      "227a6fbc-8158-49c9-af0c-16820c984370 https://stgocrcontrollerservice.ezdicloud.com/client/22/facility/279/ocr:result?token=227a6fbc-8158-49c9-af0c-16820c984370\n",
      "OCR Result file not generated yet\n",
      "issue in getting file\n",
      "227a6fbc-8158-49c9-af0c-16820c984370 https://stgocrcontrollerservice.ezdicloud.com/client/22/facility/279/ocr:result?token=227a6fbc-8158-49c9-af0c-16820c984370\n",
      "OCR Result file not generated yet\n",
      "issue in getting file\n",
      "227a6fbc-8158-49c9-af0c-16820c984370 https://stgocrcontrollerservice.ezdicloud.com/client/22/facility/279/ocr:result?token=227a6fbc-8158-49c9-af0c-16820c984370\n",
      "OCR Result file not generated yet\n",
      "issue in getting file\n",
      "227a6fbc-8158-49c9-af0c-16820c984370 https://stgocrcontrollerservice.ezdicloud.com/client/22/facility/279/ocr:result?token=227a6fbc-8158-49c9-af0c-16820c984370\n",
      "89262097 Text File Download Complete.\n",
      "fa302438-dbfc-494b-b142-adb8092f1482 https://stgocrcontrollerservice.ezdicloud.com/client/22/facility/279/ocr:result?token=fa302438-dbfc-494b-b142-adb8092f1482\n",
      "89262074 Text File Download Complete.\n",
      "5319b8a6-b20a-43a5-b0ec-d0c641bf1b0d https://stgocrcontrollerservice.ezdicloud.com/client/22/facility/279/ocr:result?token=5319b8a6-b20a-43a5-b0ec-d0c641bf1b0d\n",
      "89262098 Text File Download Complete.\n",
      "bc8f51cc-6994-40d5-95bc-402e3e4086bd https://stgocrcontrollerservice.ezdicloud.com/client/22/facility/279/ocr:result?token=bc8f51cc-6994-40d5-95bc-402e3e4086bd\n",
      "89262084 Text File Download Complete.\n",
      "5f0fab5f-638c-4a01-acc2-4e86884b0d21 https://stgocrcontrollerservice.ezdicloud.com/client/22/facility/279/ocr:result?token=5f0fab5f-638c-4a01-acc2-4e86884b0d21\n",
      "89262091 Text File Download Complete.\n",
      "87950326-77d5-4feb-885e-843d7a519792 https://stgocrcontrollerservice.ezdicloud.com/client/22/facility/279/ocr:result?token=87950326-77d5-4feb-885e-843d7a519792\n",
      "89262087 Text File Download Complete.\n",
      "d945ccab-5e52-4cae-b576-575656b9ef0d https://stgocrcontrollerservice.ezdicloud.com/client/22/facility/279/ocr:result?token=d945ccab-5e52-4cae-b576-575656b9ef0d\n",
      "89262089 Text File Download Complete.\n",
      "232f2e85-3eda-4687-a027-098f1f17ae3d https://stgocrcontrollerservice.ezdicloud.com/client/22/facility/279/ocr:result?token=232f2e85-3eda-4687-a027-098f1f17ae3d\n",
      "89262075 Text File Download Complete.\n",
      "7871d872-b892-4c33-b194-7b96eae8d4b2 https://stgocrcontrollerservice.ezdicloud.com/client/22/facility/279/ocr:result?token=7871d872-b892-4c33-b194-7b96eae8d4b2\n",
      "89262095 Text File Download Complete.\n",
      "9020ac22-0ccf-4a18-ac6e-1f6f9543e19b https://stgocrcontrollerservice.ezdicloud.com/client/22/facility/279/ocr:result?token=9020ac22-0ccf-4a18-ac6e-1f6f9543e19b\n",
      "89262100 Text File Download Complete.\n",
      "1fdf4661-d067-42dc-ab08-3ce3c2a00c19 https://stgocrcontrollerservice.ezdicloud.com/client/22/facility/279/ocr:result?token=1fdf4661-d067-42dc-ab08-3ce3c2a00c19\n",
      "89262099 Text File Download Complete.\n",
      "36dea9f5-bc55-4c64-a7bc-2f6266101432 https://stgocrcontrollerservice.ezdicloud.com/client/22/facility/279/ocr:result?token=36dea9f5-bc55-4c64-a7bc-2f6266101432\n",
      "89262082 Text File Download Complete.\n",
      "010e9ee0-89b8-4302-a0ab-6f5b67b45164 https://stgocrcontrollerservice.ezdicloud.com/client/22/facility/279/ocr:result?token=010e9ee0-89b8-4302-a0ab-6f5b67b45164\n",
      "89262086 Text File Download Complete.\n",
      "5d919f70-1879-442b-be2f-4c38a627e05a https://stgocrcontrollerservice.ezdicloud.com/client/22/facility/279/ocr:result?token=5d919f70-1879-442b-be2f-4c38a627e05a\n",
      "89262073 Text File Download Complete.\n",
      "decbdce4-33af-4d5f-9a48-b536be0217b7 https://stgocrcontrollerservice.ezdicloud.com/client/22/facility/279/ocr:result?token=decbdce4-33af-4d5f-9a48-b536be0217b7\n",
      "89262085 Text File Download Complete.\n"
     ]
    }
   ],
   "source": [
    "for account,tokenVal in tokenList.items():\n",
    "    while True:\n",
    "        time.sleep(5) # 5 second delay\n",
    "        try:\n",
    "            name = os.path.splitext(account)[0]\n",
    "            getTextFiles(geturl,tokenVal,name,textFolder)\n",
    "            break\n",
    "        except:\n",
    "            print (\"issue in getting file\")\n",
    "            continue"
   ]
  },
  {
   "cell_type": "code",
   "execution_count": 45,
   "metadata": {},
   "outputs": [],
   "source": [
    "# for account,tokenVal in tokenList.items():\n",
    "#     print(os.path.splitext(account)[0])"
   ]
  },
  {
   "cell_type": "code",
   "execution_count": null,
   "metadata": {},
   "outputs": [],
   "source": []
  }
 ],
 "metadata": {
  "kernelspec": {
   "display_name": "Python 3",
   "language": "python",
   "name": "python3"
  },
  "language_info": {
   "codemirror_mode": {
    "name": "ipython",
    "version": 3
   },
   "file_extension": ".py",
   "mimetype": "text/x-python",
   "name": "python",
   "nbconvert_exporter": "python",
   "pygments_lexer": "ipython3",
   "version": "3.8.10"
  },
  "orig_nbformat": 4
 },
 "nbformat": 4,
 "nbformat_minor": 2
}
