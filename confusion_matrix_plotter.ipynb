{
 "cells": [
  {
   "cell_type": "code",
   "execution_count": null,
   "metadata": {},
   "outputs": [],
   "source": [
    "import pandas as pd\n",
    "import ast\n",
    "import matplotlib.pyplot as plt\n",
    "import numpy\n",
    "from sklearn import metrics\n",
    "import seaborn as sns\n",
    "import ast\n",
    "\n",
    "df = pd.read_excel('/home/trishalaswain/Downloads/CHS-9954-CHS Affinity Physician Services - 9954-2023-08-01-2023-08-31.xlsx', index_col=False)"
   ]
  },
  {
   "cell_type": "code",
   "execution_count": null,
   "metadata": {},
   "outputs": [],
   "source": [
    "df.shape"
   ]
  },
  {
   "cell_type": "code",
   "execution_count": null,
   "metadata": {},
   "outputs": [],
   "source": [
    "df = df[~df.encDocTypes.str.contains(',')]"
   ]
  },
  {
   "cell_type": "code",
   "execution_count": null,
   "metadata": {},
   "outputs": [],
   "source": [
    "df = df[['processingDate','serviceDate','lastCodingDate','facilityCode','accountNumber','EANDM_Final','EANDM_Accepted','EANDM_Rejected','EANDM_Added','EANDM_Suggested', 'CPT_Suggested']]"
   ]
  },
  {
   "cell_type": "code",
   "execution_count": null,
   "metadata": {},
   "outputs": [],
   "source": [
    "df"
   ]
  },
  {
   "cell_type": "code",
   "execution_count": null,
   "metadata": {},
   "outputs": [],
   "source": [
    "for i,r in df.iterrows():\n",
    "    df.at[i, 'EANDM_Rejected'] = r['EANDM_Rejected'].replace(']', '').replace('[', '')\n",
    "    df.at[i, 'EANDM_Added'] = r['EANDM_Added'].replace(']', '').replace('[', '')\n",
    "    df.at[i, 'EANDM_Accepted'] = r['EANDM_Accepted'].replace(']', '').replace('[', '')\n",
    "    if (df.at[i, 'EANDM_Rejected'] != '') & (df.at[i, 'EANDM_Accepted'] != ''):\n",
    "        df.at[i, 'clean_suggested'] = df.at[i, 'EANDM_Accepted'] + ', ' + df.at[i, 'EANDM_Rejected']\n",
    "    else:\n",
    "       df.at[i, 'clean_suggested'] = df.at[i, 'EANDM_Accepted']  + df.at[i, 'EANDM_Rejected']\n",
    "    \n",
    "    \n",
    "    if (df.at[i, 'EANDM_Added'] != '') & (df.at[i, 'EANDM_Accepted'] != ''):\n",
    "        df.at[i, 'clean_final'] = df.at[i, 'EANDM_Accepted'] + ', ' + df.at[i, 'EANDM_Added']\n",
    "    else:\n",
    "       df.at[i, 'clean_final'] = df.at[i, 'EANDM_Accepted']  + df.at[i, 'EANDM_Added']"
   ]
  },
  {
   "cell_type": "code",
   "execution_count": null,
   "metadata": {},
   "outputs": [],
   "source": [
    "confusion_matrix = pd.crosstab(df.clean_final, df.clean_suggested,margins = True, margins_name='Total')"
   ]
  },
  {
   "cell_type": "code",
   "execution_count": null,
   "metadata": {},
   "outputs": [],
   "source": [
    "# def highlight_same(data):\n",
    "    \n",
    "#     highlighter = pd.DataFrame(\"\", index=data.index, columns=data.columns)\n",
    "#     for col in data.columns[:-1]:\n",
    "#         for index in data.index[:-1]:\n",
    "#             # if 'Total' in index or 'Total' in col:\n",
    "#             #     highlighter.loc[index, col] = 'background-color : yellow'\n",
    " \n",
    "\n",
    "#             if col == index:\n",
    "#                 highlighter.loc[index, col] = 'background-color : springgreen'\n",
    "                \n",
    "#             elif str(col)>str(index) and data.loc[index, col]>100:\n",
    "#                 highlighter.loc[index, col] = 'background-color : lightskyblue'\n",
    "\n",
    "#             elif data.loc[index, col]>100:\n",
    "#                 highlighter.loc[index, col] = 'background-color : PaleVioletRed'\n",
    "\n",
    "#     return highlighter\n",
    "# pd.crosstab(df['df.clean_final'], df['clean_suggested'], margins=True, margins_name='Total').style.apply(highlight_same, axis=None)"
   ]
  },
  {
   "cell_type": "code",
   "execution_count": null,
   "metadata": {},
   "outputs": [],
   "source": [
    "confusion_matrix"
   ]
  },
  {
   "cell_type": "code",
   "execution_count": null,
   "metadata": {},
   "outputs": [],
   "source": [
    "# cols_to_use = ['encounter_id', 'service_date', 'enc_visit_type', 'enc_place_of_service', 'facility_code', 'account_number', 'eandm_suggested', 'eandm_final', 'cpt_suggested', 'cpt_final']"
   ]
  },
  {
   "cell_type": "code",
   "execution_count": null,
   "metadata": {},
   "outputs": [],
   "source": [
    "cols_to_use = ['serviceDate', 'lastCodingDate', 'processingDate', 'accountNumber', 'EANDM_Suggested', 'EANDM_Final']"
   ]
  },
  {
   "cell_type": "code",
   "execution_count": null,
   "metadata": {},
   "outputs": [],
   "source": [
    "df[df.clean_suggested.str.contains('99285')  & df.clean_final.str.contains('99291')][cols_to_use].to_excel('/home/trishalaswain/Downloads/SCP_JULY/SCP_JULY_DATA (1)/docs_29_JULY/99285_99291_analysis.xlsx')"
   ]
  },
  {
   "cell_type": "code",
   "execution_count": null,
   "metadata": {},
   "outputs": [],
   "source": [
    "df[df.clean_suggested.str.contains('99214')  & df.clean_final.str.contains('99213')][cols_to_use]"
   ]
  },
  {
   "cell_type": "code",
   "execution_count": null,
   "metadata": {},
   "outputs": [],
   "source": [
    "# .to_excel('/home/trishalaswain/ClientData/SCP/SCP_JULY_HALF/docs_5187_JULY/84_to85_cases_analysis.xlsx')"
   ]
  },
  {
   "cell_type": "code",
   "execution_count": null,
   "metadata": {},
   "outputs": [],
   "source": [
    "# confusion_matrix.to_excel('/home/trishalaswain/Downloads/Script_Testing/SCP-JEFFERSON_MAY_1_TO_15_CROSSTAB.xlsx')"
   ]
  },
  {
   "cell_type": "code",
   "execution_count": null,
   "metadata": {},
   "outputs": [],
   "source": [
    "cols_to_use = ['processingDate', 'lastCodingDate', 'facilityCode', 'accountNumber', 'clean_suggested', 'clean_final', 'CPT_Suggested']"
   ]
  },
  {
   "cell_type": "code",
   "execution_count": null,
   "metadata": {},
   "outputs": [],
   "source": [
    "df[(df.clean_final.str.contains('99285')) & (df.clean_suggested =='99284')][cols_to_use].sort_values('lastCodingDate').to_excel('/home/trishalaswain/Downloads/Script_Testing/23_MAY/accounts_analysis.xlsx')\n"
   ]
  },
  {
   "cell_type": "code",
   "execution_count": null,
   "metadata": {},
   "outputs": [],
   "source": [
    "acc = df2.accountNumber.tolist()"
   ]
  },
  {
   "cell_type": "code",
   "execution_count": null,
   "metadata": {},
   "outputs": [],
   "source": [
    "acc"
   ]
  },
  {
   "cell_type": "code",
   "execution_count": null,
   "metadata": {},
   "outputs": [],
   "source": [
    "#  .to_excel('/home/trishalaswain/Downloads/Script_Testing/accounts_analysis.xlsx')\n",
    "# .to_excel('/home/trishalaswain/Downloads/Script_Testing/23_MAY/chino_time_based_accounts_analysis.xlsx')"
   ]
  },
  {
   "cell_type": "code",
   "execution_count": null,
   "metadata": {},
   "outputs": [],
   "source": [
    "# import pandas as pd\n",
    "# from flask_sqlalchemy import SQLAlchemy\n",
    "# from sqlalchemy import create_engine\n",
    "# import regex as re\n",
    "# import time\n",
    "# from datetime import datetime\n",
    "# import os\n",
    "\n",
    "# # prod\n",
    "# user = 'read_only'\n",
    "# pwd = 'WHC63fKyjudfSz2U'\n",
    "# host = 'ezcapc-webdb-production-readrep.cncmk5ndlbjo.us-east-1.rds.amazonaws.com'\n",
    "# db_name = 'CAPC_APIGATEWAY'\n",
    "# env='production'\n",
    "\n",
    "# db_connection_str = 'mysql+pymysql://{}:{}@{}/{}'.format(user,pwd,host,db_name)\n",
    "# db_connection = create_engine(db_connection_str)"
   ]
  },
  {
   "cell_type": "code",
   "execution_count": null,
   "metadata": {},
   "outputs": [],
   "source": [
    "# query = '''SELECT \n",
    "#     CONVERT_TZ(em.service_date, 'UTC', 'US/Central') AS service_date,\n",
    "#     GROUP_CONCAT(DISTINCT eandm.code) AS final,\n",
    "#     GROUP_CONCAT(DISTINCT dc.code) AS suggested,\n",
    "#     GROUP_CONCAT(DISTINCT dc.time_spent_in_mins) AS time_spent,\n",
    "#     am.account_number AS account_number,\n",
    "#     facility_id, client_id\n",
    "# FROM\n",
    "#     account_mst am\n",
    "#         INNER JOIN\n",
    "#     document_mst dm ON dm.account_id = am.id\n",
    "#         AND dm.is_physician_document = 1\n",
    "#         AND dm.is_active = 1\n",
    "#         INNER JOIN\n",
    "#     document_processing_detail dpd ON dpd.document_id = dm.id\n",
    "#         INNER JOIN\n",
    "#     document_code dc ON dc.document_id = dm.id\n",
    "#         AND dc.is_active = 1\n",
    "#         AND dc.code_category = 'EANDM'\n",
    "#         AND dc.calculation_mode = 'TIME'\n",
    "#         INNER JOIN\n",
    "#     encounter_mst em ON em.account_id = dm.account_id\n",
    "#         AND em.service_date = dm.service_date\n",
    "#         AND em.physician_id = dm.physician_id\n",
    "#         AND em.is_active = 1\n",
    "#         INNER JOIN\n",
    "#     encounter_status_map esm ON esm.encounter_id = em.id\n",
    "#         AND esm.is_active = 1\n",
    "#         AND esm.encounter_status_id IN (9 , 17)\n",
    "#         INNER JOIN\n",
    "#     eandm_code eandm ON eandm.encounter_id = em.id\n",
    "#         AND eandm.process_id = esm.process_id\n",
    "#         AND eandm.user_id = esm.user_id\n",
    "#         AND eandm.status = 'ACCEPTED'\n",
    "#         AND eandm.is_active = 1\n",
    "        \n",
    "# WHERE\n",
    "#     am.account_number in ({})\n",
    "#     AND dpd.id = (SELECT \n",
    "#             id\n",
    "#         FROM\n",
    "#             document_processing_detail\n",
    "#         WHERE\n",
    "#             document_id = dm.id\n",
    "#         ORDER BY created_date DESC\n",
    "#         LIMIT 1)\n",
    "#         AND esm.id = (SELECT \n",
    "#             id\n",
    "#         FROM\n",
    "#             encounter_status_map\n",
    "#         WHERE\n",
    "#             encounter_id = em.id\n",
    "#                 AND encounter_status_id IN (9 , 17)\n",
    "#         ORDER BY last_coding_date DESC\n",
    "#         LIMIT 1)\n",
    "#         AND am.is_active = 1\n",
    "\n",
    "#         AND CONVERT_TZ(em.service_date,\n",
    "#             'UTC',\n",
    "#             'US/Central') > '2023-03-01'\n",
    "#         AND dc.code LIKE '9929%%'\n",
    "#         AND eandm.code LIKE '9929%%'\n",
    "#         AND am.facility_id = '221'\n",
    "        \n",
    "# GROUP BY am.account_number , em.physician_id , em.service_date , dm.id\n",
    "# ORDER BY am.facility_id DESC;'''.format(','.join('\"'+str(x)+'\"' for x in acc))\n",
    "\n",
    "#         # AND CONVERT_TZ(esm.last_coding_date,\n",
    "#         #     'UTC',\n",
    "#         #     'US/Central') >= '2023-03-15'\n",
    "#         # AND CONVERT_TZ(esm.last_coding_date,\n",
    "#         #     'UTC',\n",
    "#         #     'US/Central') < '2023-04-24'"
   ]
  },
  {
   "cell_type": "code",
   "execution_count": null,
   "metadata": {},
   "outputs": [],
   "source": [
    "# df_query = pd.read_sql(query, con=db_connection)"
   ]
  },
  {
   "cell_type": "code",
   "execution_count": null,
   "metadata": {},
   "outputs": [],
   "source": [
    "# df3 = df_query.sort_values('time_spent')"
   ]
  },
  {
   "cell_type": "code",
   "execution_count": null,
   "metadata": {},
   "outputs": [],
   "source": [
    "# df3.account_number.to_list()"
   ]
  },
  {
   "cell_type": "code",
   "execution_count": null,
   "metadata": {},
   "outputs": [],
   "source": [
    "import os\n",
    "import shutil\n",
    "\n",
    "new_path = \"/home/trishalaswain/Downloads/SCP_JULY/SCP_JULY_DATA/\"\n",
    "\n",
    "for item in os.listdir(new_path):\n",
    "    facilityfolder = os.path.join(new_path, item)\n",
    "    for innerFac in os.listdir(facilityfolder):\n",
    "        innerFac = os.path.join(facilityfolder, innerFac)\n",
    "        for accfolder in os.listdir(innerFac):\n",
    "            accountfolder = os.path.join(innerFac, accfolder)\n",
    "            print(accountfolder)\n",
    "    \n",
    "            for file in os.listdir(accountfolder):\n",
    "                f = os.path.join(accountfolder, file)\n",
    "                print(f)\n",
    "                # print(type(f))\n",
    "                if f.endswith(\".xml\"):\n",
    "                    if f.__contains__(\"_99291_99291\") or f.__contains__(\"_99291_99285\"):\n",
    "                        print(file)\n",
    "                    else:\n",
    "                        shutil.rmtree(accountfolder)\n",
    "                        break"
   ]
  },
  {
   "cell_type": "code",
   "execution_count": null,
   "metadata": {},
   "outputs": [],
   "source": []
  }
 ],
 "metadata": {
  "kernelspec": {
   "display_name": "base",
   "language": "python",
   "name": "python3"
  },
  "language_info": {
   "codemirror_mode": {
    "name": "ipython",
    "version": 3
   },
   "file_extension": ".py",
   "mimetype": "text/x-python",
   "name": "python",
   "nbconvert_exporter": "python",
   "pygments_lexer": "ipython3",
   "version": "3.9.12"
  },
  "orig_nbformat": 4
 },
 "nbformat": 4,
 "nbformat_minor": 2
}
