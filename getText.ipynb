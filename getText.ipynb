{
 "cells": [
  {
   "cell_type": "code",
   "execution_count": 2,
   "metadata": {},
   "outputs": [],
   "source": [
    "import pandas as pd\n",
    "from sqlalchemy import create_engine\n",
    "import regex as re\n",
    "import time\n",
    "from datetime import datetime\n",
    "import os\n",
    "from bs4 import BeautifulSoup\n"
   ]
  },
  {
   "cell_type": "code",
   "execution_count": 35,
   "metadata": {},
   "outputs": [],
   "source": [
    "source_folder = r\"/home/trishalaswain/ClientData/PH/CHINO_MONTH_WISE/CHINO_COMBINED_EMCS/\""
   ]
  },
  {
   "cell_type": "code",
   "execution_count": 37,
   "metadata": {},
   "outputs": [],
   "source": [
    "df = pd.DataFrame()"
   ]
  },
  {
   "cell_type": "code",
   "execution_count": 38,
   "metadata": {},
   "outputs": [],
   "source": [
    "df['account_number'] = None\n",
    "df['final_code'] = None\n",
    "df['text'] = None"
   ]
  },
  {
   "cell_type": "code",
   "execution_count": 43,
   "metadata": {},
   "outputs": [],
   "source": [
    "count = 0\n",
    "for sub1 in os.listdir(source_folder):\n",
    "    for file in os.listdir(source_folder + '/'+sub1 + \"/\"):\n",
    "        if file.endswith('pcs.xml'):\n",
    "            # print(file)\n",
    "            \n",
    "            account_number = file.split('_')[0]\n",
    "            df.loc[count,'account_number'] = account_number\n",
    "            final_code = file.split('_')[2]\n",
    "            df.loc[count,'final_code'] = final_code\n",
    "            text = ''\n",
    "            # print(final_code)\n",
    "            path = str(source_folder +sub1+\"/\"+ file )\n",
    "            fd = open(path, 'r')\n",
    "            xml_file = fd.read()\n",
    "            soup = BeautifulSoup(xml_file, 'lxml')\n",
    "            for tag in soup.findAll(\"sentence\"):\n",
    "                text += tag[\"senttext\"] + '\\n'\n",
    "            df.loc[count,'text'] = text\n",
    "            count += 1\n"
   ]
  },
  {
   "cell_type": "code",
   "execution_count": 44,
   "metadata": {},
   "outputs": [
    {
     "data": {
      "text/html": [
       "<div>\n",
       "<style scoped>\n",
       "    .dataframe tbody tr th:only-of-type {\n",
       "        vertical-align: middle;\n",
       "    }\n",
       "\n",
       "    .dataframe tbody tr th {\n",
       "        vertical-align: top;\n",
       "    }\n",
       "\n",
       "    .dataframe thead th {\n",
       "        text-align: right;\n",
       "    }\n",
       "</style>\n",
       "<table border=\"1\" class=\"dataframe\">\n",
       "  <thead>\n",
       "    <tr style=\"text-align: right;\">\n",
       "      <th></th>\n",
       "      <th>account_number</th>\n",
       "      <th>final_code</th>\n",
       "      <th>text</th>\n",
       "    </tr>\n",
       "  </thead>\n",
       "  <tbody>\n",
       "    <tr>\n",
       "      <th>0</th>\n",
       "      <td>V00001035548</td>\n",
       "      <td>99284</td>\n",
       "      <td>EMERGENCY DEPT REPORT Site Code: CVMC Name: LO...</td>\n",
       "    </tr>\n",
       "    <tr>\n",
       "      <th>1</th>\n",
       "      <td>V00001039788</td>\n",
       "      <td>None</td>\n",
       "      <td>EMERGENCY DEPT REPORT Site Code: CVMC Name: SA...</td>\n",
       "    </tr>\n",
       "    <tr>\n",
       "      <th>2</th>\n",
       "      <td>V00001036323</td>\n",
       "      <td>99285</td>\n",
       "      <td>EMERGENCY DEPT REPORT Site Code: CVMC Name: MU...</td>\n",
       "    </tr>\n",
       "    <tr>\n",
       "      <th>3</th>\n",
       "      <td>V00001028412</td>\n",
       "      <td>99292</td>\n",
       "      <td>EMERGENCY DEPT REPORT Site Code: CVMC Name: BE...</td>\n",
       "    </tr>\n",
       "    <tr>\n",
       "      <th>4</th>\n",
       "      <td>V00001041003</td>\n",
       "      <td>99285</td>\n",
       "      <td>EMERGENCY DEPT REPORT Site Code: CVMC Name: JI...</td>\n",
       "    </tr>\n",
       "    <tr>\n",
       "      <th>...</th>\n",
       "      <td>...</td>\n",
       "      <td>...</td>\n",
       "      <td>...</td>\n",
       "    </tr>\n",
       "    <tr>\n",
       "      <th>12982</th>\n",
       "      <td>V00001044352</td>\n",
       "      <td>99291</td>\n",
       "      <td>EMERGENCY DEPT REPORT Site Code: CVMC Name: BR...</td>\n",
       "    </tr>\n",
       "    <tr>\n",
       "      <th>12983</th>\n",
       "      <td>V00001044161</td>\n",
       "      <td>99284</td>\n",
       "      <td>EMERGENCY DEPT REPORT Site Code: CVMC Name: KH...</td>\n",
       "    </tr>\n",
       "    <tr>\n",
       "      <th>12984</th>\n",
       "      <td>V00001034500</td>\n",
       "      <td>99284</td>\n",
       "      <td>EMERGENCY DEPT REPORT Site Code: CVMC Name: LE...</td>\n",
       "    </tr>\n",
       "    <tr>\n",
       "      <th>12985</th>\n",
       "      <td>V00001029182</td>\n",
       "      <td>99284</td>\n",
       "      <td>EMERGENCY DEPT REPORT Site Code: CVMC Name: VE...</td>\n",
       "    </tr>\n",
       "    <tr>\n",
       "      <th>12986</th>\n",
       "      <td>V00001030618</td>\n",
       "      <td>99284</td>\n",
       "      <td>EMERGENCY DEPT REPORT Site Code: CVMC Name: MA...</td>\n",
       "    </tr>\n",
       "  </tbody>\n",
       "</table>\n",
       "<p>12987 rows × 3 columns</p>\n",
       "</div>"
      ],
      "text/plain": [
       "      account_number final_code  \\\n",
       "0       V00001035548      99284   \n",
       "1       V00001039788       None   \n",
       "2       V00001036323      99285   \n",
       "3       V00001028412      99292   \n",
       "4       V00001041003      99285   \n",
       "...              ...        ...   \n",
       "12982   V00001044352      99291   \n",
       "12983   V00001044161      99284   \n",
       "12984   V00001034500      99284   \n",
       "12985   V00001029182      99284   \n",
       "12986   V00001030618      99284   \n",
       "\n",
       "                                                    text  \n",
       "0      EMERGENCY DEPT REPORT Site Code: CVMC Name: LO...  \n",
       "1      EMERGENCY DEPT REPORT Site Code: CVMC Name: SA...  \n",
       "2      EMERGENCY DEPT REPORT Site Code: CVMC Name: MU...  \n",
       "3      EMERGENCY DEPT REPORT Site Code: CVMC Name: BE...  \n",
       "4      EMERGENCY DEPT REPORT Site Code: CVMC Name: JI...  \n",
       "...                                                  ...  \n",
       "12982  EMERGENCY DEPT REPORT Site Code: CVMC Name: BR...  \n",
       "12983  EMERGENCY DEPT REPORT Site Code: CVMC Name: KH...  \n",
       "12984  EMERGENCY DEPT REPORT Site Code: CVMC Name: LE...  \n",
       "12985  EMERGENCY DEPT REPORT Site Code: CVMC Name: VE...  \n",
       "12986  EMERGENCY DEPT REPORT Site Code: CVMC Name: MA...  \n",
       "\n",
       "[12987 rows x 3 columns]"
      ]
     },
     "execution_count": 44,
     "metadata": {},
     "output_type": "execute_result"
    }
   ],
   "source": [
    "df"
   ]
  },
  {
   "cell_type": "code",
   "execution_count": 42,
   "metadata": {},
   "outputs": [],
   "source": [
    "df.to_excel('/home/trishalaswain/Downloads/Script_Testing/CHINO_ALL_TEXT_&_OUTPUT.xlsx')"
   ]
  },
  {
   "cell_type": "code",
   "execution_count": null,
   "metadata": {},
   "outputs": [],
   "source": []
  }
 ],
 "metadata": {
  "kernelspec": {
   "display_name": "base",
   "language": "python",
   "name": "python3"
  },
  "language_info": {
   "codemirror_mode": {
    "name": "ipython",
    "version": 3
   },
   "file_extension": ".py",
   "mimetype": "text/x-python",
   "name": "python",
   "nbconvert_exporter": "python",
   "pygments_lexer": "ipython3",
   "version": "3.9.12"
  },
  "orig_nbformat": 4
 },
 "nbformat": 4,
 "nbformat_minor": 2
}
